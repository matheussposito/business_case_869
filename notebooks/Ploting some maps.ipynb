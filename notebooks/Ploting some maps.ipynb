{
 "cells": [
  {
   "cell_type": "markdown",
   "id": "69350e15",
   "metadata": {},
   "source": [
    "# Creating a Preprocessing Pipeline"
   ]
  },
  {
   "cell_type": "markdown",
   "id": "4e582095",
   "metadata": {},
   "source": [
    "## Importing useful libraries"
   ]
  },
  {
   "cell_type": "code",
   "execution_count": 1,
   "id": "a46681a6",
   "metadata": {},
   "outputs": [],
   "source": [
    "import numpy as np\n",
    "import pandas as pd\n",
    "import matplotlib.pyplot as plt\n",
    "import seaborn as sns\n",
    "from sklearn.pipeline import Pipeline\n",
    "from sklearn.impute import SimpleImputer\n",
    "from sklearn.preprocessing import StandardScaler\n",
    "from sklearn.compose import ColumnTransformer\n",
    "from sklearn.preprocessing import OneHotEncoder\n",
    "from sklearn.linear_model import LinearRegression\n",
    "from sklearn import set_config; set_config(display='diagram')"
   ]
  },
  {
   "cell_type": "markdown",
   "id": "ffe0451b",
   "metadata": {},
   "source": [
    "## Creating a base pipeline"
   ]
  },
  {
   "cell_type": "markdown",
   "id": "d272329d",
   "metadata": {},
   "source": [
    "### Creating the dataframe for the Train file"
   ]
  },
  {
   "cell_type": "code",
   "execution_count": 3,
   "id": "a63a073c",
   "metadata": {},
   "outputs": [
    {
     "data": {
      "text/html": [
       "<div>\n",
       "<style scoped>\n",
       "    .dataframe tbody tr th:only-of-type {\n",
       "        vertical-align: middle;\n",
       "    }\n",
       "\n",
       "    .dataframe tbody tr th {\n",
       "        vertical-align: top;\n",
       "    }\n",
       "\n",
       "    .dataframe thead th {\n",
       "        text-align: right;\n",
       "    }\n",
       "</style>\n",
       "<table border=\"1\" class=\"dataframe\">\n",
       "  <thead>\n",
       "    <tr style=\"text-align: right;\">\n",
       "      <th></th>\n",
       "      <th>id</th>\n",
       "      <th>date</th>\n",
       "      <th>store_nbr</th>\n",
       "      <th>family</th>\n",
       "      <th>sales</th>\n",
       "      <th>onpromotion</th>\n",
       "    </tr>\n",
       "  </thead>\n",
       "  <tbody>\n",
       "    <tr>\n",
       "      <th>0</th>\n",
       "      <td>0</td>\n",
       "      <td>2013-01-01</td>\n",
       "      <td>1</td>\n",
       "      <td>AUTOMOTIVE</td>\n",
       "      <td>0.000</td>\n",
       "      <td>0</td>\n",
       "    </tr>\n",
       "    <tr>\n",
       "      <th>1</th>\n",
       "      <td>1</td>\n",
       "      <td>2013-01-01</td>\n",
       "      <td>1</td>\n",
       "      <td>BABY CARE</td>\n",
       "      <td>0.000</td>\n",
       "      <td>0</td>\n",
       "    </tr>\n",
       "    <tr>\n",
       "      <th>2</th>\n",
       "      <td>2</td>\n",
       "      <td>2013-01-01</td>\n",
       "      <td>1</td>\n",
       "      <td>BEAUTY</td>\n",
       "      <td>0.000</td>\n",
       "      <td>0</td>\n",
       "    </tr>\n",
       "    <tr>\n",
       "      <th>3</th>\n",
       "      <td>3</td>\n",
       "      <td>2013-01-01</td>\n",
       "      <td>1</td>\n",
       "      <td>BEVERAGES</td>\n",
       "      <td>0.000</td>\n",
       "      <td>0</td>\n",
       "    </tr>\n",
       "    <tr>\n",
       "      <th>4</th>\n",
       "      <td>4</td>\n",
       "      <td>2013-01-01</td>\n",
       "      <td>1</td>\n",
       "      <td>BOOKS</td>\n",
       "      <td>0.000</td>\n",
       "      <td>0</td>\n",
       "    </tr>\n",
       "    <tr>\n",
       "      <th>...</th>\n",
       "      <td>...</td>\n",
       "      <td>...</td>\n",
       "      <td>...</td>\n",
       "      <td>...</td>\n",
       "      <td>...</td>\n",
       "      <td>...</td>\n",
       "    </tr>\n",
       "    <tr>\n",
       "      <th>3000883</th>\n",
       "      <td>3000883</td>\n",
       "      <td>2017-08-15</td>\n",
       "      <td>9</td>\n",
       "      <td>POULTRY</td>\n",
       "      <td>438.133</td>\n",
       "      <td>0</td>\n",
       "    </tr>\n",
       "    <tr>\n",
       "      <th>3000884</th>\n",
       "      <td>3000884</td>\n",
       "      <td>2017-08-15</td>\n",
       "      <td>9</td>\n",
       "      <td>PREPARED FOODS</td>\n",
       "      <td>154.553</td>\n",
       "      <td>1</td>\n",
       "    </tr>\n",
       "    <tr>\n",
       "      <th>3000885</th>\n",
       "      <td>3000885</td>\n",
       "      <td>2017-08-15</td>\n",
       "      <td>9</td>\n",
       "      <td>PRODUCE</td>\n",
       "      <td>2419.729</td>\n",
       "      <td>148</td>\n",
       "    </tr>\n",
       "    <tr>\n",
       "      <th>3000886</th>\n",
       "      <td>3000886</td>\n",
       "      <td>2017-08-15</td>\n",
       "      <td>9</td>\n",
       "      <td>SCHOOL AND OFFICE SUPPLIES</td>\n",
       "      <td>121.000</td>\n",
       "      <td>8</td>\n",
       "    </tr>\n",
       "    <tr>\n",
       "      <th>3000887</th>\n",
       "      <td>3000887</td>\n",
       "      <td>2017-08-15</td>\n",
       "      <td>9</td>\n",
       "      <td>SEAFOOD</td>\n",
       "      <td>16.000</td>\n",
       "      <td>0</td>\n",
       "    </tr>\n",
       "  </tbody>\n",
       "</table>\n",
       "<p>3000888 rows × 6 columns</p>\n",
       "</div>"
      ],
      "text/plain": [
       "              id        date  store_nbr                      family     sales  \\\n",
       "0              0  2013-01-01          1                  AUTOMOTIVE     0.000   \n",
       "1              1  2013-01-01          1                   BABY CARE     0.000   \n",
       "2              2  2013-01-01          1                      BEAUTY     0.000   \n",
       "3              3  2013-01-01          1                   BEVERAGES     0.000   \n",
       "4              4  2013-01-01          1                       BOOKS     0.000   \n",
       "...          ...         ...        ...                         ...       ...   \n",
       "3000883  3000883  2017-08-15          9                     POULTRY   438.133   \n",
       "3000884  3000884  2017-08-15          9              PREPARED FOODS   154.553   \n",
       "3000885  3000885  2017-08-15          9                     PRODUCE  2419.729   \n",
       "3000886  3000886  2017-08-15          9  SCHOOL AND OFFICE SUPPLIES   121.000   \n",
       "3000887  3000887  2017-08-15          9                     SEAFOOD    16.000   \n",
       "\n",
       "         onpromotion  \n",
       "0                  0  \n",
       "1                  0  \n",
       "2                  0  \n",
       "3                  0  \n",
       "4                  0  \n",
       "...              ...  \n",
       "3000883            0  \n",
       "3000884            1  \n",
       "3000885          148  \n",
       "3000886            8  \n",
       "3000887            0  \n",
       "\n",
       "[3000888 rows x 6 columns]"
      ]
     },
     "execution_count": 3,
     "metadata": {},
     "output_type": "execute_result"
    }
   ],
   "source": [
    "df_train = pd.read_csv(\"/Users/farahboukitab/code/mrdaraujo/business_case_869/business_case_869/data/store-sales-time-series-forecasting/train.csv\")\n",
    "df_train"
   ]
  },
  {
   "cell_type": "markdown",
   "id": "2c72ff47",
   "metadata": {},
   "source": [
    "#### Checking outliers with boxplot"
   ]
  },
  {
   "cell_type": "code",
   "execution_count": null,
   "id": "69fb6921",
   "metadata": {},
   "outputs": [],
   "source": [
    "plt.figure(figsize=(15,8))\n",
    "sns.boxplot(x= df_train[\"family\"], y=df_train[\"sales\"])\n",
    "locs, labels = plt.xticks()\n",
    "plt.setp(labels, rotation=70);\n"
   ]
  },
  {
   "cell_type": "code",
   "execution_count": null,
   "id": "f552229e",
   "metadata": {
    "heading_collapsed": true
   },
   "outputs": [],
   "source": [
    "### Creating the dataframe for the Stores file"
   ]
  },
  {
   "cell_type": "code",
   "execution_count": null,
   "id": "2d0df58b",
   "metadata": {},
   "outputs": [],
   "source": [
    "df_stores = pd.read_csv(\"gs://business-case/stores.csv\")\n",
    "df_stores"
   ]
  },
  {
   "cell_type": "code",
   "execution_count": null,
   "id": "f261fd11",
   "metadata": {},
   "outputs": [],
   "source": [
    "df_stores.groupby('city')"
   ]
  },
  {
   "cell_type": "code",
   "execution_count": null,
   "id": "0fd9a461",
   "metadata": {},
   "outputs": [],
   "source": [
    "sns.histplot(df_stores[\"city\"])\n",
    "locs, labels = plt.xticks()\n",
    "plt.setp(labels, rotation=70);"
   ]
  },
  {
   "cell_type": "code",
   "execution_count": null,
   "id": "dbf38d0b",
   "metadata": {},
   "outputs": [],
   "source": [
    "sns.histplot(df_stores[\"type\"]);"
   ]
  },
  {
   "cell_type": "code",
   "execution_count": null,
   "id": "cc7d4fb4",
   "metadata": {},
   "outputs": [],
   "source": []
  },
  {
   "cell_type": "markdown",
   "id": "79ac2fea",
   "metadata": {},
   "source": [
    "# Creating a mapa for each city"
   ]
  },
  {
   "cell_type": "markdown",
   "id": "26a26022",
   "metadata": {},
   "source": [
    "## Importing useful libraries"
   ]
  },
  {
   "cell_type": "code",
   "execution_count": null,
   "id": "bfed6234",
   "metadata": {},
   "outputs": [],
   "source": [
    "#!pip install -U s3fs folium\n",
    "import folium\n",
    "from folium.plugins import HeatMap\n",
    "from folium.plugins import HeatMapWithTime"
   ]
  },
  {
   "cell_type": "markdown",
   "id": "4d2e60ac",
   "metadata": {},
   "source": [
    "## Creating a heatmap"
   ]
  },
  {
   "cell_type": "markdown",
   "id": "74f56aff",
   "metadata": {},
   "source": [
    "### Creating a DataFrame with the Informations of the cities"
   ]
  },
  {
   "cell_type": "code",
   "execution_count": null,
   "id": "1e0572df",
   "metadata": {},
   "outputs": [],
   "source": [
    "df_heatmap = pd.read_csv(\"/root/code/mrdaraujo/Heatmap.csv\")\n",
    "df_heatmap.rename(columns = {'Unnamed: 0':'City', 'Unnamed: 1':'Lat', 'Unnamed: 2':'Lon', 'Unnamed: 3':'Weight'}, inplace = True)\n",
    "df_heatmap"
   ]
  },
  {
   "cell_type": "code",
   "execution_count": null,
   "id": "ca3eb2ce",
   "metadata": {},
   "outputs": [],
   "source": [
    "df_heatmap.drop(labels=0, axis=0, inplace=True)"
   ]
  },
  {
   "cell_type": "code",
   "execution_count": null,
   "id": "c7484bf0",
   "metadata": {},
   "outputs": [],
   "source": [
    "df_heatmap\n"
   ]
  },
  {
   "cell_type": "code",
   "execution_count": null,
   "id": "06e3663b",
   "metadata": {},
   "outputs": [],
   "source": [
    "# new_heatmap = df_heatmap\n",
    "# gradient = {0.2: 'blue', 0.4: 'lime', 0.6: 'orange', 1: 'red'}\n",
    "# testing = folium.Map(location=center_location, control_scale=True, zoom_start=11)"
   ]
  },
  {
   "cell_type": "code",
   "execution_count": null,
   "id": "0c3704d2",
   "metadata": {},
   "outputs": [],
   "source": [
    "# HeatMap(data=heatmap_data, radius=5, gradient=gradient, max_zoom=13).add_to(testing)\n",
    "# testing"
   ]
  },
  {
   "cell_type": "code",
   "execution_count": null,
   "id": "245cf4d5",
   "metadata": {},
   "outputs": [],
   "source": []
  },
  {
   "cell_type": "markdown",
   "id": "980164d5",
   "metadata": {},
   "source": [
    "### Creating a Heat Map for each city"
   ]
  },
  {
   "cell_type": "code",
   "execution_count": null,
   "id": "ca068d88",
   "metadata": {},
   "outputs": [],
   "source": [
    "center_location = [-1.3552367277094446, -78.02500586294607]\n",
    "m = folium.Map(location=center_location, control_scale=True, zoom_start=11)"
   ]
  },
  {
   "cell_type": "code",
   "execution_count": null,
   "id": "f4107147",
   "metadata": {},
   "outputs": [],
   "source": [
    "heatmap_data = [[-0.1783523031,-78.4587897], [-0.2573192362, -79.17520814], [0.04266553824, -78.14562698], [-0.9335619099, -78.61440404], [-1.668152557,-78.65198534], [0.3469331238, -78.13233517], [-1.53282959,-79.00644372], [-1.493138393,-78.00040096], [-1.254569063,-78.62299276], [-2.190046076,-79.89591672], [-2.224225066,-80.95636438], [-1.861665266,-79.97758321], [-1.80188957,-79.53526512], [-1.022975477,-79.46288576], [-2.605399901,-80.3880077], [-2.231676838,-80.90087428], [-2.900436002,-79.00792883], [-3.994920984,-79.2034668], [-3.197789669,-79.88506978], [0.9699141564, -79.65087377], [-0.9676301717,-80.70745538], [-0.2156214788,-79.45971965]]\n",
    "gradient = {0.2: 'blue', 0.4: 'lime', 0.6: 'orange', 1: 'red'}"
   ]
  },
  {
   "cell_type": "code",
   "execution_count": null,
   "id": "5cbd6959",
   "metadata": {},
   "outputs": [],
   "source": [
    "HeatMap(data=heatmap_data, radius=7, gradient=gradient, max_zoom=13).add_to(m)\n",
    "m"
   ]
  },
  {
   "cell_type": "markdown",
   "id": "956184a1",
   "metadata": {},
   "source": []
  },
  {
   "cell_type": "markdown",
   "id": "64ff4bf7",
   "metadata": {},
   "source": [
    "### Creating a Markers map"
   ]
  },
  {
   "cell_type": "code",
   "execution_count": null,
   "id": "5235699f",
   "metadata": {},
   "outputs": [],
   "source": [
    "markers = folium.Map(location=center_location, control_scale=True, zoom_start=7)"
   ]
  },
  {
   "cell_type": "code",
   "execution_count": null,
   "id": "dfcbf329",
   "metadata": {},
   "outputs": [],
   "source": [
    "df_heatmap"
   ]
  },
  {
   "cell_type": "markdown",
   "id": "5aaf3d9b",
   "metadata": {},
   "source": [
    "#### Printing the first Marker on the map"
   ]
  },
  {
   "cell_type": "code",
   "execution_count": null,
   "id": "14246106",
   "metadata": {},
   "outputs": [],
   "source": [
    "city_1 = df_heatmap.iloc[0]\n",
    "folium.Marker(location=[city_1['Lat'],city_1['Lon']]).add_to(markers)\n",
    "markers"
   ]
  },
  {
   "cell_type": "code",
   "execution_count": null,
   "id": "7172611c",
   "metadata": {},
   "outputs": [],
   "source": [
    "df_heatmap"
   ]
  },
  {
   "cell_type": "markdown",
   "id": "a591a755",
   "metadata": {},
   "source": [
    "#### Implementing the markers into the map"
   ]
  },
  {
   "cell_type": "code",
   "execution_count": null,
   "id": "eb3e5b56",
   "metadata": {},
   "outputs": [],
   "source": [
    "for _, df in df_heatmap.iterrows():\n",
    "    folium.Marker(\n",
    "        location=[df['Lat'], df['Lon']],\n",
    "    ).add_to(markers)\n",
    "\n",
    "markers"
   ]
  }
 ],
 "metadata": {
  "kernelspec": {
   "display_name": "Python 3 (ipykernel)",
   "language": "python",
   "name": "python3"
  },
  "language_info": {
   "codemirror_mode": {
    "name": "ipython",
    "version": 3
   },
   "file_extension": ".py",
   "mimetype": "text/x-python",
   "name": "python",
   "nbconvert_exporter": "python",
   "pygments_lexer": "ipython3",
   "version": "3.8.13"
  },
  "toc": {
   "base_numbering": 1,
   "nav_menu": {},
   "number_sections": true,
   "sideBar": true,
   "skip_h1_title": false,
   "title_cell": "Table of Contents",
   "title_sidebar": "Contents",
   "toc_cell": false,
   "toc_position": {},
   "toc_section_display": true,
   "toc_window_display": false
  }
 },
 "nbformat": 4,
 "nbformat_minor": 5
}
