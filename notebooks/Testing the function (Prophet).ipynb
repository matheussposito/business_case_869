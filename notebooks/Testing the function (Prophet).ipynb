{
 "cells": [
  {
   "cell_type": "markdown",
   "id": "9f63a176",
   "metadata": {},
   "source": [
    "# Importations"
   ]
  },
  {
   "cell_type": "code",
   "execution_count": 8,
   "id": "9eeedcd9",
   "metadata": {},
   "outputs": [
    {
     "name": "stdout",
     "output_type": "stream",
     "text": [
      "CPU times: user 1e+03 ns, sys: 0 ns, total: 1e+03 ns\n",
      "Wall time: 4.05 µs\n"
     ]
    }
   ],
   "source": [
    "%time"
   ]
  },
  {
   "cell_type": "code",
   "execution_count": 5,
   "id": "1a11ba85",
   "metadata": {},
   "outputs": [],
   "source": [
    "import pandas as pd\n",
    "import numpy as np\n",
    "from fbprophet import Prophet\n",
    "import matplotlib.pyplot as plt\n",
    "import plotly.express"
   ]
  },
  {
   "cell_type": "markdown",
   "id": "7f407906",
   "metadata": {},
   "source": [
    "# Creating the model for Family"
   ]
  },
  {
   "cell_type": "markdown",
   "id": "ccede800",
   "metadata": {},
   "source": [
    "## Creating the DataFrames"
   ]
  },
  {
   "cell_type": "code",
   "execution_count": 6,
   "id": "40b16511",
   "metadata": {},
   "outputs": [],
   "source": [
    "#creating the dataframes\n",
    "\n",
    "df_sales = pd.read_csv(\"gs://business-case/train.csv\")\n",
    "df_stores = pd.read_csv(\"gs://business-case/stores.csv\")\n",
    "sales_and_stores = pd.merge(df_sales, df_stores, on='store_nbr') #check if exists\n",
    "\n"
   ]
  },
  {
   "cell_type": "code",
   "execution_count": 13,
   "id": "20322a46",
   "metadata": {},
   "outputs": [],
   "source": [
    "#making it in the patter of\n",
    "sales_and_stores = pd.read_parquet(\"../data_train_merge_stores.parquet\").rename(columns={'date': 'ds', 'sales':'y'}).drop(columns=[\"month\", \"year\", \"city\"])"
   ]
  },
  {
   "cell_type": "code",
   "execution_count": 15,
   "id": "e0ac35b3",
   "metadata": {
    "scrolled": true
   },
   "outputs": [
    {
     "data": {
      "text/html": [
       "<div>\n",
       "<style scoped>\n",
       "    .dataframe tbody tr th:only-of-type {\n",
       "        vertical-align: middle;\n",
       "    }\n",
       "\n",
       "    .dataframe tbody tr th {\n",
       "        vertical-align: top;\n",
       "    }\n",
       "\n",
       "    .dataframe thead th {\n",
       "        text-align: right;\n",
       "    }\n",
       "</style>\n",
       "<table border=\"1\" class=\"dataframe\">\n",
       "  <thead>\n",
       "    <tr style=\"text-align: right;\">\n",
       "      <th></th>\n",
       "      <th>ds</th>\n",
       "      <th>store_nbr</th>\n",
       "      <th>family</th>\n",
       "      <th>y</th>\n",
       "    </tr>\n",
       "  </thead>\n",
       "  <tbody>\n",
       "    <tr>\n",
       "      <th>0</th>\n",
       "      <td>2013-01-01</td>\n",
       "      <td>1</td>\n",
       "      <td>AUTOMOTIVE</td>\n",
       "      <td>0.000</td>\n",
       "    </tr>\n",
       "    <tr>\n",
       "      <th>1</th>\n",
       "      <td>2013-01-01</td>\n",
       "      <td>1</td>\n",
       "      <td>BABY CARE</td>\n",
       "      <td>0.000</td>\n",
       "    </tr>\n",
       "    <tr>\n",
       "      <th>2</th>\n",
       "      <td>2013-01-01</td>\n",
       "      <td>1</td>\n",
       "      <td>BEAUTY</td>\n",
       "      <td>0.000</td>\n",
       "    </tr>\n",
       "    <tr>\n",
       "      <th>3</th>\n",
       "      <td>2013-01-01</td>\n",
       "      <td>1</td>\n",
       "      <td>BEVERAGES</td>\n",
       "      <td>0.000</td>\n",
       "    </tr>\n",
       "    <tr>\n",
       "      <th>4</th>\n",
       "      <td>2013-01-01</td>\n",
       "      <td>1</td>\n",
       "      <td>BOOKS</td>\n",
       "      <td>0.000</td>\n",
       "    </tr>\n",
       "    <tr>\n",
       "      <th>...</th>\n",
       "      <td>...</td>\n",
       "      <td>...</td>\n",
       "      <td>...</td>\n",
       "      <td>...</td>\n",
       "    </tr>\n",
       "    <tr>\n",
       "      <th>2596369</th>\n",
       "      <td>2016-12-31</td>\n",
       "      <td>9</td>\n",
       "      <td>POULTRY</td>\n",
       "      <td>687.853</td>\n",
       "    </tr>\n",
       "    <tr>\n",
       "      <th>2596370</th>\n",
       "      <td>2016-12-31</td>\n",
       "      <td>9</td>\n",
       "      <td>PREPARED FOODS</td>\n",
       "      <td>100.405</td>\n",
       "    </tr>\n",
       "    <tr>\n",
       "      <th>2596371</th>\n",
       "      <td>2016-12-31</td>\n",
       "      <td>9</td>\n",
       "      <td>PRODUCE</td>\n",
       "      <td>3091.356</td>\n",
       "    </tr>\n",
       "    <tr>\n",
       "      <th>2596372</th>\n",
       "      <td>2016-12-31</td>\n",
       "      <td>9</td>\n",
       "      <td>SCHOOL AND OFFICE SUPPLIES</td>\n",
       "      <td>2.000</td>\n",
       "    </tr>\n",
       "    <tr>\n",
       "      <th>2596373</th>\n",
       "      <td>2016-12-31</td>\n",
       "      <td>9</td>\n",
       "      <td>SEAFOOD</td>\n",
       "      <td>13.000</td>\n",
       "    </tr>\n",
       "  </tbody>\n",
       "</table>\n",
       "<p>2596374 rows × 4 columns</p>\n",
       "</div>"
      ],
      "text/plain": [
       "                 ds  store_nbr                      family         y\n",
       "0        2013-01-01          1                  AUTOMOTIVE     0.000\n",
       "1        2013-01-01          1                   BABY CARE     0.000\n",
       "2        2013-01-01          1                      BEAUTY     0.000\n",
       "3        2013-01-01          1                   BEVERAGES     0.000\n",
       "4        2013-01-01          1                       BOOKS     0.000\n",
       "...             ...        ...                         ...       ...\n",
       "2596369  2016-12-31          9                     POULTRY   687.853\n",
       "2596370  2016-12-31          9              PREPARED FOODS   100.405\n",
       "2596371  2016-12-31          9                     PRODUCE  3091.356\n",
       "2596372  2016-12-31          9  SCHOOL AND OFFICE SUPPLIES     2.000\n",
       "2596373  2016-12-31          9                     SEAFOOD    13.000\n",
       "\n",
       "[2596374 rows x 4 columns]"
      ]
     },
     "execution_count": 15,
     "metadata": {},
     "output_type": "execute_result"
    }
   ],
   "source": [
    "sales_and_stores"
   ]
  },
  {
   "cell_type": "markdown",
   "id": "230fef03",
   "metadata": {},
   "source": [
    "## Defining the function for families"
   ]
  },
  {
   "cell_type": "code",
   "execution_count": 17,
   "id": "9c3eea16",
   "metadata": {},
   "outputs": [
    {
     "name": "stderr",
     "output_type": "stream",
     "text": [
      "<timed exec>:10: SettingWithCopyWarning: \n",
      "A value is trying to be set on a copy of a slice from a DataFrame.\n",
      "Try using .loc[row_indexer,col_indexer] = value instead\n",
      "\n",
      "See the caveats in the documentation: https://pandas.pydata.org/pandas-docs/stable/user_guide/indexing.html#returning-a-view-versus-a-copy\n",
      "INFO:fbprophet:Disabling daily seasonality. Run prophet with daily_seasonality=True to override this.\n"
     ]
    },
    {
     "name": "stdout",
     "output_type": "stream",
     "text": [
      "AUTOMOTIVE\n"
     ]
    },
    {
     "name": "stderr",
     "output_type": "stream",
     "text": [
      "/root/.pyenv/versions/3.8.12/envs/business_case_869/lib/python3.8/site-packages/fbprophet/forecaster.py:891: FutureWarning: The frame.append method is deprecated and will be removed from pandas in a future version. Use pandas.concat instead.\n",
      "  components = components.append(new_comp)\n",
      "<timed exec>:10: SettingWithCopyWarning: \n",
      "A value is trying to be set on a copy of a slice from a DataFrame.\n",
      "Try using .loc[row_indexer,col_indexer] = value instead\n",
      "\n",
      "See the caveats in the documentation: https://pandas.pydata.org/pandas-docs/stable/user_guide/indexing.html#returning-a-view-versus-a-copy\n",
      "INFO:fbprophet:Disabling daily seasonality. Run prophet with daily_seasonality=True to override this.\n"
     ]
    },
    {
     "name": "stdout",
     "output_type": "stream",
     "text": [
      "BABY CARE\n",
      "Initial log joint probability = -33.4819\n",
      "    Iter      log prob        ||dx||      ||grad||       alpha      alpha0  # evals  Notes \n",
      "      99       3064.93    0.00108983       220.725      0.6891      0.6891      123   \n",
      "    Iter      log prob        ||dx||      ||grad||       alpha      alpha0  # evals  Notes \n",
      "     199          3068    0.00325734       69.9098      0.5445      0.5445      238   \n",
      "    Iter      log prob        ||dx||      ||grad||       alpha      alpha0  # evals  Notes \n",
      "     217       3068.17   0.000209139       117.928   2.155e-06       0.001      299  LS failed, Hessian reset \n",
      "     299       3068.78     0.0026569       85.4083           1           1      400   \n",
      "    Iter      log prob        ||dx||      ||grad||       alpha      alpha0  # evals  Notes \n",
      "     305       3068.81   0.000177529       86.5571   2.396e-06       0.001      451  LS failed, Hessian reset \n",
      "     365        3068.9   8.34357e-06       47.6359   1.026e-07       0.001      569  LS failed, Hessian reset \n",
      "     377        3068.9   3.33297e-07       58.8254           1           1      585   \n",
      "Optimization terminated normally: \n",
      "  Convergence detected: relative gradient magnitude is below tolerance\n",
      "Initial log joint probability = -3.81345\n"
     ]
    },
    {
     "name": "stderr",
     "output_type": "stream",
     "text": [
      "/root/.pyenv/versions/3.8.12/envs/business_case_869/lib/python3.8/site-packages/fbprophet/forecaster.py:891: FutureWarning: The frame.append method is deprecated and will be removed from pandas in a future version. Use pandas.concat instead.\n",
      "  components = components.append(new_comp)\n",
      "<timed exec>:10: SettingWithCopyWarning: \n",
      "A value is trying to be set on a copy of a slice from a DataFrame.\n",
      "Try using .loc[row_indexer,col_indexer] = value instead\n",
      "\n",
      "See the caveats in the documentation: https://pandas.pydata.org/pandas-docs/stable/user_guide/indexing.html#returning-a-view-versus-a-copy\n",
      "INFO:fbprophet:Disabling daily seasonality. Run prophet with daily_seasonality=True to override this.\n"
     ]
    },
    {
     "name": "stdout",
     "output_type": "stream",
     "text": [
      "BEAUTY\n",
      "    Iter      log prob        ||dx||      ||grad||       alpha      alpha0  # evals  Notes \n",
      "      99       3924.95    0.00115332       156.102      0.2528      0.8177      127   \n",
      "    Iter      log prob        ||dx||      ||grad||       alpha      alpha0  # evals  Notes \n",
      "     199       3930.17    0.00270054       251.719           1           1      254   \n",
      "    Iter      log prob        ||dx||      ||grad||       alpha      alpha0  # evals  Notes \n",
      "     299       3931.24   9.09405e-05        71.964           1           1      383   \n",
      "    Iter      log prob        ||dx||      ||grad||       alpha      alpha0  # evals  Notes \n",
      "     396       3931.94   0.000154513       161.385    1.87e-06       0.001      540  LS failed, Hessian reset \n",
      "     399       3932.01   0.000679418       146.964           1           1      543   \n",
      "    Iter      log prob        ||dx||      ||grad||       alpha      alpha0  # evals  Notes \n",
      "     499       3932.59   2.32064e-05        39.313           1           1      662   \n",
      "    Iter      log prob        ||dx||      ||grad||       alpha      alpha0  # evals  Notes \n",
      "     530       3932.66    7.0758e-05       74.9431   1.207e-06       0.001      743  LS failed, Hessian reset \n",
      "     599       3932.86   0.000313353       98.2168           1           1      837   \n",
      "    Iter      log prob        ||dx||      ||grad||       alpha      alpha0  # evals  Notes \n",
      "     689       3932.99   0.000169961       214.078   1.731e-06       0.001      986  LS failed, Hessian reset \n",
      "     699          3933   0.000104925       79.7777      0.6714      0.6714      997   \n",
      "    Iter      log prob        ||dx||      ||grad||       alpha      alpha0  # evals  Notes \n",
      "     758       3933.03   1.88647e-05       65.1983   2.011e-07       0.001     1121  LS failed, Hessian reset \n",
      "     781       3933.03   2.26183e-07       46.7295      0.6949      0.6949     1152   \n",
      "Optimization terminated normally: \n",
      "  Convergence detected: relative gradient magnitude is below tolerance\n"
     ]
    },
    {
     "name": "stderr",
     "output_type": "stream",
     "text": [
      "/root/.pyenv/versions/3.8.12/envs/business_case_869/lib/python3.8/site-packages/fbprophet/forecaster.py:891: FutureWarning: The frame.append method is deprecated and will be removed from pandas in a future version. Use pandas.concat instead.\n",
      "  components = components.append(new_comp)\n",
      "<timed exec>:10: SettingWithCopyWarning: \n",
      "A value is trying to be set on a copy of a slice from a DataFrame.\n",
      "Try using .loc[row_indexer,col_indexer] = value instead\n",
      "\n",
      "See the caveats in the documentation: https://pandas.pydata.org/pandas-docs/stable/user_guide/indexing.html#returning-a-view-versus-a-copy\n",
      "INFO:fbprophet:Disabling daily seasonality. Run prophet with daily_seasonality=True to override this.\n"
     ]
    },
    {
     "name": "stdout",
     "output_type": "stream",
     "text": [
      "Initial log joint probability = -10.5265\n",
      "BEVERAGES\n",
      "    Iter      log prob        ||dx||      ||grad||       alpha      alpha0  # evals  Notes \n",
      "      99       3571.56    0.00513538       98.6646       1.439      0.1439      119   \n",
      "    Iter      log prob        ||dx||      ||grad||       alpha      alpha0  # evals  Notes \n",
      "     199       3576.57     0.0079806       190.916       1.881      0.1881      245   \n",
      "    Iter      log prob        ||dx||      ||grad||       alpha      alpha0  # evals  Notes \n",
      "     208       3577.51    0.00112068        254.87   7.372e-06       0.001      287  LS failed, Hessian reset \n",
      "     299       3577.71   8.24978e-06       76.5467      0.3825      0.3825      416   \n",
      "    Iter      log prob        ||dx||      ||grad||       alpha      alpha0  # evals  Notes \n",
      "     329       3577.71   1.80039e-07       70.3952      0.4146      0.4146      454   \n",
      "Optimization terminated normally: \n",
      "  Convergence detected: relative gradient magnitude is below tolerance\n"
     ]
    },
    {
     "name": "stderr",
     "output_type": "stream",
     "text": [
      "/root/.pyenv/versions/3.8.12/envs/business_case_869/lib/python3.8/site-packages/fbprophet/forecaster.py:891: FutureWarning: The frame.append method is deprecated and will be removed from pandas in a future version. Use pandas.concat instead.\n",
      "  components = components.append(new_comp)\n"
     ]
    },
    {
     "name": "stdout",
     "output_type": "stream",
     "text": [
      "Initial log joint probability = -21.526\n",
      "    Iter      log prob        ||dx||      ||grad||       alpha      alpha0  # evals  Notes \n",
      "      99       2709.97    0.00233284       114.287      0.4181      0.4181      120   \n",
      "    Iter      log prob        ||dx||      ||grad||       alpha      alpha0  # evals  Notes \n",
      "     179       2713.99   0.000402172       134.717   3.302e-06       0.001      263  LS failed, Hessian reset \n",
      "     199       2714.49   0.000535302       63.9407           1           1      289   \n",
      "    Iter      log prob        ||dx||      ||grad||       alpha      alpha0  # evals  Notes \n",
      "     299       2714.75   0.000684672       91.7522      0.4979      0.4979      433   \n",
      "    Iter      log prob        ||dx||      ||grad||       alpha      alpha0  # evals  Notes \n",
      "     307       2715.27   0.000347309       131.322    2.61e-06       0.001      480  LS failed, Hessian reset \n",
      "     346        2715.6   0.000148054       64.3663   2.375e-06       0.001      567  LS failed, Hessian reset \n",
      "     377       2715.61   3.07084e-06  BOOKS\n",
      "     61.1855   5.195e-08       0.001      643  LS failed, Hessian reset \n",
      "     389       2715.61   2.31961e-07        47.107      0.1327           1      659   \n",
      "Optimization terminated normally: \n",
      "  Convergence detected: relative gradient magnitude is below tolerance\n"
     ]
    },
    {
     "name": "stderr",
     "output_type": "stream",
     "text": [
      "<timed exec>:10: SettingWithCopyWarning: \n",
      "A value is trying to be set on a copy of a slice from a DataFrame.\n",
      "Try using .loc[row_indexer,col_indexer] = value instead\n",
      "\n",
      "See the caveats in the documentation: https://pandas.pydata.org/pandas-docs/stable/user_guide/indexing.html#returning-a-view-versus-a-copy\n",
      "INFO:fbprophet:Disabling daily seasonality. Run prophet with daily_seasonality=True to override this.\n",
      "/root/.pyenv/versions/3.8.12/envs/business_case_869/lib/python3.8/site-packages/fbprophet/forecaster.py:891: FutureWarning: The frame.append method is deprecated and will be removed from pandas in a future version. Use pandas.concat instead.\n",
      "  components = components.append(new_comp)\n",
      "<timed exec>:10: SettingWithCopyWarning: \n",
      "A value is trying to be set on a copy of a slice from a DataFrame.\n",
      "Try using .loc[row_indexer,col_indexer] = value instead\n",
      "\n",
      "See the caveats in the documentation: https://pandas.pydata.org/pandas-docs/stable/user_guide/indexing.html#returning-a-view-versus-a-copy\n",
      "INFO:fbprophet:Disabling daily seasonality. Run prophet with daily_seasonality=True to override this.\n"
     ]
    },
    {
     "name": "stdout",
     "output_type": "stream",
     "text": [
      "Initial log joint probability = -25.3123\n",
      "BREAD/BAKERY\n",
      "    Iter      log prob        ||dx||      ||grad||       alpha      alpha0  # evals  Notes \n",
      "      99       4110.51     0.0271826       1518.93           1           1      128   \n",
      "    Iter      log prob        ||dx||      ||grad||       alpha      alpha0  # evals  Notes \n",
      "     199       4134.62    0.00274665       586.317      0.6568      0.6568      250   \n",
      "    Iter      log prob        ||dx||      ||grad||       alpha      alpha0  # evals  Notes \n",
      "     299       4147.22    0.00246721        497.91           1           1      386   \n",
      "    Iter      log prob        ||dx||      ||grad||       alpha      alpha0  # evals  Notes \n",
      "     399       4151.22    0.00191495       249.663           1           1      519   \n",
      "    Iter      log prob        ||dx||      ||grad||       alpha      alpha0  # evals  Notes \n",
      "     443       4152.65     0.0008443       1229.53   5.379e-06       0.001      611  LS failed, Hessian reset \n",
      "     499       4153.37    0.00170417       337.611      0.1088           1      687   \n",
      "    Iter      log prob        ||dx||      ||grad||       alpha      alpha0  # evals  Notes \n",
      "     502       4153.38   4.78428e-05       272.655   4.772e-07       0.001      735  LS failed, Hessian reset \n",
      "     599       4155.73    0.00430387       286.973       0.804       0.804      848   \n",
      "    Iter      log prob        ||dx||      ||grad||       alpha      alpha0  # evals  Notes \n",
      "     699       4160.26    0.00257858       255.147     0.08003      0.7135      984   \n",
      "    Iter      log prob        ||dx||      ||grad||       alpha      alpha0  # evals  Notes \n",
      "     799       4161.03    5.6514e-05       123.627       3.849           1     1123   \n",
      "    Iter      log prob        ||dx||      ||grad||       alpha      alpha0  # evals  Notes \n",
      "     899       4161.55   0.000368245       151.795      0.3735      0.5292     1248   \n",
      "    Iter      log prob        ||dx||      ||grad||       alpha      alpha0  # evals  Notes \n",
      "     944       4161.64   5.26433e-05       318.151   4.844e-07       0.001     1351  LS failed, Hessian reset \n",
      "     973       4161.67   1.02419e-05       106.684   6.223e-08       0.001     1433  LS failed, Hessian reset \n",
      "     999       4161.67   2.12226e-05       83.1755      0.3909      0.3909     1463   \n",
      "    Iter      log prob        ||dx||      ||grad||       alpha      alpha0  # evals  Notes \n",
      "    1037       4161.68   9.71454e-08       67.7961      0.3089           1     1513   \n",
      "Optimization terminated normally: \n",
      "  Convergence detected: relative gradient magnitude is below tolerance\n"
     ]
    },
    {
     "name": "stderr",
     "output_type": "stream",
     "text": [
      "/root/.pyenv/versions/3.8.12/envs/business_case_869/lib/python3.8/site-packages/fbprophet/forecaster.py:891: FutureWarning: The frame.append method is deprecated and will be removed from pandas in a future version. Use pandas.concat instead.\n",
      "  components = components.append(new_comp)\n",
      "<timed exec>:10: SettingWithCopyWarning: \n",
      "A value is trying to be set on a copy of a slice from a DataFrame.\n",
      "Try using .loc[row_indexer,col_indexer] = value instead\n",
      "\n",
      "See the caveats in the documentation: https://pandas.pydata.org/pandas-docs/stable/user_guide/indexing.html#returning-a-view-versus-a-copy\n",
      "INFO:fbprophet:Disabling daily seasonality. Run prophet with daily_seasonality=True to override this.\n"
     ]
    },
    {
     "name": "stdout",
     "output_type": "stream",
     "text": [
      "CELEBRATION\n",
      "Initial log joint probability = -45.482\n",
      "    Iter      log prob        ||dx||      ||grad||       alpha      alpha0  # evals  Notes \n",
      "      99       3499.04     0.0209908       250.744           1           1      135   \n",
      "    Iter      log prob        ||dx||      ||grad||       alpha      alpha0  # evals  Notes \n",
      "     179       3504.72   0.000204388       85.9917   5.981e-07       0.001      278  LS failed, Hessian reset \n",
      "     199       3505.22   0.000253191       89.7008      0.9795      0.9795      306   \n",
      "    Iter      log prob        ||dx||      ||grad||       alpha      alpha0  # evals  Notes \n",
      "     214       3505.28   0.000159823       84.3904   2.034e-06       0.001      372  LS failed, Hessian reset \n",
      "     264       3505.31   5.49223e-05       62.6576   7.686e-07       0.001      472  LS failed, Hessian reset \n",
      "     297       3505.31   1.57456e-07       53.5964      0.2368      0.4208      518   \n",
      "Optimization terminated normally: \n",
      "  Convergence detected: relative gradient magnitude is below tolerance\n"
     ]
    },
    {
     "name": "stderr",
     "output_type": "stream",
     "text": [
      "/root/.pyenv/versions/3.8.12/envs/business_case_869/lib/python3.8/site-packages/fbprophet/forecaster.py:891: FutureWarning: The frame.append method is deprecated and will be removed from pandas in a future version. Use pandas.concat instead.\n",
      "  components = components.append(new_comp)\n"
     ]
    },
    {
     "name": "stdout",
     "output_type": "stream",
     "text": [
      "Initial log joint probability = -13.1862\n",
      "    Iter      log prob        ||dx||      ||grad||       alpha      alpha0  # evals  Notes \n",
      "      99       2633.03    0.00286063       73.7181     0.07288      0.5463      122   \n",
      "    Iter      log prob        ||dx||      ||grad||       alpha      alpha0  # evals  Notes \n",
      "     199       2637.51     0.0103728       91.0597      0.7371      0.7371      246   \n",
      "    Iter      log prob        ||dx||      ||grad||       alpha      alpha0  # evals  Notes \n",
      "     208       2637.62   0.000277434       98.2076    3.59e-06       0.001      336  LS failed, Hessian reset \n",
      "     299        2638.9   0.000182132       55.0032           1           1      456   \n",
      "    Iter      log prob        ||dx||      ||grad||       alpha      alpha0  # evals  Notes \n",
      "     399       2639.14   3.70387e-05       59.8412      0.4886      0.4886      574   \n",
      "    Iter      log prob        ||dx||      ||grad||       alpha      alpha0  # evals  Notes \n",
      "     474       2640.59    0.00559065       151.375   6.671e-05       0.001      726  LS failed, Hessian reset \n",
      "     499       2641.08    0.00064774       53.7455      0.9423      0.9423      760   \n",
      "    Iter      log prob        ||dx||      ||grad||       alpha      alpha0  # evals  Notes \n",
      "     599       2641.26   0.000514329       89.9383           1           1      888   \n",
      "    Iter      log prob        ||dx||      ||grad||       alpha      alpha0  # evals  Notes \n",
      "     610       2641.35   0.000335457       113.661   4.492e-06       0.001      933  LS failed, Hessian reset \n",
      "     699       2641.44   2.90729e-05       57.9194           1           1     1046   \n",
      "    Iter      log prob        ||dx||      ||grad||       alpha      alpha0  # evals  Notes \n",
      "     710       2641.44   7.07208e-06       87.9289   9.689e-08       0.001     1095  LS failed, Hessian reset \n",
      "     727       2641.44   2.68268e-08       56.2626      0.1569      0.1569     1121   \n",
      "Optimization terminated normally: \n",
      "  Convergence detected: relative gradient magnitude is below tolerance\n",
      "CLEANING\n"
     ]
    },
    {
     "name": "stderr",
     "output_type": "stream",
     "text": [
      "<timed exec>:10: SettingWithCopyWarning: \n",
      "A value is trying to be set on a copy of a slice from a DataFrame.\n",
      "Try using .loc[row_indexer,col_indexer] = value instead\n",
      "\n",
      "See the caveats in the documentation: https://pandas.pydata.org/pandas-docs/stable/user_guide/indexing.html#returning-a-view-versus-a-copy\n",
      "INFO:fbprophet:Disabling daily seasonality. Run prophet with daily_seasonality=True to override this.\n",
      "/root/.pyenv/versions/3.8.12/envs/business_case_869/lib/python3.8/site-packages/fbprophet/forecaster.py:891: FutureWarning: The frame.append method is deprecated and will be removed from pandas in a future version. Use pandas.concat instead.\n",
      "  components = components.append(new_comp)\n"
     ]
    },
    {
     "name": "stdout",
     "output_type": "stream",
     "text": [
      "Initial log joint probability = -48.4232\n",
      "    Iter      log prob        ||dx||      ||grad||       alpha      alpha0  # evals  Notes \n",
      "      99       2984.67    0.00498518       204.473           1           1      116   \n",
      "    Iter      log prob        ||dx||      ||grad||       alpha      alpha0  # evals  Notes \n",
      "     199       2990.63   0.000459531       174.713   2.935e-06       0.001      283  LS failed, Hessian reset \n",
      "    Iter      log prob        ||dx||      ||grad||       alpha      alpha0  # evals  Notes \n",
      "     267       2990.88   1.07548e-07       71.3626      0.3091           1      376   \n",
      "Optimization terminated normally: \n",
      "  Convergence detected: relative gradient magnitude is below tolerance\n",
      "DAIRY\n"
     ]
    },
    {
     "name": "stderr",
     "output_type": "stream",
     "text": [
      "<timed exec>:10: SettingWithCopyWarning: \n",
      "A value is trying to be set on a copy of a slice from a DataFrame.\n",
      "Try using .loc[row_indexer,col_indexer] = value instead\n",
      "\n",
      "See the caveats in the documentation: https://pandas.pydata.org/pandas-docs/stable/user_guide/indexing.html#returning-a-view-versus-a-copy\n",
      "INFO:fbprophet:Disabling daily seasonality. Run prophet with daily_seasonality=True to override this.\n",
      "/root/.pyenv/versions/3.8.12/envs/business_case_869/lib/python3.8/site-packages/fbprophet/forecaster.py:891: FutureWarning: The frame.append method is deprecated and will be removed from pandas in a future version. Use pandas.concat instead.\n",
      "  components = components.append(new_comp)\n"
     ]
    },
    {
     "name": "stdout",
     "output_type": "stream",
     "text": [
      "DELI\n",
      "Initial log joint probability = -24.6811\n",
      "    Iter      log prob        ||dx||      ||grad||       alpha      alpha0  # evals  Notes \n",
      "      99       3336.37     0.0908653       479.014       0.907       0.907      119   \n",
      "    Iter      log prob        ||dx||      ||grad||       alpha      alpha0  # evals  Notes \n",
      "     192       3348.19   0.000308707       202.704   1.953e-06       0.001      275  LS failed, Hessian reset \n",
      "     199       3348.34   0.000723795       96.5859           1           1      282   \n",
      "    Iter      log prob        ||dx||      ||grad||       alpha      alpha0  # evals  Notes \n",
      "     299       3349.71    0.00887746       193.591           1           1      404   \n",
      "    Iter      log prob        ||dx||      ||grad||       alpha      alpha0  # evals  Notes \n",
      "     399       3354.07   7.66921e-05       68.6343      0.7127      0.7127      531   \n",
      "    Iter      log prob        ||dx||      ||grad||       alpha      alpha0  # evals  Notes \n",
      "     499        3354.1   3.04492e-07       82.3497     0.05482           1      674   \n",
      "    Iter      log prob        ||dx||      ||grad||       alpha      alpha0  # evals  Notes \n",
      "     507        3354.1   1.03259e-07       70.9355      0.5722      0.5722      685   \n",
      "Optimization terminated normally: \n",
      "  Convergence detected: relative gradient magnitude is below tolerance\n"
     ]
    },
    {
     "name": "stderr",
     "output_type": "stream",
     "text": [
      "<timed exec>:10: SettingWithCopyWarning: \n",
      "A value is trying to be set on a copy of a slice from a DataFrame.\n",
      "Try using .loc[row_indexer,col_indexer] = value instead\n",
      "\n",
      "See the caveats in the documentation: https://pandas.pydata.org/pandas-docs/stable/user_guide/indexing.html#returning-a-view-versus-a-copy\n",
      "INFO:fbprophet:Disabling daily seasonality. Run prophet with daily_seasonality=True to override this.\n",
      "/root/.pyenv/versions/3.8.12/envs/business_case_869/lib/python3.8/site-packages/fbprophet/forecaster.py:891: FutureWarning: The frame.append method is deprecated and will be removed from pandas in a future version. Use pandas.concat instead.\n",
      "  components = components.append(new_comp)\n"
     ]
    },
    {
     "name": "stdout",
     "output_type": "stream",
     "text": [
      "Initial log joint probability = -36.6735\n",
      "EGGS\n",
      "    Iter      log prob        ||dx||      ||grad||       alpha      alpha0  # evals  Notes \n",
      "      99       3188.52    0.00811119       68.5774           1           1      122   \n",
      "    Iter      log prob        ||dx||      ||grad||       alpha      alpha0  # evals  Notes \n",
      "     138       3193.37   0.000785129       266.744   7.006e-06       0.001      210  LS failed, Hessian reset \n",
      "     199       3195.43   0.000694431       72.7876      0.4163           1      293   \n",
      "    Iter      log prob        ||dx||      ||grad||       alpha      alpha0  # evals  Notes \n",
      "     215       3195.51   0.000955377       84.7387   1.301e-05       0.001      345  LS failed, Hessian reset \n",
      "     299       3195.64   0.000375024       78.0466           1           1      451   \n",
      "    Iter      log prob        ||dx||      ||grad||       alpha      alpha0  # evals  Notes \n",
      "     330       3195.82    0.00016576       92.2023    1.17e-06       0.001      532  LS failed, Hessian reset \n",
      "     360       3195.92    0.00014563       73.0245   1.806e-06       0.001      609  LS failed, Hessian reset \n",
      "     391       3195.93   1.08686e-07       58.4892      0.3262           1      654   \n",
      "Optimization terminated normally: \n",
      "  Convergence detected: relative gradient magnitude is below tolerance\n"
     ]
    },
    {
     "name": "stderr",
     "output_type": "stream",
     "text": [
      "<timed exec>:10: SettingWithCopyWarning: \n",
      "A value is trying to be set on a copy of a slice from a DataFrame.\n",
      "Try using .loc[row_indexer,col_indexer] = value instead\n",
      "\n",
      "See the caveats in the documentation: https://pandas.pydata.org/pandas-docs/stable/user_guide/indexing.html#returning-a-view-versus-a-copy\n",
      "INFO:fbprophet:Disabling daily seasonality. Run prophet with daily_seasonality=True to override this.\n",
      "/root/.pyenv/versions/3.8.12/envs/business_case_869/lib/python3.8/site-packages/fbprophet/forecaster.py:891: FutureWarning: The frame.append method is deprecated and will be removed from pandas in a future version. Use pandas.concat instead.\n",
      "  components = components.append(new_comp)\n"
     ]
    },
    {
     "name": "stdout",
     "output_type": "stream",
     "text": [
      "Initial log joint probability = -33.1692\n",
      "FROZEN FOODS\n",
      "    Iter      log prob        ||dx||      ||grad||       alpha      alpha0  # evals  Notes \n",
      "      99       3430.59   0.000199624       180.398      0.3195      0.3195      133   \n",
      "    Iter      log prob        ||dx||      ||grad||       alpha      alpha0  # evals  Notes \n",
      "     134       3431.81   0.000210612       84.1209   3.741e-06       0.001      209  LS failed, Hessian reset \n",
      "     199       3432.28   0.000703753       65.6893           1           1      291   \n",
      "    Iter      log prob        ||dx||      ||grad||       alpha      alpha0  # evals  Notes \n",
      "     227       3432.41   0.000191437         137.3   2.296e-06       0.001      380  LS failed, Hessian reset \n",
      "     291       3432.46   1.17833e-07       45.2022       0.306      0.9803      466   \n",
      "Optimization terminated normally: \n",
      "  Convergence detected: relative gradient magnitude is below tolerance\n"
     ]
    },
    {
     "name": "stderr",
     "output_type": "stream",
     "text": [
      "<timed exec>:10: SettingWithCopyWarning: \n",
      "A value is trying to be set on a copy of a slice from a DataFrame.\n",
      "Try using .loc[row_indexer,col_indexer] = value instead\n",
      "\n",
      "See the caveats in the documentation: https://pandas.pydata.org/pandas-docs/stable/user_guide/indexing.html#returning-a-view-versus-a-copy\n",
      "INFO:fbprophet:Disabling daily seasonality. Run prophet with daily_seasonality=True to override this.\n",
      "/root/.pyenv/versions/3.8.12/envs/business_case_869/lib/python3.8/site-packages/fbprophet/forecaster.py:891: FutureWarning: The frame.append method is deprecated and will be removed from pandas in a future version. Use pandas.concat instead.\n",
      "  components = components.append(new_comp)\n"
     ]
    },
    {
     "name": "stdout",
     "output_type": "stream",
     "text": [
      "Initial log joint probability = -13.0112\n",
      "    Iter      log prob        ||dx||      ||grad||       alpha      alpha0  # evals  Notes \n",
      "      99       3684.64   0.000305159        323.83      0.8581      0.8581      132   \n",
      "    Iter      log prob        ||dx||      ||grad||       alpha      alpha0  # evals  Notes \n",
      "     155       3685.57   4.72033e-05       118.055   4.722e-07       0.001      239  LS failed, Hessian reset \n",
      "     199       3685.64   1.76521e-05       68.7984           1           1      298   \n",
      "    Iter      log prob        ||dx||      ||grad||       alpha      alpha0  # evals  Notes \n",
      "     226       3685.82   6.84871e-05       154.408    7.63e-07       0.001      377  LS failed, Hessian reset \n",
      "     280       3686.04   3.56305e-05       89.9767   2.733e-07       0.001      494  LS failed, Hessian reset \n",
      "     299       3686.05   1.35662e-05        79.288           1           1      515   \n",
      "    Iter      log prob        ||dx||      ||grad||       alpha      alpha0  # evals  Notes \n",
      "     321       3686.06   8.39522e-08  GROCERY I\n",
      "     55.3439      0.5107      0.5107      553   \n",
      "Optimization terminated normally: \n",
      "  Convergence detected: relative gradient magnitude is below tolerance\n"
     ]
    },
    {
     "name": "stderr",
     "output_type": "stream",
     "text": [
      "<timed exec>:10: SettingWithCopyWarning: \n",
      "A value is trying to be set on a copy of a slice from a DataFrame.\n",
      "Try using .loc[row_indexer,col_indexer] = value instead\n",
      "\n",
      "See the caveats in the documentation: https://pandas.pydata.org/pandas-docs/stable/user_guide/indexing.html#returning-a-view-versus-a-copy\n",
      "INFO:fbprophet:Disabling daily seasonality. Run prophet with daily_seasonality=True to override this.\n",
      "/root/.pyenv/versions/3.8.12/envs/business_case_869/lib/python3.8/site-packages/fbprophet/forecaster.py:891: FutureWarning: The frame.append method is deprecated and will be removed from pandas in a future version. Use pandas.concat instead.\n",
      "  components = components.append(new_comp)\n"
     ]
    },
    {
     "name": "stdout",
     "output_type": "stream",
     "text": [
      "Initial log joint probability = -18.4125\n",
      "GROCERY II\n",
      "    Iter      log prob        ||dx||      ||grad||       alpha      alpha0  # evals  Notes \n",
      "      99       3539.02    0.00388839       149.493           1           1      137   \n",
      "    Iter      log prob        ||dx||      ||grad||       alpha      alpha0  # evals  Notes \n",
      "     157       3540.66    0.00033708       116.996   4.898e-06       0.001      254  LS failed, Hessian reset \n",
      "     199        3540.7   3.40276e-05       60.9153           1           1      310   \n",
      "    Iter      log prob        ||dx||      ||grad||       alpha      alpha0  # evals  Notes \n",
      "     299        3540.8     0.0121072       160.662           1           1      448   \n",
      "    Iter      log prob        ||dx||      ||grad||       alpha      alpha0  # evals  Notes \n",
      "     304       3540.89   0.000113657        92.769   7.199e-07       0.001      524  LS failed, Hessian reset \n",
      "     341          3541   5.43937e-05       62.2724   8.819e-07       0.001      620  LS failed, Hessian reset \n",
      "     399          3541   2.91617e-06       58.9358       0.486       0.486      699   \n",
      "    Iter      log prob        ||dx||      ||grad||       alpha      alpha0  # evals  Notes \n",
      "     411       3541.01    3.4506e-07       51.9944      0.7457      0.7457      715   \n",
      "Optimization terminated normally: \n",
      "  Convergence detected: relative gradient magnitude is below tolerance\n"
     ]
    },
    {
     "name": "stderr",
     "output_type": "stream",
     "text": [
      "<timed exec>:10: SettingWithCopyWarning: \n",
      "A value is trying to be set on a copy of a slice from a DataFrame.\n",
      "Try using .loc[row_indexer,col_indexer] = value instead\n",
      "\n",
      "See the caveats in the documentation: https://pandas.pydata.org/pandas-docs/stable/user_guide/indexing.html#returning-a-view-versus-a-copy\n",
      "INFO:fbprophet:Disabling daily seasonality. Run prophet with daily_seasonality=True to override this.\n",
      "/root/.pyenv/versions/3.8.12/envs/business_case_869/lib/python3.8/site-packages/fbprophet/forecaster.py:891: FutureWarning: The frame.append method is deprecated and will be removed from pandas in a future version. Use pandas.concat instead.\n",
      "  components = components.append(new_comp)\n"
     ]
    },
    {
     "name": "stdout",
     "output_type": "stream",
     "text": [
      "HARDWARE\n",
      "Initial log joint probability = -103.685\n",
      "    Iter      log prob        ||dx||      ||grad||       alpha      alpha0  # evals  Notes \n",
      "      99       3216.34    0.00298408       95.7892           1           1      129   \n",
      "    Iter      log prob        ||dx||      ||grad||       alpha      alpha0  # evals  Notes \n",
      "     189       3220.65   0.000174199       102.827   1.202e-06       0.001      296  LS failed, Hessian reset \n",
      "     199       3221.52    0.00247827       128.542           1           1      313   \n",
      "    Iter      log prob        ||dx||      ||grad||       alpha      alpha0  # evals  Notes \n",
      "     212       3222.07   0.000175384       106.756   2.022e-06       0.001      367  LS failed, Hessian reset \n",
      "     275       3222.61   0.000178133       103.463   2.094e-06       0.001      480  LS failed, Hessian reset \n",
      "     299       3222.76   0.000375677       58.8403      0.6319      0.6319      507   \n",
      "    Iter      log prob        ||dx||      ||grad||       alpha      alpha0  # evals  Notes \n",
      "     353       3223.14   0.000170718       74.3199   2.562e-06       0.001      610  LS failed, Hessian reset \n",
      "     396       3223.26   0.000104678       83.0419   1.242e-06       0.001      703  LS failed, Hessian reset \n",
      "     399       3223.27   2.42939e-05       64.6846      0.6901      0.6901      706   \n",
      "    Iter      log prob        ||dx||      ||grad||       alpha      alpha0  # evals  Notes \n",
      "     474       3223.47   0.000172906       104.562   2.074e-06       0.001      845  LS failed, Hessian reset \n",
      "     499       3223.59   4.38358e-05        74.564      0.6622      0.6622      875   \n",
      "    Iter      log prob        ||dx||      ||grad||       alpha      alpha0  # evals  Notes \n",
      "     526       3223.67   0.000104414       68.5463   1.457e-06       0.001      950  LS failed, Hessian reset \n",
      "     599       3223.68   9.48985e-07       64.8285           1           1     1051   \n",
      "    Iter      log prob        ||dx||      ||grad||       alpha      alpha0  # evals  Notes \n",
      "     608       3223.68   3.11353e-07       78.8427           1           1     1061   \n",
      "Optimization terminated normally: \n",
      "  Convergence detected: relative gradient magnitude is below tolerance\n"
     ]
    },
    {
     "name": "stderr",
     "output_type": "stream",
     "text": [
      "<timed exec>:10: SettingWithCopyWarning: \n",
      "A value is trying to be set on a copy of a slice from a DataFrame.\n",
      "Try using .loc[row_indexer,col_indexer] = value instead\n",
      "\n",
      "See the caveats in the documentation: https://pandas.pydata.org/pandas-docs/stable/user_guide/indexing.html#returning-a-view-versus-a-copy\n",
      "INFO:fbprophet:Disabling daily seasonality. Run prophet with daily_seasonality=True to override this.\n",
      "/root/.pyenv/versions/3.8.12/envs/business_case_869/lib/python3.8/site-packages/fbprophet/forecaster.py:891: FutureWarning: The frame.append method is deprecated and will be removed from pandas in a future version. Use pandas.concat instead.\n",
      "  components = components.append(new_comp)\n"
     ]
    },
    {
     "name": "stdout",
     "output_type": "stream",
     "text": [
      "HOME AND KITCHEN I\n",
      "Initial log joint probability = -42.1561\n",
      "    Iter      log prob        ||dx||      ||grad||       alpha      alpha0  # evals  Notes \n",
      "      88       2709.94   0.000621766       141.096   8.887e-06       0.001      143  LS failed, Hessian reset \n",
      "      99       2710.56   0.000779481        103.86      0.7929      0.7929      158   \n",
      "    Iter      log prob        ||dx||      ||grad||       alpha      alpha0  # evals  Notes \n",
      "     127       2710.71   0.000478129       78.4041   6.293e-06       0.001      227  LS failed, Hessian reset \n",
      "     167       2710.73   1.13093e-07       73.5176      0.1727           1      288   \n",
      "Optimization terminated normally: \n",
      "  Convergence detected: relative gradient magnitude is below tolerance\n"
     ]
    },
    {
     "name": "stderr",
     "output_type": "stream",
     "text": [
      "<timed exec>:10: SettingWithCopyWarning: \n",
      "A value is trying to be set on a copy of a slice from a DataFrame.\n",
      "Try using .loc[row_indexer,col_indexer] = value instead\n",
      "\n",
      "See the caveats in the documentation: https://pandas.pydata.org/pandas-docs/stable/user_guide/indexing.html#returning-a-view-versus-a-copy\n",
      "INFO:fbprophet:Disabling daily seasonality. Run prophet with daily_seasonality=True to override this.\n",
      "/root/.pyenv/versions/3.8.12/envs/business_case_869/lib/python3.8/site-packages/fbprophet/forecaster.py:891: FutureWarning: The frame.append method is deprecated and will be removed from pandas in a future version. Use pandas.concat instead.\n",
      "  components = components.append(new_comp)\n"
     ]
    },
    {
     "name": "stdout",
     "output_type": "stream",
     "text": [
      "HOME AND KITCHEN II\n",
      "Initial log joint probability = -44.8428\n",
      "    Iter      log prob        ||dx||      ||grad||       alpha      alpha0  # evals  Notes \n",
      "      99       3052.74    0.00738352       181.832      0.9348      0.9348      140   \n",
      "    Iter      log prob        ||dx||      ||grad||       alpha      alpha0  # evals  Notes \n",
      "     144        3057.6   0.000306118        152.37   2.435e-06       0.001      242  LS failed, Hessian reset \n",
      "     199       3059.09   1.83652e-05       67.3123      0.3475      0.9245      326   \n",
      "    Iter      log prob        ||dx||      ||grad||       alpha      alpha0  # evals  Notes \n",
      "     263       3059.98    0.00105448       235.409    1.33e-05       0.001      435  LS failed, Hessian reset \n",
      "     299       3060.39    0.00271588       101.829      0.5232           1      481   \n",
      "    Iter      log prob        ||dx||      ||grad||       alpha      alpha0  # evals  Notes \n",
      "     399       3060.56    0.00355302       91.4648           1           1      611   \n",
      "    Iter      log prob        ||dx||      ||grad||       alpha      alpha0  # evals  Notes \n",
      "     422       3060.92   0.000158902         85.16   1.541e-06       0.001      701  LS failed, Hessian reset \n",
      "     483        3061.2   5.21777e-05       71.7788   8.344e-07       0.001      834  LS failed, Hessian reset \n",
      "     499       3061.23   0.000124616       60.7249           1           1      851   \n",
      "    Iter      log prob        ||dx||      ||grad||       alpha      alpha0  # evals  Notes \n",
      "     599       3061.33    0.00155124       102.222      0.4706      0.4706      983   \n",
      "    Iter      log prob        ||dx||      ||grad||       alpha      alpha0  # evals  Notes \n",
      "     699       3061.76   0.000201035       114.287   1.335e-06       0.001     1144  LS failed, Hessian reset \n",
      "    Iter      log prob        ||dx||      ||grad||       alpha      alpha0  # evals  Notes \n",
      "     799       3062.05   1.79153e-06       65.5923           1           1     1287   \n",
      "    Iter      log prob        ||dx||      ||grad||       alpha      alpha0  # evals  Notes \n",
      "     831       3062.05    1.1021e-06        59.329   1.603e-08       0.001     1368  LS failed, Hessian reset \n",
      "     835       3062.05   2.15829e-07       52.2097           1           1     1374   \n",
      "Optimization terminated normally: \n",
      "  Convergence detected: relative gradient magnitude is below tolerance\n"
     ]
    },
    {
     "name": "stderr",
     "output_type": "stream",
     "text": [
      "<timed exec>:10: SettingWithCopyWarning: \n",
      "A value is trying to be set on a copy of a slice from a DataFrame.\n",
      "Try using .loc[row_indexer,col_indexer] = value instead\n",
      "\n",
      "See the caveats in the documentation: https://pandas.pydata.org/pandas-docs/stable/user_guide/indexing.html#returning-a-view-versus-a-copy\n",
      "INFO:fbprophet:Disabling daily seasonality. Run prophet with daily_seasonality=True to override this.\n",
      "/root/.pyenv/versions/3.8.12/envs/business_case_869/lib/python3.8/site-packages/fbprophet/forecaster.py:891: FutureWarning: The frame.append method is deprecated and will be removed from pandas in a future version. Use pandas.concat instead.\n",
      "  components = components.append(new_comp)\n"
     ]
    },
    {
     "name": "stdout",
     "output_type": "stream",
     "text": [
      "Initial log joint probability = -7.88586\n",
      "HOME APPLIANCES\n",
      "    Iter      log prob        ||dx||      ||grad||       alpha      alpha0  # evals  Notes \n",
      "      99       3605.11     0.0130172       423.325      0.9581      0.9581      125   \n",
      "    Iter      log prob        ||dx||      ||grad||       alpha      alpha0  # evals  Notes \n",
      "     122        3607.2   8.98894e-05        98.773   7.739e-07       0.001      187  LS failed, Hessian reset \n",
      "     199       3613.54     0.0171411       376.128           1           1      283   \n",
      "    Iter      log prob        ||dx||      ||grad||       alpha      alpha0  # evals  Notes \n",
      "     229       3615.41   0.000113167       122.081   8.767e-07       0.001      363  LS failed, Hessian reset \n",
      "     293       3615.72   5.69269e-05        60.522   5.122e-07       0.001      494  LS failed, Hessian reset \n",
      "     299       3615.73   6.69872e-06       59.6654      0.2605           1      504   \n",
      "    Iter      log prob        ||dx||      ||grad||       alpha      alpha0  # evals  Notes \n",
      "     338       3615.73    2.2256e-06        74.808     3.6e-08       0.001      596  LS failed, Hessian reset \n",
      "     355       3615.73   6.05342e-07       45.9768      0.6959      0.6959      619   \n",
      "Optimization terminated normally: \n",
      "  Convergence detected: relative gradient magnitude is below tolerance\n"
     ]
    },
    {
     "name": "stderr",
     "output_type": "stream",
     "text": [
      "<timed exec>:10: SettingWithCopyWarning: \n",
      "A value is trying to be set on a copy of a slice from a DataFrame.\n",
      "Try using .loc[row_indexer,col_indexer] = value instead\n",
      "\n",
      "See the caveats in the documentation: https://pandas.pydata.org/pandas-docs/stable/user_guide/indexing.html#returning-a-view-versus-a-copy\n",
      "INFO:fbprophet:Disabling daily seasonality. Run prophet with daily_seasonality=True to override this.\n",
      "/root/.pyenv/versions/3.8.12/envs/business_case_869/lib/python3.8/site-packages/fbprophet/forecaster.py:891: FutureWarning: The frame.append method is deprecated and will be removed from pandas in a future version. Use pandas.concat instead.\n",
      "  components = components.append(new_comp)\n"
     ]
    },
    {
     "name": "stdout",
     "output_type": "stream",
     "text": [
      "Initial log joint probability = -54.157\n",
      "HOME CARE\n",
      "    Iter      log prob        ||dx||      ||grad||       alpha      alpha0  # evals  Notes \n",
      "      99       2110.24     0.0265033       64.8485           1           1      118   \n",
      "    Iter      log prob        ||dx||      ||grad||       alpha      alpha0  # evals  Notes \n",
      "     153       2117.12      0.013581       541.778   0.0001084       0.001      223  LS failed, Hessian reset \n",
      "     199       2120.08    1.1145e-05       72.9604      0.3807      0.3807      277   \n",
      "    Iter      log prob        ||dx||      ||grad||       alpha      alpha0  # evals  Notes \n",
      "     299       2121.92      0.043554       156.629      0.3263           1      405   \n",
      "    Iter      log prob        ||dx||      ||grad||       alpha      alpha0  # evals  Notes \n",
      "     384       2129.28    0.00214273       121.945   2.633e-05       0.001      573  LS failed, Hessian reset \n",
      "     399       2129.56   0.000267186       71.2732      0.4568      0.4568      593   \n",
      "    Iter      log prob        ||dx||      ||grad||       alpha      alpha0  # evals  Notes \n",
      "     428       2129.65   0.000316363       82.0051    2.94e-06       0.001      666  LS failed, Hessian reset \n",
      "     468       2129.67   9.85735e-08       71.6801      0.6392      0.6392      724   \n",
      "Optimization terminated normally: \n",
      "  Convergence detected: relative gradient magnitude is below tolerance\n"
     ]
    },
    {
     "name": "stderr",
     "output_type": "stream",
     "text": [
      "<timed exec>:10: SettingWithCopyWarning: \n",
      "A value is trying to be set on a copy of a slice from a DataFrame.\n",
      "Try using .loc[row_indexer,col_indexer] = value instead\n",
      "\n",
      "See the caveats in the documentation: https://pandas.pydata.org/pandas-docs/stable/user_guide/indexing.html#returning-a-view-versus-a-copy\n",
      "INFO:fbprophet:Disabling daily seasonality. Run prophet with daily_seasonality=True to override this.\n",
      "/root/.pyenv/versions/3.8.12/envs/business_case_869/lib/python3.8/site-packages/fbprophet/forecaster.py:891: FutureWarning: The frame.append method is deprecated and will be removed from pandas in a future version. Use pandas.concat instead.\n",
      "  components = components.append(new_comp)\n"
     ]
    },
    {
     "name": "stdout",
     "output_type": "stream",
     "text": [
      "Initial log joint probability = -20.6472\n",
      "LADIESWEAR\n",
      "    Iter      log prob        ||dx||      ||grad||       alpha      alpha0  # evals  Notes \n",
      "      77       2215.58   0.000896299       128.425   4.751e-06       0.001      134  LS failed, Hessian reset \n",
      "      99       2216.57   0.000731527        74.184           1           1      161   \n",
      "    Iter      log prob        ||dx||      ||grad||       alpha      alpha0  # evals  Notes \n",
      "     149       2216.98     0.0010007       162.828   8.114e-06       0.001      257  LS failed, Hessian reset \n",
      "     199       2217.36   8.42771e-05       73.4277           1           1      317   \n",
      "    Iter      log prob        ||dx||      ||grad||       alpha      alpha0  # evals  Notes \n",
      "     226       2217.52    0.00034036        69.253   3.066e-06       0.001      404  LS failed, Hessian reset \n",
      "     299       2217.72   0.000116734       83.1654      0.4309      0.4309      495   \n",
      "    Iter      log prob        ||dx||      ||grad||       alpha      alpha0  # evals  Notes \n",
      "     355       2217.73   8.60339e-08       67.4252      0.5136      0.5136      579   \n",
      "Optimization terminated normally: \n",
      "  Convergence detected: relative gradient magnitude is below tolerance\n"
     ]
    },
    {
     "name": "stderr",
     "output_type": "stream",
     "text": [
      "<timed exec>:10: SettingWithCopyWarning: \n",
      "A value is trying to be set on a copy of a slice from a DataFrame.\n",
      "Try using .loc[row_indexer,col_indexer] = value instead\n",
      "\n",
      "See the caveats in the documentation: https://pandas.pydata.org/pandas-docs/stable/user_guide/indexing.html#returning-a-view-versus-a-copy\n",
      "INFO:fbprophet:Disabling daily seasonality. Run prophet with daily_seasonality=True to override this.\n",
      "/root/.pyenv/versions/3.8.12/envs/business_case_869/lib/python3.8/site-packages/fbprophet/forecaster.py:891: FutureWarning: The frame.append method is deprecated and will be removed from pandas in a future version. Use pandas.concat instead.\n",
      "  components = components.append(new_comp)\n"
     ]
    },
    {
     "name": "stdout",
     "output_type": "stream",
     "text": [
      "LAWN AND GARDEN\n",
      "Initial log joint probability = -30.8386\n",
      "    Iter      log prob        ||dx||      ||grad||       alpha      alpha0  # evals  Notes \n",
      "      99       1979.68    0.00250784       88.1214     0.02087           1      130   \n",
      "    Iter      log prob        ||dx||      ||grad||       alpha      alpha0  # evals  Notes \n",
      "     150       1981.14    0.00173065       174.027   1.931e-05       0.001      257  LS failed, Hessian reset \n",
      "     195       1981.37    0.00010299       71.8181   1.173e-06       0.001      357  LS failed, Hessian reset \n",
      "     199       1981.38   1.02234e-05       65.6622      0.2194           1      363   \n",
      "    Iter      log prob        ||dx||      ||grad||       alpha      alpha0  # evals  Notes \n",
      "     279       1981.42   4.24297e-08       77.7894      0.2232      0.2232      475   \n",
      "Optimization terminated normally: \n",
      "  Convergence detected: relative gradient magnitude is below tolerance\n"
     ]
    },
    {
     "name": "stderr",
     "output_type": "stream",
     "text": [
      "<timed exec>:10: SettingWithCopyWarning: \n",
      "A value is trying to be set on a copy of a slice from a DataFrame.\n",
      "Try using .loc[row_indexer,col_indexer] = value instead\n",
      "\n",
      "See the caveats in the documentation: https://pandas.pydata.org/pandas-docs/stable/user_guide/indexing.html#returning-a-view-versus-a-copy\n",
      "INFO:fbprophet:Disabling daily seasonality. Run prophet with daily_seasonality=True to override this.\n",
      "/root/.pyenv/versions/3.8.12/envs/business_case_869/lib/python3.8/site-packages/fbprophet/forecaster.py:891: FutureWarning: The frame.append method is deprecated and will be removed from pandas in a future version. Use pandas.concat instead.\n",
      "  components = components.append(new_comp)\n"
     ]
    },
    {
     "name": "stdout",
     "output_type": "stream",
     "text": [
      "LINGERIE\n",
      "Initial log joint probability = -152.303\n",
      "    Iter      log prob        ||dx||      ||grad||       alpha      alpha0  # evals  Notes \n",
      "      99       3950.07     0.0293767       472.704           1           1      121   \n",
      "    Iter      log prob        ||dx||      ||grad||       alpha      alpha0  # evals  Notes \n",
      "     199       3968.26    0.00285504       138.085      0.2301           1      257   \n",
      "    Iter      log prob        ||dx||      ||grad||       alpha      alpha0  # evals  Notes \n",
      "     299       3975.96    0.00147582        610.39      0.1218           1      388   \n",
      "    Iter      log prob        ||dx||      ||grad||       alpha      alpha0  # evals  Notes \n",
      "     367       3978.19    0.00012113       210.238    3.97e-07       0.001      520  LS failed, Hessian reset \n",
      "     399       3979.14   0.000314785       199.045      0.1747      0.5712      558   \n",
      "    Iter      log prob        ||dx||      ||grad||       alpha      alpha0  # evals  Notes \n",
      "     499          3980   0.000403721       77.8025        0.33           1      691   \n",
      "    Iter      log prob        ||dx||      ||grad||       alpha      alpha0  # evals  Notes \n",
      "     574       3980.74   0.000350905       249.937   4.295e-06       0.001      831  LS failed, Hessian reset \n",
      "     599        3980.9   6.83183e-05       123.725      0.5989      0.5989      858   \n",
      "    Iter      log prob        ||dx||      ||grad||       alpha      alpha0  # evals  Notes \n",
      "     699       3981.12    1.4346e-05       55.3451      0.5135      0.5135      981   \n",
      "    Iter      log prob        ||dx||      ||grad||       alpha      alpha0  # evals  Notes \n",
      "     783       3981.75   0.000552538       130.515   7.889e-06       0.001     1119  LS failed, Hessian reset \n",
      "     799       3981.86   0.000363239       46.5718      0.2474           1     1139   \n",
      "    Iter      log prob        ||dx||      ||grad||       alpha      alpha0  # evals  Notes \n",
      "     899       3982.05    0.00212939       106.767           1           1     1267   \n",
      "    Iter      log prob        ||dx||      ||grad||       alpha      alpha0  # evals  Notes \n",
      "     982       3982.17    4.0821e-05       109.332   5.195e-07       0.001     1421  LS failed, Hessian reset \n",
      "     999       3982.18   0.000111058       60.0126           1           1     1439   \n",
      "    Iter      log prob        ||dx||      ||grad||       alpha      alpha0  # evals  Notes \n",
      "    1099       3982.27   5.63997e-05       49.5633           1           1     1563   \n",
      "    Iter      log prob        ||dx||      ||grad||       alpha      alpha0  # evals  Notes \n",
      "    1164       3982.29   4.39757e-08       66.2126     0.06354      0.6642     1655   \n",
      "Optimization terminated normally: \n",
      "  Convergence detected: relative gradient magnitude is below tolerance\n"
     ]
    },
    {
     "name": "stderr",
     "output_type": "stream",
     "text": [
      "<timed exec>:10: SettingWithCopyWarning: \n",
      "A value is trying to be set on a copy of a slice from a DataFrame.\n",
      "Try using .loc[row_indexer,col_indexer] = value instead\n",
      "\n",
      "See the caveats in the documentation: https://pandas.pydata.org/pandas-docs/stable/user_guide/indexing.html#returning-a-view-versus-a-copy\n",
      "INFO:fbprophet:Disabling daily seasonality. Run prophet with daily_seasonality=True to override this.\n",
      "/root/.pyenv/versions/3.8.12/envs/business_case_869/lib/python3.8/site-packages/fbprophet/forecaster.py:891: FutureWarning: The frame.append method is deprecated and will be removed from pandas in a future version. Use pandas.concat instead.\n",
      "  components = components.append(new_comp)\n"
     ]
    },
    {
     "name": "stdout",
     "output_type": "stream",
     "text": [
      "LIQUOR,WINE,BEER\n",
      "Initial log joint probability = -32.5036\n",
      "    Iter      log prob        ||dx||      ||grad||       alpha      alpha0  # evals  Notes \n",
      "      99        3319.4    0.00309953       140.212      0.1955           1      124   \n",
      "    Iter      log prob        ||dx||      ||grad||       alpha      alpha0  # evals  Notes \n",
      "     199       3331.45   0.000309179       114.402      0.5907           1      246   \n",
      "    Iter      log prob        ||dx||      ||grad||       alpha      alpha0  # evals  Notes \n",
      "     217        3331.6   0.000442691       196.941   6.345e-06       0.001      307  LS failed, Hessian reset \n",
      "     299       3333.27    0.00228032       63.3654       0.722       0.722      404   \n",
      "    Iter      log prob        ||dx||      ||grad||       alpha      alpha0  # evals  Notes \n",
      "     386       3334.36   0.000383666       118.839   5.205e-06       0.001      594  LS failed, Hessian reset \n",
      "     399       3334.48   0.000215585       93.5162      0.4602      0.4602      610   \n",
      "    Iter      log prob        ||dx||      ||grad||       alpha      alpha0  # evals  Notes \n",
      "     499       3334.58   0.000400246       71.5875      0.9827      0.9827      737   \n",
      "    Iter      log prob        ||dx||      ||grad||       alpha      alpha0  # evals  Notes \n",
      "     577       3334.63   7.00075e-08       60.6837     0.07388           1      851   \n",
      "Optimization terminated normally: \n",
      "  Convergence detected: relative gradient magnitude is below tolerance\n"
     ]
    },
    {
     "name": "stderr",
     "output_type": "stream",
     "text": [
      "<timed exec>:10: SettingWithCopyWarning: \n",
      "A value is trying to be set on a copy of a slice from a DataFrame.\n",
      "Try using .loc[row_indexer,col_indexer] = value instead\n",
      "\n",
      "See the caveats in the documentation: https://pandas.pydata.org/pandas-docs/stable/user_guide/indexing.html#returning-a-view-versus-a-copy\n",
      "INFO:fbprophet:Disabling daily seasonality. Run prophet with daily_seasonality=True to override this.\n",
      "/root/.pyenv/versions/3.8.12/envs/business_case_869/lib/python3.8/site-packages/fbprophet/forecaster.py:891: FutureWarning: The frame.append method is deprecated and will be removed from pandas in a future version. Use pandas.concat instead.\n",
      "  components = components.append(new_comp)\n"
     ]
    },
    {
     "name": "stdout",
     "output_type": "stream",
     "text": [
      "Initial log joint probability = -130.844\n",
      "    Iter      log prob        ||dx||      ||grad||       alpha      alpha0  # evals  Notes \n",
      "      99        3244.5    0.00496577       143.881           1           1      129   \n",
      "    Iter      log prob        ||dx||      ||grad||       alpha      alpha0  # evals  Notes \n",
      "     102       3244.64   0.000201124       165.541   1.293e-06       0.001      169  LS failed, Hessian reset \n",
      "     159       3246.32   0.000732749       222.445   7.021e-06       0.001      273  LS failed, Hessian reset \n",
      "     199       3246.92    8.7321e-05       125.015      0.1776       0.802      320   \n",
      "    Iter      log prob        ||dx||      ||grad||       alpha      alpha0  # evals  Notes \n",
      "     299       3251.37    0.00843581       218.853      0.7326      0.7326      442   \n",
      "    Iter      log prob        ||dx||      ||grad||       alpha      alpha0  # evals  Notes \n",
      "     374       3251.99   9.71474e-05       106.658   1.091e-06       0.001      573  LS failed, Hessian reset \n",
      "     399       3251.99   1.26888e-06       66.0991      0.3989           1      610   \n",
      "    Iter      log prob        ||dx||      ||grad||       alpha      alpha0  # evals  Notes \n",
      "     406       3251.99   7.70738e-08       65.2385      0.1261      0.5611      623   \n",
      "Optimization terminated normally: \n",
      "  Convergence detected: relative gradient magnitude is below tolerance\n",
      "MAGAZINES\n"
     ]
    },
    {
     "name": "stderr",
     "output_type": "stream",
     "text": [
      "<timed exec>:10: SettingWithCopyWarning: \n",
      "A value is trying to be set on a copy of a slice from a DataFrame.\n",
      "Try using .loc[row_indexer,col_indexer] = value instead\n",
      "\n",
      "See the caveats in the documentation: https://pandas.pydata.org/pandas-docs/stable/user_guide/indexing.html#returning-a-view-versus-a-copy\n",
      "INFO:fbprophet:Disabling daily seasonality. Run prophet with daily_seasonality=True to override this.\n",
      "/root/.pyenv/versions/3.8.12/envs/business_case_869/lib/python3.8/site-packages/fbprophet/forecaster.py:891: FutureWarning: The frame.append method is deprecated and will be removed from pandas in a future version. Use pandas.concat instead.\n",
      "  components = components.append(new_comp)\n"
     ]
    },
    {
     "name": "stdout",
     "output_type": "stream",
     "text": [
      "Initial log joint probability = -15.1375\n",
      "MEATS\n",
      "    Iter      log prob        ||dx||      ||grad||       alpha      alpha0  # evals  Notes \n",
      "      99       3178.09    0.00494469       502.637      0.1073      0.3335      121   \n",
      "    Iter      log prob        ||dx||      ||grad||       alpha      alpha0  # evals  Notes \n",
      "     164       3185.61   0.000311838       195.415   1.585e-06       0.001      237  LS failed, Hessian reset \n",
      "     199       3187.48   0.000478064       147.099      0.7536      0.7536      276   \n",
      "    Iter      log prob        ||dx||      ||grad||       alpha      alpha0  # evals  Notes \n",
      "     224       3187.97   0.000289597       145.291   3.814e-06       0.001      352  LS failed, Hessian reset \n",
      "     273       3188.31   0.000207162        137.73    3.44e-06       0.001      466  LS failed, Hessian reset \n",
      "     299       3188.34   7.80642e-06       89.7524      0.1721           1      502   \n",
      "    Iter      log prob        ||dx||      ||grad||       alpha      alpha0  # evals  Notes \n",
      "     350        3188.4    0.00011906       67.0176   1.021e-06       0.001      605  LS failed, Hessian reset \n",
      "     399       3188.48   3.77095e-05       69.9543           1           1      676   \n",
      "    Iter      log prob        ||dx||      ||grad||       alpha      alpha0  # evals  Notes \n",
      "     455       3189.33   0.000133126       104.814   1.147e-06       0.001      790  LS failed, Hessian reset \n",
      "     497       3189.42   1.62445e-05       66.1127   2.446e-07       0.001      884  LS failed, Hessian reset \n",
      "     499       3189.42   3.66196e-06       50.4479      0.9355      0.9355      886   \n",
      "    Iter      log prob        ||dx||      ||grad||       alpha      alpha0  # evals  Notes \n",
      "     533       3189.42   5.08023e-07       56.6883    6.64e-09       0.001      969  LS failed, Hessian reset \n",
      "     539       3189.42   1.92892e-07       69.2135      0.1616           1      977   \n",
      "Optimization terminated normally: \n",
      "  Convergence detected: relative gradient magnitude is below tolerance\n"
     ]
    },
    {
     "name": "stderr",
     "output_type": "stream",
     "text": [
      "<timed exec>:10: SettingWithCopyWarning: \n",
      "A value is trying to be set on a copy of a slice from a DataFrame.\n",
      "Try using .loc[row_indexer,col_indexer] = value instead\n",
      "\n",
      "See the caveats in the documentation: https://pandas.pydata.org/pandas-docs/stable/user_guide/indexing.html#returning-a-view-versus-a-copy\n",
      "INFO:fbprophet:Disabling daily seasonality. Run prophet with daily_seasonality=True to override this.\n",
      "/root/.pyenv/versions/3.8.12/envs/business_case_869/lib/python3.8/site-packages/fbprophet/forecaster.py:891: FutureWarning: The frame.append method is deprecated and will be removed from pandas in a future version. Use pandas.concat instead.\n",
      "  components = components.append(new_comp)\n"
     ]
    },
    {
     "name": "stdout",
     "output_type": "stream",
     "text": [
      "PERSONAL CARE\n",
      "Initial log joint probability = -8.92581\n",
      "    Iter      log prob        ||dx||      ||grad||       alpha      alpha0  # evals  Notes \n",
      "      99        4468.3   0.000454091       151.527      0.8809      0.8809      126   \n",
      "    Iter      log prob        ||dx||      ||grad||       alpha      alpha0  # evals  Notes \n",
      "     199       4470.12   8.74857e-05       86.8788           1           1      257   \n",
      "    Iter      log prob        ||dx||      ||grad||       alpha      alpha0  # evals  Notes \n",
      "     299       4470.66   9.37651e-06        67.285          10           1      387   \n",
      "    Iter      log prob        ||dx||      ||grad||       alpha      alpha0  # evals  Notes \n",
      "     314       4470.66   2.45438e-07       66.9598      0.1993           1      407   \n",
      "Optimization terminated normally: \n",
      "  Convergence detected: relative change in objective function was below tolerance\n"
     ]
    },
    {
     "name": "stderr",
     "output_type": "stream",
     "text": [
      "<timed exec>:10: SettingWithCopyWarning: \n",
      "A value is trying to be set on a copy of a slice from a DataFrame.\n",
      "Try using .loc[row_indexer,col_indexer] = value instead\n",
      "\n",
      "See the caveats in the documentation: https://pandas.pydata.org/pandas-docs/stable/user_guide/indexing.html#returning-a-view-versus-a-copy\n",
      "INFO:fbprophet:Disabling daily seasonality. Run prophet with daily_seasonality=True to override this.\n",
      "/root/.pyenv/versions/3.8.12/envs/business_case_869/lib/python3.8/site-packages/fbprophet/forecaster.py:891: FutureWarning: The frame.append method is deprecated and will be removed from pandas in a future version. Use pandas.concat instead.\n",
      "  components = components.append(new_comp)\n"
     ]
    },
    {
     "name": "stdout",
     "output_type": "stream",
     "text": [
      "Initial log joint probability = -24.1006\n",
      "PET SUPPLIES\n",
      "    Iter      log prob        ||dx||      ||grad||       alpha      alpha0  # evals  Notes \n",
      "      99       3113.36   0.000830691       55.7495           1           1      127   \n",
      "    Iter      log prob        ||dx||      ||grad||       alpha      alpha0  # evals  Notes \n",
      "     195       3115.02   0.000104891       64.7454   1.714e-06       0.001      287  LS failed, Hessian reset \n",
      "     199       3115.02   0.000196643       80.9561           1           1      292   \n",
      "    Iter      log prob        ||dx||      ||grad||       alpha      alpha0  # evals  Notes \n",
      "     265       3115.08   3.93338e-06       55.7143   8.525e-08       0.001      419  LS failed, Hessian reset \n",
      "     287       3115.09   4.46374e-06       36.0504   7.803e-08       0.001      497  LS failed, Hessian reset \n",
      "     299       3115.09   2.41896e-07       40.5293      0.3652      0.9402      516   \n",
      "    Iter      log prob        ||dx||      ||grad||       alpha      alpha0  # evals  Notes \n",
      "     399       3115.11   2.47565e-06       47.4379      0.3077      0.3077      659   \n",
      "    Iter      log prob        ||dx||      ||grad||       alpha      alpha0  # evals  Notes \n",
      "     412       3115.11   1.16864e-06       42.6153   2.337e-08       0.001      718  LS failed, Hessian reset \n",
      "     416       3115.11   4.18861e-07       42.0364           1           1      723   \n",
      "Optimization terminated normally: \n",
      "  Convergence detected: relative gradient magnitude is below tolerance\n"
     ]
    },
    {
     "name": "stderr",
     "output_type": "stream",
     "text": [
      "<timed exec>:10: SettingWithCopyWarning: \n",
      "A value is trying to be set on a copy of a slice from a DataFrame.\n",
      "Try using .loc[row_indexer,col_indexer] = value instead\n",
      "\n",
      "See the caveats in the documentation: https://pandas.pydata.org/pandas-docs/stable/user_guide/indexing.html#returning-a-view-versus-a-copy\n",
      "INFO:fbprophet:Disabling daily seasonality. Run prophet with daily_seasonality=True to override this.\n",
      "/root/.pyenv/versions/3.8.12/envs/business_case_869/lib/python3.8/site-packages/fbprophet/forecaster.py:891: FutureWarning: The frame.append method is deprecated and will be removed from pandas in a future version. Use pandas.concat instead.\n",
      "  components = components.append(new_comp)\n"
     ]
    },
    {
     "name": "stdout",
     "output_type": "stream",
     "text": [
      "Initial log joint probability = -30.8275\n",
      "PLAYERS AND ELECTRONICS\n",
      "    Iter      log prob        ||dx||      ||grad||       alpha      alpha0  # evals  Notes \n",
      "      99       2227.32     0.0815177       130.569           1           1      121   \n",
      "    Iter      log prob        ||dx||      ||grad||       alpha      alpha0  # evals  Notes \n",
      "     133       2231.32    0.00883458       113.746   9.035e-05       0.001      205  LS failed, Hessian reset \n",
      "     199       2232.52   2.52786e-06       71.6666      0.1708           1      294   \n",
      "    Iter      log prob        ||dx||      ||grad||       alpha      alpha0  # evals  Notes \n",
      "     218       2232.54   0.000227812       82.3953   2.517e-06       0.001      361  LS failed, Hessian reset \n",
      "     297       2232.65   0.000627416       92.7309   5.459e-06       0.001      492  LS failed, Hessian reset \n",
      "     299       2232.67   0.000320728       77.6978           1           1      494   \n",
      "    Iter      log prob        ||dx||      ||grad||       alpha      alpha0  # evals  Notes \n",
      "     332       2232.69   9.73808e-06        85.753   1.463e-07       0.001      584  LS failed, Hessian reset \n",
      "     354       2232.69   6.10529e-07       65.5484   6.717e-09       0.001      655  LS failed, Hessian reset \n",
      "     357       2232.69   1.02584e-07       69.8289      0.3946      0.3946      661   \n",
      "Optimization terminated normally: \n",
      "  Convergence detected: relative gradient magnitude is below tolerance\n"
     ]
    },
    {
     "name": "stderr",
     "output_type": "stream",
     "text": [
      "<timed exec>:10: SettingWithCopyWarning: \n",
      "A value is trying to be set on a copy of a slice from a DataFrame.\n",
      "Try using .loc[row_indexer,col_indexer] = value instead\n",
      "\n",
      "See the caveats in the documentation: https://pandas.pydata.org/pandas-docs/stable/user_guide/indexing.html#returning-a-view-versus-a-copy\n",
      "INFO:fbprophet:Disabling daily seasonality. Run prophet with daily_seasonality=True to override this.\n",
      "/root/.pyenv/versions/3.8.12/envs/business_case_869/lib/python3.8/site-packages/fbprophet/forecaster.py:891: FutureWarning: The frame.append method is deprecated and will be removed from pandas in a future version. Use pandas.concat instead.\n",
      "  components = components.append(new_comp)\n"
     ]
    },
    {
     "name": "stdout",
     "output_type": "stream",
     "text": [
      "POULTRY\n",
      "Initial log joint probability = -21.6838\n",
      "    Iter      log prob        ||dx||      ||grad||       alpha      alpha0  # evals  Notes \n",
      "      99       2740.62    0.00110941       98.0011           1           1      126   \n",
      "    Iter      log prob        ||dx||      ||grad||       alpha      alpha0  # evals  Notes \n",
      "     110       2740.84   0.000220981       87.9867   3.545e-06       0.001      172  LS failed, Hessian reset \n",
      "     199       2742.44    0.00352493       61.5551       0.597       0.597      287   \n",
      "    Iter      log prob        ||dx||      ||grad||       alpha      alpha0  # evals  Notes \n",
      "     209       2742.69    0.00100953       208.767   1.481e-05       0.001      348  LS failed, Hessian reset \n",
      "     299       2743.18    0.00141682       70.6945           1           1      457   \n",
      "    Iter      log prob        ||dx||      ||grad||       alpha      alpha0  # evals  Notes \n",
      "     329       2743.46   0.000239486       74.8517   3.278e-06       0.001      553  LS failed, Hessian reset \n",
      "     382       2743.98    0.00011462        60.988   2.427e-06       0.001      668  LS failed, Hessian reset \n",
      "     399       2743.99   0.000251406       74.2664           1           1      688   \n",
      "    Iter      log prob        ||dx||      ||grad||       alpha      alpha0  # evals  Notes \n",
      "     499       2744.16   0.000799535       60.5434      0.2223           1      807   \n",
      "    Iter      log prob        ||dx||      ||grad||       alpha      alpha0  # evals  Notes \n",
      "     571       2745.72   0.000223017       72.8044   1.594e-06       0.001      952  LS failed, Hessian reset \n",
      "     599          2746   4.37254e-05       60.6863      0.3765           1      987   \n",
      "    Iter      log prob        ||dx||      ||grad||       alpha      alpha0  # evals  Notes \n",
      "     625       2746.06   5.95155e-05       73.6513   7.976e-07       0.001     1058  LS failed, Hessian reset \n",
      "     679       2746.09   6.15366e-05       81.4048   9.773e-07       0.001     1173  LS failed, Hessian reset \n",
      "     699        2746.1    1.3258e-06        47.318      0.3921      0.3921     1197   \n",
      "    Iter      log prob        ||dx||      ||grad||       alpha      alpha0  # evals  Notes \n",
      "     711        2746.1   4.84933e-06       56.7724   7.443e-08       0.001     1249  LS failed, Hessian reset \n",
      "     726        2746.1   1.71639e-07       56.8731      0.5776      0.5776     1270   \n",
      "Optimization terminated normally: \n",
      "  Convergence detected: relative gradient magnitude is below tolerance\n"
     ]
    },
    {
     "name": "stderr",
     "output_type": "stream",
     "text": [
      "<timed exec>:10: SettingWithCopyWarning: \n",
      "A value is trying to be set on a copy of a slice from a DataFrame.\n",
      "Try using .loc[row_indexer,col_indexer] = value instead\n",
      "\n",
      "See the caveats in the documentation: https://pandas.pydata.org/pandas-docs/stable/user_guide/indexing.html#returning-a-view-versus-a-copy\n",
      "INFO:fbprophet:Disabling daily seasonality. Run prophet with daily_seasonality=True to override this.\n",
      "/root/.pyenv/versions/3.8.12/envs/business_case_869/lib/python3.8/site-packages/fbprophet/forecaster.py:891: FutureWarning: The frame.append method is deprecated and will be removed from pandas in a future version. Use pandas.concat instead.\n",
      "  components = components.append(new_comp)\n"
     ]
    },
    {
     "name": "stdout",
     "output_type": "stream",
     "text": [
      "Initial log joint probability = -34.8352\n",
      "PREPARED FOODS\n",
      "    Iter      log prob        ||dx||      ||grad||       alpha      alpha0  # evals  Notes \n",
      "      99       3237.92     0.0676772       570.623           1           1      123   \n",
      "    Iter      log prob        ||dx||      ||grad||       alpha      alpha0  # evals  Notes \n",
      "     199       3248.82    0.00183601       68.4898           1           1      251   \n",
      "    Iter      log prob        ||dx||      ||grad||       alpha      alpha0  # evals  Notes \n",
      "     299       3253.59    0.00186253       120.348     0.07055           1      379   \n",
      "    Iter      log prob        ||dx||      ||grad||       alpha      alpha0  # evals  Notes \n",
      "     300        3253.6   0.000178961       129.167   1.487e-06       0.001      422  LS failed, Hessian reset \n",
      "     340       3253.68   5.89704e-06        76.138   7.425e-08       0.001      514  LS failed, Hessian reset \n",
      "     358       3253.68   2.10537e-07        75.032      0.4096      0.8804      538   \n",
      "Optimization terminated normally: \n",
      "  Convergence detected: relative gradient magnitude is below tolerance\n"
     ]
    },
    {
     "name": "stderr",
     "output_type": "stream",
     "text": [
      "<timed exec>:10: SettingWithCopyWarning: \n",
      "A value is trying to be set on a copy of a slice from a DataFrame.\n",
      "Try using .loc[row_indexer,col_indexer] = value instead\n",
      "\n",
      "See the caveats in the documentation: https://pandas.pydata.org/pandas-docs/stable/user_guide/indexing.html#returning-a-view-versus-a-copy\n",
      "INFO:fbprophet:Disabling daily seasonality. Run prophet with daily_seasonality=True to override this.\n",
      "/root/.pyenv/versions/3.8.12/envs/business_case_869/lib/python3.8/site-packages/fbprophet/forecaster.py:891: FutureWarning: The frame.append method is deprecated and will be removed from pandas in a future version. Use pandas.concat instead.\n",
      "  components = components.append(new_comp)\n"
     ]
    },
    {
     "name": "stdout",
     "output_type": "stream",
     "text": [
      "PRODUCE\n",
      "Initial log joint probability = -81.2196\n",
      "    Iter      log prob        ||dx||      ||grad||       alpha      alpha0  # evals  Notes \n",
      "      99       3240.32     0.0132135       330.781           1           1      140   \n",
      "    Iter      log prob        ||dx||      ||grad||       alpha      alpha0  # evals  Notes \n",
      "     199       3246.34     0.0035055       187.862           1           1      269   \n",
      "    Iter      log prob        ||dx||      ||grad||       alpha      alpha0  # evals  Notes \n",
      "     225       3247.51   0.000209631       124.803   1.282e-06       0.001      342  LS failed, Hessian reset \n",
      "     299        3247.8   0.000148913       49.4278      0.2396           1      443   \n",
      "    Iter      log prob        ||dx||      ||grad||       alpha      alpha0  # evals  Notes \n",
      "     301        3247.8   0.000215059       79.1263   3.575e-06       0.001      495  LS failed, Hessian reset \n",
      "     335       3247.82   1.22121e-07       72.4907     0.06228           1      542   \n",
      "Optimization terminated normally: \n",
      "  Convergence detected: relative gradient magnitude is below tolerance\n"
     ]
    },
    {
     "name": "stderr",
     "output_type": "stream",
     "text": [
      "<timed exec>:10: SettingWithCopyWarning: \n",
      "A value is trying to be set on a copy of a slice from a DataFrame.\n",
      "Try using .loc[row_indexer,col_indexer] = value instead\n",
      "\n",
      "See the caveats in the documentation: https://pandas.pydata.org/pandas-docs/stable/user_guide/indexing.html#returning-a-view-versus-a-copy\n",
      "INFO:fbprophet:Disabling daily seasonality. Run prophet with daily_seasonality=True to override this.\n",
      "/root/.pyenv/versions/3.8.12/envs/business_case_869/lib/python3.8/site-packages/fbprophet/forecaster.py:891: FutureWarning: The frame.append method is deprecated and will be removed from pandas in a future version. Use pandas.concat instead.\n",
      "  components = components.append(new_comp)\n"
     ]
    },
    {
     "name": "stdout",
     "output_type": "stream",
     "text": [
      "SCHOOL AND OFFICE SUPPLIES\n",
      "Initial log joint probability = -49.6237\n",
      "    Iter      log prob        ||dx||      ||grad||       alpha      alpha0  # evals  Notes \n",
      "      99        1738.6    0.00146892        134.44   1.063e-05       0.001      153  LS failed, Hessian reset \n",
      "    Iter      log prob        ||dx||      ||grad||       alpha      alpha0  # evals  Notes \n",
      "     142       1739.43   0.000339349       79.2334   4.558e-06       0.001      244  LS failed, Hessian reset \n",
      "     199       1739.53   0.000246179       69.5177   3.134e-06       0.001      349  LS failed, Hessian reset \n",
      "    Iter      log prob        ||dx||      ||grad||       alpha      alpha0  # evals  Notes \n",
      "     299       1739.59   8.58595e-05       67.3735      0.6534      0.6534      474   \n",
      "    Iter      log prob        ||dx||      ||grad||       alpha      alpha0  # evals  Notes \n",
      "     357       1739.61   1.10826e-05       94.4587   1.492e-07       0.001      603  LS failed, Hessian reset \n",
      "     394       1739.61   1.15168e-07       74.8291           1           1      661   \n",
      "Optimization terminated normally: \n",
      "  Convergence detected: relative gradient magnitude is below tolerance\n"
     ]
    },
    {
     "name": "stderr",
     "output_type": "stream",
     "text": [
      "<timed exec>:10: SettingWithCopyWarning: \n",
      "A value is trying to be set on a copy of a slice from a DataFrame.\n",
      "Try using .loc[row_indexer,col_indexer] = value instead\n",
      "\n",
      "See the caveats in the documentation: https://pandas.pydata.org/pandas-docs/stable/user_guide/indexing.html#returning-a-view-versus-a-copy\n",
      "INFO:fbprophet:Disabling daily seasonality. Run prophet with daily_seasonality=True to override this.\n",
      "/root/.pyenv/versions/3.8.12/envs/business_case_869/lib/python3.8/site-packages/fbprophet/forecaster.py:891: FutureWarning: The frame.append method is deprecated and will be removed from pandas in a future version. Use pandas.concat instead.\n",
      "  components = components.append(new_comp)\n"
     ]
    },
    {
     "name": "stdout",
     "output_type": "stream",
     "text": [
      "SEAFOOD\n",
      "Initial log joint probability = -8.03001\n",
      "    Iter      log prob        ||dx||      ||grad||       alpha      alpha0  # evals  Notes \n",
      "      99       3613.97     0.0037231       282.571           1           1      124   \n",
      "    Iter      log prob        ||dx||      ||grad||       alpha      alpha0  # evals  Notes \n",
      "     199       3618.01     0.0007641       115.508           1           1      261   \n",
      "    Iter      log prob        ||dx||      ||grad||       alpha      alpha0  # evals  Notes \n",
      "     212       3618.16   3.74283e-05       134.052   2.694e-07       0.001      314  LS failed, Hessian reset \n",
      "     276       3618.82   1.86812e-05       63.3673   1.788e-07       0.001      438  LS failed, Hessian reset \n",
      "     299       3618.92   0.000241366       54.5253           1           1      469   \n",
      "    Iter      log prob        ||dx||      ||grad||       alpha      alpha0  # evals  Notes \n",
      "     334       3619.45   3.66775e-05       104.457   1.691e-07       0.001      559  LS failed, Hessian reset \n",
      "     399       3620.45    0.00274633       121.872           1           1      640   \n",
      "    Iter      log prob        ||dx||      ||grad||       alpha      alpha0  # evals  Notes \n",
      "     499       3622.74    0.00185072       108.772      0.2028           1      774   \n",
      "    Iter      log prob        ||dx||      ||grad||       alpha      alpha0  # evals  Notes \n",
      "     599       3623.34     0.0141722       357.836           1           1      897   \n",
      "    Iter      log prob        ||dx||      ||grad||       alpha      alpha0  # evals  Notes \n",
      "     601       3623.41     8.003e-05       258.653   1.967e-07       0.001      936  LS failed, Hessian reset \n",
      "     699        3624.1   0.000118942       101.394      0.3683           1     1064   \n",
      "    Iter      log prob        ||dx||      ||grad||       alpha      alpha0  # evals  Notes \n",
      "     728       3624.12   4.19483e-05       63.3495   8.101e-07       0.001     1137  LS failed, Hessian reset \n",
      "     775       3624.14   1.05138e-05       63.1497   1.392e-07       0.001     1233  LS failed, Hessian reset \n",
      "     793       3624.14   3.19289e-06       81.4949   4.831e-08       0.001     1300  LS failed, Hessian reset \n",
      "     799       3624.14   1.74111e-06        69.606      0.2902           1     1309   \n",
      "    Iter      log prob        ||dx||      ||grad||       alpha      alpha0  # evals  Notes \n",
      "     806       3624.14    1.6874e-07       50.3322      0.3103           1     1319   \n",
      "Optimization terminated normally: \n",
      "  Convergence detected: relative gradient magnitude is below tolerance\n"
     ]
    },
    {
     "name": "stderr",
     "output_type": "stream",
     "text": [
      "<timed exec>:10: SettingWithCopyWarning: \n",
      "A value is trying to be set on a copy of a slice from a DataFrame.\n",
      "Try using .loc[row_indexer,col_indexer] = value instead\n",
      "\n",
      "See the caveats in the documentation: https://pandas.pydata.org/pandas-docs/stable/user_guide/indexing.html#returning-a-view-versus-a-copy\n",
      "INFO:fbprophet:Disabling daily seasonality. Run prophet with daily_seasonality=True to override this.\n",
      "/root/.pyenv/versions/3.8.12/envs/business_case_869/lib/python3.8/site-packages/fbprophet/forecaster.py:891: FutureWarning: The frame.append method is deprecated and will be removed from pandas in a future version. Use pandas.concat instead.\n",
      "  components = components.append(new_comp)\n"
     ]
    },
    {
     "name": "stdout",
     "output_type": "stream",
     "text": [
      "Initial log joint probability = -93.0207\n",
      "CPU times: user 25.1 s, sys: 7.31 s, total: 32.4 s\n",
      "Wall time: 32 s\n",
      "    Iter      log prob        ||dx||      ||grad||       alpha      alpha0  # evals  Notes \n",
      "      99       2961.34     0.0172317       280.138           1           1      119   \n",
      "    Iter      log prob        ||dx||      ||grad||       alpha      alpha0  # evals  Notes \n",
      "     199       2970.83   0.000277203       69.0402           1           1      260   \n",
      "    Iter      log prob        ||dx||      ||grad||       alpha      alpha0  # evals  Notes \n",
      "     256       2972.72   0.000964323       272.366   6.708e-06       0.001      382  LS failed, Hessian reset \n",
      "     298       2973.84    0.00036447       143.616   3.544e-06       0.001      468  LS failed, Hessian reset \n",
      "     299       2973.85   0.000169408       101.362           1           1      469   \n",
      "    Iter      log prob        ||dx||      ||grad||       alpha      alpha0  # evals  Notes \n",
      "     357        2974.1    0.00012949       77.8279   1.684e-06       0.001      577  LS failed, Hessian reset \n",
      "     399       2974.11   7.45728e-05       76.0426           1           1      627   \n",
      "    Iter      log prob        ||dx||      ||grad||       alpha      alpha0  # evals  Notes \n",
      "     499       2974.57   2.48866e-05       70.6129       4.279      0.4279      751   \n",
      "    Iter      log prob        ||dx||      ||grad||       alpha      alpha0  # evals  Notes \n",
      "     526       2974.57   2.07883e-06       71.6717   3.024e-08       0.001      834  LS failed, Hessian reset \n",
      "     538       2974.57   1.26464e-07       73.2347      0.1671      0.6861      854   \n",
      "Optimization terminated normally: \n",
      "  Convergence detected: relative gradient magnitude is below tolerance\n"
     ]
    }
   ],
   "source": [
    "%%time\n",
    "def family(sales_and_stores):\n",
    "\n",
    "    forecasts = {}\n",
    "    for category in sales_and_stores['family'].unique():\n",
    "        print(category)\n",
    "        # creating a new variable\n",
    "        tmp_df_prep = sales_and_stores[sales_and_stores['family']== category]\n",
    "        \n",
    "        # Transforming the column in date time\n",
    "        tmp_df_prep['ds'] = pd.to_datetime(tmp_df_prep['ds'])\n",
    " \n",
    "        # creating a temporary df to the the training and prediction\n",
    "        tmp_df = tmp_df_prep.groupby(by='ds').sum().drop(columns=[\"store_nbr\"]).reset_index()\n",
    "        \n",
    "        \n",
    "        # defining the train/test \n",
    "        train = tmp_df.iloc[:1457]\n",
    "        test = tmp_df.iloc[1458:]\n",
    "        \n",
    "        \n",
    "        # Instantiating the FB Prophet model\n",
    "        model = Prophet(seasonality_mode='multiplicative')\n",
    "\n",
    "        # fitting the model on the train test\n",
    "        model.fit(train)\n",
    "        \n",
    "        forecasts[category]= model\n",
    "    \n",
    "    return forecasts\n",
    "\n",
    "model_family = family(sales_and_stores)\n"
   ]
  },
  {
   "cell_type": "markdown",
   "id": "594dd1fa",
   "metadata": {},
   "source": [
    "## Checking the model_family dictionary"
   ]
  },
  {
   "cell_type": "code",
   "execution_count": 18,
   "id": "d6ceb169",
   "metadata": {},
   "outputs": [
    {
     "data": {
      "text/plain": [
       "{'AUTOMOTIVE': <fbprophet.forecaster.Prophet at 0x7f677b3d3b20>,\n",
       " 'BABY CARE': <fbprophet.forecaster.Prophet at 0x7f6666ce3c10>,\n",
       " 'BEAUTY': <fbprophet.forecaster.Prophet at 0x7f6664008130>,\n",
       " 'BEVERAGES': <fbprophet.forecaster.Prophet at 0x7f666400b370>,\n",
       " 'BOOKS': <fbprophet.forecaster.Prophet at 0x7f666400b2e0>,\n",
       " 'BREAD/BAKERY': <fbprophet.forecaster.Prophet at 0x7f6666ce3880>,\n",
       " 'CELEBRATION': <fbprophet.forecaster.Prophet at 0x7f6664015d30>,\n",
       " 'CLEANING': <fbprophet.forecaster.Prophet at 0x7f6666ce3a30>,\n",
       " 'DAIRY': <fbprophet.forecaster.Prophet at 0x7f666400ddc0>,\n",
       " 'DELI': <fbprophet.forecaster.Prophet at 0x7f6664015970>,\n",
       " 'EGGS': <fbprophet.forecaster.Prophet at 0x7f666401eb50>,\n",
       " 'FROZEN FOODS': <fbprophet.forecaster.Prophet at 0x7f66640416d0>,\n",
       " 'GROCERY I': <fbprophet.forecaster.Prophet at 0x7f666402a460>,\n",
       " 'GROCERY II': <fbprophet.forecaster.Prophet at 0x7f666402a6a0>,\n",
       " 'HARDWARE': <fbprophet.forecaster.Prophet at 0x7f666402a400>,\n",
       " 'HOME AND KITCHEN I': <fbprophet.forecaster.Prophet at 0x7f664840db50>,\n",
       " 'HOME AND KITCHEN II': <fbprophet.forecaster.Prophet at 0x7f6648410cd0>,\n",
       " 'HOME APPLIANCES': <fbprophet.forecaster.Prophet at 0x7f6648420b20>,\n",
       " 'HOME CARE': <fbprophet.forecaster.Prophet at 0x7f664840dc70>,\n",
       " 'LADIESWEAR': <fbprophet.forecaster.Prophet at 0x7f66484108e0>,\n",
       " 'LAWN AND GARDEN': <fbprophet.forecaster.Prophet at 0x7f66715a0640>,\n",
       " 'LINGERIE': <fbprophet.forecaster.Prophet at 0x7f6671538be0>,\n",
       " 'LIQUOR,WINE,BEER': <fbprophet.forecaster.Prophet at 0x7f66efd7c8e0>,\n",
       " 'MAGAZINES': <fbprophet.forecaster.Prophet at 0x7f6666d1ba30>,\n",
       " 'MEATS': <fbprophet.forecaster.Prophet at 0x7f66715b0a90>,\n",
       " 'PERSONAL CARE': <fbprophet.forecaster.Prophet at 0x7f664842a970>,\n",
       " 'PET SUPPLIES': <fbprophet.forecaster.Prophet at 0x7f6648433a60>,\n",
       " 'PLAYERS AND ELECTRONICS': <fbprophet.forecaster.Prophet at 0x7f6648433a90>,\n",
       " 'POULTRY': <fbprophet.forecaster.Prophet at 0x7f6666cb5d00>,\n",
       " 'PREPARED FOODS': <fbprophet.forecaster.Prophet at 0x7f6666cb79a0>,\n",
       " 'PRODUCE': <fbprophet.forecaster.Prophet at 0x7f6666d1cf70>,\n",
       " 'SCHOOL AND OFFICE SUPPLIES': <fbprophet.forecaster.Prophet at 0x7f6666d1c700>,\n",
       " 'SEAFOOD': <fbprophet.forecaster.Prophet at 0x7f66ec1dd0d0>}"
      ]
     },
     "execution_count": 18,
     "metadata": {},
     "output_type": "execute_result"
    }
   ],
   "source": [
    "model_family"
   ]
  },
  {
   "cell_type": "code",
   "execution_count": 19,
   "id": "aba6b623",
   "metadata": {},
   "outputs": [
    {
     "name": "stderr",
     "output_type": "stream",
     "text": [
      "/root/.pyenv/versions/3.8.12/envs/business_case_869/lib/python3.8/site-packages/fbprophet/forecaster.py:891: FutureWarning: The frame.append method is deprecated and will be removed from pandas in a future version. Use pandas.concat instead.\n",
      "  components = components.append(new_comp)\n",
      "/root/.pyenv/versions/3.8.12/envs/business_case_869/lib/python3.8/site-packages/fbprophet/forecaster.py:891: FutureWarning: The frame.append method is deprecated and will be removed from pandas in a future version. Use pandas.concat instead.\n",
      "  components = components.append(new_comp)\n"
     ]
    },
    {
     "data": {
      "text/html": [
       "<div>\n",
       "<style scoped>\n",
       "    .dataframe tbody tr th:only-of-type {\n",
       "        vertical-align: middle;\n",
       "    }\n",
       "\n",
       "    .dataframe tbody tr th {\n",
       "        vertical-align: top;\n",
       "    }\n",
       "\n",
       "    .dataframe thead th {\n",
       "        text-align: right;\n",
       "    }\n",
       "</style>\n",
       "<table border=\"1\" class=\"dataframe\">\n",
       "  <thead>\n",
       "    <tr style=\"text-align: right;\">\n",
       "      <th></th>\n",
       "      <th>ds</th>\n",
       "      <th>trend</th>\n",
       "      <th>yhat_lower</th>\n",
       "      <th>yhat_upper</th>\n",
       "      <th>trend_lower</th>\n",
       "      <th>trend_upper</th>\n",
       "      <th>multiplicative_terms</th>\n",
       "      <th>multiplicative_terms_lower</th>\n",
       "      <th>multiplicative_terms_upper</th>\n",
       "      <th>weekly</th>\n",
       "      <th>weekly_lower</th>\n",
       "      <th>weekly_upper</th>\n",
       "      <th>yearly</th>\n",
       "      <th>yearly_lower</th>\n",
       "      <th>yearly_upper</th>\n",
       "      <th>additive_terms</th>\n",
       "      <th>additive_terms_lower</th>\n",
       "      <th>additive_terms_upper</th>\n",
       "      <th>yhat</th>\n",
       "    </tr>\n",
       "  </thead>\n",
       "  <tbody>\n",
       "    <tr>\n",
       "      <th>0</th>\n",
       "      <td>2013-01-01</td>\n",
       "      <td>145143.592144</td>\n",
       "      <td>109935.067519</td>\n",
       "      <td>189610.126539</td>\n",
       "      <td>145143.592144</td>\n",
       "      <td>145143.592144</td>\n",
       "      <td>0.034553</td>\n",
       "      <td>0.034553</td>\n",
       "      <td>0.034553</td>\n",
       "      <td>-0.095839</td>\n",
       "      <td>-0.095839</td>\n",
       "      <td>-0.095839</td>\n",
       "      <td>0.130393</td>\n",
       "      <td>0.130393</td>\n",
       "      <td>0.130393</td>\n",
       "      <td>0.0</td>\n",
       "      <td>0.0</td>\n",
       "      <td>0.0</td>\n",
       "      <td>150158.804466</td>\n",
       "    </tr>\n",
       "    <tr>\n",
       "      <th>1</th>\n",
       "      <td>2013-01-02</td>\n",
       "      <td>145231.174000</td>\n",
       "      <td>107090.261324</td>\n",
       "      <td>185887.055950</td>\n",
       "      <td>145231.174000</td>\n",
       "      <td>145231.174000</td>\n",
       "      <td>-0.000298</td>\n",
       "      <td>-0.000298</td>\n",
       "      <td>-0.000298</td>\n",
       "      <td>-0.100559</td>\n",
       "      <td>-0.100559</td>\n",
       "      <td>-0.100559</td>\n",
       "      <td>0.100260</td>\n",
       "      <td>0.100260</td>\n",
       "      <td>0.100260</td>\n",
       "      <td>0.0</td>\n",
       "      <td>0.0</td>\n",
       "      <td>0.0</td>\n",
       "      <td>145187.870257</td>\n",
       "    </tr>\n",
       "    <tr>\n",
       "      <th>2</th>\n",
       "      <td>2013-01-03</td>\n",
       "      <td>145318.755857</td>\n",
       "      <td>89692.026275</td>\n",
       "      <td>167666.143461</td>\n",
       "      <td>145318.755857</td>\n",
       "      <td>145318.755857</td>\n",
       "      <td>-0.122769</td>\n",
       "      <td>-0.122769</td>\n",
       "      <td>-0.122769</td>\n",
       "      <td>-0.193485</td>\n",
       "      <td>-0.193485</td>\n",
       "      <td>-0.193485</td>\n",
       "      <td>0.070716</td>\n",
       "      <td>0.070716</td>\n",
       "      <td>0.070716</td>\n",
       "      <td>0.0</td>\n",
       "      <td>0.0</td>\n",
       "      <td>0.0</td>\n",
       "      <td>127478.182843</td>\n",
       "    </tr>\n",
       "    <tr>\n",
       "      <th>3</th>\n",
       "      <td>2013-01-04</td>\n",
       "      <td>145406.337714</td>\n",
       "      <td>96208.488596</td>\n",
       "      <td>173793.403615</td>\n",
       "      <td>145406.337714</td>\n",
       "      <td>145406.337714</td>\n",
       "      <td>-0.079849</td>\n",
       "      <td>-0.079849</td>\n",
       "      <td>-0.079849</td>\n",
       "      <td>-0.122029</td>\n",
       "      <td>-0.122029</td>\n",
       "      <td>-0.122029</td>\n",
       "      <td>0.042180</td>\n",
       "      <td>0.042180</td>\n",
       "      <td>0.042180</td>\n",
       "      <td>0.0</td>\n",
       "      <td>0.0</td>\n",
       "      <td>0.0</td>\n",
       "      <td>133795.770348</td>\n",
       "    </tr>\n",
       "    <tr>\n",
       "      <th>4</th>\n",
       "      <td>2013-01-05</td>\n",
       "      <td>145493.919571</td>\n",
       "      <td>139930.072134</td>\n",
       "      <td>217037.759210</td>\n",
       "      <td>145493.919571</td>\n",
       "      <td>145493.919571</td>\n",
       "      <td>0.219226</td>\n",
       "      <td>0.219226</td>\n",
       "      <td>0.219226</td>\n",
       "      <td>0.204182</td>\n",
       "      <td>0.204182</td>\n",
       "      <td>0.204182</td>\n",
       "      <td>0.015045</td>\n",
       "      <td>0.015045</td>\n",
       "      <td>0.015045</td>\n",
       "      <td>0.0</td>\n",
       "      <td>0.0</td>\n",
       "      <td>0.0</td>\n",
       "      <td>177390.039566</td>\n",
       "    </tr>\n",
       "  </tbody>\n",
       "</table>\n",
       "</div>"
      ],
      "text/plain": [
       "          ds          trend     yhat_lower     yhat_upper    trend_lower  \\\n",
       "0 2013-01-01  145143.592144  109935.067519  189610.126539  145143.592144   \n",
       "1 2013-01-02  145231.174000  107090.261324  185887.055950  145231.174000   \n",
       "2 2013-01-03  145318.755857   89692.026275  167666.143461  145318.755857   \n",
       "3 2013-01-04  145406.337714   96208.488596  173793.403615  145406.337714   \n",
       "4 2013-01-05  145493.919571  139930.072134  217037.759210  145493.919571   \n",
       "\n",
       "     trend_upper  multiplicative_terms  multiplicative_terms_lower  \\\n",
       "0  145143.592144              0.034553                    0.034553   \n",
       "1  145231.174000             -0.000298                   -0.000298   \n",
       "2  145318.755857             -0.122769                   -0.122769   \n",
       "3  145406.337714             -0.079849                   -0.079849   \n",
       "4  145493.919571              0.219226                    0.219226   \n",
       "\n",
       "   multiplicative_terms_upper    weekly  weekly_lower  weekly_upper    yearly  \\\n",
       "0                    0.034553 -0.095839     -0.095839     -0.095839  0.130393   \n",
       "1                   -0.000298 -0.100559     -0.100559     -0.100559  0.100260   \n",
       "2                   -0.122769 -0.193485     -0.193485     -0.193485  0.070716   \n",
       "3                   -0.079849 -0.122029     -0.122029     -0.122029  0.042180   \n",
       "4                    0.219226  0.204182      0.204182      0.204182  0.015045   \n",
       "\n",
       "   yearly_lower  yearly_upper  additive_terms  additive_terms_lower  \\\n",
       "0      0.130393      0.130393             0.0                   0.0   \n",
       "1      0.100260      0.100260             0.0                   0.0   \n",
       "2      0.070716      0.070716             0.0                   0.0   \n",
       "3      0.042180      0.042180             0.0                   0.0   \n",
       "4      0.015045      0.015045             0.0                   0.0   \n",
       "\n",
       "   additive_terms_upper           yhat  \n",
       "0                   0.0  150158.804466  \n",
       "1                   0.0  145187.870257  \n",
       "2                   0.0  127478.182843  \n",
       "3                   0.0  133795.770348  \n",
       "4                   0.0  177390.039566  "
      ]
     },
     "execution_count": 19,
     "metadata": {},
     "output_type": "execute_result"
    }
   ],
   "source": [
    "future = model_family['GROCERY I'].make_future_dataframe(periods=12, freq='MS')  #period of 12 months\n",
    "forecast_future = model_family['GROCERY I'].predict(future)\n",
    "forecast_future.head()\n"
   ]
  },
  {
   "cell_type": "markdown",
   "id": "0c8bb045",
   "metadata": {},
   "source": [
    "## Making prediction with a specific family"
   ]
  },
  {
   "cell_type": "code",
   "execution_count": 20,
   "id": "aef2b0e9",
   "metadata": {},
   "outputs": [
    {
     "data": {
      "image/png": "[encoded data removed]",
      "text/plain": [
       "<Figure size 720x432 with 1 Axes>"
      ]
     },
     "metadata": {},
     "output_type": "display_data"
    }
   ],
   "source": [
    "model_family['GROCERY I'].plot(forecast_future);"
   ]
  },
  {
   "cell_type": "code",
   "execution_count": 21,
   "id": "a692325e",
   "metadata": {
    "scrolled": true
   },
   "outputs": [
    {
     "name": "stderr",
     "output_type": "stream",
     "text": [
      "/root/.pyenv/versions/3.8.12/envs/business_case_869/lib/python3.8/site-packages/fbprophet/forecaster.py:891: FutureWarning: The frame.append method is deprecated and will be removed from pandas in a future version. Use pandas.concat instead.\n",
      "  components = components.append(new_comp)\n",
      "/root/.pyenv/versions/3.8.12/envs/business_case_869/lib/python3.8/site-packages/fbprophet/plot.py:422: UserWarning: FixedFormatter should only be used together with FixedLocator\n",
      "  ax.set_yticklabels(yticklabels)\n",
      "/root/.pyenv/versions/3.8.12/envs/business_case_869/lib/python3.8/site-packages/fbprophet/forecaster.py:891: FutureWarning: The frame.append method is deprecated and will be removed from pandas in a future version. Use pandas.concat instead.\n",
      "  components = components.append(new_comp)\n",
      "/root/.pyenv/versions/3.8.12/envs/business_case_869/lib/python3.8/site-packages/fbprophet/plot.py:422: UserWarning: FixedFormatter should only be used together with FixedLocator\n",
      "  ax.set_yticklabels(yticklabels)\n"
     ]
    },
    {
     "data": {
      "image/png": "[encoded data removed]",
      "text/plain": [
       "<Figure size 648x648 with 3 Axes>"
      ]
     },
     "execution_count": 21,
     "metadata": {},
     "output_type": "execute_result"
    },
    {
     "data": {
      "image/png": "[encoded data removed]",
      "text/plain": [
       "<Figure size 648x648 with 3 Axes>"
      ]
     },
     "metadata": {},
     "output_type": "display_data"
    }
   ],
   "source": [
    "model_family['GROCERY I'].plot_components(fcst=forecast_future)"
   ]
  },
  {
   "cell_type": "markdown",
   "id": "3a817f54",
   "metadata": {},
   "source": [
    "# Creating the model for Store"
   ]
  },
  {
   "cell_type": "markdown",
   "id": "71cca931",
   "metadata": {},
   "source": [
    "## Creating the model"
   ]
  },
  {
   "cell_type": "code",
   "execution_count": 22,
   "id": "6bf48101",
   "metadata": {},
   "outputs": [
    {
     "data": {
      "text/html": [
       "<div>\n",
       "<style scoped>\n",
       "    .dataframe tbody tr th:only-of-type {\n",
       "        vertical-align: middle;\n",
       "    }\n",
       "\n",
       "    .dataframe tbody tr th {\n",
       "        vertical-align: top;\n",
       "    }\n",
       "\n",
       "    .dataframe thead th {\n",
       "        text-align: right;\n",
       "    }\n",
       "</style>\n",
       "<table border=\"1\" class=\"dataframe\">\n",
       "  <thead>\n",
       "    <tr style=\"text-align: right;\">\n",
       "      <th></th>\n",
       "      <th>ds</th>\n",
       "      <th>store_nbr</th>\n",
       "      <th>family</th>\n",
       "      <th>y</th>\n",
       "    </tr>\n",
       "  </thead>\n",
       "  <tbody>\n",
       "    <tr>\n",
       "      <th>0</th>\n",
       "      <td>2013-01-01</td>\n",
       "      <td>1</td>\n",
       "      <td>AUTOMOTIVE</td>\n",
       "      <td>0.000</td>\n",
       "    </tr>\n",
       "    <tr>\n",
       "      <th>1</th>\n",
       "      <td>2013-01-01</td>\n",
       "      <td>1</td>\n",
       "      <td>BABY CARE</td>\n",
       "      <td>0.000</td>\n",
       "    </tr>\n",
       "    <tr>\n",
       "      <th>2</th>\n",
       "      <td>2013-01-01</td>\n",
       "      <td>1</td>\n",
       "      <td>BEAUTY</td>\n",
       "      <td>0.000</td>\n",
       "    </tr>\n",
       "    <tr>\n",
       "      <th>3</th>\n",
       "      <td>2013-01-01</td>\n",
       "      <td>1</td>\n",
       "      <td>BEVERAGES</td>\n",
       "      <td>0.000</td>\n",
       "    </tr>\n",
       "    <tr>\n",
       "      <th>4</th>\n",
       "      <td>2013-01-01</td>\n",
       "      <td>1</td>\n",
       "      <td>BOOKS</td>\n",
       "      <td>0.000</td>\n",
       "    </tr>\n",
       "    <tr>\n",
       "      <th>...</th>\n",
       "      <td>...</td>\n",
       "      <td>...</td>\n",
       "      <td>...</td>\n",
       "      <td>...</td>\n",
       "    </tr>\n",
       "    <tr>\n",
       "      <th>2596369</th>\n",
       "      <td>2016-12-31</td>\n",
       "      <td>9</td>\n",
       "      <td>POULTRY</td>\n",
       "      <td>687.853</td>\n",
       "    </tr>\n",
       "    <tr>\n",
       "      <th>2596370</th>\n",
       "      <td>2016-12-31</td>\n",
       "      <td>9</td>\n",
       "      <td>PREPARED FOODS</td>\n",
       "      <td>100.405</td>\n",
       "    </tr>\n",
       "    <tr>\n",
       "      <th>2596371</th>\n",
       "      <td>2016-12-31</td>\n",
       "      <td>9</td>\n",
       "      <td>PRODUCE</td>\n",
       "      <td>3091.356</td>\n",
       "    </tr>\n",
       "    <tr>\n",
       "      <th>2596372</th>\n",
       "      <td>2016-12-31</td>\n",
       "      <td>9</td>\n",
       "      <td>SCHOOL AND OFFICE SUPPLIES</td>\n",
       "      <td>2.000</td>\n",
       "    </tr>\n",
       "    <tr>\n",
       "      <th>2596373</th>\n",
       "      <td>2016-12-31</td>\n",
       "      <td>9</td>\n",
       "      <td>SEAFOOD</td>\n",
       "      <td>13.000</td>\n",
       "    </tr>\n",
       "  </tbody>\n",
       "</table>\n",
       "<p>2596374 rows × 4 columns</p>\n",
       "</div>"
      ],
      "text/plain": [
       "                 ds  store_nbr                      family         y\n",
       "0        2013-01-01          1                  AUTOMOTIVE     0.000\n",
       "1        2013-01-01          1                   BABY CARE     0.000\n",
       "2        2013-01-01          1                      BEAUTY     0.000\n",
       "3        2013-01-01          1                   BEVERAGES     0.000\n",
       "4        2013-01-01          1                       BOOKS     0.000\n",
       "...             ...        ...                         ...       ...\n",
       "2596369  2016-12-31          9                     POULTRY   687.853\n",
       "2596370  2016-12-31          9              PREPARED FOODS   100.405\n",
       "2596371  2016-12-31          9                     PRODUCE  3091.356\n",
       "2596372  2016-12-31          9  SCHOOL AND OFFICE SUPPLIES     2.000\n",
       "2596373  2016-12-31          9                     SEAFOOD    13.000\n",
       "\n",
       "[2596374 rows x 4 columns]"
      ]
     },
     "execution_count": 22,
     "metadata": {},
     "output_type": "execute_result"
    }
   ],
   "source": [
    "sales_and_stores"
   ]
  },
  {
   "cell_type": "code",
   "execution_count": 24,
   "id": "26953d7b",
   "metadata": {},
   "outputs": [
    {
     "name": "stderr",
     "output_type": "stream",
     "text": [
      "<timed exec>:12: SettingWithCopyWarning: \n",
      "A value is trying to be set on a copy of a slice from a DataFrame.\n",
      "Try using .loc[row_indexer,col_indexer] = value instead\n",
      "\n",
      "See the caveats in the documentation: https://pandas.pydata.org/pandas-docs/stable/user_guide/indexing.html#returning-a-view-versus-a-copy\n",
      "INFO:fbprophet:Disabling daily seasonality. Run prophet with daily_seasonality=True to override this.\n"
     ]
    },
    {
     "name": "stdout",
     "output_type": "stream",
     "text": [
      "1\n",
      "10\n",
      "Initial log joint probability = -26.23\n",
      "    Iter      log prob        ||dx||      ||grad||       alpha      alpha0  # evals  Notes \n"
     ]
    },
    {
     "name": "stderr",
     "output_type": "stream",
     "text": [
      "/root/.pyenv/versions/3.8.12/envs/business_case_869/lib/python3.8/site-packages/fbprophet/forecaster.py:891: FutureWarning: The frame.append method is deprecated and will be removed from pandas in a future version. Use pandas.concat instead.\n",
      "  components = components.append(new_comp)\n",
      "<timed exec>:12: SettingWithCopyWarning: \n",
      "A value is trying to be set on a copy of a slice from a DataFrame.\n",
      "Try using .loc[row_indexer,col_indexer] = value instead\n",
      "\n",
      "See the caveats in the documentation: https://pandas.pydata.org/pandas-docs/stable/user_guide/indexing.html#returning-a-view-versus-a-copy\n",
      "INFO:fbprophet:Disabling daily seasonality. Run prophet with daily_seasonality=True to override this.\n"
     ]
    },
    {
     "name": "stdout",
     "output_type": "stream",
     "text": [
      "      99       2948.44     0.0185729       144.056           1           1      125   \n",
      "    Iter      log prob        ||dx||      ||grad||       alpha      alpha0  # evals  Notes \n",
      "     112       2949.31   0.000227953       101.075   2.863e-06       0.001      173  LS failed, Hessian reset \n",
      "     199       2950.21     0.0046252         62.69      0.3181           1      288   \n",
      "    Iter      log prob        ||dx||      ||grad||       alpha      alpha0  # evals  Notes \n",
      "     223       2950.64    0.00196353       142.748   2.499e-05       0.001      359  LS failed, Hessian reset \n",
      "     299       2951.33    0.00670235       68.9742           1           1      452   \n",
      "    Iter      log prob        ||dx||      ||grad||       alpha      alpha0  # evals  Notes \n",
      "     399       2951.62   0.000139393       73.1952           1           1      584   \n",
      "    Iter      log prob        ||dx||      ||grad||       alpha      alpha0  # evals  Notes \n",
      "     499       2951.63   1.00349e-05        46.508      0.9323      0.9323      720   \n",
      "    Iter      log prob        ||dx||      ||grad||       alpha      alpha0  # evals  Notes \n",
      "     561       2951.63   1.83158e-07       56.6251      0.1718           1      805   \n",
      "Optimization terminated normally: \n",
      "  Convergence detected: relative gradient magnitude is below tolerance\n"
     ]
    },
    {
     "name": "stderr",
     "output_type": "stream",
     "text": [
      "/root/.pyenv/versions/3.8.12/envs/business_case_869/lib/python3.8/site-packages/fbprophet/forecaster.py:891: FutureWarning: The frame.append method is deprecated and will be removed from pandas in a future version. Use pandas.concat instead.\n",
      "  components = components.append(new_comp)\n",
      "<timed exec>:12: SettingWithCopyWarning: \n",
      "A value is trying to be set on a copy of a slice from a DataFrame.\n",
      "Try using .loc[row_indexer,col_indexer] = value instead\n",
      "\n",
      "See the caveats in the documentation: https://pandas.pydata.org/pandas-docs/stable/user_guide/indexing.html#returning-a-view-versus-a-copy\n",
      "INFO:fbprophet:Disabling daily seasonality. Run prophet with daily_seasonality=True to override this.\n"
     ]
    },
    {
     "name": "stdout",
     "output_type": "stream",
     "text": [
      "Initial log joint probability = -13.8819\n",
      "11\n",
      "    Iter      log prob        ||dx||      ||grad||       alpha      alpha0  # evals  Notes \n",
      "      99       3634.89    0.00107443       124.238           1           1      128   \n",
      "    Iter      log prob        ||dx||      ||grad||       alpha      alpha0  # evals  Notes \n",
      "     147        3635.8   0.000106154       127.387   8.932e-07       0.001      237  LS failed, Hessian reset \n",
      "     199       3636.09   0.000305145       61.0685      0.9143      0.9143      301   \n",
      "    Iter      log prob        ||dx||      ||grad||       alpha      alpha0  # evals  Notes \n",
      "     215       3636.21   7.01788e-05        82.886   6.413e-07       0.001      371  LS failed, Hessian reset \n",
      "     299       3636.39   4.05078e-05       74.9833      0.3834           1      484   \n",
      "    Iter      log prob        ||dx||      ||grad||       alpha      alpha0  # evals  Notes \n",
      "     325       3636.52   0.000239321       192.389   2.625e-06       0.001      569  LS failed, Hessian reset \n",
      "     393       3636.56   5.77156e-06       62.7714   7.718e-08       0.001      697  LS failed, Hessian reset \n",
      "     399       3636.56   1.14486e-06       55.6108           1           1      706   \n",
      "    Iter      log prob        ||dx||      ||grad||       alpha      alpha0  # evals  Notes \n",
      "     411       3636.57   1.55599e-07       54.0189      0.2455      0.8282      723   \n",
      "Optimization terminated normally: \n",
      "  Convergence detected: relative gradient magnitude is below tolerance\n",
      "Initial log joint probability = -26.815\n",
      "    Iter      log prob        ||dx||      ||grad||       alpha      alpha0  # evals  Notes \n"
     ]
    },
    {
     "name": "stderr",
     "output_type": "stream",
     "text": [
      "/root/.pyenv/versions/3.8.12/envs/business_case_869/lib/python3.8/site-packages/fbprophet/forecaster.py:891: FutureWarning: The frame.append method is deprecated and will be removed from pandas in a future version. Use pandas.concat instead.\n",
      "  components = components.append(new_comp)\n",
      "<timed exec>:12: SettingWithCopyWarning: \n",
      "A value is trying to be set on a copy of a slice from a DataFrame.\n",
      "Try using .loc[row_indexer,col_indexer] = value instead\n",
      "\n",
      "See the caveats in the documentation: https://pandas.pydata.org/pandas-docs/stable/user_guide/indexing.html#returning-a-view-versus-a-copy\n",
      "INFO:fbprophet:Disabling daily seasonality. Run prophet with daily_seasonality=True to override this.\n"
     ]
    },
    {
     "name": "stdout",
     "output_type": "stream",
     "text": [
      "12\n",
      "      99       2878.38    0.00224485       99.1235      0.9692      0.9692      125   \n",
      "    Iter      log prob        ||dx||      ||grad||       alpha      alpha0  # evals  Notes \n",
      "     197       2879.26   3.71695e-05       98.5764   4.919e-07       0.001      301  LS failed, Hessian reset \n",
      "     199       2879.27   1.65655e-05       79.9906      0.7388      0.7388      303   \n",
      "    Iter      log prob        ||dx||      ||grad||       alpha      alpha0  # evals  Notes \n",
      "     241       2879.27   1.19162e-07       75.3285      0.2134      0.6483      361   \n",
      "Optimization terminated normally: \n",
      "  Convergence detected: relative gradient magnitude is below tolerance\n"
     ]
    },
    {
     "name": "stderr",
     "output_type": "stream",
     "text": [
      "/root/.pyenv/versions/3.8.12/envs/business_case_869/lib/python3.8/site-packages/fbprophet/forecaster.py:891: FutureWarning: The frame.append method is deprecated and will be removed from pandas in a future version. Use pandas.concat instead.\n",
      "  components = components.append(new_comp)\n",
      "<timed exec>:12: SettingWithCopyWarning: \n",
      "A value is trying to be set on a copy of a slice from a DataFrame.\n",
      "Try using .loc[row_indexer,col_indexer] = value instead\n",
      "\n",
      "See the caveats in the documentation: https://pandas.pydata.org/pandas-docs/stable/user_guide/indexing.html#returning-a-view-versus-a-copy\n",
      "INFO:fbprophet:Disabling daily seasonality. Run prophet with daily_seasonality=True to override this.\n"
     ]
    },
    {
     "name": "stdout",
     "output_type": "stream",
     "text": [
      "13\n",
      "Initial log joint probability = -16.4949\n",
      "    Iter      log prob        ||dx||      ||grad||       alpha      alpha0  # evals  Notes \n",
      "      99        2948.8     0.0107952        302.77           1           1      129   \n",
      "    Iter      log prob        ||dx||      ||grad||       alpha      alpha0  # evals  Notes \n",
      "     188       2951.86   0.000311039       129.567   1.653e-06       0.001      284  LS failed, Hessian reset \n",
      "     199       2953.32    0.00112504       62.3126      0.4574      0.4574      296   \n",
      "    Iter      log prob        ||dx||      ||grad||       alpha      alpha0  # evals  Notes \n",
      "     234       2953.71   0.000244813       114.182   1.754e-06       0.001      387  LS failed, Hessian reset \n",
      "     299       2953.93   9.86632e-05       62.9971      0.4624      0.4624      462   \n",
      "    Iter      log prob        ||dx||      ||grad||       alpha      alpha0  # evals  Notes \n",
      "     315       2954.54    0.00413755       153.395   3.898e-05       0.001      518  LS failed, Hessian reset \n",
      "     399       2955.09   0.000272265       74.8894      0.7888      0.7888      624   \n",
      "    Iter      log prob        ||dx||      ||grad||       alpha      alpha0  # evals  Notes \n",
      "     499       2955.97     0.0102414        113.35           1           1      752   \n",
      "    Iter      log prob        ||dx||      ||grad||       alpha      alpha0  # evals  Notes \n",
      "     538       2958.01   0.000166935       73.4547   1.616e-06       0.001      841  LS failed, Hessian reset \n",
      "     599       2959.06   2.01832e-05        81.855      0.2045      0.2045      915   \n",
      "    Iter      log prob        ||dx||      ||grad||       alpha      alpha0  # evals  Notes \n",
      "     609       2959.08    0.00025586       78.4071    3.43e-06       0.001      960  LS failed, Hessian reset \n",
      "     660       2959.13   0.000265312       79.7929   3.116e-06       0.001     1057  LS failed, Hessian reset \n",
      "     699       2959.15   9.03787e-06       78.2049           1           1     1107   \n",
      "    Iter      log prob        ||dx||      ||grad||       alpha      alpha0  # evals  Notes \n",
      "     723       2959.18   5.95206e-05       76.9021   7.534e-07       0.001     1180  LS failed, Hessian reset \n",
      "     799       2959.23   1.80173e-05       80.4332       5.299      0.5299     1279   \n",
      "    Iter      log prob        ||dx||      ||grad||       alpha      alpha0  # evals  Notes \n",
      "     899       2959.82   1.39399e-05       66.3176      0.2973      0.2973     1400   \n",
      "    Iter      log prob        ||dx||      ||grad||       alpha      alpha0  # evals  Notes \n",
      "     928       2959.83   1.14698e-05       67.9129   1.704e-07       0.001     1482  LS failed, Hessian reset \n",
      "     977       2959.84   1.80943e-07       64.6774      0.0566           1     1545   \n",
      "Optimization terminated normally: \n",
      "  Convergence detected: relative gradient magnitude is below tolerance\n",
      "Initial log joint probability = -24.6924\n",
      "14\n",
      "    Iter      log prob        ||dx||      ||grad||       alpha      alpha0  # evals  Notes \n",
      "      99       3060.93    0.00251567       233.149           1           1      123   \n",
      "    Iter      log prob        ||dx||      ||grad||       alpha      alpha0  # evals  Notes \n",
      "     193       3063.32    0.00142713       166.348   1.402e-05       0.001      284  LS failed, Hessian reset \n",
      "     199       3063.42   0.000535167       108.749      0.4256           1      292   \n",
      "    Iter      log prob        ||dx||      ||grad||       alpha      alpha0  # evals  Notes \n",
      "     299       3063.66    0.00153697       94.9333           1           1      417   \n",
      "    Iter      log prob        ||dx||      ||grad||       alpha      alpha0  # evals  Notes \n",
      "     305       3063.74   0.000181278       94.9874   2.027e-06       0.001      478  LS failed, Hessian reset \n",
      "     355       3063.78   1.00743e-05       84.4963   1.235e-07       0.001      573  LS failed, Hessian reset \n",
      "     372       3063.78   1.15998e-07  "
     ]
    },
    {
     "name": "stderr",
     "output_type": "stream",
     "text": [
      "/root/.pyenv/versions/3.8.12/envs/business_case_869/lib/python3.8/site-packages/fbprophet/forecaster.py:891: FutureWarning: The frame.append method is deprecated and will be removed from pandas in a future version. Use pandas.concat instead.\n",
      "  components = components.append(new_comp)\n",
      "<timed exec>:12: SettingWithCopyWarning: \n",
      "A value is trying to be set on a copy of a slice from a DataFrame.\n",
      "Try using .loc[row_indexer,col_indexer] = value instead\n",
      "\n",
      "See the caveats in the documentation: https://pandas.pydata.org/pandas-docs/stable/user_guide/indexing.html#returning-a-view-versus-a-copy\n",
      "INFO:fbprophet:Disabling daily seasonality. Run prophet with daily_seasonality=True to override this.\n"
     ]
    },
    {
     "name": "stdout",
     "output_type": "stream",
     "text": [
      "     62.6369      0.6413           1      597   \n",
      "Optimization terminated normally: \n",
      "  Convergence detected: relative gradient magnitude is below tolerance\n"
     ]
    },
    {
     "name": "stderr",
     "output_type": "stream",
     "text": [
      "/root/.pyenv/versions/3.8.12/envs/business_case_869/lib/python3.8/site-packages/fbprophet/forecaster.py:891: FutureWarning: The frame.append method is deprecated and will be removed from pandas in a future version. Use pandas.concat instead.\n",
      "  components = components.append(new_comp)\n",
      "<timed exec>:12: SettingWithCopyWarning: \n",
      "A value is trying to be set on a copy of a slice from a DataFrame.\n",
      "Try using .loc[row_indexer,col_indexer] = value instead\n",
      "\n",
      "See the caveats in the documentation: https://pandas.pydata.org/pandas-docs/stable/user_guide/indexing.html#returning-a-view-versus-a-copy\n",
      "INFO:fbprophet:Disabling daily seasonality. Run prophet with daily_seasonality=True to override this.\n"
     ]
    },
    {
     "name": "stdout",
     "output_type": "stream",
     "text": [
      "Initial log joint probability = -29.3837\n",
      "15\n",
      "    Iter      log prob        ||dx||      ||grad||       alpha      alpha0  # evals  Notes \n",
      "      99       2797.56    0.00143315       137.613      0.5381      0.5381      125   \n",
      "    Iter      log prob        ||dx||      ||grad||       alpha      alpha0  # evals  Notes \n",
      "     141       2799.18   0.000449593       148.876   2.807e-06       0.001      206  LS failed, Hessian reset \n",
      "     196       2800.32    0.00200885       276.897   1.737e-05       0.001      321  LS failed, Hessian reset \n",
      "     199       2800.39   0.000394794       79.6629           1           1      324   \n",
      "    Iter      log prob        ||dx||      ||grad||       alpha      alpha0  # evals  Notes \n",
      "     266       2800.67   0.000271975       84.2288   3.324e-06       0.001      454  LS failed, Hessian reset \n",
      "     299       2800.69   3.70848e-05       72.8324           1           1      495   \n",
      "    Iter      log prob        ||dx||      ||grad||       alpha      alpha0  # evals  Notes \n",
      "     318        2800.7   2.57073e-07       76.3623       1.356      0.3227      523   \n",
      "Optimization terminated normally: \n",
      "  Convergence detected: relative gradient magnitude is below tolerance\n"
     ]
    },
    {
     "name": "stderr",
     "output_type": "stream",
     "text": [
      "/root/.pyenv/versions/3.8.12/envs/business_case_869/lib/python3.8/site-packages/fbprophet/forecaster.py:891: FutureWarning: The frame.append method is deprecated and will be removed from pandas in a future version. Use pandas.concat instead.\n",
      "  components = components.append(new_comp)\n",
      "<timed exec>:12: SettingWithCopyWarning: \n",
      "A value is trying to be set on a copy of a slice from a DataFrame.\n",
      "Try using .loc[row_indexer,col_indexer] = value instead\n",
      "\n",
      "See the caveats in the documentation: https://pandas.pydata.org/pandas-docs/stable/user_guide/indexing.html#returning-a-view-versus-a-copy\n",
      "INFO:fbprophet:Disabling daily seasonality. Run prophet with daily_seasonality=True to override this.\n"
     ]
    },
    {
     "name": "stdout",
     "output_type": "stream",
     "text": [
      "Initial log joint probability = -22.8523\n",
      "    Iter      log prob        ||dx||      ||grad||       alpha      alpha0  # evals  Notes \n",
      "      99          3191    0.00679696       126.191      0.8369      0.8369      138   \n",
      "    Iter      log prob        ||dx||      ||grad||       alpha      alpha0  # evals  Notes \n",
      "     199       3193.11    0.00133719       104.138      0.5028           1      267   \n",
      "    Iter      log prob        ||dx||      ||grad||       alpha      alpha0  # evals  Notes \n",
      "     216       3193.29    0.00135294       172.365   1.198e-05       0.001      320  LS failed, Hessian reset \n",
      "     234       3193.36   0.000257955       68.4327   3.368e-06       0.001      375  LS failed, Hessian reset \n",
      "     299       3193.38    2.9574e-06       67.1157           1           1      465   \n",
      "    Iter      log prob        ||dx||      ||grad||       alpha      alpha0  # evals  Notes \n",
      "     338        3193.4   9.72193e-05       79.7752   1.083e-06       0.001      561  LS failed, Hessian reset \n",
      "     375        3193.4   9.65645e-07       73.4652   1.308e-08       0.001      642  LS failed, Hessian reset \n",
      "     387        31916\n",
      "3.4   1.58695e-07        69.807      0.1227           1      656   \n",
      "Optimization terminated normally: \n",
      "  Convergence detected: relative gradient magnitude is below tolerance\n"
     ]
    },
    {
     "name": "stderr",
     "output_type": "stream",
     "text": [
      "/root/.pyenv/versions/3.8.12/envs/business_case_869/lib/python3.8/site-packages/fbprophet/forecaster.py:891: FutureWarning: The frame.append method is deprecated and will be removed from pandas in a future version. Use pandas.concat instead.\n",
      "  components = components.append(new_comp)\n",
      "<timed exec>:12: SettingWithCopyWarning: \n",
      "A value is trying to be set on a copy of a slice from a DataFrame.\n",
      "Try using .loc[row_indexer,col_indexer] = value instead\n",
      "\n",
      "See the caveats in the documentation: https://pandas.pydata.org/pandas-docs/stable/user_guide/indexing.html#returning-a-view-versus-a-copy\n",
      "INFO:fbprophet:Disabling daily seasonality. Run prophet with daily_seasonality=True to override this.\n"
     ]
    },
    {
     "name": "stdout",
     "output_type": "stream",
     "text": [
      "17\n",
      "Initial log joint probability = -36.6937\n",
      "    Iter      log prob        ||dx||      ||grad||       alpha      alpha0  # evals  Notes \n",
      "      99       3005.67   0.000210983       72.6701           1           1      123   \n",
      "    Iter      log prob        ||dx||      ||grad||       alpha      alpha0  # evals  Notes \n",
      "     140       3007.25    0.00271163       248.631   2.517e-05       0.001      215  LS failed, Hessian reset \n",
      "     199       3007.62   0.000414183       68.4494      0.7216      0.7216      294   \n",
      "    Iter      log prob        ||dx||      ||grad||       alpha      alpha0  # evals  Notes \n",
      "     248       3008.12   0.000549829       194.904   5.415e-06       0.001      382  LS failed, Hessian reset \n",
      "     299       3008.44   5.48652e-06       75.7592      0.8792      0.8792      452   \n",
      "    Iter      log prob        ||dx||      ||grad||       alpha      alpha0  # evals  Notes \n",
      "     315       3008.45   3.41671e-05       81.1595   4.264e-07       0.001      513  LS failed, Hessian reset \n",
      "     339       3008.45   4.53844e-08       72.8703      0.1084      0.3367      546   \n",
      "Optimization terminated normally: \n",
      "  Convergence detected: relative gradient magnitude is below tolerance\n",
      "Initial log joint probability = -14.1799\n",
      "    Iter      log prob        ||dx||      ||grad||       alpha      alpha0  # evals  Notes \n",
      "      99       3293.02     0.0188092       311.436           1           1      128   \n",
      "    Iter      log prob        ||dx||      ||grad||       alpha      alpha0  # evals  Notes \n",
      "     154       3296.02   0.000178468       117.134   1.293e-06       0.001      234  LS failed, Hessian reset \n",
      "     199       3296.29   0.000565511       92.2124           1           1      286   \n",
      "    Iter      log prob        ||dx||      ||grad||       alpha      alpha0  # evals  Notes \n",
      "     218        3296.5    0.00235367       139.354   2.804e-05       0.001      345  LS failed, Hessian reset \n",
      "     269       3296.73   7.75314e-05       81.2054   9.423e-07       0.001      451  LS failed, Hessian reset \n",
      "     299       3296.74   1.53948e-07        67.058      0.2672      0.2672      489   \n",
      "    Iter      log prob        ||dx||      ||grad||       alpha      alpha0  # evals  Notes \n",
      "     324       3296.74   6.39384e-05       74.5007   7.507e-07       0.001      545  LS failed, Hessian reset \n",
      "     359       3296.75   1.80045e-07       69.3491      0.8538      0.8538      595   \n",
      "Optimization terminated normally: \n",
      "  Convergence detected: relative gradient magnitude is below tolerance\n",
      "18\n"
     ]
    },
    {
     "name": "stderr",
     "output_type": "stream",
     "text": [
      "/root/.pyenv/versions/3.8.12/envs/business_case_869/lib/python3.8/site-packages/fbprophet/forecaster.py:891: FutureWarning: The frame.append method is deprecated and will be removed from pandas in a future version. Use pandas.concat instead.\n",
      "  components = components.append(new_comp)\n",
      "<timed exec>:12: SettingWithCopyWarning: \n",
      "A value is trying to be set on a copy of a slice from a DataFrame.\n",
      "Try using .loc[row_indexer,col_indexer] = value instead\n",
      "\n",
      "See the caveats in the documentation: https://pandas.pydata.org/pandas-docs/stable/user_guide/indexing.html#returning-a-view-versus-a-copy\n",
      "INFO:fbprophet:Disabling daily seasonality. Run prophet with daily_seasonality=True to override this.\n",
      "/root/.pyenv/versions/3.8.12/envs/business_case_869/lib/python3.8/site-packages/fbprophet/forecaster.py:891: FutureWarning: The frame.append method is deprecated and will be removed from pandas in a future version. Use pandas.concat instead.\n",
      "  components = components.append(new_comp)\n",
      "<timed exec>:12: SettingWithCopyWarning: \n",
      "A value is trying to be set on a copy of a slice from a DataFrame.\n",
      "Try using .loc[row_indexer,col_indexer] = value instead\n",
      "\n",
      "See the caveats in the documentation: https://pandas.pydata.org/pandas-docs/stable/user_guide/indexing.html#returning-a-view-versus-a-copy\n",
      "INFO:fbprophet:Disabling daily seasonality. Run prophet with daily_seasonality=True to override this.\n"
     ]
    },
    {
     "name": "stdout",
     "output_type": "stream",
     "text": [
      "Initial log joint probability = -23.53\n",
      "19\n",
      "    Iter      log prob        ||dx||      ||grad||       alpha      alpha0  # evals  Notes \n",
      "      99          2722    0.00369246       106.529      0.4083           1      121   \n",
      "    Iter      log prob        ||dx||      ||grad||       alpha      alpha0  # evals  Notes \n",
      "     199       2729.84    0.00388412       80.7225      0.5612      0.5612      250   \n",
      "    Iter      log prob        ||dx||      ||grad||       alpha      alpha0  # evals  Notes \n",
      "     299       2731.53    0.00527671       111.733           1           1      370   \n",
      "    Iter      log prob        ||dx||      ||grad||       alpha      alpha0  # evals  Notes \n",
      "     304       2731.63    0.00225374       115.873   2.208e-05       0.001      415  LS failed, Hessian reset \n",
      "     399       2732.52   1.09353e-06       75.0633      0.2668           1      530   \n",
      "    Iter      log prob        ||dx||      ||grad||       alpha      alpha0  # evals  Notes \n",
      "     434       2732.53   5.61342e-05       79.3814   6.021e-07       0.001      625  LS failed, Hessian reset \n",
      "     499       2732.54   6.49045e-06       90.6557           1           1      702   \n",
      "    Iter      log prob        ||dx||      ||grad||       alpha      alpha0  # evals  Notes \n",
      "     578       2732.54   2.08916e-07       88.9951           1           1      802   \n",
      "Optimization terminated normally: \n",
      "  Convergence detected: relative gradient magnitude is below tolerance\n",
      "Initial log joint probability = -26.6763\n",
      "    Iter      log prob        ||dx||      ||grad||       alpha      alpha0  # evals  Notes \n",
      "      99       3343.69   0.000863795       99.7662      0.8654      0.8654      116   \n",
      "    Iter      log prob        ||dx||      ||grad||       alpha      alpha0  # evals  Notes \n",
      "     186       3348.64   0.000194168       131.078   2.629e-06       0.001      270  LS failed, Hessian reset \n",
      "     199       3348.79   0.000632527       64.4747      0.1984           1      286   \n",
      "    Iter      log prob        ||dx||      ||grad||       alpha      alpha0  # evals  Notes \n",
      "     231       3348.96   0.000373719       107.836   5.179e-06       0.001      358  LS failed, Hessian reset \n",
      "     299          3349   9.86986e-05       77.5341           1           1      448   \n",
      "    Iter      log prob        ||dx||      ||grad||       alpha      alpha0  # evals  Notes \n",
      "     399       3349.01   1.10614e-06        70.756      0.2549      0.9321      582   \n",
      "    Iter      log prob        ||dx||      ||grad||       alpha      alpha0  # evals  Notes \n",
      "     431       3349.01   9.52275e-08       57.0037        0.35        0.35      622   \n",
      "Optimization terminated normally: \n",
      "  Convergence detected: relative gradient magnitude is below tolerance\n",
      "2\n"
     ]
    },
    {
     "name": "stderr",
     "output_type": "stream",
     "text": [
      "/root/.pyenv/versions/3.8.12/envs/business_case_869/lib/python3.8/site-packages/fbprophet/forecaster.py:891: FutureWarning: The frame.append method is deprecated and will be removed from pandas in a future version. Use pandas.concat instead.\n",
      "  components = components.append(new_comp)\n",
      "<timed exec>:12: SettingWithCopyWarning: \n",
      "A value is trying to be set on a copy of a slice from a DataFrame.\n",
      "Try using .loc[row_indexer,col_indexer] = value instead\n",
      "\n",
      "See the caveats in the documentation: https://pandas.pydata.org/pandas-docs/stable/user_guide/indexing.html#returning-a-view-versus-a-copy\n",
      "INFO:fbprophet:Disabling daily seasonality. Run prophet with daily_seasonality=True to override this.\n",
      "/root/.pyenv/versions/3.8.12/envs/business_case_869/lib/python3.8/site-packages/fbprophet/forecaster.py:891: FutureWarning: The frame.append method is deprecated and will be removed from pandas in a future version. Use pandas.concat instead.\n",
      "  components = components.append(new_comp)\n",
      "<timed exec>:12: SettingWithCopyWarning: \n",
      "A value is trying to be set on a copy of a slice from a DataFrame.\n",
      "Try using .loc[row_indexer,col_indexer] = value instead\n",
      "\n",
      "See the caveats in the documentation: https://pandas.pydata.org/pandas-docs/stable/user_guide/indexing.html#returning-a-view-versus-a-copy\n",
      "INFO:fbprophet:Disabling daily seasonality. Run prophet with daily_seasonality=True to override this.\n"
     ]
    },
    {
     "name": "stdout",
     "output_type": "stream",
     "text": [
      "20\n",
      "Initial log joint probability = -3.44628\n",
      "    Iter      log prob        ||dx||      ||grad||       alpha      alpha0  # evals  Notes \n",
      "      99       4295.17    0.00320852       263.233           1           1      127   \n",
      "    Iter      log prob        ||dx||      ||grad||       alpha      alpha0  # evals  Notes \n",
      "     181       4296.28   4.48535e-05       123.799   4.588e-07       0.001      272  LS failed, Hessian reset \n",
      "     193       4296.37   4.24882e-05       115.704   8.148e-07       0.001      334  LS failed, Hessian reset \n",
      "     199       4296.38   5.91973e-05       71.5539           1           1      340   \n",
      "    Iter      log prob        ||dx||      ||grad||       alpha      alpha0  # evals  Notes \n",
      "     280       4296.72   3.26296e-05       82.5796   3.039e-07       0.001      479  LS failed, Hessian reset \n",
      "     299       4296.87   0.000162111       133.257      0.5591      0.5591      505   \n",
      "    Iter      log prob        ||dx||      ||grad||       alpha      alpha0  # evals  Notes \n",
      "     399       4297.39    4.0247e-05       68.0524   2.112e-07       0.001      656  LS failed, Hessian reset \n",
      "    Iter      log prob        ||dx||      ||grad||       alpha      alpha0  # evals  Notes \n",
      "     499       4297.65   0.000696708       89.3471           1           1      791   \n",
      "    Iter      log prob        ||dx||      ||grad||       alpha      alpha0  # evals  Notes \n",
      "     590       4297.75   4.98069e-05       80.2507   6.752e-07       0.001      943  LS failed, Hessian reset \n",
      "     599       4297.75   3.75418e-06       65.9625      0.4474      0.4474      954   \n",
      "    Iter      log prob        ||dx||      ||grad||       alpha      alpha0  # evals  Notes \n",
      "     634       4297.75   9.58365e-07       67.0708   1.703e-08       0.001     1043  LS failed, Hessian reset \n",
      "     636       4297.75    4.1541e-07       43.4406      0.9599      0.9599     1045   \n",
      "Optimization terminated normally: \n",
      "  Convergence detected: relative gradient magnitude is below tolerance\n",
      "Initial log joint probability = -4.1474\n",
      "    Iter      log prob        ||dx||      ||grad||       alpha      alpha0  # evals  Notes \n",
      "      99       4175.45    0.00398509       509.106           1           1      126   \n",
      "    Iter      log prob        ||dx||      ||grad||       alpha      alpha0  # evals  Notes \n",
      "     178       4179.73   0.000106033       180.308   1.282e-06       0.001      271  LS failed, Hessian reset \n",
      "     199       4179.86   0.000304243       86.0798           1           1      297   \n",
      "    Iter      log prob        ||dx||      ||grad||       alpha      alpha0  # evals  Notes \n",
      "     234       4180.41   4.45302e-05       94.8534   2.955e-07       0.001      388  LS failed, Hessian reset \n",
      "     299       4181.47   0.000162181       64.2775      0.6047      0.6047      477   \n",
      "    Iter      log prob        ||dx||      ||grad||       alpha      alpha0  # evals  Notes \n",
      "     312       4181.65    0.00013346       216.975   1.318e-06       0.001      541  LS failed, Hessian reset \n",
      "     354       4181.71   1.45548e-07  21\n"
     ]
    },
    {
     "name": "stderr",
     "output_type": "stream",
     "text": [
      "/root/.pyenv/versions/3.8.12/envs/business_case_869/lib/python3.8/site-packages/fbprophet/forecaster.py:891: FutureWarning: The frame.append method is deprecated and will be removed from pandas in a future version. Use pandas.concat instead.\n",
      "  components = components.append(new_comp)\n",
      "<timed exec>:12: SettingWithCopyWarning: \n",
      "A value is trying to be set on a copy of a slice from a DataFrame.\n",
      "Try using .loc[row_indexer,col_indexer] = value instead\n",
      "\n",
      "See the caveats in the documentation: https://pandas.pydata.org/pandas-docs/stable/user_guide/indexing.html#returning-a-view-versus-a-copy\n",
      "INFO:fbprophet:Disabling daily seasonality. Run prophet with daily_seasonality=True to override this.\n"
     ]
    },
    {
     "name": "stdout",
     "output_type": "stream",
     "text": [
      "     73.9394      0.5684      0.5684      592   \n",
      "Optimization terminated normally: \n",
      "  Convergence detected: relative gradient magnitude is below tolerance\n",
      "Initial log joint probability = -28.2806\n",
      "    Iter      log prob        ||dx||      ||grad||       alpha      alpha0  # evals  Notes \n",
      "      99       3083.95     0.0228855       691.321       0.264           1      123   \n",
      "    Iter      log prob        ||dx||      ||grad||       alpha      alpha0  # evals  Notes \n",
      "     199       3147.58    0.00523256       333.288       0.432      0.9323      247   \n",
      "    Iter      log prob        ||dx||      ||grad||       alpha      alpha0  # evals  Notes \n",
      "     299       3171.94     0.0100301       183.576      0.3388           1      360   \n",
      "    Iter      log prob        ||dx||      ||grad||       alpha      alpha0  # evals  Notes \n",
      "     385       3177.81   0.000329127        205.64   3.002e-06       0.001      514  LS failed, Hessian reset \n",
      "     399       3178.33   0.000362611       86.7675           1           1      533   \n",
      "    Iter      log prob        ||dx||      ||grad||       alpha      alpha0  # evals  Notes \n",
      "     438       3178.45   0.000185757        104.84   3.264e-06       0.001      622\n",
      "19  LS failed, Hessian reset \n",
      "     499       3180.31     0.0233946       111.391           1           1      686   \n",
      "    Iter      log prob        ||dx||      ||grad||       alpha      alpha0  # evals  Notes \n",
      "     518       3182.78   0.000317964       227.804   1.476e-06       0.001      742  LS failed, Hessian reset \n",
      "     599       3188.49   0.000712792        104.56      0.1396      0.1396      850   \n",
      "    Iter      log prob        ||dx||      ||grad||       alpha      alpha0  # evals  Notes \n",
      "     636       3189.28    0.00203665       99.9185   2.287e-05       0.001      926  LS failed, Hessian reset \n",
      "     699       3189.79    0.00101626       64.0079      0.3685      0.3685     1001   \n",
      "    Iter      log prob        ||dx||      ||grad||       alpha      alpha0  # evals  Notes \n",
      "     786       3198.14   0.000512195       177.887   6.825e-07       0.001     1134  LS failed, Hessian reset \n",
      "     799       3202.34    0.00246735       295.902      0.1319           1     1150   \n",
      "    Iter     "
     ]
    },
    {
     "name": "stderr",
     "output_type": "stream",
     "text": [
      "/root/.pyenv/versions/3.8.12/envs/business_case_869/lib/python3.8/site-packages/fbprophet/forecaster.py:891: FutureWarning: The frame.append method is deprecated and will be removed from pandas in a future version. Use pandas.concat instead.\n",
      "  components = components.append(new_comp)\n",
      "<timed exec>:12: SettingWithCopyWarning: \n",
      "A value is trying to be set on a copy of a slice from a DataFrame.\n",
      "Try using .loc[row_indexer,col_indexer] = value instead\n",
      "\n",
      "See the caveats in the documentation: https://pandas.pydata.org/pandas-docs/stable/user_guide/indexing.html#returning-a-view-versus-a-copy\n",
      "INFO:fbprophet:Disabling daily seasonality. Run prophet with daily_seasonality=True to override this.\n"
     ]
    },
    {
     "name": "stdout",
     "output_type": "stream",
     "text": [
      " log prob        ||dx||      ||grad||       alpha      alpha0  # evals  Notes \n",
      "     857       3204.43   0.000123477       71.3102   7.768e-07       0.001     1263  LS failed, Hessian reset \n",
      "     899       3204.95   3.19982e-05       70.7262       0.358           1     1315   \n",
      "    Iter      log prob        ||dx||      ||grad||       alpha      alpha0  # evals  Notes \n",
      "     999       3205.25   2.29941e-05       67.8551           1           1     1432   \n",
      "    Iter      log prob        ||dx||      ||grad||       alpha      alpha0  # evals  Notes \n",
      "    1075       3205.26   8.89823e-08        87.219      0.6369      0.6369     1525   \n",
      "Optimization terminated normally: \n",
      "  Convergence detected: relative gradient magnitude is below tolerance\n"
     ]
    },
    {
     "name": "stderr",
     "output_type": "stream",
     "text": [
      "/root/.pyenv/versions/3.8.12/envs/business_case_869/lib/python3.8/site-packages/fbprophet/forecaster.py:891: FutureWarning: The frame.append method is deprecated and will be removed from pandas in a future version. Use pandas.concat instead.\n",
      "  components = components.append(new_comp)\n",
      "<timed exec>:12: SettingWithCopyWarning: \n",
      "A value is trying to be set on a copy of a slice from a DataFrame.\n",
      "Try using .loc[row_indexer,col_indexer] = value instead\n",
      "\n",
      "See the caveats in the documentation: https://pandas.pydata.org/pandas-docs/stable/user_guide/indexing.html#returning-a-view-versus-a-copy\n",
      "INFO:fbprophet:Disabling daily seasonality. Run prophet with daily_seasonality=True to override this.\n"
     ]
    },
    {
     "name": "stdout",
     "output_type": "stream",
     "text": [
      "Initial log joint probability = -15.8801\n",
      "    Iter      log prob        ||dx||      ||grad||       alpha      alpha0  # evals  Notes \n",
      "      99       3542.41    0.00842834        157.63           1           1      133   \n",
      "    Iter      log prob        ||dx||      ||grad||       alpha      alpha0  # evals  Notes \n",
      "     199        3566.8    0.00131995       186.096      0.3797      0.3797      263   \n",
      "    Iter      log prob        ||dx||      ||grad||       alpha      alpha0  # evals  Notes \n",
      "     299       3574.31   0.000142911       155.813   7.567e-07       0.001      437  LS failed, Hessian reset \n",
      "    Iter      log prob        ||dx||      ||grad||       alpha      alpha0  # evals  Notes \n",
      "     399       3578.19    0.00232327       63.1392           1           1      572   \n",
      "    Iter      log prob        ||dx||      ||grad||       alpha      alpha0  # evals  Notes \n",
      "     472       3578.43   1.58612e-07       83.1465      0.6139           1      662   \n",
      "Optimization terminated normally: \n",
      "  Convergence detected: relative gradient magn23\n",
      "itude is below tolerance\n"
     ]
    },
    {
     "name": "stderr",
     "output_type": "stream",
     "text": [
      "/root/.pyenv/versions/3.8.12/envs/business_case_869/lib/python3.8/site-packages/fbprophet/forecaster.py:891: FutureWarning: The frame.append method is deprecated and will be removed from pandas in a future version. Use pandas.concat instead.\n",
      "  components = components.append(new_comp)\n",
      "<timed exec>:12: SettingWithCopyWarning: \n",
      "A value is trying to be set on a copy of a slice from a DataFrame.\n",
      "Try using .loc[row_indexer,col_indexer] = value instead\n",
      "\n",
      "See the caveats in the documentation: https://pandas.pydata.org/pandas-docs/stable/user_guide/indexing.html#returning-a-view-versus-a-copy\n",
      "INFO:fbprophet:Disabling daily seasonality. Run prophet with daily_seasonality=True to override this.\n"
     ]
    },
    {
     "name": "stdout",
     "output_type": "stream",
     "text": [
      "24\n",
      "Initial log joint probability = -32.993\n",
      "    Iter      log prob        ||dx||      ||grad||       alpha      alpha0  # evals  Notes \n",
      "      99       2873.35    0.00197129       202.879           1           1      124   \n",
      "    Iter      log prob        ||dx||      ||grad||       alpha      alpha0  # evals  Notes \n",
      "     199       2881.74   0.000441813       62.4004           1           1      261   \n",
      "    Iter      log prob        ||dx||      ||grad||       alpha      alpha0  # evals  Notes \n",
      "     299       2881.84   1.27692e-05       65.0535           1           1      387   \n",
      "    Iter      log prob        ||dx||      ||grad||       alpha      alpha0  # evals  Notes \n",
      "     355       2881.91   0.000282034       92.6753   3.332e-06       0.001      502  LS failed, Hessian reset \n",
      "     399       2881.94   8.24754e-07       70.3516      0.2298    0.002298      569   \n",
      "    Iter      log prob        ||dx||      ||grad||       alpha      alpha0  # evals  Notes \n",
      "     428       2881.94   1.11488e-07       69.6832     0.03091           1      611   \n",
      "Optimization terminated normally: \n",
      "  Convergence detected: relative gradient magnitude is below tolerance\n",
      "Initial log joint probability = -11.6137\n",
      "    Iter      log prob        ||dx||      ||grad||       alpha      alpha0  # evals  Notes \n",
      "      99       3097.23     0.0100649       219.825           1           1      121   \n",
      "    Iter      log prob        ||dx||      ||grad||       alpha      alpha0  # evals  Notes \n",
      "     199       3111.49   0.000493614       59.0035           1           1      243   \n",
      "    Iter      log prob        ||dx||      ||grad||       alpha      alpha0  # evals  Notes \n",
      "     299       3119.54   0.000455782       90.7374      0.8943      0.8943      355   \n",
      "    Iter      log prob        ||dx||      ||grad||       alpha      alpha0  # evals  Notes \n",
      "     399        3121.8     0.0027267       131.519           1           1      478   \n",
      "    Iter      log prob        ||dx||      ||grad||       alpha      alpha0  # evals  Notes \n",
      "     499       3132.96      0.015608       101.947      0.7267      0.7267      595   \n",
      "    Iter      log prob        ||dx||      ||grad||       alpha      alpha0  # evals  Notes \n",
      "     508     25\n"
     ]
    },
    {
     "name": "stderr",
     "output_type": "stream",
     "text": [
      "/root/.pyenv/versions/3.8.12/envs/business_case_869/lib/python3.8/site-packages/fbprophet/forecaster.py:891: FutureWarning: The frame.append method is deprecated and will be removed from pandas in a future version. Use pandas.concat instead.\n",
      "  components = components.append(new_comp)\n",
      "<timed exec>:12: SettingWithCopyWarning: \n",
      "A value is trying to be set on a copy of a slice from a DataFrame.\n",
      "Try using .loc[row_indexer,col_indexer] = value instead\n",
      "\n",
      "See the caveats in the documentation: https://pandas.pydata.org/pandas-docs/stable/user_guide/indexing.html#returning-a-view-versus-a-copy\n",
      "INFO:fbprophet:Disabling daily seasonality. Run prophet with daily_seasonality=True to override this.\n"
     ]
    },
    {
     "name": "stdout",
     "output_type": "stream",
     "text": [
      "  3133.51   0.000487971       181.838   6.652e-06       0.001      644  LS failed, Hessian reset \n",
      "     599       3135.31    1.4315e-05       59.7625       1.307      0.3195      770   \n",
      "    Iter      log prob        ||dx||      ||grad||       alpha      alpha0  # evals  Notes \n",
      "     609       3135.32   0.000116255       69.3161   1.644e-06       0.001      819  LS failed, Hessian reset \n",
      "     652       3135.47   0.000116165       84.9763   1.838e-06       0.001      917  LS failed, Hessian reset \n",
      "     699       3135.51   1.90045e-05       74.5827           1           1      982   \n",
      "    Iter      log prob        ||dx||      ||grad||       alpha      alpha0  # evals  Notes \n",
      "     730        3136.5   0.000196501       91.8486   8.659e-07       0.001     1066  LS failed, Hessian reset \n",
      "     781       3137.26   0.000137013       83.6828   1.315e-06       0.001     1170  LS failed, Hessian reset \n",
      "     799        3137.3   1.80306e-05       61.7613      0.8264      0.8264     1195   \n",
      "    Iter      log prob        ||dx||      ||grad||       alpha      alpha0  # evals  Notes \n",
      "     899       3137.43   8.79455e-06       70.5224      0.5481      0.5481     1320   \n",
      "    Iter      log prob        ||dx||      ||grad||       alpha      alpha0  # evals  Notes \n",
      "     999       3138.15   0.000425117       70.1131      0.2403      0.2403     1433   \n",
      "    Iter      log prob        ||dx||      ||grad||       alpha      alpha0  # evals  Notes \n",
      "    1074       3138.45   1.52696e-07       72.4626      0.3638      0.3638     1535   \n",
      "Optimization terminated normally: \n",
      "  Convergence detected: relative gradient magnitude is below tolerance\n",
      "Initial log joint probability = -112.35\n",
      "    Iter      log prob        ||dx||      ||grad||       alpha      alpha0  # evals  Notes \n"
     ]
    },
    {
     "name": "stderr",
     "output_type": "stream",
     "text": [
      "/root/.pyenv/versions/3.8.12/envs/business_case_869/lib/python3.8/site-packages/fbprophet/forecaster.py:891: FutureWarning: The frame.append method is deprecated and will be removed from pandas in a future version. Use pandas.concat instead.\n",
      "  components = components.append(new_comp)\n",
      "<timed exec>:12: SettingWithCopyWarning: \n",
      "A value is trying to be set on a copy of a slice from a DataFrame.\n",
      "Try using .loc[row_indexer,col_indexer] = value instead\n",
      "\n",
      "See the caveats in the documentation: https://pandas.pydata.org/pandas-docs/stable/user_guide/indexing.html#returning-a-view-versus-a-copy\n",
      "INFO:fbprophet:Disabling daily seasonality. Run prophet with daily_seasonality=True to override this.\n"
     ]
    },
    {
     "name": "stdout",
     "output_type": "stream",
     "text": [
      "26\n",
      "      86       2770.04    0.00326933       162.842       3e-05       0.001      157  LS failed, Hessian reset \n",
      "      99       2770.81    0.00203163       105.156      0.4405           1      173   \n",
      "    Iter      log prob        ||dx||      ||grad||       alpha      alpha0  # evals  Notes \n",
      "     152       2773.13   0.000346117       123.508   2.527e-06       0.001      273  LS failed, Hessian reset \n",
      "     199       2774.26   8.69294e-06       65.4088      0.9203      0.9203      333   \n",
      "    Iter      log prob        ||dx||      ||grad||       alpha      alpha0  # evals  Notes \n",
      "     273       2775.18   0.000489092       154.056   4.347e-06       0.001      485  LS failed, Hessian reset \n",
      "     299       2775.86   0.000174044        55.067       0.417           1      517   \n",
      "    Iter      log prob        ||dx||      ||grad||       alpha      alpha0  # evals  Notes \n",
      "     341       2776.06   0.000280067       125.652   2.359e-06       0.001      600  LS failed, Hessian reset \n",
      "     399        2776.1    1.4328e-06       72.9623           1           1      671   \n",
      "    Iter      log prob        ||dx||      ||grad||       alpha      alpha0  # evals  Notes \n",
      "     443       2776.11   1.05756e-07         63.68      0.4929      0.4929      733   \n",
      "Optimization terminated normally: \n",
      "  Convergence detected: relative gradient magnitude is below tolerance\n",
      "Initial log joint probability = -11.1792\n",
      "27\n",
      "    Iter      log prob        ||dx||      ||grad||       alpha      alpha0  # evals  Notes \n",
      "Error evaluating model log probability: Non-finite gradient.\n",
      "\n",
      "      99       3792.64   7.06542e-05       84.1444      0.1285      0.5314      148   \n",
      "    Iter      log prob        ||dx||      ||grad||       alpha      alpha0  # evals  Notes \n",
      "     199       3794.74   6.94313e-05        89.237           1           1      278   \n",
      "    Iter      log prob        ||dx||      ||grad||       alpha      alpha0  # evals  Notes \n",
      "     292       3795.59   9.51309e-05       132.782   4.989e-07       0.001      466  LS failed, Hessian reset \n",
      "     299       3795.77     0.0012193       93.4734      0.7939      0.7939      475   \n",
      "    Iter      log prob        ||dx||      ||grad||       alpha      alpha0  # evals  Notes \n",
      "     399       3795.98   1.61696e-06        80.448      0.5637      0.5637      595   \n",
      "    Iter      log prob        ||dx||      ||grad||       alpha      alpha0  # evals  Notes \n",
      "     408       3795"
     ]
    },
    {
     "name": "stderr",
     "output_type": "stream",
     "text": [
      "/root/.pyenv/versions/3.8.12/envs/business_case_869/lib/python3.8/site-packages/fbprophet/forecaster.py:891: FutureWarning: The frame.append method is deprecated and will be removed from pandas in a future version. Use pandas.concat instead.\n",
      "  components = components.append(new_comp)\n",
      "<timed exec>:12: SettingWithCopyWarning: \n",
      "A value is trying to be set on a copy of a slice from a DataFrame.\n",
      "Try using .loc[row_indexer,col_indexer] = value instead\n",
      "\n",
      "See the caveats in the documentation: https://pandas.pydata.org/pandas-docs/stable/user_guide/indexing.html#returning-a-view-versus-a-copy\n",
      "INFO:fbprophet:Disabling daily seasonality. Run prophet with daily_seasonality=True to override this.\n"
     ]
    },
    {
     "name": "stdout",
     "output_type": "stream",
     "text": [
      ".98   5.24474e-07        73.196           1           1      607   \n",
      "Optimization terminated normally: \n",
      "  Convergence detected: relative gradient magnitude is below tolerance\n"
     ]
    },
    {
     "name": "stderr",
     "output_type": "stream",
     "text": [
      "/root/.pyenv/versions/3.8.12/envs/business_case_869/lib/python3.8/site-packages/fbprophet/forecaster.py:891: FutureWarning: The frame.append method is deprecated and will be removed from pandas in a future version. Use pandas.concat instead.\n",
      "  components = components.append(new_comp)\n",
      "<timed exec>:12: SettingWithCopyWarning: \n",
      "A value is trying to be set on a copy of a slice from a DataFrame.\n",
      "Try using .loc[row_indexer,col_indexer] = value instead\n",
      "\n",
      "See the caveats in the documentation: https://pandas.pydata.org/pandas-docs/stable/user_guide/indexing.html#returning-a-view-versus-a-copy\n",
      "INFO:fbprophet:Disabling daily seasonality. Run prophet with daily_seasonality=True to override this.\n"
     ]
    },
    {
     "name": "stdout",
     "output_type": "stream",
     "text": [
      "Initial log joint probability = -13.4895\n",
      "28\n",
      "    Iter      log prob        ||dx||      ||grad||       alpha      alpha0  # evals  Notes \n",
      "      99       3581.64    0.00548244       71.3729           1           1      133   \n",
      "    Iter      log prob        ||dx||      ||grad||       alpha      alpha0  # evals  Notes \n",
      "     199       3587.92    0.00011205       95.2394   6.385e-07       0.001      309  LS failed, Hessian reset \n",
      "    Iter      log prob        ||dx||      ||grad||       alpha      alpha0  # evals  Notes \n",
      "     234        3588.3   0.000222589       155.207   3.362e-06       0.001      384  LS failed, Hessian reset \n",
      "     266       3588.35   3.81568e-05       84.9424   6.043e-07       0.001      459  LS failed, Hessian reset \n",
      "     298       3588.36   1.80451e-05       75.4267   2.242e-07       0.001      542  LS failed, Hessian reset \n",
      "     299       3588.36   8.05294e-06       65.2756           1           1      543   \n",
      "    Iter      log prob        ||dx||      ||grad||       alpha      alpha0  # evals  Notes \n",
      "     332       3588.36   1.51857e-06       69.3962           1           1      587   \n",
      "Optimization terminated normally: \n",
      "  Convergence detected: relative gradient magnitude is below tolerance\n",
      "Initial log joint probability = -19.0435\n",
      "    Iter      log prob        ||dx||      ||grad||       alpha      alpha0  # evals  Notes \n",
      "      99       3246.87   0.000445095       67.1001           1           1      130   \n",
      "    Iter      log prob        ||dx||      ||grad||       alpha      alpha0  # evals  Notes \n",
      "     118       3247.38   0.000232283       81.5483    8.42e-07       0.001      190  LS failed, Hessian reset \n",
      "     170       3247.84   0.000777009       290.385   7.893e-06       0.001      297  LS failed, Hessian reset \n",
      "     199       3248.11   0.000288413       51.6103           1           1      333   \n",
      "    Iter      log prob        ||dx||      ||grad||       alpha      alpha0  # evals  Notes \n",
      "     287       3248.34   0.000143532       110.414    1.56e-06       0.001      496  LS failed, Hessian reset \n",
      "     299       3248.42   0.000234395       69.0137           1           1      511   \n",
      "    Iter      log prob        ||dx||      ||grad||       alpha      alpha0  # evals  Notes \n",
      "     362        3248.5   5.73155e-06  "
     ]
    },
    {
     "name": "stderr",
     "output_type": "stream",
     "text": [
      "/root/.pyenv/versions/3.8.12/envs/business_case_869/lib/python3.8/site-packages/fbprophet/forecaster.py:891: FutureWarning: The frame.append method is deprecated and will be removed from pandas in a future version. Use pandas.concat instead.\n",
      "  components = components.append(new_comp)\n",
      "<timed exec>:12: SettingWithCopyWarning: \n",
      "A value is trying to be set on a copy of a slice from a DataFrame.\n",
      "Try using .loc[row_indexer,col_indexer] = value instead\n",
      "\n",
      "See the caveats in the documentation: https://pandas.pydata.org/pandas-docs/stable/user_guide/indexing.html#returning-a-view-versus-a-copy\n",
      "INFO:fbprophet:Disabling daily seasonality. Run prophet with daily_seasonality=True to override this.\n"
     ]
    },
    {
     "name": "stdout",
     "output_type": "stream",
     "text": [
      "29\n",
      "      44.944   6.125e-08       0.001      632  LS failed, Hessian reset \n",
      "     374        3248.5   3.46438e-07       40.9117           1           1      649   \n",
      "Optimization terminated normally: \n",
      "  Convergence detected: relative gradient magnitude is below tolerance\n",
      "Initial log joint probability = -30.7292\n"
     ]
    },
    {
     "name": "stderr",
     "output_type": "stream",
     "text": [
      "/root/.pyenv/versions/3.8.12/envs/business_case_869/lib/python3.8/site-packages/fbprophet/forecaster.py:891: FutureWarning: The frame.append method is deprecated and will be removed from pandas in a future version. Use pandas.concat instead.\n",
      "  components = components.append(new_comp)\n",
      "<timed exec>:12: SettingWithCopyWarning: \n",
      "A value is trying to be set on a copy of a slice from a DataFrame.\n",
      "Try using .loc[row_indexer,col_indexer] = value instead\n",
      "\n",
      "See the caveats in the documentation: https://pandas.pydata.org/pandas-docs/stable/user_guide/indexing.html#returning-a-view-versus-a-copy\n",
      "INFO:fbprophet:Disabling daily seasonality. Run prophet with daily_seasonality=True to override this.\n"
     ]
    },
    {
     "name": "stdout",
     "output_type": "stream",
     "text": [
      "3\n",
      "    Iter      log prob        ||dx||      ||grad||       alpha      alpha0  # evals  Notes \n",
      "      99       3444.31     0.0729391       395.214       1.104     0.01104      122   \n",
      "    Iter      log prob        ||dx||      ||grad||       alpha      alpha0  # evals  Notes \n",
      "     199       3467.58   0.000754092       177.548      0.1305      0.7728      248   \n",
      "    Iter      log prob        ||dx||      ||grad||       alpha      alpha0  # evals  Notes \n",
      "     299       3477.52    0.00211335       215.591           1           1      368   \n",
      "    Iter      log prob        ||dx||      ||grad||       alpha      alpha0  # evals  Notes \n",
      "     323       3479.45   0.000147665       96.9489    5.88e-07       0.001      457  LS failed, Hessian reset \n",
      "     399        3481.1    0.00174767       79.1287           1           1      556   \n",
      "    Iter      log prob        ||dx||      ||grad||       alpha      alpha0  # evals  Notes \n",
      "     499       3483.08    0.00430452       82.5118      0.1636      0.9471      682   \n",
      "    Iter      log prob        ||dx||      ||grad||       alpha      alpha0  # evals  Notes \n",
      "     500       3483.09   0.000167108       109.593   2.025e-06       0.001      748  LS failed, Hessian reset \n",
      "     599       3483.33    2.8983e-05        73.406           1           1      868   \n",
      "    Iter      log prob        ||dx||      ||grad||       alpha      alpha0  # evals  Notes \n",
      "     644       3483.35   2.43644e-05        84.897   2.612e-07       0.001      954  LS failed, Hessian reset \n",
      "     699       3483.36   1.94295e-05       77.5137           1           1     1027   \n",
      "    Iter      log prob        ||dx||      ||grad||       alpha      alpha0  # evals  Notes \n",
      "     716       3483.36   3.43537e-07       73.2794      0.8478      0.8478     1053   \n",
      "Optimization terminated normally: \n",
      "  Convergence detected: relative gradient magnitude is below tolerance\n",
      "Initial log joint probability = -24.7174\n",
      "30\n",
      "    Iter      log prob        ||dx||      ||grad||       alpha      alpha0  # evals  Notes \n",
      "      99       2931.67      0.001766        114.88      0.4998           1      128   \n",
      "    Iter      log prob        ||dx||      ||grad||       alpha      alpha0  # evals  Notes \n",
      "     120       2932.85   0.000245259       101.007   3.031e-06       0.001      201  LS failed, Hessian reset \n",
      "     177       2934.33   0.000212048       88.7935   2.883e-06       0.001      312  LS failed, Hessian reset \n",
      "     199        2934.8   0.000825309       88.5521           1           1      340   \n",
      "    Iter      log prob        ||dx||      ||grad||       alpha      alpha0  # evals  Notes \n",
      "     260        2935.5    0.00139471       198.396   1.901e-05       0.001      450  LS failed, Hessian reset \n",
      "     299       2936.14   0.000339395       67.1548        0.97        0.97      495   \n",
      "    Iter      log prob        ||dx||      ||grad||       alpha      alpha0  # evals  Notes \n",
      "     328       2936.17   0.000132776  "
     ]
    },
    {
     "name": "stderr",
     "output_type": "stream",
     "text": [
      "/root/.pyenv/versions/3.8.12/envs/business_case_869/lib/python3.8/site-packages/fbprophet/forecaster.py:891: FutureWarning: The frame.append method is deprecated and will be removed from pandas in a future version. Use pandas.concat instead.\n",
      "  components = components.append(new_comp)\n",
      "<timed exec>:12: SettingWithCopyWarning: \n",
      "A value is trying to be set on a copy of a slice from a DataFrame.\n",
      "Try using .loc[row_indexer,col_indexer] = value instead\n",
      "\n",
      "See the caveats in the documentation: https://pandas.pydata.org/pandas-docs/stable/user_guide/indexing.html#returning-a-view-versus-a-copy\n",
      "INFO:fbprophet:Disabling daily seasonality. Run prophet with daily_seasonality=True to override this.\n"
     ]
    },
    {
     "name": "stdout",
     "output_type": "stream",
     "text": [
      "     66.6391   2.047e-06       0.001      574  LS failed, Hessian reset \n",
      "     346       2936.18   2.86736e-05       71.5483   5.437e-07       0.001      640  LS failed, Hessian reset \n",
      "     399       2936.19   7.95206e-06       65.2006       0.925       0.925      714   \n",
      "    Iter      log prob        ||dx||      ||grad||       alpha      alpha0  # evals  Notes \n",
      "     436        2936.2    1.7083e-07       56.2006   3.313e-09       0.001      813  LS failed, Hessian reset \n",
      "Optimization terminated normally: \n",
      "  Convergence detected: relative gradient magnitude is below tolerance\n",
      "Initial log joint probability = -13.1029\n"
     ]
    },
    {
     "name": "stderr",
     "output_type": "stream",
     "text": [
      "/root/.pyenv/versions/3.8.12/envs/business_case_869/lib/python3.8/site-packages/fbprophet/forecaster.py:891: FutureWarning: The frame.append method is deprecated and will be removed from pandas in a future version. Use pandas.concat instead.\n",
      "  components = components.append(new_comp)\n",
      "<timed exec>:12: SettingWithCopyWarning: \n",
      "A value is trying to be set on a copy of a slice from a DataFrame.\n",
      "Try using .loc[row_indexer,col_indexer] = value instead\n",
      "\n",
      "See the caveats in the documentation: https://pandas.pydata.org/pandas-docs/stable/user_guide/indexing.html#returning-a-view-versus-a-copy\n",
      "INFO:fbprophet:Disabling daily seasonality. Run prophet with daily_seasonality=True to override this.\n"
     ]
    },
    {
     "name": "stdout",
     "output_type": "stream",
     "text": [
      "31\n",
      "    Iter      log prob        ||dx||      ||grad||       alpha      alpha0  # evals  Notes \n",
      "      99       3433.81      0.018631       276.728       0.276           1      120   \n",
      "    Iter      log prob        ||dx||      ||grad||       alpha      alpha0  # evals  Notes \n",
      "     153       3436.56   0.000123725       78.0672   7.371e-07       0.001      243  LS failed, Hessian reset \n",
      "     199       3437.06    0.00187416       82.6766       0.409           1      306   \n",
      "    Iter      log prob        ||dx||      ||grad||       alpha      alpha0  # evals  Notes \n",
      "     219       3437.12   0.000274765       157.769   3.921e-06       0.001      366  LS failed, Hessian reset \n",
      "     255       3437.16   0.000100953       63.4389   1.284e-06       0.001      451  LS failed, Hessian reset \n",
      "     282       3437.17   8.29979e-08       56.8808      0.2178      0.2178      488   \n",
      "Optimization terminated normally: \n",
      "  Convergence detected: relative gradient magnitude is below tolerance\n"
     ]
    },
    {
     "name": "stderr",
     "output_type": "stream",
     "text": [
      "/root/.pyenv/versions/3.8.12/envs/business_case_869/lib/python3.8/site-packages/fbprophet/forecaster.py:891: FutureWarning: The frame.append method is deprecated and will be removed from pandas in a future version. Use pandas.concat instead.\n",
      "  components = components.append(new_comp)\n",
      "<timed exec>:12: SettingWithCopyWarning: \n",
      "A value is trying to be set on a copy of a slice from a DataFrame.\n",
      "Try using .loc[row_indexer,col_indexer] = value instead\n",
      "\n",
      "See the caveats in the documentation: https://pandas.pydata.org/pandas-docs/stable/user_guide/indexing.html#returning-a-view-versus-a-copy\n",
      "INFO:fbprophet:Disabling daily seasonality. Run prophet with daily_seasonality=True to override this.\n"
     ]
    },
    {
     "name": "stdout",
     "output_type": "stream",
     "text": [
      "32\n",
      "Initial log joint probability = -21.1945\n",
      "    Iter      log prob        ||dx||      ||grad||       alpha      alpha0  # evals  Notes \n",
      "      99       3795.09     0.0013172       81.5902      0.4915      0.4915      138   \n",
      "    Iter      log prob        ||dx||      ||grad||       alpha      alpha0  # evals  Notes \n",
      "     157       3798.12   6.54033e-05       82.9497   1.071e-06       0.001      256  LS failed, Hessian reset \n",
      "     199       3798.46     0.0012688       91.4031       3.862      0.3862      311   \n",
      "    Iter      log prob        ||dx||      ||grad||       alpha      alpha0  # evals  Notes \n",
      "     221       3798.96   7.70069e-05        78.957   4.491e-07       0.001      395  LS failed, Hessian reset \n",
      "     268       3799.35   0.000233425       125.304   2.487e-06       0.001      499  LS failed, Hessian reset \n",
      "     299       3799.36   7.96814e-07       64.2107      0.6366      0.6366      545   \n",
      "    Iter      log prob        ||dx||      ||grad||       alpha      alpha0  # evals  Notes \n",
      "     324       3799.36   4.11768e-08       78.2803      0.0332           1      588   \n",
      "Optimization terminated normally: \n",
      "  Convergence detected: relative gradient magnitude is below tolerance\n",
      "Initial log joint probability = -70.504\n",
      "33\n",
      "    Iter      log prob        ||dx||      ||grad||       alpha      alpha0  # evals  Notes \n",
      "      99       2962.48    0.00230898       108.716      0.8726      0.8726      127   \n",
      "    Iter      log prob        ||dx||      ||grad||       alpha      alpha0  # evals  Notes \n",
      "     146       2964.29   0.000316137       119.379   1.686e-06       0.001      214  LS failed, Hessian reset \n",
      "     199       2966.86   0.000239207       85.1397           1           1      278   \n",
      "    Iter      log prob        ||dx||      ||grad||       alpha      alpha0  # evals  Notes \n",
      "     299       2970.17   9.34397e-06       80.2241      0.5566      0.5566      395   \n",
      "    Iter      log prob        ||dx||      ||grad||       alpha      alpha0  # evals  Notes \n",
      "     328       2970.19   2.37841e-05       87.4723   2.645e-07       0.001      464  LS failed, Hessian reset \n",
      "     350       2970.19   1.28414e-07       80.9286       0.294           1      496   \n",
      "Optimization terminated normally: \n",
      "  Convergence detected: relative gradient magnitude is below tolerance\n"
     ]
    },
    {
     "name": "stderr",
     "output_type": "stream",
     "text": [
      "/root/.pyenv/versions/3.8.12/envs/business_case_869/lib/python3.8/site-packages/fbprophet/forecaster.py:891: FutureWarning: The frame.append method is deprecated and will be removed from pandas in a future version. Use pandas.concat instead.\n",
      "  components = components.append(new_comp)\n",
      "<timed exec>:12: SettingWithCopyWarning: \n",
      "A value is trying to be set on a copy of a slice from a DataFrame.\n",
      "Try using .loc[row_indexer,col_indexer] = value instead\n",
      "\n",
      "See the caveats in the documentation: https://pandas.pydata.org/pandas-docs/stable/user_guide/indexing.html#returning-a-view-versus-a-copy\n",
      "INFO:fbprophet:Disabling daily seasonality. Run prophet with daily_seasonality=True to override this.\n",
      "/root/.pyenv/versions/3.8.12/envs/business_case_869/lib/python3.8/site-packages/fbprophet/forecaster.py:891: FutureWarning: The frame.append method is deprecated and will be removed from pandas in a future version. Use pandas.concat instead.\n",
      "  components = components.append(new_comp)\n",
      "<timed exec>:12: SettingWithCopyWarning: \n",
      "A value is trying to be set on a copy of a slice from a DataFrame.\n",
      "Try using .loc[row_indexer,col_indexer] = value instead\n",
      "\n",
      "See the caveats in the documentation: https://pandas.pydata.org/pandas-docs/stable/user_guide/indexing.html#returning-a-view-versus-a-copy\n",
      "INFO:fbprophet:Disabling daily seasonality. Run prophet with daily_seasonality=True to override this.\n"
     ]
    },
    {
     "name": "stdout",
     "output_type": "stream",
     "text": [
      "34\n",
      "Initial log joint probability = -47.3036\n",
      "    Iter      log prob        ||dx||      ||grad||       alpha      alpha0  # evals  Notes \n",
      "      99       2976.97    0.00197144       348.274     0.06741           1      132   \n",
      "    Iter      log prob        ||dx||      ||grad||       alpha      alpha0  # evals  Notes \n",
      "     127       2979.03   0.000415162       176.732   2.513e-06       0.001      203  LS failed, Hessian reset \n",
      "     199       2980.93    0.00252686       104.461      0.4435      0.4435      288   \n",
      "    Iter      log prob        ||dx||      ||grad||       alpha      alpha0  # evals  Notes \n",
      "     201       2980.99   0.000364314       141.998   5.375e-06       0.001      320  LS failed, Hessian reset \n",
      "     213       2981.04   6.47083e-05       56.1399   1.177e-06       0.001      372  LS failed, Hessian reset \n",
      "     271       2981.06   2.06495e-05       63.1566    2.83e-07       0.001      491  LS failed, Hessian reset \n",
      "     299       2981.06   5.45464e-06        84.008           1           1      528   \n",
      "    Iter      log prob        ||dx||      ||grad||       alpha      alpha0  # evals  Notes \n",
      "     322       2981.06   1.65711e-07       66.5731      0.4756           1      561   \n",
      "Optimization terminated normally: \n",
      "  Convergence detected: relative gradient magnitude is below tolerance\n",
      "Initial log joint probability = -19.4799\n"
     ]
    },
    {
     "name": "stderr",
     "output_type": "stream",
     "text": [
      "/root/.pyenv/versions/3.8.12/envs/business_case_869/lib/python3.8/site-packages/fbprophet/forecaster.py:891: FutureWarning: The frame.append method is deprecated and will be removed from pandas in a future version. Use pandas.concat instead.\n",
      "  components = components.append(new_comp)\n",
      "<timed exec>:12: SettingWithCopyWarning: \n",
      "A value is trying to be set on a copy of a slice from a DataFrame.\n",
      "Try using .loc[row_indexer,col_indexer] = value instead\n",
      "\n",
      "See the caveats in the documentation: https://pandas.pydata.org/pandas-docs/stable/user_guide/indexing.html#returning-a-view-versus-a-copy\n",
      "INFO:fbprophet:Disabling daily seasonality. Run prophet with daily_seasonality=True to override this.\n"
     ]
    },
    {
     "name": "stdout",
     "output_type": "stream",
     "text": [
      "    Iter      log prob        ||dx||      ||grad||       alpha      alpha0  # evals  Notes \n",
      "      99       3366.76   7.86004e-05       75.9978      0.1273      0.1273      132   \n",
      "    Iter      log prob        ||dx||      ||grad||       alpha      alpha0  # evals  Notes \n",
      "     199       3367.24   0.000239838       85.0246       3.715      0.3715      261   \n",
      "    Iter      log prob        ||dx||      ||grad||       alpha      alpha0  # evals  Notes \n",
      "     212       3367.26   7.43597e-05       82.0884    1.01e-06       0.001      317  LS failed, Hessian reset \n",
      "     264       3367.28   3.59934e-07       64.0683           1           1      384   \n",
      "Optimization terminated normally: \n",
      "  Convergence detected: relative gradient magnitude is below tolerance\n",
      "35\n",
      "Initial log joint probability = -5.91822\n",
      "36\n",
      "    Iter      log prob        ||dx||      ||grad||       alpha      alpha0  # evals  Notes \n",
      "      99       4004.71    0.00031222       127.207      0.5722           1      137   \n",
      "    Iter      log prob        ||dx||      ||grad||       alpha      alpha0  # evals  Notes \n",
      "     199       4005.78   9.00756e-05       81.9962           1           1      268   \n",
      "    Iter      log prob        ||dx||      ||grad||       alpha      alpha0  # evals  Notes \n",
      "     287       4005.85   6.03718e-06       64.9278   6.455e-08       0.001      432  LS failed, Hessian reset \n",
      "     299       4005.85   1.43781e-06       66.4292      0.9034      0.9034      446   \n",
      "    Iter      log prob        ||dx||      ||grad||       alpha      alpha0  # evals  Notes \n",
      "     307       4005.85     7.984e-08        71.788      0.2768      0.2768      457   \n",
      "Optimization terminated normally: \n",
      "  Convergence detected: relative gradient magnitude is below tolerance\n"
     ]
    },
    {
     "name": "stderr",
     "output_type": "stream",
     "text": [
      "/root/.pyenv/versions/3.8.12/envs/business_case_869/lib/python3.8/site-packages/fbprophet/forecaster.py:891: FutureWarning: The frame.append method is deprecated and will be removed from pandas in a future version. Use pandas.concat instead.\n",
      "  components = components.append(new_comp)\n",
      "<timed exec>:12: SettingWithCopyWarning: \n",
      "A value is trying to be set on a copy of a slice from a DataFrame.\n",
      "Try using .loc[row_indexer,col_indexer] = value instead\n",
      "\n",
      "See the caveats in the documentation: https://pandas.pydata.org/pandas-docs/stable/user_guide/indexing.html#returning-a-view-versus-a-copy\n",
      "INFO:fbprophet:Disabling daily seasonality. Run prophet with daily_seasonality=True to override this.\n",
      "/root/.pyenv/versions/3.8.12/envs/business_case_869/lib/python3.8/site-packages/fbprophet/forecaster.py:891: FutureWarning: The frame.append method is deprecated and will be removed from pandas in a future version. Use pandas.concat instead.\n",
      "  components = components.append(new_comp)\n",
      "<timed exec>:12: SettingWithCopyWarning: \n",
      "A value is trying to be set on a copy of a slice from a DataFrame.\n",
      "Try using .loc[row_indexer,col_indexer] = value instead\n",
      "\n",
      "See the caveats in the documentation: https://pandas.pydata.org/pandas-docs/stable/user_guide/indexing.html#returning-a-view-versus-a-copy\n",
      "INFO:fbprophet:Disabling daily seasonality. Run prophet with daily_seasonality=True to override this.\n"
     ]
    },
    {
     "name": "stdout",
     "output_type": "stream",
     "text": [
      "37Initial log joint probability = -34.1281\n",
      "    Iter      log prob        ||dx||      ||grad||       alpha      alpha0  # evals  Notes \n",
      "      99       2762.43    0.00856313       97.1255           1           1      127   \n",
      "    Iter      log prob        ||dx||      ||grad||       alpha      alpha0  # evals  Notes \n",
      "     199       2769.09    0.00252675       78.7035           1           1      259   \n",
      "    Iter      log prob        ||dx||      ||grad||       alpha      alpha0  # evals  Notes \n",
      "     222       2769.37   0.000388323       129.324   4.483e-06       0.001      334  LS failed, Hessian reset \n",
      "     299       2769.65    0.00177024       81.1962           1           1      434   \n",
      "    Iter      log prob        ||dx||      ||grad||       alpha      alpha0  # evals  Notes \n",
      "     399       2769.75   9.86214e-06       78.6313      0.3831           1      565   \n",
      "    Iter      log prob        ||dx||      ||grad||       alpha      alpha0  # evals  Notes \n",
      "     406       2769.75   1.77183e-06       65.4873      0.2651           1      574   \n",
      "Optimization terminated normally: \n",
      "  Convergence detected: relative gradient magnitude is below tolerance\n",
      "\n",
      "Initial log joint probability = -37.5411\n",
      "    Iter      log prob        ||dx||      ||grad||       alpha      alpha0  # evals  Notes \n",
      "      99       2698.25   5.68086e-05        63.136     0.01626           1      136   \n",
      "    Iter      log prob        ||dx||      ||grad||       alpha      alpha0  # evals  Notes \n",
      "     135       2698.53   0.000519645       133.746   5.469e-06       0.001      219  LS failed, Hessian reset \n",
      "     199       2698.69    0.00032441       86.2736      0.3012           1      297   \n",
      "    Iter      log prob        ||dx||      ||grad||       alpha      alpha0  # evals  Notes \n",
      "     232       2699.58   0.000489072       123.901   3.988e-06       0.001      378  LS failed, Hessian reset \n",
      "     270       2700.02    0.00045636       69.9342   9.314e-06       0.001      451  LS failed, Hessian reset \n",
      "     299       2700.05   2.51864e-05       66.1355           1           1      491   \n",
      "    Iter      log prob        ||dx||      ||grad||       alpha      alpha0  # evals  Notes \n",
      "     313       2700.05   3.61981e-05       86.0533   5.506e-07       0.001      561  LS failed, Hessian reset \n",
      "     334       2700.05   8.06381e-08       56.4873      0.2573      0.2573      601   \n",
      "Optimization terminated normally: \n",
      "  Convergence detected: relative gradient magnitude is below tolerance\n",
      "38\n"
     ]
    },
    {
     "name": "stderr",
     "output_type": "stream",
     "text": [
      "/root/.pyenv/versions/3.8.12/envs/business_case_869/lib/python3.8/site-packages/fbprophet/forecaster.py:891: FutureWarning: The frame.append method is deprecated and will be removed from pandas in a future version. Use pandas.concat instead.\n",
      "  components = components.append(new_comp)\n",
      "<timed exec>:12: SettingWithCopyWarning: \n",
      "A value is trying to be set on a copy of a slice from a DataFrame.\n",
      "Try using .loc[row_indexer,col_indexer] = value instead\n",
      "\n",
      "See the caveats in the documentation: https://pandas.pydata.org/pandas-docs/stable/user_guide/indexing.html#returning-a-view-versus-a-copy\n",
      "INFO:fbprophet:Disabling daily seasonality. Run prophet with daily_seasonality=True to override this.\n",
      "/root/.pyenv/versions/3.8.12/envs/business_case_869/lib/python3.8/site-packages/fbprophet/forecaster.py:891: FutureWarning: The frame.append method is deprecated and will be removed from pandas in a future version. Use pandas.concat instead.\n",
      "  components = components.append(new_comp)\n",
      "<timed exec>:12: SettingWithCopyWarning: \n",
      "A value is trying to be set on a copy of a slice from a DataFrame.\n",
      "Try using .loc[row_indexer,col_indexer] = value instead\n",
      "\n",
      "See the caveats in the documentation: https://pandas.pydata.org/pandas-docs/stable/user_guide/indexing.html#returning-a-view-versus-a-copy\n",
      "INFO:fbprophet:Disabling daily seasonality. Run prophet with daily_seasonality=True to override this.\n"
     ]
    },
    {
     "name": "stdout",
     "output_type": "stream",
     "text": [
      "39\n",
      "Initial log joint probability = -32.457\n",
      "    Iter      log prob        ||dx||      ||grad||       alpha      alpha0  # evals  Notes \n",
      "      99       2823.46    0.00186178       119.718   2.264e-05       0.001      153  LS failed, Hessian reset \n",
      "    Iter      log prob        ||dx||      ||grad||       alpha      alpha0  # evals  Notes \n",
      "     175       2823.99   0.000269555       90.3493   1.781e-06       0.001      295  LS failed, Hessian reset \n",
      "     199       2824.47   0.000295633       69.2128           1           1      324   \n",
      "    Iter      log prob        ||dx||      ||grad||       alpha      alpha0  # evals  Notes \n",
      "     246       2824.51   7.40307e-05       72.5767   1.074e-06       0.001      416  LS failed, Hessian reset \n",
      "     299       2824.54   4.83294e-06       44.7123           1           1      482   \n",
      "    Iter      log prob        ||dx||      ||grad||       alpha      alpha0  # evals  Notes \n",
      "     310       2824.54   9.88383e-05        78.159   1.393e-06       0.001      543  LS failed, Hessian reset \n",
      "     399       2824.56   2.22559e-05        67.905      0.7761      0.7761      663   \n",
      "    Iter      log prob        ||dx||      ||grad||       alpha      alpha0  # evals  Notes \n",
      "     420       2824.89   0.000350032       123.881   1.994e-06       0.001      739  LS failed, Hessian reset \n",
      "     459        2825.1   8.04498e-05       79.7106   9.722e-07       0.001      829  LS failed, Hessian reset \n",
      "     499       2825.13   9.39785e-07       65.7216      0.2243      0.2243      884   \n",
      "    Iter      log prob        ||dx||      ||grad||       alpha      alpha0  # evals  Notes \n",
      "     558       2825.13   2.12776e-06       63.6515   3.289e-08       0.001      998  LS failed, Hessian reset \n",
      "     576       2825.13   3.92645e-08       51.9562     0.06466       0.319     1020   \n",
      "Optimization terminated normally: \n",
      "  Convergence detected: relative gradient magnitude is below tolerance\n"
     ]
    },
    {
     "name": "stderr",
     "output_type": "stream",
     "text": [
      "/root/.pyenv/versions/3.8.12/envs/business_case_869/lib/python3.8/site-packages/fbprophet/forecaster.py:891: FutureWarning: The frame.append method is deprecated and will be removed from pandas in a future version. Use pandas.concat instead.\n",
      "  components = components.append(new_comp)\n",
      "<timed exec>:12: SettingWithCopyWarning: \n",
      "A value is trying to be set on a copy of a slice from a DataFrame.\n",
      "Try using .loc[row_indexer,col_indexer] = value instead\n",
      "\n",
      "See the caveats in the documentation: https://pandas.pydata.org/pandas-docs/stable/user_guide/indexing.html#returning-a-view-versus-a-copy\n",
      "INFO:fbprophet:Disabling daily seasonality. Run prophet with daily_seasonality=True to override this.\n"
     ]
    },
    {
     "name": "stdout",
     "output_type": "stream",
     "text": [
      "Initial log joint probability = -3.67172\n",
      "4\n",
      "    Iter      log prob        ||dx||      ||grad||       alpha      alpha0  # evals  Notes \n",
      "      99        4310.8    0.00119567       101.338      0.3726           1      138   \n",
      "    Iter      log prob        ||dx||      ||grad||       alpha      alpha0  # evals  Notes \n",
      "     126       4311.39   4.82272e-05       99.7116   2.409e-07       0.001      215  LS failed, Hessian reset \n",
      "     199       4311.82   0.000170576       83.8972           1           1      313   \n",
      "    Iter      log prob        ||dx||      ||grad||       alpha      alpha0  # evals  Notes \n",
      "     293       4312.06   0.000346356       92.3869   4.754e-06       0.001      473  LS failed, Hessian reset \n",
      "     299       4312.08   6.71289e-05       61.9738      0.4979      0.4979      480   \n",
      "    Iter      log prob        ||dx||      ||grad||       alpha      alpha0  # evals  Notes \n",
      "     349       4312.24   2.28341e-05       61.4678   3.198e-07       0.001      591  LS failed, Hessian reset \n",
      "     370       4312.24   1.87732e-07       47.1561      0.0814           1      628   \n",
      "Optimization terminated normally: \n",
      "  Convergence detected: relative gradient magnitude is below tolerance\n"
     ]
    },
    {
     "name": "stderr",
     "output_type": "stream",
     "text": [
      "/root/.pyenv/versions/3.8.12/envs/business_case_869/lib/python3.8/site-packages/fbprophet/forecaster.py:891: FutureWarning: The frame.append method is deprecated and will be removed from pandas in a future version. Use pandas.concat instead.\n",
      "  components = components.append(new_comp)\n"
     ]
    },
    {
     "name": "stdout",
     "output_type": "stream",
     "text": [
      "Initial log joint probability = -26.108\n",
      "40\n",
      "    Iter      log prob        ||dx||      ||grad||       alpha      alpha0  # evals  Notes \n",
      "      90       2940.98   0.000429597       143.394   5.763e-06       0.001      152  LS failed, Hessian reset \n",
      "      99       2941.53    0.00180554       60.8084           1           1      162   \n",
      "    Iter      log prob        ||dx||      ||grad||       alpha      alpha0  # evals  Notes \n",
      "     199       2943.72    0.00102988       86.8822      0.3784      0.3784      291   \n",
      "    Iter      log prob        ||dx||      ||grad||       alpha      alpha0  # evals  Notes \n",
      "     211          2944   0.000244745       97.3602   1.443e-06       0.001      350  LS failed, Hessian reset \n",
      "     259       2944.42   0.000296301       65.5303   4.209e-06       0.001      451  LS failed, Hessian reset \n",
      "     299       2944.46    0.00143066       58.3779           1           1      503   \n",
      "    Iter      log prob        ||dx||      ||grad||       alpha      alpha0  # evals  Notes \n",
      "     322        2944.5    1.6859e-05        73.164   3.642e-07       0.001      577  LS failed, Hessian reset \n",
      "     399       2944.57   7.89454e-05        62.088      0.9995      0.9995      669   \n",
      "    Iter      log prob        ||dx||      ||grad||       alpha      alpha0  # evals  Notes \n",
      "     415       2944.57   3.42803e-05       68.6961   5.147e-07       0.001      728  LS failed, Hessian reset \n",
      "     496       2944.63   1.47979e-05       50.6852   2.513e-07       0.001      863  LS failed, Hessian reset \n",
      "     499       2944.63   9.61407e-06       57.9652           1           1      868   \n",
      "    Iter      log prob        ||dx||      ||grad||       alpha      alpha0  # evals  Notes \n",
      "     534       2944.63   8.12732e-07       53.6878   1.753e-08       0.001      957  LS failed, Hessian reset \n",
      "     551       2944.63   9.08129e-08       59.6981      0.3946      0.3946      978   \n",
      "Optimization terminated normally: \n",
      "  Convergence detected: relative gradient magnitude is below tolerance\n"
     ]
    },
    {
     "name": "stderr",
     "output_type": "stream",
     "text": [
      "<timed exec>:12: SettingWithCopyWarning: \n",
      "A value is trying to be set on a copy of a slice from a DataFrame.\n",
      "Try using .loc[row_indexer,col_indexer] = value instead\n",
      "\n",
      "See the caveats in the documentation: https://pandas.pydata.org/pandas-docs/stable/user_guide/indexing.html#returning-a-view-versus-a-copy\n",
      "INFO:fbprophet:Disabling daily seasonality. Run prophet with daily_seasonality=True to override this.\n",
      "/root/.pyenv/versions/3.8.12/envs/business_case_869/lib/python3.8/site-packages/fbprophet/forecaster.py:891: FutureWarning: The frame.append method is deprecated and will be removed from pandas in a future version. Use pandas.concat instead.\n",
      "  components = components.append(new_comp)\n",
      "<timed exec>:12: SettingWithCopyWarning: \n",
      "A value is trying to be set on a copy of a slice from a DataFrame.\n",
      "Try using .loc[row_indexer,col_indexer] = value instead\n",
      "\n",
      "See the caveats in the documentation: https://pandas.pydata.org/pandas-docs/stable/user_guide/indexing.html#returning-a-view-versus-a-copy\n",
      "INFO:fbprophet:Disabling daily seasonality. Run prophet with daily_seasonality=True to override this.\n"
     ]
    },
    {
     "name": "stdout",
     "output_type": "stream",
     "text": [
      "Initial log joint probability = -12.4075\n",
      "41\n",
      "    Iter      log prob        ||dx||      ||grad||       alpha      alpha0  # evals  Notes \n",
      "      92       3266.46    0.00046225       215.053   4.321e-06       0.001      146  LS failed, Hessian reset \n",
      "      99       3266.79    0.00102668       200.624      0.5641           1      154   \n",
      "    Iter      log prob        ||dx||      ||grad||       alpha      alpha0  # evals  Notes \n",
      "     146       3267.61   0.000615051       225.934   6.731e-06       0.001      243  LS failed, Hessian reset \n",
      "     199       3267.99   4.00667e-05       74.3976           1           1      307   \n",
      "    Iter      log prob        ||dx||      ||grad||       alpha      alpha0  # evals  Notes \n",
      "     272       3268.11    0.00010194       72.5481   1.395e-06       0.001      431  LS failed, Hessian reset \n",
      "     299       3268.14   1.02778e-05       61.7949     0.04615           1      465   \n",
      "    Iter      log prob        ||dx||      ||grad||       alpha      alpha0  # evals  Notes \n",
      "     317       3268.14   4.27125e-06       72.6438   6.812e-08       0.001      532  LS failed, Hessian reset \n",
      "     367       3268.15   1.53563e-07       60.5223           1           1      600   \n",
      "Optimization terminated normally: \n",
      "  Convergence detected: relative gradient magnitude is below tolerance\n"
     ]
    },
    {
     "name": "stderr",
     "output_type": "stream",
     "text": [
      "/root/.pyenv/versions/3.8.12/envs/business_case_869/lib/python3.8/site-packages/fbprophet/forecaster.py:891: FutureWarning: The frame.append method is deprecated and will be removed from pandas in a future version. Use pandas.concat instead.\n",
      "  components = components.append(new_comp)\n"
     ]
    },
    {
     "name": "stdout",
     "output_type": "stream",
     "text": [
      "Initial log joint probability = -18.3642\n",
      "42\n",
      "    Iter      log prob        ||dx||      ||grad||       alpha      alpha0  # evals  Notes \n",
      "      99        3251.6     0.0048219       203.215           1           1      132   \n",
      "    Iter      log prob        ||dx||      ||grad||       alpha      alpha0  # evals  Notes \n",
      "     158       3253.71   0.000376529       180.737   4.052e-06       0.001      259  LS failed, Hessian reset \n",
      "     199       3254.49   0.000161389       78.6456       0.228           1      311   \n",
      "    Iter      log prob        ||dx||      ||grad||       alpha      alpha0  # evals  Notes \n",
      "     218       3254.53   0.000413063       101.056   6.297e-06       0.001      367  LS failed, Hessian reset \n",
      "     277       3254.55   2.44658e-05       82.3739   3.056e-07       0.001      493  LS failed, Hessian reset \n",
      "     299       3254.55   6.75212e-07       70.3801       1.142       0.439      525   \n",
      "    Iter      log prob        ||dx||      ||grad||       alpha      alpha0  # evals  Notes \n",
      "     303       3254.55    1.1552e-07       69.4152      0.3914           1      533   \n",
      "Optimization terminated normally: \n",
      "  Convergence detected: relative gradient magnitude is below tolerance\n"
     ]
    },
    {
     "name": "stderr",
     "output_type": "stream",
     "text": [
      "<timed exec>:12: SettingWithCopyWarning: \n",
      "A value is trying to be set on a copy of a slice from a DataFrame.\n",
      "Try using .loc[row_indexer,col_indexer] = value instead\n",
      "\n",
      "See the caveats in the documentation: https://pandas.pydata.org/pandas-docs/stable/user_guide/indexing.html#returning-a-view-versus-a-copy\n",
      "INFO:fbprophet:Disabling daily seasonality. Run prophet with daily_seasonality=True to override this.\n",
      "/root/.pyenv/versions/3.8.12/envs/business_case_869/lib/python3.8/site-packages/fbprophet/forecaster.py:891: FutureWarning: The frame.append method is deprecated and will be removed from pandas in a future version. Use pandas.concat instead.\n",
      "  components = components.append(new_comp)\n",
      "<timed exec>:12: SettingWithCopyWarning: \n",
      "A value is trying to be set on a copy of a slice from a DataFrame.\n",
      "Try using .loc[row_indexer,col_indexer] = value instead\n",
      "\n",
      "See the caveats in the documentation: https://pandas.pydata.org/pandas-docs/stable/user_guide/indexing.html#returning-a-view-versus-a-copy\n",
      "INFO:fbprophet:Disabling daily seasonality. Run prophet with daily_seasonality=True to override this.\n"
     ]
    },
    {
     "name": "stdout",
     "output_type": "stream",
     "text": [
      "43\n",
      "Initial log joint probability = -51.516\n",
      "    Iter      log prob        ||dx||      ||grad||       alpha      alpha0  # evals  Notes \n",
      "      99       2836.33     0.0505744       265.253      0.1103           1      132   \n",
      "    Iter      log prob        ||dx||      ||grad||       alpha      alpha0  # evals  Notes \n",
      "     199       2874.81    0.00589713       229.378           1           1      257   \n",
      "    Iter      log prob        ||dx||      ||grad||       alpha      alpha0  # evals  Notes \n",
      "     246       2882.44    0.00358304       165.187   2.925e-05       0.001      357  LS failed, Hessian reset \n",
      "     299       2885.68    0.00625719         157.2           1           1      416   \n",
      "    Iter      log prob        ||dx||      ||grad||       alpha      alpha0  # evals  Notes \n",
      "     326        2890.4   0.000444367       183.033   3.875e-06       0.001      482  LS failed, Hessian reset \n",
      "     399       2897.79    0.00277996       93.6749           1           1      574   \n",
      "    Iter      log prob        ||dx||      ||grad||       alpha      alpha0  # evals  Notes \n",
      "     499       2912.69    0.00172725       109.431      0.3087           1      701   \n",
      "    Iter      log prob        ||dx||      ||grad||       alpha      alpha0  # evals  Notes \n",
      "     599          2913   0.000306414       68.6841     0.03028           1      827   \n",
      "    Iter      log prob        ||dx||      ||grad||       alpha      alpha0  # evals  Notes \n",
      "     600          2913   0.000113265       65.9874   1.649e-06       0.001      882  LS failed, Hessian reset \n",
      "     679       2913.15   1.66239e-05       85.1808   1.886e-07       0.001     1025  LS failed, Hessian reset \n",
      "     699       2913.15   6.83107e-07       95.0821      0.5989      0.5989     1050   \n",
      "    Iter      log prob        ||dx||      ||grad||       alpha      alpha0  # evals  Notes \n",
      "     736       2913.15   2.51367e-07         67.76           1           1     1096   \n",
      "Optimization terminated normally: \n",
      "  Convergence detected: relative gradient magnitude is below tolerance\n"
     ]
    },
    {
     "name": "stderr",
     "output_type": "stream",
     "text": [
      "/root/.pyenv/versions/3.8.12/envs/business_case_869/lib/python3.8/site-packages/fbprophet/forecaster.py:891: FutureWarning: The frame.append method is deprecated and will be removed from pandas in a future version. Use pandas.concat instead.\n",
      "  components = components.append(new_comp)\n"
     ]
    },
    {
     "name": "stdout",
     "output_type": "stream",
     "text": [
      "Initial log joint probability = -53.1211\n",
      "44\n",
      "    Iter      log prob        ||dx||      ||grad||       alpha      alpha0  # evals  Notes \n",
      "      99        3051.3   0.000452164       138.983       0.315       0.315      129   \n",
      "    Iter      log prob        ||dx||      ||grad||       alpha      alpha0  # evals  Notes \n",
      "     199       3056.61   0.000181918       72.0335           1           1      254   \n",
      "    Iter      log prob        ||dx||      ||grad||       alpha      alpha0  # evals  Notes \n",
      "     299        3056.9   0.000120204        83.615      0.6602      0.6602      379   \n",
      "    Iter      log prob        ||dx||      ||grad||       alpha      alpha0  # evals  Notes \n",
      "     318       3056.94   3.15383e-05       90.8003   4.197e-07       0.001      460  LS failed, Hessian reset \n",
      "     399       3057.02   2.19908e-05       58.2879           1           1      556   \n",
      "    Iter      log prob        ||dx||      ||grad||       alpha      alpha0  # evals  Notes \n",
      "     418       3057.02   1.27875e-05       75.3026   2.038e-07       0.001      621  LS failed, Hessian reset \n",
      "     451       3057.02   2.93411e-07       56.6242      0.7292      0.7292      665   \n",
      "Optimization terminated normally: \n",
      "  Convergence detected: relative gradient magnitude is below tolerance\n"
     ]
    },
    {
     "name": "stderr",
     "output_type": "stream",
     "text": [
      "<timed exec>:12: SettingWithCopyWarning: \n",
      "A value is trying to be set on a copy of a slice from a DataFrame.\n",
      "Try using .loc[row_indexer,col_indexer] = value instead\n",
      "\n",
      "See the caveats in the documentation: https://pandas.pydata.org/pandas-docs/stable/user_guide/indexing.html#returning-a-view-versus-a-copy\n",
      "INFO:fbprophet:Disabling daily seasonality. Run prophet with daily_seasonality=True to override this.\n",
      "/root/.pyenv/versions/3.8.12/envs/business_case_869/lib/python3.8/site-packages/fbprophet/forecaster.py:891: FutureWarning: The frame.append method is deprecated and will be removed from pandas in a future version. Use pandas.concat instead.\n",
      "  components = components.append(new_comp)\n"
     ]
    },
    {
     "name": "stdout",
     "output_type": "stream",
     "text": [
      "Initial log joint probability = -26.8181\n",
      "    Iter      log prob        ||dx||      ||grad||       alpha      alpha0  # evals  Notes \n",
      "      99       2859.67    0.00337807        96.102           1           1      126   \n",
      "    Iter      log prob        ||dx||      ||grad||       alpha      alpha0  # evals  Notes \n",
      "     199       2861.93   0.000983638       60.6152           1           1      257   \n",
      "    Iter      log prob        ||dx||      ||grad||       alpha      alpha0  # evals  Notes \n",
      "     236       2862.55     0.0002775       112.614   1.837e-06       0.001      339  LS failed, Hessian reset \n",
      "     288        2863.2   1.83903e-05       54.4954   3.369e-07       0.001      439  LS failed, Hessian reset \n",
      "     299        2863.2   3.66208e-06       68.6347      0.2146      0.2146      455   \n",
      "    Iter      log prob        ||dx||      ||grad||       alpha      alpha0  # evals  Notes \n",
      "     348       2863.28   0.000152643       53.8854   1.913e-06       0.001      568  LS failed, Hessian reset \n",
      "     399       2863.34    0.00025401       62.5703           1           1      629   \n",
      "    Iter      log prob        ||dx||      ||grad||       alpha      alpha0  # evals  Notes \n",
      "     468       2863.36   8.34885e-06       50.7308   1.779e-07       0.001      770  LS failed, Hessian reset \n",
      "     499       2863.36   7.81258e-07       36.9167           1           1      813   \n",
      "    Iter      log prob        ||dx||      ||grad||       alpha      alpha0  # evals  Notes \n",
      "     591       2863.84   0.000704985       229.571   5.304e-06       0.001      988  LS failed, Hessian reset \n",
      "     599       2864.11   0.000493331       93.7877       0.217           1      997   \n",
      "    Iter      log prob        ||dx||      ||grad||       alpha      alpha0  # evals  Notes \n",
      "     699       2864.26   0.000154413       61.0782      0.6832           1     1132   \n",
      "    Iter      log prob        ||dx||      ||grad||       alpha      alpha0  # evals  Notes \n",
      "     761       2864.32   5.36979e-05       56.3483   9.747e-07       0.001     1254  LS failed, Hessian reset \n",
      "     799       2864.32   1.89134e-06       52.4839       0.559       0.559     1304   \n",
      "    Iter      log prob        ||dx||      ||grad||       alpha      alpha0  # evals  Notes \n",
      "     899       2864.36   4.25747e-05       79.7863           1           1     1445   \n",
      "    Iter      log prob        ||dx||      ||grad||       alpha      alpha0  # evals  Notes \n",
      "     985       2864.52    0.00011773       78.4487   1.679e-06       0.001     1602  LS failed, Hessian reset \n",
      "     999       2864.53    2.6937e-05       50.5938           1           1     1619   \n",
      "    Iter      log prob        ||dx||      ||grad||       alpha      alpha0  # evals  Notes \n",
      "    1088       2864.56   3.59572e-05       68.0978   5.771e-07       0.001     1782  LS failed, Hessian reset \n",
      "    1099       2864.56   6.46465e-06       46.0717           1           1     1799   \n",
      "    Iter      log prob        ||dx||      ||grad||       alpha      alpha0  # evals  Notes \n",
      "    1132       2864.56   7.91138e-06       67.5627    1.03e-07       0.001     1881  LS failed, Hessian reset \n",
      "    1143       2864.56   1.6477245\n",
      "e-07        54.584     0.06366           1     1895   \n",
      "Optimization terminated normally: \n",
      "  Convergence detected: relative gradient magnitude is below tolerance\n"
     ]
    },
    {
     "name": "stderr",
     "output_type": "stream",
     "text": [
      "<timed exec>:12: SettingWithCopyWarning: \n",
      "A value is trying to be set on a copy of a slice from a DataFrame.\n",
      "Try using .loc[row_indexer,col_indexer] = value instead\n",
      "\n",
      "See the caveats in the documentation: https://pandas.pydata.org/pandas-docs/stable/user_guide/indexing.html#returning-a-view-versus-a-copy\n",
      "INFO:fbprophet:Disabling daily seasonality. Run prophet with daily_seasonality=True to override this.\n",
      "/root/.pyenv/versions/3.8.12/envs/business_case_869/lib/python3.8/site-packages/fbprophet/forecaster.py:891: FutureWarning: The frame.append method is deprecated and will be removed from pandas in a future version. Use pandas.concat instead.\n",
      "  components = components.append(new_comp)\n"
     ]
    },
    {
     "name": "stdout",
     "output_type": "stream",
     "text": [
      "46\n",
      "Initial log joint probability = -14.6819\n",
      "    Iter      log prob        ||dx||      ||grad||       alpha      alpha0  # evals  Notes \n",
      "      99       3396.28    0.00611094       220.418       0.783       0.783      120   \n",
      "    Iter      log prob        ||dx||      ||grad||       alpha      alpha0  # evals  Notes \n",
      "     181       3399.07   0.000104818       84.9537   1.298e-06       0.001      277  LS failed, Hessian reset \n",
      "     199       3399.18   0.000265235       47.2447      0.1874           1      303   \n",
      "    Iter      log prob        ||dx||      ||grad||       alpha      alpha0  # evals  Notes \n",
      "     212       3399.23   0.000111056        103.92   1.426e-06       0.001      360  LS failed, Hessian reset \n",
      "     231       3399.31   0.000113012       73.5851   2.858e-06       0.001      416  LS failed, Hessian reset \n",
      "     262        3399.4   0.000746176       90.7921   1.198e-05       0.001      498  LS failed, Hessian reset \n",
      "     299       3399.47   0.000422601       54.9394           1           1      546   \n",
      "    Iter      log prob        ||dx||      ||grad||       alpha      alpha0  # evals  Notes \n",
      "     343       3399.96   0.000161055       92.8676   7.111e-07       0.001      645  LS failed, Hessian reset \n",
      "     388       3400.36   8.72272e-05       80.5181   1.447e-06       0.001      751  LS failed, Hessian reset \n",
      "     399       3400.39    0.00022087          63.1           1           1      767   \n",
      "    Iter      log prob        ||dx||      ||grad||       alpha      alpha0  # evals  Notes \n",
      "     434       3400.46   0.000259066       88.1338   3.692e-06       0.001      838  LS failed, Hessian reset \n",
      "     499       3400.49     9.172e-05       69.7386       0.262           1      919   \n",
      "    Iter      log prob        ||dx||      ||grad||       alpha      alpha0  # evals  Notes \n",
      "     520       3400.74    0.00154854       320.355   1.602e-05       0.001      984  LS failed, Hessian reset \n",
      "     576       3400.93   6.72076e-05       69.0165    8.26e-07       0.001     1100  LS failed, Hessian reset \n",
      "     599       3400.93   4.01317e-07       74.1019     0.03557           1     1134   \n",
      "    Iter      log prob        ||dx||      ||grad||       alpha      alpha0  # evals  Notes \n",
      "     611       3400.93   2.89537e-07       63.6242      0.2503           1     1150   \n",
      "Optimization terminated normally: \n",
      "  Convergence detected: relative gradient magnitude is below tolerance\n"
     ]
    },
    {
     "name": "stderr",
     "output_type": "stream",
     "text": [
      "<timed exec>:12: SettingWithCopyWarning: \n",
      "A value is trying to be set on a copy of a slice from a DataFrame.\n",
      "Try using .loc[row_indexer,col_indexer] = value instead\n",
      "\n",
      "See the caveats in the documentation: https://pandas.pydata.org/pandas-docs/stable/user_guide/indexing.html#returning-a-view-versus-a-copy\n",
      "INFO:fbprophet:Disabling daily seasonality. Run prophet with daily_seasonality=True to override this.\n",
      "/root/.pyenv/versions/3.8.12/envs/business_case_869/lib/python3.8/site-packages/fbprophet/forecaster.py:891: FutureWarning: The frame.append method is deprecated and will be removed from pandas in a future version. Use pandas.concat instead.\n",
      "  components = components.append(new_comp)\n"
     ]
    },
    {
     "name": "stdout",
     "output_type": "stream",
     "text": [
      "Initial log joint probability = -32.2645\n",
      "47\n",
      "    Iter      log prob        ||dx||      ||grad||       alpha      alpha0  # evals  Notes \n",
      "      99       2851.79    0.00110281       107.028      0.6375      0.6375      120   \n",
      "    Iter      log prob        ||dx||      ||grad||       alpha      alpha0  # evals  Notes \n",
      "     129       2852.85   0.000426537       107.411   5.533e-06       0.001      198  LS failed, Hessian reset \n",
      "     199       2853.04   7.48006e-07       64.0719       0.492       0.492      292   \n",
      "    Iter      log prob        ||dx||      ||grad||       alpha      alpha0  # evals  Notes \n",
      "     229       2853.04   7.15405e-06       78.0534   7.617e-08       0.001      378  LS failed, Hessian reset \n",
      "     238       2853.04   1.70043e-07       65.1648     0.01645           1      391   \n",
      "Optimization terminated normally: \n",
      "  Convergence detected: relative gradient magnitude is below tolerance\n"
     ]
    },
    {
     "name": "stderr",
     "output_type": "stream",
     "text": [
      "<timed exec>:12: SettingWithCopyWarning: \n",
      "A value is trying to be set on a copy of a slice from a DataFrame.\n",
      "Try using .loc[row_indexer,col_indexer] = value instead\n",
      "\n",
      "See the caveats in the documentation: https://pandas.pydata.org/pandas-docs/stable/user_guide/indexing.html#returning-a-view-versus-a-copy\n",
      "INFO:fbprophet:Disabling daily seasonality. Run prophet with daily_seasonality=True to override this.\n",
      "/root/.pyenv/versions/3.8.12/envs/business_case_869/lib/python3.8/site-packages/fbprophet/forecaster.py:891: FutureWarning: The frame.append method is deprecated and will be removed from pandas in a future version. Use pandas.concat instead.\n",
      "  components = components.append(new_comp)\n"
     ]
    },
    {
     "name": "stdout",
     "output_type": "stream",
     "text": [
      "Initial log joint probability = -28.6404\n",
      "    Iter      log prob        ||dx||      ||grad||       alpha      alpha0  # evals  Notes \n",
      "      99       2926.76     0.0166894       191.344           1           1      127   \n",
      "    Iter      log prob        ||dx||      ||grad||       alpha      alpha0  # evals  Notes \n",
      "     136       2927.98    0.00231928       102.589   4.034e-05       0.001      215  LS failed, Hessian reset \n",
      "     199        2928.2   0.000385447       68.8926      0.8757      0.8757      302   \n",
      "    Iter      log prob        ||dx||      ||grad||       alpha      alpha0  # evals  Notes \n",
      "     299       2928.73   1.12827e-05       72.2688           1           1      432   \n",
      "    Iter      log prob        ||dx||      ||grad||       alpha      alpha0  # evals  Notes \n",
      "     362       2929.13   0.000926691       108.058    1.63e-05       0.001      553  LS failed, Hessian reset \n",
      "     399       2929.35   0.000327718       66.0569           1           1      596   \n",
      "    Iter      log prob        ||dx||      ||grad||       alpha      alpha0  # evals  Notes \n",
      "     451       2929.39   1.31746e-07       38.0882      0.8113     0.08113      677   \n",
      "Optimization terminated normally: \n",
      "  Convergence detected: relative gradient magnitude is below tolerance\n",
      "48\n"
     ]
    },
    {
     "name": "stderr",
     "output_type": "stream",
     "text": [
      "<timed exec>:12: SettingWithCopyWarning: \n",
      "A value is trying to be set on a copy of a slice from a DataFrame.\n",
      "Try using .loc[row_indexer,col_indexer] = value instead\n",
      "\n",
      "See the caveats in the documentation: https://pandas.pydata.org/pandas-docs/stable/user_guide/indexing.html#returning-a-view-versus-a-copy\n",
      "INFO:fbprophet:Disabling daily seasonality. Run prophet with daily_seasonality=True to override this.\n",
      "/root/.pyenv/versions/3.8.12/envs/business_case_869/lib/python3.8/site-packages/fbprophet/forecaster.py:891: FutureWarning: The frame.append method is deprecated and will be removed from pandas in a future version. Use pandas.concat instead.\n",
      "  components = components.append(new_comp)\n"
     ]
    },
    {
     "name": "stdout",
     "output_type": "stream",
     "text": [
      "49\n",
      "Initial log joint probability = -28.4598\n",
      "    Iter      log prob        ||dx||      ||grad||       alpha      alpha0  # evals  Notes \n",
      "      99        2922.5   0.000313986        99.583      0.1463      0.1463      127   \n",
      "    Iter      log prob        ||dx||      ||grad||       alpha      alpha0  # evals  Notes \n",
      "     133       2922.78    5.9757e-05       62.3174   9.187e-07       0.001      221  LS failed, Hessian reset \n",
      "     174        2922.8   8.29542e-05       65.3215   9.945e-07       0.001      316  LS failed, Hessian reset \n",
      "     194       2922.81   2.64701e-06       61.2217   5.715e-08       0.001      384  LS failed, Hessian reset \n",
      "     199       2922.81   4.89246e-07       41.9101      0.7144      0.7144      390   \n",
      "    Iter      log prob        ||dx||      ||grad||       alpha      alpha0  # evals  Notes \n",
      "     208       2922.81   1.44953e-08       45.9824     0.06691           1      406   \n",
      "Optimization terminated normally: \n",
      "  Convergence detected: relative gradient magnitude is below tolerance\n"
     ]
    },
    {
     "name": "stderr",
     "output_type": "stream",
     "text": [
      "<timed exec>:12: SettingWithCopyWarning: \n",
      "A value is trying to be set on a copy of a slice from a DataFrame.\n",
      "Try using .loc[row_indexer,col_indexer] = value instead\n",
      "\n",
      "See the caveats in the documentation: https://pandas.pydata.org/pandas-docs/stable/user_guide/indexing.html#returning-a-view-versus-a-copy\n",
      "INFO:fbprophet:Disabling daily seasonality. Run prophet with daily_seasonality=True to override this.\n",
      "/root/.pyenv/versions/3.8.12/envs/business_case_869/lib/python3.8/site-packages/fbprophet/forecaster.py:891: FutureWarning: The frame.append method is deprecated and will be removed from pandas in a future version. Use pandas.concat instead.\n",
      "  components = components.append(new_comp)\n"
     ]
    },
    {
     "name": "stdout",
     "output_type": "stream",
     "text": [
      "Initial log joint probability = -18.3313\n",
      "5\n",
      "    Iter      log prob        ||dx||      ||grad||       alpha      alpha0  # evals  Notes \n",
      "      99       2939.71     0.0108171       108.192      0.4514      0.4514      122   \n",
      "    Iter      log prob        ||dx||      ||grad||       alpha      alpha0  # evals  Notes \n",
      "     199        2942.3   0.000400333       72.2993      0.5428      0.5428      256   \n",
      "    Iter      log prob        ||dx||      ||grad||       alpha      alpha0  # evals  Notes \n",
      "     211       2942.63   0.000249136       101.392   1.819e-06       0.001      304  LS failed, Hessian reset \n",
      "     274          2943   0.000153819       74.0426   1.795e-06       0.001      427  LS failed, Hessian reset \n",
      "     299       2943.02   0.000160364         63.31           1           1      458   \n",
      "    Iter      log prob        ||dx||      ||grad||       alpha      alpha0  # evals  Notes \n",
      "     355       2943.06   2.41036e-05       79.4094   3.564e-07       0.001      579  LS failed, Hessian reset \n",
      "     399       2943.08   0.000271445       58.7719           1           1      645   \n",
      "    Iter      log prob        ||dx||      ||grad||       alpha      alpha0  # evals  Notes \n",
      "     499       2943.19   9.86796e-05       43.1518      0.7653      0.7653      772   \n",
      "    Iter      log prob        ||dx||      ||grad||       alpha      alpha0  # evals  Notes \n",
      "     599       2943.24   3.37771e-05        63.237           1           1      898   \n",
      "    Iter      log prob        ||dx||      ||grad||       alpha      alpha0  # evals  Notes \n",
      "     699       2943.62   0.000379413       138.963      0.4148      0.4148     1018   \n",
      "    Iter      log prob        ||dx||      ||grad||       alpha      alpha0  # evals  Notes \n",
      "     705       2943.94    0.00052419       188.052   5.004e-06       0.001     1067  LS failed, Hessian reset \n",
      "     776       2944.19   6.88228e-05       68.7164   9.971e-07       0.001     1205  LS failed, Hessian reset \n",
      "     799       2944.19    4.6642e-07       65.5457      0.3889      0.3889     1236   \n",
      "    Iter      log prob        ||dx||      ||grad||       alpha      alpha0  # evals  Notes \n",
      "     801       2944.19   3.45098e-07       61.8322      0.5731      0.5731     1238   \n",
      "Optimization terminated normally: \n",
      "  Convergence detected: relative gradient magnitude is below tolerance\n"
     ]
    },
    {
     "name": "stderr",
     "output_type": "stream",
     "text": [
      "<timed exec>:12: SettingWithCopyWarning: \n",
      "A value is trying to be set on a copy of a slice from a DataFrame.\n",
      "Try using .loc[row_indexer,col_indexer] = value instead\n",
      "\n",
      "See the caveats in the documentation: https://pandas.pydata.org/pandas-docs/stable/user_guide/indexing.html#returning-a-view-versus-a-copy\n",
      "INFO:fbprophet:Disabling daily seasonality. Run prophet with daily_seasonality=True to override this.\n",
      "/root/.pyenv/versions/3.8.12/envs/business_case_869/lib/python3.8/site-packages/fbprophet/forecaster.py:891: FutureWarning: The frame.append method is deprecated and will be removed from pandas in a future version. Use pandas.concat instead.\n",
      "  components = components.append(new_comp)\n"
     ]
    },
    {
     "name": "stdout",
     "output_type": "stream",
     "text": [
      "Initial log joint probability = -30.4939\n",
      "50\n",
      "    Iter      log prob        ||dx||      ||grad||       alpha      alpha0  # evals  Notes \n",
      "      99       3038.67    0.00154949        83.225      0.4406      0.4406      117   \n",
      "    Iter      log prob        ||dx||      ||grad||       alpha      alpha0  # evals  Notes \n",
      "     133       3040.35   0.000381465       91.2867   1.147e-06       0.001      209  LS failed, Hessian reset \n",
      "     199       3041.64   2.95787e-05       82.9972      0.6018      0.6018      296   \n",
      "    Iter      log prob        ||dx||      ||grad||       alpha      alpha0  # evals  Notes \n",
      "     231       3041.81   0.000554775       191.067   5.095e-06       0.001      370  LS failed, Hessian reset \n",
      "     299       3041.93   3.97213e-06        70.951       0.551       0.551      460   \n",
      "    Iter      log prob        ||dx||      ||grad||       alpha      alpha0  # evals  Notes \n",
      "     313       3041.94   3.06641e-05       65.2528   4.095e-07       0.001      520  LS failed, Hessian reset \n",
      "     399       3041.95   0.000281954       59.4099           1           1      633   \n",
      "    Iter      log prob        ||dx||      ||grad||       alpha      alpha0  # evals  Notes \n",
      "     410       3041.97   0.000200005       73.4733   3.079e-06       0.001      682  LS failed, Hessian reset \n",
      "     451       3041.98   1.13873e-06        68.384   1.824e-08       0.001      769  LS failed, Hessian reset \n",
      "     454       3041.98   1.16096e-07       70.7118      0.1861           1      773   \n",
      "Optimization terminated normally: \n",
      "  Convergence detected: relative gradient magnitude is below tolerance\n"
     ]
    },
    {
     "name": "stderr",
     "output_type": "stream",
     "text": [
      "<timed exec>:12: SettingWithCopyWarning: \n",
      "A value is trying to be set on a copy of a slice from a DataFrame.\n",
      "Try using .loc[row_indexer,col_indexer] = value instead\n",
      "\n",
      "See the caveats in the documentation: https://pandas.pydata.org/pandas-docs/stable/user_guide/indexing.html#returning-a-view-versus-a-copy\n",
      "INFO:fbprophet:Disabling daily seasonality. Run prophet with daily_seasonality=True to override this.\n",
      "/root/.pyenv/versions/3.8.12/envs/business_case_869/lib/python3.8/site-packages/fbprophet/forecaster.py:891: FutureWarning: The frame.append method is deprecated and will be removed from pandas in a future version. Use pandas.concat instead.\n",
      "  components = components.append(new_comp)\n"
     ]
    },
    {
     "name": "stdout",
     "output_type": "stream",
     "text": [
      "51\n",
      "Initial log joint probability = -28.0437\n",
      "    Iter      log prob        ||dx||      ||grad||       alpha      alpha0  # evals  Notes \n",
      "      91       3041.69   0.000246343        118.28   2.155e-06       0.001      148  LS failed, Hessian reset \n",
      "      99       3042.79    0.00113773       78.9894      0.2975      0.8882      158   \n",
      "    Iter      log prob        ||dx||      ||grad||       alpha      alpha0  # evals  Notes \n",
      "     150       3044.22   0.000568661       233.174   3.408e-06       0.001      272  LS failed, Hessian reset \n",
      "     199       3044.71   6.55059e-06       57.5201      0.3518      0.3518      342   \n",
      "    Iter      log prob        ||dx||      ||grad||       alpha      alpha0  # evals  Notes \n",
      "     231       3044.71   4.02367e-06       67.4679   7.332e-08       0.001      421  LS failed, Hessian reset \n",
      "     251       3044.71   1.51958e-07       67.8546      0.2594      0.2594      446   \n",
      "Optimization terminated normally: \n",
      "  Convergence detected: relative gradient magnitude is below tolerance\n"
     ]
    },
    {
     "name": "stderr",
     "output_type": "stream",
     "text": [
      "<timed exec>:12: SettingWithCopyWarning: \n",
      "A value is trying to be set on a copy of a slice from a DataFrame.\n",
      "Try using .loc[row_indexer,col_indexer] = value instead\n",
      "\n",
      "See the caveats in the documentation: https://pandas.pydata.org/pandas-docs/stable/user_guide/indexing.html#returning-a-view-versus-a-copy\n",
      "INFO:fbprophet:Disabling daily seasonality. Run prophet with daily_seasonality=True to override this.\n",
      "/root/.pyenv/versions/3.8.12/envs/business_case_869/lib/python3.8/site-packages/fbprophet/forecaster.py:891: FutureWarning: The frame.append method is deprecated and will be removed from pandas in a future version. Use pandas.concat instead.\n",
      "  components = components.append(new_comp)\n",
      "<timed exec>:12: SettingWithCopyWarning: \n",
      "A value is trying to be set on a copy of a slice from a DataFrame.\n",
      "Try using .loc[row_indexer,col_indexer] = value instead\n",
      "\n",
      "See the caveats in the documentation: https://pandas.pydata.org/pandas-docs/stable/user_guide/indexing.html#returning-a-view-versus-a-copy\n",
      "INFO:fbprophet:Disabling daily seasonality. Run prophet with daily_seasonality=True to override this.\n"
     ]
    },
    {
     "name": "stdout",
     "output_type": "stream",
     "text": [
      "Initial log joint probability = -28.6711\n",
      "    Iter      log prob        ||dx||      ||grad||       alpha      alpha0  # evals  Notes \n",
      "      77       2813.38   0.000321304       107.795   2.833e-06       0.001      144  LS failed, Hessian reset \n",
      "      99       2813.92   7.90403e-05       54.1492           1           1      180   \n",
      "    Iter      log prob        ||dx||      ||grad||       alpha      alpha0  # evals  Notes \n",
      "     122        2814.2   0.000224406       73.6986   2.055e-06       0.001      252  LS failed, Hessian reset \n",
      "     199        2814.7   5.49364e-05       58.3852      0.3671      0.3671      356   \n",
      "    Iter      log prob        ||dx||      ||grad||       alpha      alpha0  # evals  Notes \n",
      "     238       2814.78    3.6809e-07       51.7767           1           1      417   \n",
      "Optimization terminated normally: \n",
      "  Convergence detected: relative gradient magnitude is below tolerance\n",
      "52\n"
     ]
    },
    {
     "name": "stderr",
     "output_type": "stream",
     "text": [
      "/root/.pyenv/versions/3.8.12/envs/business_case_869/lib/python3.8/site-packages/fbprophet/forecaster.py:891: FutureWarning: The frame.append method is deprecated and will be removed from pandas in a future version. Use pandas.concat instead.\n",
      "  components = components.append(new_comp)\n",
      "<timed exec>:12: SettingWithCopyWarning: \n",
      "A value is trying to be set on a copy of a slice from a DataFrame.\n",
      "Try using .loc[row_indexer,col_indexer] = value instead\n",
      "\n",
      "See the caveats in the documentation: https://pandas.pydata.org/pandas-docs/stable/user_guide/indexing.html#returning-a-view-versus-a-copy\n"
     ]
    },
    {
     "name": "stdout",
     "output_type": "stream",
     "text": [
      "53\n"
     ]
    },
    {
     "name": "stderr",
     "output_type": "stream",
     "text": [
      "INFO:fbprophet:Disabling daily seasonality. Run prophet with daily_seasonality=True to override this.\n",
      "/root/.pyenv/versions/3.8.12/envs/business_case_869/lib/python3.8/site-packages/fbprophet/forecaster.py:891: FutureWarning: The frame.append method is deprecated and will be removed from pandas in a future version. Use pandas.concat instead.\n",
      "  components = components.append(new_comp)\n"
     ]
    },
    {
     "name": "stdout",
     "output_type": "stream",
     "text": [
      "54\n",
      "Initial log joint probability = -60.6334\n",
      "    Iter      log prob        ||dx||      ||grad||       alpha      alpha0  # evals  Notes \n",
      "      99        3148.9    0.00194424       224.899      0.2537      0.2537      131   \n",
      "    Iter      log prob        ||dx||      ||grad||       alpha      alpha0  # evals  Notes \n",
      "     199       3173.27     0.0174053       246.761       5.096      0.5096      258   \n",
      "    Iter      log prob        ||dx||      ||grad||       alpha      alpha0  # evals  Notes \n",
      "     225       3174.55   0.000149806       105.288   1.257e-06       0.001      330  LS failed, Hessian reset \n",
      "     299        3176.7    0.00616204       87.4399           1           1      426   \n",
      "    Iter      log prob        ||dx||      ||grad||       alpha      alpha0  # evals  Notes \n",
      "     330       3178.38   0.000489669       199.651   5.401e-06       0.001      511  LS failed, Hessian reset \n",
      "     399       3178.93   0.000153342       74.4356      0.2786           1      602   \n",
      "    Iter      log prob        ||dx||      ||grad||       alpha      alpha0  # evals  Notes \n",
      "     463       3178.98   2.94319e-05       92.8231    3.52e-07       0.001      716  LS failed, Hessian reset \n",
      "     484       3178.98   7.55738e-08       68.5884      0.2749      0.2749      747   \n",
      "Optimization terminated normally: \n",
      "  Convergence detected: relative gradient magnitude is below tolerance\n"
     ]
    },
    {
     "name": "stderr",
     "output_type": "stream",
     "text": [
      "<timed exec>:12: SettingWithCopyWarning: \n",
      "A value is trying to be set on a copy of a slice from a DataFrame.\n",
      "Try using .loc[row_indexer,col_indexer] = value instead\n",
      "\n",
      "See the caveats in the documentation: https://pandas.pydata.org/pandas-docs/stable/user_guide/indexing.html#returning-a-view-versus-a-copy\n",
      "INFO:fbprophet:Disabling daily seasonality. Run prophet with daily_seasonality=True to override this.\n",
      "/root/.pyenv/versions/3.8.12/envs/business_case_869/lib/python3.8/site-packages/fbprophet/forecaster.py:891: FutureWarning: The frame.append method is deprecated and will be removed from pandas in a future version. Use pandas.concat instead.\n",
      "  components = components.append(new_comp)\n"
     ]
    },
    {
     "name": "stdout",
     "output_type": "stream",
     "text": [
      "Initial log joint probability = -28.9905\n",
      "6\n",
      "    Iter      log prob        ||dx||      ||grad||       alpha      alpha0  # evals  Notes \n",
      "      99       3304.49   0.000343943       244.858      0.3759      0.3759      146   \n",
      "    Iter      log prob        ||dx||      ||grad||       alpha      alpha0  # evals  Notes \n",
      "     141       3306.81   0.000211654       128.113   9.643e-07       0.001      249  LS failed, Hessian reset \n",
      "     199       3308.42   0.000181264       66.5818           1           1      326   \n",
      "    Iter      log prob        ||dx||      ||grad||       alpha      alpha0  # evals  Notes \n",
      "     231       3309.24    0.00165787       354.108   1.178e-05       0.001      406  LS failed, Hessian reset \n",
      "     299       3310.16   5.15916e-06       78.9649           1           1      500   \n",
      "    Iter      log prob        ||dx||      ||grad||       alpha      alpha0  # evals  Notes \n",
      "     312       3310.18   0.000273757       99.6825    3.91e-06       0.001      562  LS failed, Hessian reset \n",
      "     369        3310.2   2.04634e-08       57.7337     0.02099      0.5831      643   \n",
      "Optimization terminated normally: \n",
      "  Convergence detected: relative gradient magnitude is below tolerance\n"
     ]
    },
    {
     "name": "stderr",
     "output_type": "stream",
     "text": [
      "<timed exec>:12: SettingWithCopyWarning: \n",
      "A value is trying to be set on a copy of a slice from a DataFrame.\n",
      "Try using .loc[row_indexer,col_indexer] = value instead\n",
      "\n",
      "See the caveats in the documentation: https://pandas.pydata.org/pandas-docs/stable/user_guide/indexing.html#returning-a-view-versus-a-copy\n",
      "INFO:fbprophet:Disabling daily seasonality. Run prophet with daily_seasonality=True to override this.\n",
      "/root/.pyenv/versions/3.8.12/envs/business_case_869/lib/python3.8/site-packages/fbprophet/forecaster.py:891: FutureWarning: The frame.append method is deprecated and will be removed from pandas in a future version. Use pandas.concat instead.\n",
      "  components = components.append(new_comp)\n"
     ]
    },
    {
     "name": "stdout",
     "output_type": "stream",
     "text": [
      "Initial log joint probability = -23.7664\n",
      "7\n",
      "    Iter      log prob        ||dx||      ||grad||       alpha      alpha0  # evals  Notes \n",
      "      99          3102    0.00400701       168.294      0.1206      0.8132      125   \n",
      "    Iter      log prob        ||dx||      ||grad||       alpha      alpha0  # evals  Notes \n",
      "     145       3104.73   0.000200417        77.424   1.062e-06       0.001      228  LS failed, Hessian reset \n",
      "     199       3105.61   0.000367104       50.2269           1           1      298   \n",
      "    Iter      log prob        ||dx||      ||grad||       alpha      alpha0  # evals  Notes \n",
      "     228       3105.96    0.00035497       139.022   6.286e-06       0.001      373  LS failed, Hessian reset \n",
      "     275       3106.15   7.77217e-05       66.0245   9.988e-07       0.001      481  LS failed, Hessian reset \n",
      "     285       3106.16   1.27356e-05       63.2734   2.166e-07       0.001      531  LS failed, Hessian reset \n",
      "     299       3106.16   5.11476e-06       55.3533      0.4437      0.4437      549   \n",
      "    Iter      log prob        ||dx||      ||grad||       alpha      alpha0  # evals  Notes \n",
      "     316       3106.16   1.41159e-05       63.6814   1.981e-07       0.001      620  LS failed, Hessian reset \n",
      "     346       3106.16   2.84405e-07       56.5344           1           1      663   \n",
      "Optimization terminated normally: \n",
      "  Convergence detected: relative gradient magnitude is below tolerance\n"
     ]
    },
    {
     "name": "stderr",
     "output_type": "stream",
     "text": [
      "<timed exec>:12: SettingWithCopyWarning: \n",
      "A value is trying to be set on a copy of a slice from a DataFrame.\n",
      "Try using .loc[row_indexer,col_indexer] = value instead\n",
      "\n",
      "See the caveats in the documentation: https://pandas.pydata.org/pandas-docs/stable/user_guide/indexing.html#returning-a-view-versus-a-copy\n",
      "INFO:fbprophet:Disabling daily seasonality. Run prophet with daily_seasonality=True to override this.\n",
      "/root/.pyenv/versions/3.8.12/envs/business_case_869/lib/python3.8/site-packages/fbprophet/forecaster.py:891: FutureWarning: The frame.append method is deprecated and will be removed from pandas in a future version. Use pandas.concat instead.\n",
      "  components = components.append(new_comp)\n"
     ]
    },
    {
     "name": "stdout",
     "output_type": "stream",
     "text": [
      "Initial log joint probability = -28.8411\n",
      "    Iter      log prob        ||dx||      ||grad||       alpha      alpha0  # evals  Notes \n",
      "      99       2928.82   0.000741318       87.3668           1           1      126   \n",
      "    Iter      log prob        ||dx||      ||grad||       alpha      alpha0  # evals  Notes \n",
      "     199       2935.96   0.000504111       66.6514           1           1      263   \n",
      "    Iter      log prob        ||dx||      ||grad||       alpha      alpha0  # evals  Notes \n",
      "     207       2936.09   0.000187449       80.8429   1.991e-06       0.001      315  LS failed, Hessian reset \n",
      "     289       2936.65   0.000319844       124.681   4.115e-06       0.001      462  LS failed, Hessian reset \n",
      "     299       2936.93   0.000474439        70.055      0.9288      0.9288      472   \n",
      "    Iter      log prob        ||dx||      ||grad||       alpha      alpha0  # evals  Notes \n",
      "     336       2937.05   8.26346e-05       73.4278   1.247e-06       0.001      567  LS failed, Hessian reset \n",
      "     399       2937.06   1.22418e-05  8\n",
      "     95.3034      0.8001      0.8001      656   \n",
      "    Iter      log prob        ||dx||      ||grad||       alpha      alpha0  # evals  Notes \n",
      "     460       2937.46   0.000281039       122.374   2.257e-06       0.001      784  LS failed, Hessian reset \n",
      "     499       2937.76   6.29294e-05       70.9025           1           1      836   \n",
      "    Iter      log prob        ||dx||      ||grad||       alpha      alpha0  # evals  Notes \n",
      "     522       2937.78   8.10002e-05       75.3269   1.088e-06       0.001      919  LS failed, Hessian reset \n",
      "     585        2937.8   1.78616e-05       57.8168   3.214e-07       0.001     1038  LS failed, Hessian reset \n",
      "     599        2937.8     3.313e-06       50.3302           1           1     1055   \n",
      "    Iter      log prob        ||dx||      ||grad||       alpha      alpha0  # evals  Notes \n",
      "     699       2938.59    0.00466774       115.435           1           1     1193   \n",
      "    Iter      log prob        ||dx||      ||grad||       alpha      alpha0  # evals  Notes \n",
      "     799       2941.86   0.000186564       87.5349   1.759e-06       0.001     1348  LS failed, Hessian reset \n",
      "    Iter      log prob        ||dx||      ||grad||       alpha      alpha0  # evals  Notes \n",
      "     843        2941.9   2.40741e-05       73.1807    3.42e-07       0.001     1453  LS failed, Hessian reset \n",
      "     880       2941.91   2.04508e-07       48.6641           1           1     1504   \n",
      "Optimization terminated normally: \n",
      "  Convergence detected: relative gradient magnitude is below tolerance\n"
     ]
    },
    {
     "name": "stderr",
     "output_type": "stream",
     "text": [
      "<timed exec>:12: SettingWithCopyWarning: \n",
      "A value is trying to be set on a copy of a slice from a DataFrame.\n",
      "Try using .loc[row_indexer,col_indexer] = value instead\n",
      "\n",
      "See the caveats in the documentation: https://pandas.pydata.org/pandas-docs/stable/user_guide/indexing.html#returning-a-view-versus-a-copy\n",
      "INFO:fbprophet:Disabling daily seasonality. Run prophet with daily_seasonality=True to override this.\n",
      "/root/.pyenv/versions/3.8.12/envs/business_case_869/lib/python3.8/site-packages/fbprophet/forecaster.py:891: FutureWarning: The frame.append method is deprecated and will be removed from pandas in a future version. Use pandas.concat instead.\n",
      "  components = components.append(new_comp)\n"
     ]
    },
    {
     "name": "stdout",
     "output_type": "stream",
     "text": [
      "Initial log joint probability = -27.5919\n",
      "9\n",
      "    Iter      log prob        ||dx||      ||grad||       alpha      alpha0  # evals  Notes \n",
      "      99       2870.43    0.00269025       57.8249           1           1      135   \n",
      "    Iter      log prob        ||dx||      ||grad||       alpha      alpha0  # evals  Notes \n",
      "     127       2871.78   0.000675695       204.085   7.269e-06       0.001      207  LS failed, Hessian reset \n",
      "     199       2873.42   0.000252428       70.9671      0.3516      0.3516      301   \n",
      "    Iter      log prob        ||dx||      ||grad||       alpha      alpha0  # evals  Notes \n",
      "     224       2873.73    0.00458446       219.254   9.244e-05       0.001      371  LS failed, Hessian reset \n",
      "     261          2874   0.000225156       102.929   3.373e-06       0.001      453  LS failed, Hessian reset \n",
      "     299       2874.04   0.000111745       77.7327           1           1      503   \n",
      "    Iter      log prob        ||dx||      ||grad||       alpha      alpha0  # evals  Notes \n",
      "     317       2874.29   0.000599796       149.208   8.295e-06       0.001      554  LS failed, Hessian reset \n",
      "     387       2874.48   0.000173772       53.8463   2.638e-06       0.001      697  LS failed, Hessian reset \n",
      "     399       2874.49   6.78606e-05       50.9482           1           1      713   \n",
      "    Iter      log prob        ||dx||      ||grad||       alpha      alpha0  # evals  Notes \n",
      "     499       2874.74    0.00436865       99.7869           1           1      843   \n",
      "    Iter      log prob        ||dx||      ||grad||       alpha      alpha0  # evals  Notes \n",
      "     502       2874.77   0.000269149       133.227   3.055e-06       0.001      896  LS failed, Hessian reset \n",
      "     550       2874.86   3.12043e-08       55.5545   0.0008985           1      965   \n",
      "Optimization terminated normally: \n",
      "  Convergence detected: relative gradient magnitude is below tolerance\n"
     ]
    },
    {
     "name": "stderr",
     "output_type": "stream",
     "text": [
      "<timed exec>:12: SettingWithCopyWarning: \n",
      "A value is trying to be set on a copy of a slice from a DataFrame.\n",
      "Try using .loc[row_indexer,col_indexer] = value instead\n",
      "\n",
      "See the caveats in the documentation: https://pandas.pydata.org/pandas-docs/stable/user_guide/indexing.html#returning-a-view-versus-a-copy\n",
      "INFO:fbprophet:Disabling daily seasonality. Run prophet with daily_seasonality=True to override this.\n",
      "/root/.pyenv/versions/3.8.12/envs/business_case_869/lib/python3.8/site-packages/fbprophet/forecaster.py:891: FutureWarning: The frame.append method is deprecated and will be removed from pandas in a future version. Use pandas.concat instead.\n",
      "  components = components.append(new_comp)\n"
     ]
    },
    {
     "name": "stdout",
     "output_type": "stream",
     "text": [
      "Initial log joint probability = -23.8448\n",
      "    Iter      log prob        ||dx||      ||grad||       alpha      alpha0  # evals  Notes \n",
      "      99       2940.22    0.00231741        107.51           1           1      139   \n",
      "    Iter      log prob        ||dx||      ||grad||       alpha      alpha0  # evals  Notes \n",
      "     106       2940.52   0.000216086       86.0131   1.809e-06       0.001      180  LS failed, Hessian reset \n",
      "     199       2942.43   2.36482e-05       81.5199           1           1      297   \n",
      "    Iter      log prob        ||dx||      ||grad||       alpha      alpha0  # evals  Notes \n",
      "     299       2942.58   5.74601e-07       69.8324     0.08375           1      429   \n",
      "    Iter      log prob        ||dx||      ||grad||       alpha      alpha0  # evals  Notes \n",
      "     399       2942.61   1.76073e-06       74.2038       1.447      0.1447      548   \n",
      "    Iter      log prob        ||dx||      ||grad||       alpha      alpha0  # evals  Notes \n",
      "     413       2942.61   3.67658e-07       79.4297      0.2036           1      565   \n",
      "Optimization terminated normally: \n",
      "  Convergence detected: relative gradient magnitude is below tolerance\n",
      "CPU times: user 24.2 s, sys: 5.41 s, total: 29.6 s\n",
      "Wall time: 29.3 s\n"
     ]
    }
   ],
   "source": [
    "%%time\n",
    "def store(sales_and_stores):\n",
    "\n",
    "    forecasts = {}\n",
    "    for store in sales_and_stores['store_nbr'].unique():\n",
    "        \n",
    "        print(store)\n",
    "        \n",
    "        # creating a new variable\n",
    "        tmp_df_prep = sales_and_stores[sales_and_stores['store_nbr']== store]\n",
    "        \n",
    "        # Transforming the column in date time\n",
    "        tmp_df_prep['ds'] = pd.to_datetime(tmp_df_prep['ds'])\n",
    " \n",
    "        # creating a temporary df to the the training and prediction\n",
    "        tmp_df = tmp_df_prep.groupby(by='ds').sum().reset_index()\n",
    "        \n",
    "        \n",
    "        # defining the train/test \n",
    "        train = tmp_df.iloc[:1457]\n",
    "        test = tmp_df.iloc[1458:]\n",
    "        \n",
    "        \n",
    "        # Instantiating the FB Prophet model\n",
    "        model = Prophet(seasonality_mode='multiplicative')\n",
    "\n",
    "        # fitting the model on the train test\n",
    "        model.fit(train)\n",
    "        \n",
    "        forecasts[store]= model\n",
    "    \n",
    "    return forecasts\n",
    "\n",
    "model_store = store(sales_and_stores)\n"
   ]
  },
  {
   "cell_type": "code",
   "execution_count": null,
   "id": "110f713f",
   "metadata": {},
   "outputs": [],
   "source": []
  },
  {
   "cell_type": "code",
   "execution_count": 25,
   "id": "76e92b9e",
   "metadata": {},
   "outputs": [
    {
     "data": {
      "text/plain": [
       "{1: <fbprophet.forecaster.Prophet at 0x7f6719df1430>,\n",
       " 10: <fbprophet.forecaster.Prophet at 0x7f6746f58790>,\n",
       " 11: <fbprophet.forecaster.Prophet at 0x7f6746f615e0>,\n",
       " 12: <fbprophet.forecaster.Prophet at 0x7f66ec1d78b0>,\n",
       " 13: <fbprophet.forecaster.Prophet at 0x7f6746f6c160>,\n",
       " 14: <fbprophet.forecaster.Prophet at 0x7f6746f761f0>,\n",
       " 15: <fbprophet.forecaster.Prophet at 0x7f6746f7b190>,\n",
       " 16: <fbprophet.forecaster.Prophet at 0x7f6746f82910>,\n",
       " 17: <fbprophet.forecaster.Prophet at 0x7f6746f87490>,\n",
       " 18: <fbprophet.forecaster.Prophet at 0x7f67454621c0>,\n",
       " 19: <fbprophet.forecaster.Prophet at 0x7f67454629a0>,\n",
       " 2: <fbprophet.forecaster.Prophet at 0x7f6745465e50>,\n",
       " 20: <fbprophet.forecaster.Prophet at 0x7f6745469f40>,\n",
       " 21: <fbprophet.forecaster.Prophet at 0x7f674546da90>,\n",
       " 22: <fbprophet.forecaster.Prophet at 0x7f674545a3a0>,\n",
       " 23: <fbprophet.forecaster.Prophet at 0x7f6742798730>,\n",
       " 24: <fbprophet.forecaster.Prophet at 0x7f67427a14f0>,\n",
       " 25: <fbprophet.forecaster.Prophet at 0x7f67427a82e0>,\n",
       " 26: <fbprophet.forecaster.Prophet at 0x7f67427b1790>,\n",
       " 27: <fbprophet.forecaster.Prophet at 0x7f67427b1280>,\n",
       " 28: <fbprophet.forecaster.Prophet at 0x7f67427bbca0>,\n",
       " 29: <fbprophet.forecaster.Prophet at 0x7f67427bbf10>,\n",
       " 3: <fbprophet.forecaster.Prophet at 0x7f67427a64f0>,\n",
       " 30: <fbprophet.forecaster.Prophet at 0x7f67427cbd00>,\n",
       " 31: <fbprophet.forecaster.Prophet at 0x7f674275a5e0>,\n",
       " 32: <fbprophet.forecaster.Prophet at 0x7f6742764400>,\n",
       " 33: <fbprophet.forecaster.Prophet at 0x7f674276e310>,\n",
       " 34: <fbprophet.forecaster.Prophet at 0x7f674276e070>,\n",
       " 35: <fbprophet.forecaster.Prophet at 0x7f6742777cd0>,\n",
       " 36: <fbprophet.forecaster.Prophet at 0x7f674277f7c0>,\n",
       " 37: <fbprophet.forecaster.Prophet at 0x7f6742785b20>,\n",
       " 38: <fbprophet.forecaster.Prophet at 0x7f674276f7c0>,\n",
       " 39: <fbprophet.forecaster.Prophet at 0x7f6742714790>,\n",
       " 4: <fbprophet.forecaster.Prophet at 0x7f674271c520>,\n",
       " 40: <fbprophet.forecaster.Prophet at 0x7f6742729340>,\n",
       " 41: <fbprophet.forecaster.Prophet at 0x7f6742732160>,\n",
       " 42: <fbprophet.forecaster.Prophet at 0x7f674273b400>,\n",
       " 43: <fbprophet.forecaster.Prophet at 0x7f674273b910>,\n",
       " 44: <fbprophet.forecaster.Prophet at 0x7f67427408b0>,\n",
       " 45: <fbprophet.forecaster.Prophet at 0x7f6742745430>,\n",
       " 46: <fbprophet.forecaster.Prophet at 0x7f674274cd60>,\n",
       " 47: <fbprophet.forecaster.Prophet at 0x7f67426d7670>,\n",
       " 48: <fbprophet.forecaster.Prophet at 0x7f67426e1460>,\n",
       " 49: <fbprophet.forecaster.Prophet at 0x7f67426ea220>,\n",
       " 5: <fbprophet.forecaster.Prophet at 0x7f67426ea700>,\n",
       " 50: <fbprophet.forecaster.Prophet at 0x7f67426f52e0>,\n",
       " 51: <fbprophet.forecaster.Prophet at 0x7f67426fa7c0>,\n",
       " 52: <fbprophet.forecaster.Prophet at 0x7f6742704f40>,\n",
       " 53: <fbprophet.forecaster.Prophet at 0x7f674270c6d0>,\n",
       " 54: <fbprophet.forecaster.Prophet at 0x7f6742696ac0>,\n",
       " 6: <fbprophet.forecaster.Prophet at 0x7f674269d5b0>,\n",
       " 7: <fbprophet.forecaster.Prophet at 0x7f67426a5370>,\n",
       " 8: <fbprophet.forecaster.Prophet at 0x7f67426b27c0>,\n",
       " 9: <fbprophet.forecaster.Prophet at 0x7f67426b2370>}"
      ]
     },
     "execution_count": 25,
     "metadata": {},
     "output_type": "execute_result"
    }
   ],
   "source": [
    "model_store"
   ]
  },
  {
   "cell_type": "markdown",
   "id": "a2edd66f",
   "metadata": {},
   "source": [
    "## Making prediction with a specific family"
   ]
  },
  {
   "cell_type": "code",
   "execution_count": 26,
   "id": "0406b9fe",
   "metadata": {},
   "outputs": [
    {
     "name": "stderr",
     "output_type": "stream",
     "text": [
      "/root/.pyenv/versions/3.8.12/envs/business_case_869/lib/python3.8/site-packages/fbprophet/forecaster.py:891: FutureWarning: The frame.append method is deprecated and will be removed from pandas in a future version. Use pandas.concat instead.\n",
      "  components = components.append(new_comp)\n",
      "/root/.pyenv/versions/3.8.12/envs/business_case_869/lib/python3.8/site-packages/fbprophet/forecaster.py:891: FutureWarning: The frame.append method is deprecated and will be removed from pandas in a future version. Use pandas.concat instead.\n",
      "  components = components.append(new_comp)\n"
     ]
    },
    {
     "data": {
      "text/html": [
       "<div>\n",
       "<style scoped>\n",
       "    .dataframe tbody tr th:only-of-type {\n",
       "        vertical-align: middle;\n",
       "    }\n",
       "\n",
       "    .dataframe tbody tr th {\n",
       "        vertical-align: top;\n",
       "    }\n",
       "\n",
       "    .dataframe thead th {\n",
       "        text-align: right;\n",
       "    }\n",
       "</style>\n",
       "<table border=\"1\" class=\"dataframe\">\n",
       "  <thead>\n",
       "    <tr style=\"text-align: right;\">\n",
       "      <th></th>\n",
       "      <th>ds</th>\n",
       "      <th>trend</th>\n",
       "      <th>yhat_lower</th>\n",
       "      <th>yhat_upper</th>\n",
       "      <th>trend_lower</th>\n",
       "      <th>trend_upper</th>\n",
       "      <th>multiplicative_terms</th>\n",
       "      <th>multiplicative_terms_lower</th>\n",
       "      <th>multiplicative_terms_upper</th>\n",
       "      <th>weekly</th>\n",
       "      <th>weekly_lower</th>\n",
       "      <th>weekly_upper</th>\n",
       "      <th>yearly</th>\n",
       "      <th>yearly_lower</th>\n",
       "      <th>yearly_upper</th>\n",
       "      <th>additive_terms</th>\n",
       "      <th>additive_terms_lower</th>\n",
       "      <th>additive_terms_upper</th>\n",
       "      <th>yhat</th>\n",
       "    </tr>\n",
       "  </thead>\n",
       "  <tbody>\n",
       "    <tr>\n",
       "      <th>0</th>\n",
       "      <td>2013-01-01</td>\n",
       "      <td>9916.932754</td>\n",
       "      <td>6237.739911</td>\n",
       "      <td>14930.592805</td>\n",
       "      <td>9916.932754</td>\n",
       "      <td>9916.932754</td>\n",
       "      <td>0.053771</td>\n",
       "      <td>0.053771</td>\n",
       "      <td>0.053771</td>\n",
       "      <td>-0.055231</td>\n",
       "      <td>-0.055231</td>\n",
       "      <td>-0.055231</td>\n",
       "      <td>0.109002</td>\n",
       "      <td>0.109002</td>\n",
       "      <td>0.109002</td>\n",
       "      <td>0.0</td>\n",
       "      <td>0.0</td>\n",
       "      <td>0.0</td>\n",
       "      <td>10450.179637</td>\n",
       "    </tr>\n",
       "    <tr>\n",
       "      <th>1</th>\n",
       "      <td>2013-01-02</td>\n",
       "      <td>9924.395371</td>\n",
       "      <td>4959.825916</td>\n",
       "      <td>13399.620572</td>\n",
       "      <td>9924.395371</td>\n",
       "      <td>9924.395371</td>\n",
       "      <td>-0.085812</td>\n",
       "      <td>-0.085812</td>\n",
       "      <td>-0.085812</td>\n",
       "      <td>-0.173717</td>\n",
       "      <td>-0.173717</td>\n",
       "      <td>-0.173717</td>\n",
       "      <td>0.087906</td>\n",
       "      <td>0.087906</td>\n",
       "      <td>0.087906</td>\n",
       "      <td>0.0</td>\n",
       "      <td>0.0</td>\n",
       "      <td>0.0</td>\n",
       "      <td>9072.767830</td>\n",
       "    </tr>\n",
       "    <tr>\n",
       "      <th>2</th>\n",
       "      <td>2013-01-03</td>\n",
       "      <td>9931.857988</td>\n",
       "      <td>4672.154622</td>\n",
       "      <td>13137.004326</td>\n",
       "      <td>9931.857988</td>\n",
       "      <td>9931.857988</td>\n",
       "      <td>-0.101136</td>\n",
       "      <td>-0.101136</td>\n",
       "      <td>-0.101136</td>\n",
       "      <td>-0.168332</td>\n",
       "      <td>-0.168332</td>\n",
       "      <td>-0.168332</td>\n",
       "      <td>0.067196</td>\n",
       "      <td>0.067196</td>\n",
       "      <td>0.067196</td>\n",
       "      <td>0.0</td>\n",
       "      <td>0.0</td>\n",
       "      <td>0.0</td>\n",
       "      <td>8927.386480</td>\n",
       "    </tr>\n",
       "    <tr>\n",
       "      <th>3</th>\n",
       "      <td>2013-01-04</td>\n",
       "      <td>9939.320605</td>\n",
       "      <td>3759.541791</td>\n",
       "      <td>12033.408301</td>\n",
       "      <td>9939.320605</td>\n",
       "      <td>9939.320605</td>\n",
       "      <td>-0.198427</td>\n",
       "      <td>-0.198427</td>\n",
       "      <td>-0.198427</td>\n",
       "      <td>-0.245607</td>\n",
       "      <td>-0.245607</td>\n",
       "      <td>-0.245607</td>\n",
       "      <td>0.047179</td>\n",
       "      <td>0.047179</td>\n",
       "      <td>0.047179</td>\n",
       "      <td>0.0</td>\n",
       "      <td>0.0</td>\n",
       "      <td>0.0</td>\n",
       "      <td>7967.086892</td>\n",
       "    </tr>\n",
       "    <tr>\n",
       "      <th>4</th>\n",
       "      <td>2013-01-05</td>\n",
       "      <td>9946.783222</td>\n",
       "      <td>8426.306351</td>\n",
       "      <td>16522.785843</td>\n",
       "      <td>9946.783222</td>\n",
       "      <td>9946.783222</td>\n",
       "      <td>0.251946</td>\n",
       "      <td>0.251946</td>\n",
       "      <td>0.251946</td>\n",
       "      <td>0.223809</td>\n",
       "      <td>0.223809</td>\n",
       "      <td>0.223809</td>\n",
       "      <td>0.028138</td>\n",
       "      <td>0.028138</td>\n",
       "      <td>0.028138</td>\n",
       "      <td>0.0</td>\n",
       "      <td>0.0</td>\n",
       "      <td>0.0</td>\n",
       "      <td>12452.839634</td>\n",
       "    </tr>\n",
       "  </tbody>\n",
       "</table>\n",
       "</div>"
      ],
      "text/plain": [
       "          ds        trend   yhat_lower    yhat_upper  trend_lower  \\\n",
       "0 2013-01-01  9916.932754  6237.739911  14930.592805  9916.932754   \n",
       "1 2013-01-02  9924.395371  4959.825916  13399.620572  9924.395371   \n",
       "2 2013-01-03  9931.857988  4672.154622  13137.004326  9931.857988   \n",
       "3 2013-01-04  9939.320605  3759.541791  12033.408301  9939.320605   \n",
       "4 2013-01-05  9946.783222  8426.306351  16522.785843  9946.783222   \n",
       "\n",
       "   trend_upper  multiplicative_terms  multiplicative_terms_lower  \\\n",
       "0  9916.932754              0.053771                    0.053771   \n",
       "1  9924.395371             -0.085812                   -0.085812   \n",
       "2  9931.857988             -0.101136                   -0.101136   \n",
       "3  9939.320605             -0.198427                   -0.198427   \n",
       "4  9946.783222              0.251946                    0.251946   \n",
       "\n",
       "   multiplicative_terms_upper    weekly  weekly_lower  weekly_upper    yearly  \\\n",
       "0                    0.053771 -0.055231     -0.055231     -0.055231  0.109002   \n",
       "1                   -0.085812 -0.173717     -0.173717     -0.173717  0.087906   \n",
       "2                   -0.101136 -0.168332     -0.168332     -0.168332  0.067196   \n",
       "3                   -0.198427 -0.245607     -0.245607     -0.245607  0.047179   \n",
       "4                    0.251946  0.223809      0.223809      0.223809  0.028138   \n",
       "\n",
       "   yearly_lower  yearly_upper  additive_terms  additive_terms_lower  \\\n",
       "0      0.109002      0.109002             0.0                   0.0   \n",
       "1      0.087906      0.087906             0.0                   0.0   \n",
       "2      0.067196      0.067196             0.0                   0.0   \n",
       "3      0.047179      0.047179             0.0                   0.0   \n",
       "4      0.028138      0.028138             0.0                   0.0   \n",
       "\n",
       "   additive_terms_upper          yhat  \n",
       "0                   0.0  10450.179637  \n",
       "1                   0.0   9072.767830  \n",
       "2                   0.0   8927.386480  \n",
       "3                   0.0   7967.086892  \n",
       "4                   0.0  12452.839634  "
      ]
     },
     "execution_count": 26,
     "metadata": {},
     "output_type": "execute_result"
    }
   ],
   "source": [
    "future_store = model_store[9].make_future_dataframe(periods=12, freq='MS')  #period of 12 months\n",
    "forecast_future_store = model_store[9].predict(future_store)\n",
    "forecast_future_store.head()\n"
   ]
  },
  {
   "cell_type": "markdown",
   "id": "c7f7fb7c",
   "metadata": {},
   "source": [
    "## Plotting the specific store prediction"
   ]
  },
  {
   "cell_type": "code",
   "execution_count": 27,
   "id": "bc522a3f",
   "metadata": {},
   "outputs": [
    {
     "data": {
      "image/png": "[encoded data removed]",
      "text/plain": [
       "<Figure size 720x432 with 1 Axes>"
      ]
     },
     "metadata": {},
     "output_type": "display_data"
    }
   ],
   "source": [
    "model_store[9].plot(forecast_future_store);"
   ]
  },
  {
   "cell_type": "code",
   "execution_count": 28,
   "id": "669620a3",
   "metadata": {},
   "outputs": [
    {
     "name": "stderr",
     "output_type": "stream",
     "text": [
      "/root/.pyenv/versions/3.8.12/envs/business_case_869/lib/python3.8/site-packages/fbprophet/forecaster.py:891: FutureWarning: The frame.append method is deprecated and will be removed from pandas in a future version. Use pandas.concat instead.\n",
      "  components = components.append(new_comp)\n",
      "/root/.pyenv/versions/3.8.12/envs/business_case_869/lib/python3.8/site-packages/fbprophet/plot.py:422: UserWarning: FixedFormatter should only be used together with FixedLocator\n",
      "  ax.set_yticklabels(yticklabels)\n",
      "/root/.pyenv/versions/3.8.12/envs/business_case_869/lib/python3.8/site-packages/fbprophet/forecaster.py:891: FutureWarning: The frame.append method is deprecated and will be removed from pandas in a future version. Use pandas.concat instead.\n",
      "  components = components.append(new_comp)\n",
      "/root/.pyenv/versions/3.8.12/envs/business_case_869/lib/python3.8/site-packages/fbprophet/plot.py:422: UserWarning: FixedFormatter should only be used together with FixedLocator\n",
      "  ax.set_yticklabels(yticklabels)\n"
     ]
    },
    {
     "data": {
      "image/png": "[encoded data removed]",
      "text/plain": [
       "<Figure size 648x648 with 3 Axes>"
      ]
     },
     "execution_count": 28,
     "metadata": {},
     "output_type": "execute_result"
    },
    {
     "data": {
      "image/png": "[encoded data removed]",
      "text/plain": [
       "<Figure size 648x648 with 3 Axes>"
      ]
     },
     "metadata": {},
     "output_type": "display_data"
    }
   ],
   "source": [
    "model_store[9].plot_components(fcst=forecast_future_store)"
   ]
  },
  {
   "cell_type": "code",
   "execution_count": null,
   "id": "e84bb806",
   "metadata": {},
   "outputs": [],
   "source": []
  },
  {
   "cell_type": "markdown",
   "id": "70c441d5",
   "metadata": {
    "heading_collapsed": true
   },
   "source": [
    "# Auxiliar graphs and backup"
   ]
  },
  {
   "cell_type": "code",
   "execution_count": 10,
   "id": "05e3e591",
   "metadata": {
    "hidden": true
   },
   "outputs": [
    {
     "ename": "NameError",
     "evalue": "name 'forecasts_df' is not defined",
     "output_type": "error",
     "traceback": [
      "\u001b[0;31m---------------------------------------------------------------------------\u001b[0m",
      "\u001b[0;31mNameError\u001b[0m                                 Traceback (most recent call last)",
      "Input \u001b[0;32mIn [10]\u001b[0m, in \u001b[0;36m<cell line: 2>\u001b[0;34m()\u001b[0m\n\u001b[1;32m      1\u001b[0m plt\u001b[38;5;241m.\u001b[39mfigure(figsize\u001b[38;5;241m=\u001b[39m(\u001b[38;5;241m20\u001b[39m,\u001b[38;5;241m20\u001b[39m))\n\u001b[0;32m----> 2\u001b[0m \u001b[38;5;28;01mfor\u001b[39;00m category \u001b[38;5;129;01min\u001b[39;00m \u001b[43mforecasts_df\u001b[49m\u001b[38;5;241m.\u001b[39mcolumns:\n\u001b[1;32m      3\u001b[0m     plt\u001b[38;5;241m.\u001b[39mplot(forecasts_df[category], label\u001b[38;5;241m=\u001b[39mcategory)\n\u001b[1;32m      4\u001b[0m plt\u001b[38;5;241m.\u001b[39mlegend(loc\u001b[38;5;241m=\u001b[39m\u001b[38;5;124m'\u001b[39m\u001b[38;5;124mupper right\u001b[39m\u001b[38;5;124m'\u001b[39m, bbox_to_anchor\u001b[38;5;241m=\u001b[39m(\u001b[38;5;241m1.27\u001b[39m, \u001b[38;5;241m1\u001b[39m))\n",
      "\u001b[0;31mNameError\u001b[0m: name 'forecasts_df' is not defined"
     ]
    },
    {
     "data": {
      "text/plain": [
       "<Figure size 1440x1440 with 0 Axes>"
      ]
     },
     "metadata": {},
     "output_type": "display_data"
    }
   ],
   "source": [
    "plt.figure(figsize=(20,20))\n",
    "for category in forecasts_df.columns:\n",
    "    plt.plot(forecasts_df[category], label=category)\n",
    "plt.legend(loc='upper right', bbox_to_anchor=(1.27, 1))"
   ]
  },
  {
   "cell_type": "code",
   "execution_count": null,
   "id": "953a522d",
   "metadata": {
    "hidden": true
   },
   "outputs": [],
   "source": [
    "plt.figure(figsize=(20,20))\n",
    "for category in forecasts_df.columns:\n",
    "    if category in ('AUTOMOTIVE', 'GROCERY I', 'BEVERAGES', 'PRODUCE'):\n",
    "        pass\n",
    "    else:\n",
    "        plt.plot(forecasts_df[category], label=category)\n",
    "plt.legend(loc='upper right', bbox_to_anchor=(1.27, 1))"
   ]
  },
  {
   "cell_type": "code",
   "execution_count": null,
   "id": "5aba6e76",
   "metadata": {
    "hidden": true
   },
   "outputs": [],
   "source": []
  },
  {
   "cell_type": "code",
   "execution_count": null,
   "id": "c22c06ac",
   "metadata": {
    "hidden": true
   },
   "outputs": [],
   "source": []
  },
  {
   "cell_type": "code",
   "execution_count": null,
   "id": "b3bcbc67",
   "metadata": {
    "hidden": true
   },
   "outputs": [],
   "source": [
    "\"\"\"BACKUP\"\"\"\n",
    "\n",
    "# def family(sales_and_stores):\n",
    "\n",
    "#     forecasts = {}\n",
    "#     for category in sales_and_stores['family'].unique():\n",
    "#         print(category)\n",
    "#         # creating a new variable\n",
    "#         tmp_df_prep = sales_and_stores[sales_and_stores['family']== category]\n",
    "        \n",
    "#         # Transforming the column in date time\n",
    "#         tmp_df_prep['ds'] = pd.to_datetime(tmp_df_prep['ds'])\n",
    " \n",
    "#         # creating a temporary df to the the training and prediction\n",
    "#         tmp_df = tmp_df_prep.groupby(by='ds').sum().drop(columns=[\"store_nbr\", \"onpromotion\"]).reset_index()\n",
    "        \n",
    "        \n",
    "#         # defining the train/test \n",
    "#         train = tmp_df.iloc[:1457]\n",
    "#         test = tmp_df.iloc[1458:]\n",
    "        \n",
    "        \n",
    "#         # Instantiating the FB Prophet model\n",
    "#         model = Prophet(seasonality_mode='multiplicative')\n",
    "\n",
    "#         # fitting the model on the train test\n",
    "#         model.fit(train)\n",
    "        \n",
    "# # CREATE A NEW FUNCTION TO SAVE \n",
    "\n",
    "#         # Making a prediction on the test set\n",
    "#         forecast_test = model.predict(test)\n",
    "#         forecast_test.head()\n",
    "\n",
    "#         #plotting the test forecast\n",
    "#         #model.plot(forecast_test)\n",
    "\n",
    "#         # making a future prediction\n",
    "#         future = model.make_future_dataframe(periods=12, freq='MS')  #period of 12 months\n",
    "#         forecast_future = model.predict(future)\n",
    "#         forecast_future.head()\n",
    "\n",
    "#         # ploting the prediction\n",
    "#         #model.plot(forecast_future)\n",
    "\n",
    "#         # plotting the combination of analysis inside FB Prophet\n",
    "#         #model.plot_components(fcst=forecast_future)\n",
    "\n",
    "#         forecasts[category]= list(forecast_future['yhat'])\n",
    "    \n",
    "#     return forecasts\n",
    "\n"
   ]
  }
 ],
 "metadata": {
  "kernelspec": {
   "display_name": "Python 3 (ipykernel)",
   "language": "python",
   "name": "python3"
  },
  "language_info": {
   "codemirror_mode": {
    "name": "ipython",
    "version": 3
   },
   "file_extension": ".py",
   "mimetype": "text/x-python",
   "name": "python",
   "nbconvert_exporter": "python",
   "pygments_lexer": "ipython3",
   "version": "3.8.12"
  },
  "toc": {
   "base_numbering": 1,
   "nav_menu": {},
   "number_sections": true,
   "sideBar": true,
   "skip_h1_title": false,
   "title_cell": "Table of Contents",
   "title_sidebar": "Contents",
   "toc_cell": false,
   "toc_position": {
    "height": "calc(100% - 180px)",
    "left": "10px",
    "top": "150px",
    "width": "307.2px"
   },
   "toc_section_display": true,
   "toc_window_display": true
  }
 },
 "nbformat": 4,
 "nbformat_minor": 5
}
