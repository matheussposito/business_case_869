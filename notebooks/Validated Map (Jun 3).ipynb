{
 "cells": [
  {
   "cell_type": "markdown",
   "id": "76aceeb1",
   "metadata": {},
   "source": [
    "# Last Map created that is working (before try some improvements)"
   ]
  },
  {
   "cell_type": "markdown",
   "id": "828015b1",
   "metadata": {},
   "source": [
    "## Importing the libraries"
   ]
  },
  {
   "cell_type": "code",
   "execution_count": 1,
   "id": "7e39820a",
   "metadata": {},
   "outputs": [],
   "source": [
    "import numpy as np\n",
    "import pandas as pd\n",
    "import matplotlib.pyplot as plt\n",
    "import seaborn as sns\n",
    "import folium\n",
    "from folium.plugins import HeatMap\n",
    "from folium.plugins import HeatMapWithTime\n",
    "import plotly.express as px\n"
   ]
  },
  {
   "cell_type": "markdown",
   "id": "7b2fd0db",
   "metadata": {},
   "source": [
    "# Creating the DataFrames"
   ]
  },
  {
   "cell_type": "markdown",
   "id": "02e1658e",
   "metadata": {},
   "source": [
    "## Creating a DataFrame for the Train Set"
   ]
  },
  {
   "cell_type": "code",
   "execution_count": 2,
   "id": "77b25ee6",
   "metadata": {},
   "outputs": [],
   "source": [
    "df_sales = pd.read_csv(\"gs://business-case/train.csv\")"
   ]
  },
  {
   "cell_type": "code",
   "execution_count": 3,
   "id": "b204673c",
   "metadata": {
    "scrolled": true
   },
   "outputs": [
    {
     "data": {
      "text/html": [
       "<div>\n",
       "<style scoped>\n",
       "    .dataframe tbody tr th:only-of-type {\n",
       "        vertical-align: middle;\n",
       "    }\n",
       "\n",
       "    .dataframe tbody tr th {\n",
       "        vertical-align: top;\n",
       "    }\n",
       "\n",
       "    .dataframe thead th {\n",
       "        text-align: right;\n",
       "    }\n",
       "</style>\n",
       "<table border=\"1\" class=\"dataframe\">\n",
       "  <thead>\n",
       "    <tr style=\"text-align: right;\">\n",
       "      <th></th>\n",
       "      <th>id</th>\n",
       "      <th>date</th>\n",
       "      <th>store_nbr</th>\n",
       "      <th>family</th>\n",
       "      <th>sales</th>\n",
       "      <th>onpromotion</th>\n",
       "    </tr>\n",
       "  </thead>\n",
       "  <tbody>\n",
       "    <tr>\n",
       "      <th>0</th>\n",
       "      <td>0</td>\n",
       "      <td>2013-01-01</td>\n",
       "      <td>1</td>\n",
       "      <td>AUTOMOTIVE</td>\n",
       "      <td>0.000</td>\n",
       "      <td>0</td>\n",
       "    </tr>\n",
       "    <tr>\n",
       "      <th>1</th>\n",
       "      <td>1</td>\n",
       "      <td>2013-01-01</td>\n",
       "      <td>1</td>\n",
       "      <td>BABY CARE</td>\n",
       "      <td>0.000</td>\n",
       "      <td>0</td>\n",
       "    </tr>\n",
       "    <tr>\n",
       "      <th>2</th>\n",
       "      <td>2</td>\n",
       "      <td>2013-01-01</td>\n",
       "      <td>1</td>\n",
       "      <td>BEAUTY</td>\n",
       "      <td>0.000</td>\n",
       "      <td>0</td>\n",
       "    </tr>\n",
       "    <tr>\n",
       "      <th>3</th>\n",
       "      <td>3</td>\n",
       "      <td>2013-01-01</td>\n",
       "      <td>1</td>\n",
       "      <td>BEVERAGES</td>\n",
       "      <td>0.000</td>\n",
       "      <td>0</td>\n",
       "    </tr>\n",
       "    <tr>\n",
       "      <th>4</th>\n",
       "      <td>4</td>\n",
       "      <td>2013-01-01</td>\n",
       "      <td>1</td>\n",
       "      <td>BOOKS</td>\n",
       "      <td>0.000</td>\n",
       "      <td>0</td>\n",
       "    </tr>\n",
       "    <tr>\n",
       "      <th>...</th>\n",
       "      <td>...</td>\n",
       "      <td>...</td>\n",
       "      <td>...</td>\n",
       "      <td>...</td>\n",
       "      <td>...</td>\n",
       "      <td>...</td>\n",
       "    </tr>\n",
       "    <tr>\n",
       "      <th>3000883</th>\n",
       "      <td>3000883</td>\n",
       "      <td>2017-08-15</td>\n",
       "      <td>9</td>\n",
       "      <td>POULTRY</td>\n",
       "      <td>438.133</td>\n",
       "      <td>0</td>\n",
       "    </tr>\n",
       "    <tr>\n",
       "      <th>3000884</th>\n",
       "      <td>3000884</td>\n",
       "      <td>2017-08-15</td>\n",
       "      <td>9</td>\n",
       "      <td>PREPARED FOODS</td>\n",
       "      <td>154.553</td>\n",
       "      <td>1</td>\n",
       "    </tr>\n",
       "    <tr>\n",
       "      <th>3000885</th>\n",
       "      <td>3000885</td>\n",
       "      <td>2017-08-15</td>\n",
       "      <td>9</td>\n",
       "      <td>PRODUCE</td>\n",
       "      <td>2419.729</td>\n",
       "      <td>148</td>\n",
       "    </tr>\n",
       "    <tr>\n",
       "      <th>3000886</th>\n",
       "      <td>3000886</td>\n",
       "      <td>2017-08-15</td>\n",
       "      <td>9</td>\n",
       "      <td>SCHOOL AND OFFICE SUPPLIES</td>\n",
       "      <td>121.000</td>\n",
       "      <td>8</td>\n",
       "    </tr>\n",
       "    <tr>\n",
       "      <th>3000887</th>\n",
       "      <td>3000887</td>\n",
       "      <td>2017-08-15</td>\n",
       "      <td>9</td>\n",
       "      <td>SEAFOOD</td>\n",
       "      <td>16.000</td>\n",
       "      <td>0</td>\n",
       "    </tr>\n",
       "  </tbody>\n",
       "</table>\n",
       "<p>3000888 rows × 6 columns</p>\n",
       "</div>"
      ],
      "text/plain": [
       "              id        date  store_nbr                      family     sales  \\\n",
       "0              0  2013-01-01          1                  AUTOMOTIVE     0.000   \n",
       "1              1  2013-01-01          1                   BABY CARE     0.000   \n",
       "2              2  2013-01-01          1                      BEAUTY     0.000   \n",
       "3              3  2013-01-01          1                   BEVERAGES     0.000   \n",
       "4              4  2013-01-01          1                       BOOKS     0.000   \n",
       "...          ...         ...        ...                         ...       ...   \n",
       "3000883  3000883  2017-08-15          9                     POULTRY   438.133   \n",
       "3000884  3000884  2017-08-15          9              PREPARED FOODS   154.553   \n",
       "3000885  3000885  2017-08-15          9                     PRODUCE  2419.729   \n",
       "3000886  3000886  2017-08-15          9  SCHOOL AND OFFICE SUPPLIES   121.000   \n",
       "3000887  3000887  2017-08-15          9                     SEAFOOD    16.000   \n",
       "\n",
       "         onpromotion  \n",
       "0                  0  \n",
       "1                  0  \n",
       "2                  0  \n",
       "3                  0  \n",
       "4                  0  \n",
       "...              ...  \n",
       "3000883            0  \n",
       "3000884            1  \n",
       "3000885          148  \n",
       "3000886            8  \n",
       "3000887            0  \n",
       "\n",
       "[3000888 rows x 6 columns]"
      ]
     },
     "execution_count": 3,
     "metadata": {},
     "output_type": "execute_result"
    }
   ],
   "source": [
    "df_sales"
   ]
  },
  {
   "cell_type": "markdown",
   "id": "ffdd2b62",
   "metadata": {},
   "source": [
    "## Creating a DataFrame for the Stores Set"
   ]
  },
  {
   "cell_type": "code",
   "execution_count": 4,
   "id": "fdd3dedd",
   "metadata": {},
   "outputs": [],
   "source": [
    "df_stores = pd.read_csv(\"gs://business-case/stores.csv\")"
   ]
  },
  {
   "cell_type": "code",
   "execution_count": 5,
   "id": "eb20db9a",
   "metadata": {
    "scrolled": true
   },
   "outputs": [
    {
     "data": {
      "text/html": [
       "<div>\n",
       "<style scoped>\n",
       "    .dataframe tbody tr th:only-of-type {\n",
       "        vertical-align: middle;\n",
       "    }\n",
       "\n",
       "    .dataframe tbody tr th {\n",
       "        vertical-align: top;\n",
       "    }\n",
       "\n",
       "    .dataframe thead th {\n",
       "        text-align: right;\n",
       "    }\n",
       "</style>\n",
       "<table border=\"1\" class=\"dataframe\">\n",
       "  <thead>\n",
       "    <tr style=\"text-align: right;\">\n",
       "      <th></th>\n",
       "      <th>store_nbr</th>\n",
       "      <th>city</th>\n",
       "      <th>state</th>\n",
       "      <th>type</th>\n",
       "      <th>cluster</th>\n",
       "    </tr>\n",
       "  </thead>\n",
       "  <tbody>\n",
       "    <tr>\n",
       "      <th>0</th>\n",
       "      <td>1</td>\n",
       "      <td>Quito</td>\n",
       "      <td>Pichincha</td>\n",
       "      <td>D</td>\n",
       "      <td>13</td>\n",
       "    </tr>\n",
       "    <tr>\n",
       "      <th>1</th>\n",
       "      <td>2</td>\n",
       "      <td>Quito</td>\n",
       "      <td>Pichincha</td>\n",
       "      <td>D</td>\n",
       "      <td>13</td>\n",
       "    </tr>\n",
       "    <tr>\n",
       "      <th>2</th>\n",
       "      <td>3</td>\n",
       "      <td>Quito</td>\n",
       "      <td>Pichincha</td>\n",
       "      <td>D</td>\n",
       "      <td>8</td>\n",
       "    </tr>\n",
       "    <tr>\n",
       "      <th>3</th>\n",
       "      <td>4</td>\n",
       "      <td>Quito</td>\n",
       "      <td>Pichincha</td>\n",
       "      <td>D</td>\n",
       "      <td>9</td>\n",
       "    </tr>\n",
       "    <tr>\n",
       "      <th>4</th>\n",
       "      <td>5</td>\n",
       "      <td>Santo Domingo</td>\n",
       "      <td>Santo Domingo de los Tsachilas</td>\n",
       "      <td>D</td>\n",
       "      <td>4</td>\n",
       "    </tr>\n",
       "    <tr>\n",
       "      <th>5</th>\n",
       "      <td>6</td>\n",
       "      <td>Quito</td>\n",
       "      <td>Pichincha</td>\n",
       "      <td>D</td>\n",
       "      <td>13</td>\n",
       "    </tr>\n",
       "    <tr>\n",
       "      <th>6</th>\n",
       "      <td>7</td>\n",
       "      <td>Quito</td>\n",
       "      <td>Pichincha</td>\n",
       "      <td>D</td>\n",
       "      <td>8</td>\n",
       "    </tr>\n",
       "    <tr>\n",
       "      <th>7</th>\n",
       "      <td>8</td>\n",
       "      <td>Quito</td>\n",
       "      <td>Pichincha</td>\n",
       "      <td>D</td>\n",
       "      <td>8</td>\n",
       "    </tr>\n",
       "    <tr>\n",
       "      <th>8</th>\n",
       "      <td>9</td>\n",
       "      <td>Quito</td>\n",
       "      <td>Pichincha</td>\n",
       "      <td>B</td>\n",
       "      <td>6</td>\n",
       "    </tr>\n",
       "    <tr>\n",
       "      <th>9</th>\n",
       "      <td>10</td>\n",
       "      <td>Quito</td>\n",
       "      <td>Pichincha</td>\n",
       "      <td>C</td>\n",
       "      <td>15</td>\n",
       "    </tr>\n",
       "    <tr>\n",
       "      <th>10</th>\n",
       "      <td>11</td>\n",
       "      <td>Cayambe</td>\n",
       "      <td>Pichincha</td>\n",
       "      <td>B</td>\n",
       "      <td>6</td>\n",
       "    </tr>\n",
       "    <tr>\n",
       "      <th>11</th>\n",
       "      <td>12</td>\n",
       "      <td>Latacunga</td>\n",
       "      <td>Cotopaxi</td>\n",
       "      <td>C</td>\n",
       "      <td>15</td>\n",
       "    </tr>\n",
       "    <tr>\n",
       "      <th>12</th>\n",
       "      <td>13</td>\n",
       "      <td>Latacunga</td>\n",
       "      <td>Cotopaxi</td>\n",
       "      <td>C</td>\n",
       "      <td>15</td>\n",
       "    </tr>\n",
       "    <tr>\n",
       "      <th>13</th>\n",
       "      <td>14</td>\n",
       "      <td>Riobamba</td>\n",
       "      <td>Chimborazo</td>\n",
       "      <td>C</td>\n",
       "      <td>7</td>\n",
       "    </tr>\n",
       "    <tr>\n",
       "      <th>14</th>\n",
       "      <td>15</td>\n",
       "      <td>Ibarra</td>\n",
       "      <td>Imbabura</td>\n",
       "      <td>C</td>\n",
       "      <td>15</td>\n",
       "    </tr>\n",
       "    <tr>\n",
       "      <th>15</th>\n",
       "      <td>16</td>\n",
       "      <td>Santo Domingo</td>\n",
       "      <td>Santo Domingo de los Tsachilas</td>\n",
       "      <td>C</td>\n",
       "      <td>3</td>\n",
       "    </tr>\n",
       "    <tr>\n",
       "      <th>16</th>\n",
       "      <td>17</td>\n",
       "      <td>Quito</td>\n",
       "      <td>Pichincha</td>\n",
       "      <td>C</td>\n",
       "      <td>12</td>\n",
       "    </tr>\n",
       "    <tr>\n",
       "      <th>17</th>\n",
       "      <td>18</td>\n",
       "      <td>Quito</td>\n",
       "      <td>Pichincha</td>\n",
       "      <td>B</td>\n",
       "      <td>16</td>\n",
       "    </tr>\n",
       "    <tr>\n",
       "      <th>18</th>\n",
       "      <td>19</td>\n",
       "      <td>Guaranda</td>\n",
       "      <td>Bolivar</td>\n",
       "      <td>C</td>\n",
       "      <td>15</td>\n",
       "    </tr>\n",
       "    <tr>\n",
       "      <th>19</th>\n",
       "      <td>20</td>\n",
       "      <td>Quito</td>\n",
       "      <td>Pichincha</td>\n",
       "      <td>B</td>\n",
       "      <td>6</td>\n",
       "    </tr>\n",
       "    <tr>\n",
       "      <th>20</th>\n",
       "      <td>21</td>\n",
       "      <td>Santo Domingo</td>\n",
       "      <td>Santo Domingo de los Tsachilas</td>\n",
       "      <td>B</td>\n",
       "      <td>6</td>\n",
       "    </tr>\n",
       "    <tr>\n",
       "      <th>21</th>\n",
       "      <td>22</td>\n",
       "      <td>Puyo</td>\n",
       "      <td>Pastaza</td>\n",
       "      <td>C</td>\n",
       "      <td>7</td>\n",
       "    </tr>\n",
       "    <tr>\n",
       "      <th>22</th>\n",
       "      <td>23</td>\n",
       "      <td>Ambato</td>\n",
       "      <td>Tungurahua</td>\n",
       "      <td>D</td>\n",
       "      <td>9</td>\n",
       "    </tr>\n",
       "    <tr>\n",
       "      <th>23</th>\n",
       "      <td>24</td>\n",
       "      <td>Guayaquil</td>\n",
       "      <td>Guayas</td>\n",
       "      <td>D</td>\n",
       "      <td>1</td>\n",
       "    </tr>\n",
       "    <tr>\n",
       "      <th>24</th>\n",
       "      <td>25</td>\n",
       "      <td>Salinas</td>\n",
       "      <td>Santa Elena</td>\n",
       "      <td>D</td>\n",
       "      <td>1</td>\n",
       "    </tr>\n",
       "    <tr>\n",
       "      <th>25</th>\n",
       "      <td>26</td>\n",
       "      <td>Guayaquil</td>\n",
       "      <td>Guayas</td>\n",
       "      <td>D</td>\n",
       "      <td>10</td>\n",
       "    </tr>\n",
       "    <tr>\n",
       "      <th>26</th>\n",
       "      <td>27</td>\n",
       "      <td>Daule</td>\n",
       "      <td>Guayas</td>\n",
       "      <td>D</td>\n",
       "      <td>1</td>\n",
       "    </tr>\n",
       "    <tr>\n",
       "      <th>27</th>\n",
       "      <td>28</td>\n",
       "      <td>Guayaquil</td>\n",
       "      <td>Guayas</td>\n",
       "      <td>E</td>\n",
       "      <td>10</td>\n",
       "    </tr>\n",
       "    <tr>\n",
       "      <th>28</th>\n",
       "      <td>29</td>\n",
       "      <td>Guayaquil</td>\n",
       "      <td>Guayas</td>\n",
       "      <td>E</td>\n",
       "      <td>10</td>\n",
       "    </tr>\n",
       "    <tr>\n",
       "      <th>29</th>\n",
       "      <td>30</td>\n",
       "      <td>Guayaquil</td>\n",
       "      <td>Guayas</td>\n",
       "      <td>C</td>\n",
       "      <td>3</td>\n",
       "    </tr>\n",
       "    <tr>\n",
       "      <th>30</th>\n",
       "      <td>31</td>\n",
       "      <td>Babahoyo</td>\n",
       "      <td>Los Rios</td>\n",
       "      <td>B</td>\n",
       "      <td>10</td>\n",
       "    </tr>\n",
       "    <tr>\n",
       "      <th>31</th>\n",
       "      <td>32</td>\n",
       "      <td>Guayaquil</td>\n",
       "      <td>Guayas</td>\n",
       "      <td>C</td>\n",
       "      <td>3</td>\n",
       "    </tr>\n",
       "    <tr>\n",
       "      <th>32</th>\n",
       "      <td>33</td>\n",
       "      <td>Quevedo</td>\n",
       "      <td>Los Rios</td>\n",
       "      <td>C</td>\n",
       "      <td>3</td>\n",
       "    </tr>\n",
       "    <tr>\n",
       "      <th>33</th>\n",
       "      <td>34</td>\n",
       "      <td>Guayaquil</td>\n",
       "      <td>Guayas</td>\n",
       "      <td>B</td>\n",
       "      <td>6</td>\n",
       "    </tr>\n",
       "    <tr>\n",
       "      <th>34</th>\n",
       "      <td>35</td>\n",
       "      <td>Playas</td>\n",
       "      <td>Guayas</td>\n",
       "      <td>C</td>\n",
       "      <td>3</td>\n",
       "    </tr>\n",
       "    <tr>\n",
       "      <th>35</th>\n",
       "      <td>36</td>\n",
       "      <td>Libertad</td>\n",
       "      <td>Guayas</td>\n",
       "      <td>E</td>\n",
       "      <td>10</td>\n",
       "    </tr>\n",
       "    <tr>\n",
       "      <th>36</th>\n",
       "      <td>37</td>\n",
       "      <td>Cuenca</td>\n",
       "      <td>Azuay</td>\n",
       "      <td>D</td>\n",
       "      <td>2</td>\n",
       "    </tr>\n",
       "    <tr>\n",
       "      <th>37</th>\n",
       "      <td>38</td>\n",
       "      <td>Loja</td>\n",
       "      <td>Loja</td>\n",
       "      <td>D</td>\n",
       "      <td>4</td>\n",
       "    </tr>\n",
       "    <tr>\n",
       "      <th>38</th>\n",
       "      <td>39</td>\n",
       "      <td>Cuenca</td>\n",
       "      <td>Azuay</td>\n",
       "      <td>B</td>\n",
       "      <td>6</td>\n",
       "    </tr>\n",
       "    <tr>\n",
       "      <th>39</th>\n",
       "      <td>40</td>\n",
       "      <td>Machala</td>\n",
       "      <td>El Oro</td>\n",
       "      <td>C</td>\n",
       "      <td>3</td>\n",
       "    </tr>\n",
       "    <tr>\n",
       "      <th>40</th>\n",
       "      <td>41</td>\n",
       "      <td>Machala</td>\n",
       "      <td>El Oro</td>\n",
       "      <td>D</td>\n",
       "      <td>4</td>\n",
       "    </tr>\n",
       "    <tr>\n",
       "      <th>41</th>\n",
       "      <td>42</td>\n",
       "      <td>Cuenca</td>\n",
       "      <td>Azuay</td>\n",
       "      <td>D</td>\n",
       "      <td>2</td>\n",
       "    </tr>\n",
       "    <tr>\n",
       "      <th>42</th>\n",
       "      <td>43</td>\n",
       "      <td>Esmeraldas</td>\n",
       "      <td>Esmeraldas</td>\n",
       "      <td>E</td>\n",
       "      <td>10</td>\n",
       "    </tr>\n",
       "    <tr>\n",
       "      <th>43</th>\n",
       "      <td>44</td>\n",
       "      <td>Quito</td>\n",
       "      <td>Pichincha</td>\n",
       "      <td>A</td>\n",
       "      <td>5</td>\n",
       "    </tr>\n",
       "    <tr>\n",
       "      <th>44</th>\n",
       "      <td>45</td>\n",
       "      <td>Quito</td>\n",
       "      <td>Pichincha</td>\n",
       "      <td>A</td>\n",
       "      <td>11</td>\n",
       "    </tr>\n",
       "    <tr>\n",
       "      <th>45</th>\n",
       "      <td>46</td>\n",
       "      <td>Quito</td>\n",
       "      <td>Pichincha</td>\n",
       "      <td>A</td>\n",
       "      <td>14</td>\n",
       "    </tr>\n",
       "    <tr>\n",
       "      <th>46</th>\n",
       "      <td>47</td>\n",
       "      <td>Quito</td>\n",
       "      <td>Pichincha</td>\n",
       "      <td>A</td>\n",
       "      <td>14</td>\n",
       "    </tr>\n",
       "    <tr>\n",
       "      <th>47</th>\n",
       "      <td>48</td>\n",
       "      <td>Quito</td>\n",
       "      <td>Pichincha</td>\n",
       "      <td>A</td>\n",
       "      <td>14</td>\n",
       "    </tr>\n",
       "    <tr>\n",
       "      <th>48</th>\n",
       "      <td>49</td>\n",
       "      <td>Quito</td>\n",
       "      <td>Pichincha</td>\n",
       "      <td>A</td>\n",
       "      <td>11</td>\n",
       "    </tr>\n",
       "    <tr>\n",
       "      <th>49</th>\n",
       "      <td>50</td>\n",
       "      <td>Ambato</td>\n",
       "      <td>Tungurahua</td>\n",
       "      <td>A</td>\n",
       "      <td>14</td>\n",
       "    </tr>\n",
       "    <tr>\n",
       "      <th>50</th>\n",
       "      <td>51</td>\n",
       "      <td>Guayaquil</td>\n",
       "      <td>Guayas</td>\n",
       "      <td>A</td>\n",
       "      <td>17</td>\n",
       "    </tr>\n",
       "    <tr>\n",
       "      <th>51</th>\n",
       "      <td>52</td>\n",
       "      <td>Manta</td>\n",
       "      <td>Manabi</td>\n",
       "      <td>A</td>\n",
       "      <td>11</td>\n",
       "    </tr>\n",
       "    <tr>\n",
       "      <th>52</th>\n",
       "      <td>53</td>\n",
       "      <td>Manta</td>\n",
       "      <td>Manabi</td>\n",
       "      <td>D</td>\n",
       "      <td>13</td>\n",
       "    </tr>\n",
       "    <tr>\n",
       "      <th>53</th>\n",
       "      <td>54</td>\n",
       "      <td>El Carmen</td>\n",
       "      <td>Manabi</td>\n",
       "      <td>C</td>\n",
       "      <td>3</td>\n",
       "    </tr>\n",
       "  </tbody>\n",
       "</table>\n",
       "</div>"
      ],
      "text/plain": [
       "    store_nbr           city                           state type  cluster\n",
       "0           1          Quito                       Pichincha    D       13\n",
       "1           2          Quito                       Pichincha    D       13\n",
       "2           3          Quito                       Pichincha    D        8\n",
       "3           4          Quito                       Pichincha    D        9\n",
       "4           5  Santo Domingo  Santo Domingo de los Tsachilas    D        4\n",
       "5           6          Quito                       Pichincha    D       13\n",
       "6           7          Quito                       Pichincha    D        8\n",
       "7           8          Quito                       Pichincha    D        8\n",
       "8           9          Quito                       Pichincha    B        6\n",
       "9          10          Quito                       Pichincha    C       15\n",
       "10         11        Cayambe                       Pichincha    B        6\n",
       "11         12      Latacunga                        Cotopaxi    C       15\n",
       "12         13      Latacunga                        Cotopaxi    C       15\n",
       "13         14       Riobamba                      Chimborazo    C        7\n",
       "14         15         Ibarra                        Imbabura    C       15\n",
       "15         16  Santo Domingo  Santo Domingo de los Tsachilas    C        3\n",
       "16         17          Quito                       Pichincha    C       12\n",
       "17         18          Quito                       Pichincha    B       16\n",
       "18         19       Guaranda                         Bolivar    C       15\n",
       "19         20          Quito                       Pichincha    B        6\n",
       "20         21  Santo Domingo  Santo Domingo de los Tsachilas    B        6\n",
       "21         22           Puyo                         Pastaza    C        7\n",
       "22         23         Ambato                      Tungurahua    D        9\n",
       "23         24      Guayaquil                          Guayas    D        1\n",
       "24         25        Salinas                     Santa Elena    D        1\n",
       "25         26      Guayaquil                          Guayas    D       10\n",
       "26         27          Daule                          Guayas    D        1\n",
       "27         28      Guayaquil                          Guayas    E       10\n",
       "28         29      Guayaquil                          Guayas    E       10\n",
       "29         30      Guayaquil                          Guayas    C        3\n",
       "30         31       Babahoyo                        Los Rios    B       10\n",
       "31         32      Guayaquil                          Guayas    C        3\n",
       "32         33        Quevedo                        Los Rios    C        3\n",
       "33         34      Guayaquil                          Guayas    B        6\n",
       "34         35         Playas                          Guayas    C        3\n",
       "35         36       Libertad                          Guayas    E       10\n",
       "36         37         Cuenca                           Azuay    D        2\n",
       "37         38           Loja                            Loja    D        4\n",
       "38         39         Cuenca                           Azuay    B        6\n",
       "39         40        Machala                          El Oro    C        3\n",
       "40         41        Machala                          El Oro    D        4\n",
       "41         42         Cuenca                           Azuay    D        2\n",
       "42         43     Esmeraldas                      Esmeraldas    E       10\n",
       "43         44          Quito                       Pichincha    A        5\n",
       "44         45          Quito                       Pichincha    A       11\n",
       "45         46          Quito                       Pichincha    A       14\n",
       "46         47          Quito                       Pichincha    A       14\n",
       "47         48          Quito                       Pichincha    A       14\n",
       "48         49          Quito                       Pichincha    A       11\n",
       "49         50         Ambato                      Tungurahua    A       14\n",
       "50         51      Guayaquil                          Guayas    A       17\n",
       "51         52          Manta                          Manabi    A       11\n",
       "52         53          Manta                          Manabi    D       13\n",
       "53         54      El Carmen                          Manabi    C        3"
      ]
     },
     "execution_count": 5,
     "metadata": {},
     "output_type": "execute_result"
    }
   ],
   "source": [
    "df_stores"
   ]
  },
  {
   "cell_type": "markdown",
   "id": "88e9e5d1",
   "metadata": {},
   "source": [
    "## Creating a DataFrame for the cities location"
   ]
  },
  {
   "cell_type": "code",
   "execution_count": 6,
   "id": "19336a1f",
   "metadata": {},
   "outputs": [],
   "source": [
    "df_heatmap = pd.read_csv(\"/root/code/mrdaraujo/Heatmap.csv\")\n",
    "df_heatmap.rename(columns = {'Unnamed: 0':'city', 'Unnamed: 1':'Lat', 'Unnamed: 2':'Lon', 'Unnamed: 3':'Weight'}, inplace = True)\n",
    "df_heatmap.drop([0], axis=0, inplace=True)"
   ]
  },
  {
   "cell_type": "code",
   "execution_count": 7,
   "id": "07ecc5b3",
   "metadata": {
    "scrolled": true
   },
   "outputs": [
    {
     "data": {
      "text/html": [
       "<div>\n",
       "<style scoped>\n",
       "    .dataframe tbody tr th:only-of-type {\n",
       "        vertical-align: middle;\n",
       "    }\n",
       "\n",
       "    .dataframe tbody tr th {\n",
       "        vertical-align: top;\n",
       "    }\n",
       "\n",
       "    .dataframe thead th {\n",
       "        text-align: right;\n",
       "    }\n",
       "</style>\n",
       "<table border=\"1\" class=\"dataframe\">\n",
       "  <thead>\n",
       "    <tr style=\"text-align: right;\">\n",
       "      <th></th>\n",
       "      <th>city</th>\n",
       "      <th>Lat</th>\n",
       "      <th>Lon</th>\n",
       "      <th>Weight</th>\n",
       "    </tr>\n",
       "  </thead>\n",
       "  <tbody>\n",
       "    <tr>\n",
       "      <th>1</th>\n",
       "      <td>Quito</td>\n",
       "      <td>-0.1783523031</td>\n",
       "      <td>-78.4587897</td>\n",
       "      <td>18</td>\n",
       "    </tr>\n",
       "    <tr>\n",
       "      <th>2</th>\n",
       "      <td>Santo Domingo</td>\n",
       "      <td>-0.2573192362</td>\n",
       "      <td>-79.17520814</td>\n",
       "      <td>3</td>\n",
       "    </tr>\n",
       "    <tr>\n",
       "      <th>3</th>\n",
       "      <td>Cayambe</td>\n",
       "      <td>0.04266553824</td>\n",
       "      <td>-78.14562698</td>\n",
       "      <td>1</td>\n",
       "    </tr>\n",
       "    <tr>\n",
       "      <th>4</th>\n",
       "      <td>Latacunga</td>\n",
       "      <td>-0.9335619099</td>\n",
       "      <td>-78.61440404</td>\n",
       "      <td>2</td>\n",
       "    </tr>\n",
       "    <tr>\n",
       "      <th>5</th>\n",
       "      <td>Riobamba</td>\n",
       "      <td>-1.668152557</td>\n",
       "      <td>-78.65198534</td>\n",
       "      <td>1</td>\n",
       "    </tr>\n",
       "    <tr>\n",
       "      <th>6</th>\n",
       "      <td>Ibarra</td>\n",
       "      <td>0.3469331238</td>\n",
       "      <td>-78.13233517</td>\n",
       "      <td>1</td>\n",
       "    </tr>\n",
       "    <tr>\n",
       "      <th>7</th>\n",
       "      <td>Guaranda</td>\n",
       "      <td>-1.53282959</td>\n",
       "      <td>-79.00644372</td>\n",
       "      <td>1</td>\n",
       "    </tr>\n",
       "    <tr>\n",
       "      <th>8</th>\n",
       "      <td>Puyo</td>\n",
       "      <td>-1.493138393</td>\n",
       "      <td>-78.00040096</td>\n",
       "      <td>1</td>\n",
       "    </tr>\n",
       "    <tr>\n",
       "      <th>9</th>\n",
       "      <td>Ambato</td>\n",
       "      <td>-1.254569063</td>\n",
       "      <td>-78.62299276</td>\n",
       "      <td>2</td>\n",
       "    </tr>\n",
       "    <tr>\n",
       "      <th>10</th>\n",
       "      <td>Guayaquil</td>\n",
       "      <td>-2.190046076</td>\n",
       "      <td>-79.89591672</td>\n",
       "      <td>8</td>\n",
       "    </tr>\n",
       "    <tr>\n",
       "      <th>11</th>\n",
       "      <td>Salinas</td>\n",
       "      <td>-2.224225066</td>\n",
       "      <td>-80.95636438</td>\n",
       "      <td>1</td>\n",
       "    </tr>\n",
       "    <tr>\n",
       "      <th>12</th>\n",
       "      <td>Daule</td>\n",
       "      <td>-1.861665266</td>\n",
       "      <td>-79.97758321</td>\n",
       "      <td>1</td>\n",
       "    </tr>\n",
       "    <tr>\n",
       "      <th>13</th>\n",
       "      <td>Babahoyo</td>\n",
       "      <td>-1.80188957</td>\n",
       "      <td>-79.53526512</td>\n",
       "      <td>1</td>\n",
       "    </tr>\n",
       "    <tr>\n",
       "      <th>14</th>\n",
       "      <td>Quevedo</td>\n",
       "      <td>-1.022975477</td>\n",
       "      <td>-79.46288576</td>\n",
       "      <td>1</td>\n",
       "    </tr>\n",
       "    <tr>\n",
       "      <th>15</th>\n",
       "      <td>Playas</td>\n",
       "      <td>-2.605399901</td>\n",
       "      <td>-80.3880077</td>\n",
       "      <td>1</td>\n",
       "    </tr>\n",
       "    <tr>\n",
       "      <th>16</th>\n",
       "      <td>Libertad</td>\n",
       "      <td>-2.231676838</td>\n",
       "      <td>-80.90087428</td>\n",
       "      <td>1</td>\n",
       "    </tr>\n",
       "    <tr>\n",
       "      <th>17</th>\n",
       "      <td>Cuenca</td>\n",
       "      <td>-2.900436002</td>\n",
       "      <td>-79.00792883</td>\n",
       "      <td>3</td>\n",
       "    </tr>\n",
       "    <tr>\n",
       "      <th>18</th>\n",
       "      <td>Loja</td>\n",
       "      <td>-3.994920984</td>\n",
       "      <td>-79.2034668</td>\n",
       "      <td>1</td>\n",
       "    </tr>\n",
       "    <tr>\n",
       "      <th>19</th>\n",
       "      <td>Machala</td>\n",
       "      <td>-3.197789669</td>\n",
       "      <td>-79.88506978</td>\n",
       "      <td>2</td>\n",
       "    </tr>\n",
       "    <tr>\n",
       "      <th>20</th>\n",
       "      <td>Esmeraldas</td>\n",
       "      <td>0.9699141564</td>\n",
       "      <td>-79.65087377</td>\n",
       "      <td>1</td>\n",
       "    </tr>\n",
       "    <tr>\n",
       "      <th>21</th>\n",
       "      <td>Manta</td>\n",
       "      <td>-0.9676301717</td>\n",
       "      <td>-80.70745538</td>\n",
       "      <td>2</td>\n",
       "    </tr>\n",
       "    <tr>\n",
       "      <th>22</th>\n",
       "      <td>El Carmen</td>\n",
       "      <td>-0.2156214788</td>\n",
       "      <td>-79.45971965</td>\n",
       "      <td>1</td>\n",
       "    </tr>\n",
       "  </tbody>\n",
       "</table>\n",
       "</div>"
      ],
      "text/plain": [
       "             city            Lat           Lon Weight\n",
       "1           Quito  -0.1783523031   -78.4587897     18\n",
       "2   Santo Domingo  -0.2573192362  -79.17520814      3\n",
       "3         Cayambe  0.04266553824  -78.14562698      1\n",
       "4       Latacunga  -0.9335619099  -78.61440404      2\n",
       "5        Riobamba   -1.668152557  -78.65198534      1\n",
       "6          Ibarra   0.3469331238  -78.13233517      1\n",
       "7        Guaranda    -1.53282959  -79.00644372      1\n",
       "8            Puyo   -1.493138393  -78.00040096      1\n",
       "9          Ambato   -1.254569063  -78.62299276      2\n",
       "10      Guayaquil   -2.190046076  -79.89591672      8\n",
       "11        Salinas   -2.224225066  -80.95636438      1\n",
       "12          Daule   -1.861665266  -79.97758321      1\n",
       "13       Babahoyo    -1.80188957  -79.53526512      1\n",
       "14        Quevedo   -1.022975477  -79.46288576      1\n",
       "15         Playas   -2.605399901   -80.3880077      1\n",
       "16       Libertad   -2.231676838  -80.90087428      1\n",
       "17         Cuenca   -2.900436002  -79.00792883      3\n",
       "18           Loja   -3.994920984   -79.2034668      1\n",
       "19        Machala   -3.197789669  -79.88506978      2\n",
       "20     Esmeraldas   0.9699141564  -79.65087377      1\n",
       "21          Manta  -0.9676301717  -80.70745538      2\n",
       "22      El Carmen  -0.2156214788  -79.45971965      1"
      ]
     },
     "execution_count": 7,
     "metadata": {},
     "output_type": "execute_result"
    }
   ],
   "source": [
    "df_heatmap"
   ]
  },
  {
   "cell_type": "markdown",
   "id": "7f28a765",
   "metadata": {},
   "source": [
    "## DataFrame merged Train+Stores"
   ]
  },
  {
   "cell_type": "code",
   "execution_count": 8,
   "id": "796e6484",
   "metadata": {},
   "outputs": [],
   "source": [
    "sales_and_stores = pd.merge(df_sales, df_stores, on='store_nbr')"
   ]
  },
  {
   "cell_type": "code",
   "execution_count": 9,
   "id": "2b323a10",
   "metadata": {},
   "outputs": [
    {
     "data": {
      "text/html": [
       "<div>\n",
       "<style scoped>\n",
       "    .dataframe tbody tr th:only-of-type {\n",
       "        vertical-align: middle;\n",
       "    }\n",
       "\n",
       "    .dataframe tbody tr th {\n",
       "        vertical-align: top;\n",
       "    }\n",
       "\n",
       "    .dataframe thead th {\n",
       "        text-align: right;\n",
       "    }\n",
       "</style>\n",
       "<table border=\"1\" class=\"dataframe\">\n",
       "  <thead>\n",
       "    <tr style=\"text-align: right;\">\n",
       "      <th></th>\n",
       "      <th>id</th>\n",
       "      <th>date</th>\n",
       "      <th>store_nbr</th>\n",
       "      <th>family</th>\n",
       "      <th>sales</th>\n",
       "      <th>onpromotion</th>\n",
       "      <th>city</th>\n",
       "      <th>state</th>\n",
       "      <th>type</th>\n",
       "      <th>cluster</th>\n",
       "    </tr>\n",
       "  </thead>\n",
       "  <tbody>\n",
       "    <tr>\n",
       "      <th>0</th>\n",
       "      <td>0</td>\n",
       "      <td>2013-01-01</td>\n",
       "      <td>1</td>\n",
       "      <td>AUTOMOTIVE</td>\n",
       "      <td>0.000</td>\n",
       "      <td>0</td>\n",
       "      <td>Quito</td>\n",
       "      <td>Pichincha</td>\n",
       "      <td>D</td>\n",
       "      <td>13</td>\n",
       "    </tr>\n",
       "    <tr>\n",
       "      <th>1</th>\n",
       "      <td>1</td>\n",
       "      <td>2013-01-01</td>\n",
       "      <td>1</td>\n",
       "      <td>BABY CARE</td>\n",
       "      <td>0.000</td>\n",
       "      <td>0</td>\n",
       "      <td>Quito</td>\n",
       "      <td>Pichincha</td>\n",
       "      <td>D</td>\n",
       "      <td>13</td>\n",
       "    </tr>\n",
       "    <tr>\n",
       "      <th>2</th>\n",
       "      <td>2</td>\n",
       "      <td>2013-01-01</td>\n",
       "      <td>1</td>\n",
       "      <td>BEAUTY</td>\n",
       "      <td>0.000</td>\n",
       "      <td>0</td>\n",
       "      <td>Quito</td>\n",
       "      <td>Pichincha</td>\n",
       "      <td>D</td>\n",
       "      <td>13</td>\n",
       "    </tr>\n",
       "    <tr>\n",
       "      <th>3</th>\n",
       "      <td>3</td>\n",
       "      <td>2013-01-01</td>\n",
       "      <td>1</td>\n",
       "      <td>BEVERAGES</td>\n",
       "      <td>0.000</td>\n",
       "      <td>0</td>\n",
       "      <td>Quito</td>\n",
       "      <td>Pichincha</td>\n",
       "      <td>D</td>\n",
       "      <td>13</td>\n",
       "    </tr>\n",
       "    <tr>\n",
       "      <th>4</th>\n",
       "      <td>4</td>\n",
       "      <td>2013-01-01</td>\n",
       "      <td>1</td>\n",
       "      <td>BOOKS</td>\n",
       "      <td>0.000</td>\n",
       "      <td>0</td>\n",
       "      <td>Quito</td>\n",
       "      <td>Pichincha</td>\n",
       "      <td>D</td>\n",
       "      <td>13</td>\n",
       "    </tr>\n",
       "    <tr>\n",
       "      <th>...</th>\n",
       "      <td>...</td>\n",
       "      <td>...</td>\n",
       "      <td>...</td>\n",
       "      <td>...</td>\n",
       "      <td>...</td>\n",
       "      <td>...</td>\n",
       "      <td>...</td>\n",
       "      <td>...</td>\n",
       "      <td>...</td>\n",
       "      <td>...</td>\n",
       "    </tr>\n",
       "    <tr>\n",
       "      <th>3000883</th>\n",
       "      <td>3000883</td>\n",
       "      <td>2017-08-15</td>\n",
       "      <td>9</td>\n",
       "      <td>POULTRY</td>\n",
       "      <td>438.133</td>\n",
       "      <td>0</td>\n",
       "      <td>Quito</td>\n",
       "      <td>Pichincha</td>\n",
       "      <td>B</td>\n",
       "      <td>6</td>\n",
       "    </tr>\n",
       "    <tr>\n",
       "      <th>3000884</th>\n",
       "      <td>3000884</td>\n",
       "      <td>2017-08-15</td>\n",
       "      <td>9</td>\n",
       "      <td>PREPARED FOODS</td>\n",
       "      <td>154.553</td>\n",
       "      <td>1</td>\n",
       "      <td>Quito</td>\n",
       "      <td>Pichincha</td>\n",
       "      <td>B</td>\n",
       "      <td>6</td>\n",
       "    </tr>\n",
       "    <tr>\n",
       "      <th>3000885</th>\n",
       "      <td>3000885</td>\n",
       "      <td>2017-08-15</td>\n",
       "      <td>9</td>\n",
       "      <td>PRODUCE</td>\n",
       "      <td>2419.729</td>\n",
       "      <td>148</td>\n",
       "      <td>Quito</td>\n",
       "      <td>Pichincha</td>\n",
       "      <td>B</td>\n",
       "      <td>6</td>\n",
       "    </tr>\n",
       "    <tr>\n",
       "      <th>3000886</th>\n",
       "      <td>3000886</td>\n",
       "      <td>2017-08-15</td>\n",
       "      <td>9</td>\n",
       "      <td>SCHOOL AND OFFICE SUPPLIES</td>\n",
       "      <td>121.000</td>\n",
       "      <td>8</td>\n",
       "      <td>Quito</td>\n",
       "      <td>Pichincha</td>\n",
       "      <td>B</td>\n",
       "      <td>6</td>\n",
       "    </tr>\n",
       "    <tr>\n",
       "      <th>3000887</th>\n",
       "      <td>3000887</td>\n",
       "      <td>2017-08-15</td>\n",
       "      <td>9</td>\n",
       "      <td>SEAFOOD</td>\n",
       "      <td>16.000</td>\n",
       "      <td>0</td>\n",
       "      <td>Quito</td>\n",
       "      <td>Pichincha</td>\n",
       "      <td>B</td>\n",
       "      <td>6</td>\n",
       "    </tr>\n",
       "  </tbody>\n",
       "</table>\n",
       "<p>3000888 rows × 10 columns</p>\n",
       "</div>"
      ],
      "text/plain": [
       "              id        date  store_nbr                      family     sales  \\\n",
       "0              0  2013-01-01          1                  AUTOMOTIVE     0.000   \n",
       "1              1  2013-01-01          1                   BABY CARE     0.000   \n",
       "2              2  2013-01-01          1                      BEAUTY     0.000   \n",
       "3              3  2013-01-01          1                   BEVERAGES     0.000   \n",
       "4              4  2013-01-01          1                       BOOKS     0.000   \n",
       "...          ...         ...        ...                         ...       ...   \n",
       "3000883  3000883  2017-08-15          9                     POULTRY   438.133   \n",
       "3000884  3000884  2017-08-15          9              PREPARED FOODS   154.553   \n",
       "3000885  3000885  2017-08-15          9                     PRODUCE  2419.729   \n",
       "3000886  3000886  2017-08-15          9  SCHOOL AND OFFICE SUPPLIES   121.000   \n",
       "3000887  3000887  2017-08-15          9                     SEAFOOD    16.000   \n",
       "\n",
       "         onpromotion   city      state type  cluster  \n",
       "0                  0  Quito  Pichincha    D       13  \n",
       "1                  0  Quito  Pichincha    D       13  \n",
       "2                  0  Quito  Pichincha    D       13  \n",
       "3                  0  Quito  Pichincha    D       13  \n",
       "4                  0  Quito  Pichincha    D       13  \n",
       "...              ...    ...        ...  ...      ...  \n",
       "3000883            0  Quito  Pichincha    B        6  \n",
       "3000884            1  Quito  Pichincha    B        6  \n",
       "3000885          148  Quito  Pichincha    B        6  \n",
       "3000886            8  Quito  Pichincha    B        6  \n",
       "3000887            0  Quito  Pichincha    B        6  \n",
       "\n",
       "[3000888 rows x 10 columns]"
      ]
     },
     "execution_count": 9,
     "metadata": {},
     "output_type": "execute_result"
    }
   ],
   "source": [
    "sales_and_stores"
   ]
  },
  {
   "cell_type": "markdown",
   "id": "70ff31ca",
   "metadata": {},
   "source": [
    "## DataFrame merged Train+Stores + City Locations"
   ]
  },
  {
   "cell_type": "code",
   "execution_count": 10,
   "id": "ea71eacc",
   "metadata": {},
   "outputs": [],
   "source": [
    "map_base = pd.merge(sales_and_stores, df_heatmap, on='city').drop(columns=['Weight', 'type', 'cluster', 'state', 'onpromotion'])"
   ]
  },
  {
   "cell_type": "code",
   "execution_count": 11,
   "id": "ea4aebaa",
   "metadata": {
    "scrolled": true
   },
   "outputs": [
    {
     "data": {
      "text/html": [
       "<div>\n",
       "<style scoped>\n",
       "    .dataframe tbody tr th:only-of-type {\n",
       "        vertical-align: middle;\n",
       "    }\n",
       "\n",
       "    .dataframe tbody tr th {\n",
       "        vertical-align: top;\n",
       "    }\n",
       "\n",
       "    .dataframe thead th {\n",
       "        text-align: right;\n",
       "    }\n",
       "</style>\n",
       "<table border=\"1\" class=\"dataframe\">\n",
       "  <thead>\n",
       "    <tr style=\"text-align: right;\">\n",
       "      <th></th>\n",
       "      <th>id</th>\n",
       "      <th>date</th>\n",
       "      <th>store_nbr</th>\n",
       "      <th>family</th>\n",
       "      <th>sales</th>\n",
       "      <th>city</th>\n",
       "      <th>Lat</th>\n",
       "      <th>Lon</th>\n",
       "    </tr>\n",
       "  </thead>\n",
       "  <tbody>\n",
       "    <tr>\n",
       "      <th>0</th>\n",
       "      <td>0</td>\n",
       "      <td>2013-01-01</td>\n",
       "      <td>1</td>\n",
       "      <td>AUTOMOTIVE</td>\n",
       "      <td>0.000</td>\n",
       "      <td>Quito</td>\n",
       "      <td>-0.1783523031</td>\n",
       "      <td>-78.4587897</td>\n",
       "    </tr>\n",
       "    <tr>\n",
       "      <th>1</th>\n",
       "      <td>1</td>\n",
       "      <td>2013-01-01</td>\n",
       "      <td>1</td>\n",
       "      <td>BABY CARE</td>\n",
       "      <td>0.000</td>\n",
       "      <td>Quito</td>\n",
       "      <td>-0.1783523031</td>\n",
       "      <td>-78.4587897</td>\n",
       "    </tr>\n",
       "    <tr>\n",
       "      <th>2</th>\n",
       "      <td>2</td>\n",
       "      <td>2013-01-01</td>\n",
       "      <td>1</td>\n",
       "      <td>BEAUTY</td>\n",
       "      <td>0.000</td>\n",
       "      <td>Quito</td>\n",
       "      <td>-0.1783523031</td>\n",
       "      <td>-78.4587897</td>\n",
       "    </tr>\n",
       "    <tr>\n",
       "      <th>3</th>\n",
       "      <td>3</td>\n",
       "      <td>2013-01-01</td>\n",
       "      <td>1</td>\n",
       "      <td>BEVERAGES</td>\n",
       "      <td>0.000</td>\n",
       "      <td>Quito</td>\n",
       "      <td>-0.1783523031</td>\n",
       "      <td>-78.4587897</td>\n",
       "    </tr>\n",
       "    <tr>\n",
       "      <th>4</th>\n",
       "      <td>4</td>\n",
       "      <td>2013-01-01</td>\n",
       "      <td>1</td>\n",
       "      <td>BOOKS</td>\n",
       "      <td>0.000</td>\n",
       "      <td>Quito</td>\n",
       "      <td>-0.1783523031</td>\n",
       "      <td>-78.4587897</td>\n",
       "    </tr>\n",
       "    <tr>\n",
       "      <th>...</th>\n",
       "      <td>...</td>\n",
       "      <td>...</td>\n",
       "      <td>...</td>\n",
       "      <td>...</td>\n",
       "      <td>...</td>\n",
       "      <td>...</td>\n",
       "      <td>...</td>\n",
       "      <td>...</td>\n",
       "    </tr>\n",
       "    <tr>\n",
       "      <th>3000883</th>\n",
       "      <td>3000751</td>\n",
       "      <td>2017-08-15</td>\n",
       "      <td>54</td>\n",
       "      <td>POULTRY</td>\n",
       "      <td>59.619</td>\n",
       "      <td>El Carmen</td>\n",
       "      <td>-0.2156214788</td>\n",
       "      <td>-79.45971965</td>\n",
       "    </tr>\n",
       "    <tr>\n",
       "      <th>3000884</th>\n",
       "      <td>3000752</td>\n",
       "      <td>2017-08-15</td>\n",
       "      <td>54</td>\n",
       "      <td>PREPARED FOODS</td>\n",
       "      <td>94.000</td>\n",
       "      <td>El Carmen</td>\n",
       "      <td>-0.2156214788</td>\n",
       "      <td>-79.45971965</td>\n",
       "    </tr>\n",
       "    <tr>\n",
       "      <th>3000885</th>\n",
       "      <td>3000753</td>\n",
       "      <td>2017-08-15</td>\n",
       "      <td>54</td>\n",
       "      <td>PRODUCE</td>\n",
       "      <td>915.371</td>\n",
       "      <td>El Carmen</td>\n",
       "      <td>-0.2156214788</td>\n",
       "      <td>-79.45971965</td>\n",
       "    </tr>\n",
       "    <tr>\n",
       "      <th>3000886</th>\n",
       "      <td>3000754</td>\n",
       "      <td>2017-08-15</td>\n",
       "      <td>54</td>\n",
       "      <td>SCHOOL AND OFFICE SUPPLIES</td>\n",
       "      <td>0.000</td>\n",
       "      <td>El Carmen</td>\n",
       "      <td>-0.2156214788</td>\n",
       "      <td>-79.45971965</td>\n",
       "    </tr>\n",
       "    <tr>\n",
       "      <th>3000887</th>\n",
       "      <td>3000755</td>\n",
       "      <td>2017-08-15</td>\n",
       "      <td>54</td>\n",
       "      <td>SEAFOOD</td>\n",
       "      <td>3.000</td>\n",
       "      <td>El Carmen</td>\n",
       "      <td>-0.2156214788</td>\n",
       "      <td>-79.45971965</td>\n",
       "    </tr>\n",
       "  </tbody>\n",
       "</table>\n",
       "<p>3000888 rows × 8 columns</p>\n",
       "</div>"
      ],
      "text/plain": [
       "              id        date  store_nbr                      family    sales  \\\n",
       "0              0  2013-01-01          1                  AUTOMOTIVE    0.000   \n",
       "1              1  2013-01-01          1                   BABY CARE    0.000   \n",
       "2              2  2013-01-01          1                      BEAUTY    0.000   \n",
       "3              3  2013-01-01          1                   BEVERAGES    0.000   \n",
       "4              4  2013-01-01          1                       BOOKS    0.000   \n",
       "...          ...         ...        ...                         ...      ...   \n",
       "3000883  3000751  2017-08-15         54                     POULTRY   59.619   \n",
       "3000884  3000752  2017-08-15         54              PREPARED FOODS   94.000   \n",
       "3000885  3000753  2017-08-15         54                     PRODUCE  915.371   \n",
       "3000886  3000754  2017-08-15         54  SCHOOL AND OFFICE SUPPLIES    0.000   \n",
       "3000887  3000755  2017-08-15         54                     SEAFOOD    3.000   \n",
       "\n",
       "              city            Lat           Lon  \n",
       "0            Quito  -0.1783523031   -78.4587897  \n",
       "1            Quito  -0.1783523031   -78.4587897  \n",
       "2            Quito  -0.1783523031   -78.4587897  \n",
       "3            Quito  -0.1783523031   -78.4587897  \n",
       "4            Quito  -0.1783523031   -78.4587897  \n",
       "...            ...            ...           ...  \n",
       "3000883  El Carmen  -0.2156214788  -79.45971965  \n",
       "3000884  El Carmen  -0.2156214788  -79.45971965  \n",
       "3000885  El Carmen  -0.2156214788  -79.45971965  \n",
       "3000886  El Carmen  -0.2156214788  -79.45971965  \n",
       "3000887  El Carmen  -0.2156214788  -79.45971965  \n",
       "\n",
       "[3000888 rows x 8 columns]"
      ]
     },
     "execution_count": 11,
     "metadata": {},
     "output_type": "execute_result"
    }
   ],
   "source": [
    "map_base"
   ]
  },
  {
   "cell_type": "code",
   "execution_count": null,
   "id": "cb38163d",
   "metadata": {},
   "outputs": [],
   "source": []
  },
  {
   "cell_type": "markdown",
   "id": "c4a20fe9",
   "metadata": {},
   "source": [
    "## Cleaning the DataFrame merged"
   ]
  },
  {
   "cell_type": "code",
   "execution_count": 12,
   "id": "859204a4",
   "metadata": {},
   "outputs": [],
   "source": [
    "map_base['date'] = pd.to_datetime(map_base['date'])         # Changing the column date to DateTime\n",
    "map_base['month'] = map_base['date'].dt.month               # Creating a new column for month\n",
    "map_base['Year'] = map_base['date'].dt.year                 # Creating a new column for year  "
   ]
  },
  {
   "cell_type": "code",
   "execution_count": 13,
   "id": "6dd6f27d",
   "metadata": {},
   "outputs": [
    {
     "data": {
      "text/html": [
       "<div>\n",
       "<style scoped>\n",
       "    .dataframe tbody tr th:only-of-type {\n",
       "        vertical-align: middle;\n",
       "    }\n",
       "\n",
       "    .dataframe tbody tr th {\n",
       "        vertical-align: top;\n",
       "    }\n",
       "\n",
       "    .dataframe thead th {\n",
       "        text-align: right;\n",
       "    }\n",
       "</style>\n",
       "<table border=\"1\" class=\"dataframe\">\n",
       "  <thead>\n",
       "    <tr style=\"text-align: right;\">\n",
       "      <th></th>\n",
       "      <th>id</th>\n",
       "      <th>date</th>\n",
       "      <th>store_nbr</th>\n",
       "      <th>family</th>\n",
       "      <th>sales</th>\n",
       "      <th>city</th>\n",
       "      <th>Lat</th>\n",
       "      <th>Lon</th>\n",
       "      <th>month</th>\n",
       "      <th>Year</th>\n",
       "    </tr>\n",
       "  </thead>\n",
       "  <tbody>\n",
       "    <tr>\n",
       "      <th>0</th>\n",
       "      <td>0</td>\n",
       "      <td>2013-01-01</td>\n",
       "      <td>1</td>\n",
       "      <td>AUTOMOTIVE</td>\n",
       "      <td>0.000</td>\n",
       "      <td>Quito</td>\n",
       "      <td>-0.1783523031</td>\n",
       "      <td>-78.4587897</td>\n",
       "      <td>1</td>\n",
       "      <td>2013</td>\n",
       "    </tr>\n",
       "    <tr>\n",
       "      <th>1</th>\n",
       "      <td>1</td>\n",
       "      <td>2013-01-01</td>\n",
       "      <td>1</td>\n",
       "      <td>BABY CARE</td>\n",
       "      <td>0.000</td>\n",
       "      <td>Quito</td>\n",
       "      <td>-0.1783523031</td>\n",
       "      <td>-78.4587897</td>\n",
       "      <td>1</td>\n",
       "      <td>2013</td>\n",
       "    </tr>\n",
       "    <tr>\n",
       "      <th>2</th>\n",
       "      <td>2</td>\n",
       "      <td>2013-01-01</td>\n",
       "      <td>1</td>\n",
       "      <td>BEAUTY</td>\n",
       "      <td>0.000</td>\n",
       "      <td>Quito</td>\n",
       "      <td>-0.1783523031</td>\n",
       "      <td>-78.4587897</td>\n",
       "      <td>1</td>\n",
       "      <td>2013</td>\n",
       "    </tr>\n",
       "    <tr>\n",
       "      <th>3</th>\n",
       "      <td>3</td>\n",
       "      <td>2013-01-01</td>\n",
       "      <td>1</td>\n",
       "      <td>BEVERAGES</td>\n",
       "      <td>0.000</td>\n",
       "      <td>Quito</td>\n",
       "      <td>-0.1783523031</td>\n",
       "      <td>-78.4587897</td>\n",
       "      <td>1</td>\n",
       "      <td>2013</td>\n",
       "    </tr>\n",
       "    <tr>\n",
       "      <th>4</th>\n",
       "      <td>4</td>\n",
       "      <td>2013-01-01</td>\n",
       "      <td>1</td>\n",
       "      <td>BOOKS</td>\n",
       "      <td>0.000</td>\n",
       "      <td>Quito</td>\n",
       "      <td>-0.1783523031</td>\n",
       "      <td>-78.4587897</td>\n",
       "      <td>1</td>\n",
       "      <td>2013</td>\n",
       "    </tr>\n",
       "    <tr>\n",
       "      <th>...</th>\n",
       "      <td>...</td>\n",
       "      <td>...</td>\n",
       "      <td>...</td>\n",
       "      <td>...</td>\n",
       "      <td>...</td>\n",
       "      <td>...</td>\n",
       "      <td>...</td>\n",
       "      <td>...</td>\n",
       "      <td>...</td>\n",
       "      <td>...</td>\n",
       "    </tr>\n",
       "    <tr>\n",
       "      <th>3000883</th>\n",
       "      <td>3000751</td>\n",
       "      <td>2017-08-15</td>\n",
       "      <td>54</td>\n",
       "      <td>POULTRY</td>\n",
       "      <td>59.619</td>\n",
       "      <td>El Carmen</td>\n",
       "      <td>-0.2156214788</td>\n",
       "      <td>-79.45971965</td>\n",
       "      <td>8</td>\n",
       "      <td>2017</td>\n",
       "    </tr>\n",
       "    <tr>\n",
       "      <th>3000884</th>\n",
       "      <td>3000752</td>\n",
       "      <td>2017-08-15</td>\n",
       "      <td>54</td>\n",
       "      <td>PREPARED FOODS</td>\n",
       "      <td>94.000</td>\n",
       "      <td>El Carmen</td>\n",
       "      <td>-0.2156214788</td>\n",
       "      <td>-79.45971965</td>\n",
       "      <td>8</td>\n",
       "      <td>2017</td>\n",
       "    </tr>\n",
       "    <tr>\n",
       "      <th>3000885</th>\n",
       "      <td>3000753</td>\n",
       "      <td>2017-08-15</td>\n",
       "      <td>54</td>\n",
       "      <td>PRODUCE</td>\n",
       "      <td>915.371</td>\n",
       "      <td>El Carmen</td>\n",
       "      <td>-0.2156214788</td>\n",
       "      <td>-79.45971965</td>\n",
       "      <td>8</td>\n",
       "      <td>2017</td>\n",
       "    </tr>\n",
       "    <tr>\n",
       "      <th>3000886</th>\n",
       "      <td>3000754</td>\n",
       "      <td>2017-08-15</td>\n",
       "      <td>54</td>\n",
       "      <td>SCHOOL AND OFFICE SUPPLIES</td>\n",
       "      <td>0.000</td>\n",
       "      <td>El Carmen</td>\n",
       "      <td>-0.2156214788</td>\n",
       "      <td>-79.45971965</td>\n",
       "      <td>8</td>\n",
       "      <td>2017</td>\n",
       "    </tr>\n",
       "    <tr>\n",
       "      <th>3000887</th>\n",
       "      <td>3000755</td>\n",
       "      <td>2017-08-15</td>\n",
       "      <td>54</td>\n",
       "      <td>SEAFOOD</td>\n",
       "      <td>3.000</td>\n",
       "      <td>El Carmen</td>\n",
       "      <td>-0.2156214788</td>\n",
       "      <td>-79.45971965</td>\n",
       "      <td>8</td>\n",
       "      <td>2017</td>\n",
       "    </tr>\n",
       "  </tbody>\n",
       "</table>\n",
       "<p>3000888 rows × 10 columns</p>\n",
       "</div>"
      ],
      "text/plain": [
       "              id       date  store_nbr                      family    sales  \\\n",
       "0              0 2013-01-01          1                  AUTOMOTIVE    0.000   \n",
       "1              1 2013-01-01          1                   BABY CARE    0.000   \n",
       "2              2 2013-01-01          1                      BEAUTY    0.000   \n",
       "3              3 2013-01-01          1                   BEVERAGES    0.000   \n",
       "4              4 2013-01-01          1                       BOOKS    0.000   \n",
       "...          ...        ...        ...                         ...      ...   \n",
       "3000883  3000751 2017-08-15         54                     POULTRY   59.619   \n",
       "3000884  3000752 2017-08-15         54              PREPARED FOODS   94.000   \n",
       "3000885  3000753 2017-08-15         54                     PRODUCE  915.371   \n",
       "3000886  3000754 2017-08-15         54  SCHOOL AND OFFICE SUPPLIES    0.000   \n",
       "3000887  3000755 2017-08-15         54                     SEAFOOD    3.000   \n",
       "\n",
       "              city            Lat           Lon  month  Year  \n",
       "0            Quito  -0.1783523031   -78.4587897      1  2013  \n",
       "1            Quito  -0.1783523031   -78.4587897      1  2013  \n",
       "2            Quito  -0.1783523031   -78.4587897      1  2013  \n",
       "3            Quito  -0.1783523031   -78.4587897      1  2013  \n",
       "4            Quito  -0.1783523031   -78.4587897      1  2013  \n",
       "...            ...            ...           ...    ...   ...  \n",
       "3000883  El Carmen  -0.2156214788  -79.45971965      8  2017  \n",
       "3000884  El Carmen  -0.2156214788  -79.45971965      8  2017  \n",
       "3000885  El Carmen  -0.2156214788  -79.45971965      8  2017  \n",
       "3000886  El Carmen  -0.2156214788  -79.45971965      8  2017  \n",
       "3000887  El Carmen  -0.2156214788  -79.45971965      8  2017  \n",
       "\n",
       "[3000888 rows x 10 columns]"
      ]
     },
     "execution_count": 13,
     "metadata": {},
     "output_type": "execute_result"
    }
   ],
   "source": [
    "map_base"
   ]
  },
  {
   "cell_type": "markdown",
   "id": "29bea2f2",
   "metadata": {},
   "source": [
    "## Grouping the DataFrame merged"
   ]
  },
  {
   "cell_type": "code",
   "execution_count": 14,
   "id": "1b116901",
   "metadata": {},
   "outputs": [],
   "source": [
    "map_base_2 = map_base.groupby([\"Year\",\"month\",\"family\",\"store_nbr\", \"city\", \"Lat\", \"Lon\"]).sum().reset_index()"
   ]
  },
  {
   "cell_type": "code",
   "execution_count": 15,
   "id": "f7b8c52b",
   "metadata": {
    "scrolled": true
   },
   "outputs": [
    {
     "data": {
      "text/html": [
       "<div>\n",
       "<style scoped>\n",
       "    .dataframe tbody tr th:only-of-type {\n",
       "        vertical-align: middle;\n",
       "    }\n",
       "\n",
       "    .dataframe tbody tr th {\n",
       "        vertical-align: top;\n",
       "    }\n",
       "\n",
       "    .dataframe thead th {\n",
       "        text-align: right;\n",
       "    }\n",
       "</style>\n",
       "<table border=\"1\" class=\"dataframe\">\n",
       "  <thead>\n",
       "    <tr style=\"text-align: right;\">\n",
       "      <th></th>\n",
       "      <th>Year</th>\n",
       "      <th>month</th>\n",
       "      <th>family</th>\n",
       "      <th>store_nbr</th>\n",
       "      <th>city</th>\n",
       "      <th>Lat</th>\n",
       "      <th>Lon</th>\n",
       "      <th>id</th>\n",
       "      <th>sales</th>\n",
       "    </tr>\n",
       "  </thead>\n",
       "  <tbody>\n",
       "    <tr>\n",
       "      <th>0</th>\n",
       "      <td>2013</td>\n",
       "      <td>1</td>\n",
       "      <td>AUTOMOTIVE</td>\n",
       "      <td>1</td>\n",
       "      <td>Quito</td>\n",
       "      <td>-0.1783523031</td>\n",
       "      <td>-78.4587897</td>\n",
       "      <td>828630</td>\n",
       "      <td>68.000000</td>\n",
       "    </tr>\n",
       "    <tr>\n",
       "      <th>1</th>\n",
       "      <td>2013</td>\n",
       "      <td>1</td>\n",
       "      <td>AUTOMOTIVE</td>\n",
       "      <td>2</td>\n",
       "      <td>Quito</td>\n",
       "      <td>-0.1783523031</td>\n",
       "      <td>-78.4587897</td>\n",
       "      <td>839883</td>\n",
       "      <td>107.000000</td>\n",
       "    </tr>\n",
       "    <tr>\n",
       "      <th>2</th>\n",
       "      <td>2013</td>\n",
       "      <td>1</td>\n",
       "      <td>AUTOMOTIVE</td>\n",
       "      <td>3</td>\n",
       "      <td>Quito</td>\n",
       "      <td>-0.1783523031</td>\n",
       "      <td>-78.4587897</td>\n",
       "      <td>851136</td>\n",
       "      <td>186.000000</td>\n",
       "    </tr>\n",
       "    <tr>\n",
       "      <th>3</th>\n",
       "      <td>2013</td>\n",
       "      <td>1</td>\n",
       "      <td>AUTOMOTIVE</td>\n",
       "      <td>4</td>\n",
       "      <td>Quito</td>\n",
       "      <td>-0.1783523031</td>\n",
       "      <td>-78.4587897</td>\n",
       "      <td>862389</td>\n",
       "      <td>120.000000</td>\n",
       "    </tr>\n",
       "    <tr>\n",
       "      <th>4</th>\n",
       "      <td>2013</td>\n",
       "      <td>1</td>\n",
       "      <td>AUTOMOTIVE</td>\n",
       "      <td>5</td>\n",
       "      <td>Santo Domingo</td>\n",
       "      <td>-0.2573192362</td>\n",
       "      <td>-79.17520814</td>\n",
       "      <td>873642</td>\n",
       "      <td>134.000000</td>\n",
       "    </tr>\n",
       "    <tr>\n",
       "      <th>...</th>\n",
       "      <td>...</td>\n",
       "      <td>...</td>\n",
       "      <td>...</td>\n",
       "      <td>...</td>\n",
       "      <td>...</td>\n",
       "      <td>...</td>\n",
       "      <td>...</td>\n",
       "      <td>...</td>\n",
       "      <td>...</td>\n",
       "    </tr>\n",
       "    <tr>\n",
       "      <th>99787</th>\n",
       "      <td>2017</td>\n",
       "      <td>8</td>\n",
       "      <td>SEAFOOD</td>\n",
       "      <td>50</td>\n",
       "      <td>Ambato</td>\n",
       "      <td>-1.254569063</td>\n",
       "      <td>-78.62299276</td>\n",
       "      <td>44822235</td>\n",
       "      <td>294.618001</td>\n",
       "    </tr>\n",
       "    <tr>\n",
       "      <th>99788</th>\n",
       "      <td>2017</td>\n",
       "      <td>8</td>\n",
       "      <td>SEAFOOD</td>\n",
       "      <td>51</td>\n",
       "      <td>Guayaquil</td>\n",
       "      <td>-2.190046076</td>\n",
       "      <td>-79.89591672</td>\n",
       "      <td>44822730</td>\n",
       "      <td>767.296000</td>\n",
       "    </tr>\n",
       "    <tr>\n",
       "      <th>99789</th>\n",
       "      <td>2017</td>\n",
       "      <td>8</td>\n",
       "      <td>SEAFOOD</td>\n",
       "      <td>52</td>\n",
       "      <td>Manta</td>\n",
       "      <td>-0.9676301717</td>\n",
       "      <td>-80.70745538</td>\n",
       "      <td>44823225</td>\n",
       "      <td>137.227000</td>\n",
       "    </tr>\n",
       "    <tr>\n",
       "      <th>99790</th>\n",
       "      <td>2017</td>\n",
       "      <td>8</td>\n",
       "      <td>SEAFOOD</td>\n",
       "      <td>53</td>\n",
       "      <td>Manta</td>\n",
       "      <td>-0.9676301717</td>\n",
       "      <td>-80.70745538</td>\n",
       "      <td>44823720</td>\n",
       "      <td>68.000000</td>\n",
       "    </tr>\n",
       "    <tr>\n",
       "      <th>99791</th>\n",
       "      <td>2017</td>\n",
       "      <td>8</td>\n",
       "      <td>SEAFOOD</td>\n",
       "      <td>54</td>\n",
       "      <td>El Carmen</td>\n",
       "      <td>-0.2156214788</td>\n",
       "      <td>-79.45971965</td>\n",
       "      <td>44824215</td>\n",
       "      <td>38.000000</td>\n",
       "    </tr>\n",
       "  </tbody>\n",
       "</table>\n",
       "<p>99792 rows × 9 columns</p>\n",
       "</div>"
      ],
      "text/plain": [
       "       Year  month      family  store_nbr           city            Lat  \\\n",
       "0      2013      1  AUTOMOTIVE          1          Quito  -0.1783523031   \n",
       "1      2013      1  AUTOMOTIVE          2          Quito  -0.1783523031   \n",
       "2      2013      1  AUTOMOTIVE          3          Quito  -0.1783523031   \n",
       "3      2013      1  AUTOMOTIVE          4          Quito  -0.1783523031   \n",
       "4      2013      1  AUTOMOTIVE          5  Santo Domingo  -0.2573192362   \n",
       "...     ...    ...         ...        ...            ...            ...   \n",
       "99787  2017      8     SEAFOOD         50         Ambato   -1.254569063   \n",
       "99788  2017      8     SEAFOOD         51      Guayaquil   -2.190046076   \n",
       "99789  2017      8     SEAFOOD         52          Manta  -0.9676301717   \n",
       "99790  2017      8     SEAFOOD         53          Manta  -0.9676301717   \n",
       "99791  2017      8     SEAFOOD         54      El Carmen  -0.2156214788   \n",
       "\n",
       "                Lon        id       sales  \n",
       "0       -78.4587897    828630   68.000000  \n",
       "1       -78.4587897    839883  107.000000  \n",
       "2       -78.4587897    851136  186.000000  \n",
       "3       -78.4587897    862389  120.000000  \n",
       "4      -79.17520814    873642  134.000000  \n",
       "...             ...       ...         ...  \n",
       "99787  -78.62299276  44822235  294.618001  \n",
       "99788  -79.89591672  44822730  767.296000  \n",
       "99789  -80.70745538  44823225  137.227000  \n",
       "99790  -80.70745538  44823720   68.000000  \n",
       "99791  -79.45971965  44824215   38.000000  \n",
       "\n",
       "[99792 rows x 9 columns]"
      ]
     },
     "execution_count": 15,
     "metadata": {},
     "output_type": "execute_result"
    }
   ],
   "source": [
    "map_base_2"
   ]
  },
  {
   "cell_type": "markdown",
   "id": "4aed9e1d",
   "metadata": {},
   "source": [
    "## Creating a New DataFrame without the year 2017"
   ]
  },
  {
   "cell_type": "code",
   "execution_count": 16,
   "id": "5332f2f8",
   "metadata": {},
   "outputs": [
    {
     "data": {
      "text/html": [
       "<div>\n",
       "<style scoped>\n",
       "    .dataframe tbody tr th:only-of-type {\n",
       "        vertical-align: middle;\n",
       "    }\n",
       "\n",
       "    .dataframe tbody tr th {\n",
       "        vertical-align: top;\n",
       "    }\n",
       "\n",
       "    .dataframe thead th {\n",
       "        text-align: right;\n",
       "    }\n",
       "</style>\n",
       "<table border=\"1\" class=\"dataframe\">\n",
       "  <thead>\n",
       "    <tr style=\"text-align: right;\">\n",
       "      <th></th>\n",
       "      <th>Year</th>\n",
       "      <th>month</th>\n",
       "      <th>family</th>\n",
       "      <th>store_nbr</th>\n",
       "      <th>city</th>\n",
       "      <th>Lat</th>\n",
       "      <th>Lon</th>\n",
       "      <th>id</th>\n",
       "      <th>sales</th>\n",
       "    </tr>\n",
       "  </thead>\n",
       "  <tbody>\n",
       "    <tr>\n",
       "      <th>85536</th>\n",
       "      <td>2017</td>\n",
       "      <td>1</td>\n",
       "      <td>AUTOMOTIVE</td>\n",
       "      <td>1</td>\n",
       "      <td>Quito</td>\n",
       "      <td>-0.1783523031</td>\n",
       "      <td>-78.4587897</td>\n",
       "      <td>81316224</td>\n",
       "      <td>107.000000</td>\n",
       "    </tr>\n",
       "    <tr>\n",
       "      <th>85537</th>\n",
       "      <td>2017</td>\n",
       "      <td>1</td>\n",
       "      <td>AUTOMOTIVE</td>\n",
       "      <td>2</td>\n",
       "      <td>Quito</td>\n",
       "      <td>-0.1783523031</td>\n",
       "      <td>-78.4587897</td>\n",
       "      <td>81327477</td>\n",
       "      <td>214.000000</td>\n",
       "    </tr>\n",
       "    <tr>\n",
       "      <th>85538</th>\n",
       "      <td>2017</td>\n",
       "      <td>1</td>\n",
       "      <td>AUTOMOTIVE</td>\n",
       "      <td>3</td>\n",
       "      <td>Quito</td>\n",
       "      <td>-0.1783523031</td>\n",
       "      <td>-78.4587897</td>\n",
       "      <td>81338730</td>\n",
       "      <td>351.000000</td>\n",
       "    </tr>\n",
       "    <tr>\n",
       "      <th>85539</th>\n",
       "      <td>2017</td>\n",
       "      <td>1</td>\n",
       "      <td>AUTOMOTIVE</td>\n",
       "      <td>4</td>\n",
       "      <td>Quito</td>\n",
       "      <td>-0.1783523031</td>\n",
       "      <td>-78.4587897</td>\n",
       "      <td>81349983</td>\n",
       "      <td>141.000000</td>\n",
       "    </tr>\n",
       "    <tr>\n",
       "      <th>85540</th>\n",
       "      <td>2017</td>\n",
       "      <td>1</td>\n",
       "      <td>AUTOMOTIVE</td>\n",
       "      <td>5</td>\n",
       "      <td>Santo Domingo</td>\n",
       "      <td>-0.2573192362</td>\n",
       "      <td>-79.17520814</td>\n",
       "      <td>81361236</td>\n",
       "      <td>90.000000</td>\n",
       "    </tr>\n",
       "    <tr>\n",
       "      <th>...</th>\n",
       "      <td>...</td>\n",
       "      <td>...</td>\n",
       "      <td>...</td>\n",
       "      <td>...</td>\n",
       "      <td>...</td>\n",
       "      <td>...</td>\n",
       "      <td>...</td>\n",
       "      <td>...</td>\n",
       "      <td>...</td>\n",
       "    </tr>\n",
       "    <tr>\n",
       "      <th>99787</th>\n",
       "      <td>2017</td>\n",
       "      <td>8</td>\n",
       "      <td>SEAFOOD</td>\n",
       "      <td>50</td>\n",
       "      <td>Ambato</td>\n",
       "      <td>-1.254569063</td>\n",
       "      <td>-78.62299276</td>\n",
       "      <td>44822235</td>\n",
       "      <td>294.618001</td>\n",
       "    </tr>\n",
       "    <tr>\n",
       "      <th>99788</th>\n",
       "      <td>2017</td>\n",
       "      <td>8</td>\n",
       "      <td>SEAFOOD</td>\n",
       "      <td>51</td>\n",
       "      <td>Guayaquil</td>\n",
       "      <td>-2.190046076</td>\n",
       "      <td>-79.89591672</td>\n",
       "      <td>44822730</td>\n",
       "      <td>767.296000</td>\n",
       "    </tr>\n",
       "    <tr>\n",
       "      <th>99789</th>\n",
       "      <td>2017</td>\n",
       "      <td>8</td>\n",
       "      <td>SEAFOOD</td>\n",
       "      <td>52</td>\n",
       "      <td>Manta</td>\n",
       "      <td>-0.9676301717</td>\n",
       "      <td>-80.70745538</td>\n",
       "      <td>44823225</td>\n",
       "      <td>137.227000</td>\n",
       "    </tr>\n",
       "    <tr>\n",
       "      <th>99790</th>\n",
       "      <td>2017</td>\n",
       "      <td>8</td>\n",
       "      <td>SEAFOOD</td>\n",
       "      <td>53</td>\n",
       "      <td>Manta</td>\n",
       "      <td>-0.9676301717</td>\n",
       "      <td>-80.70745538</td>\n",
       "      <td>44823720</td>\n",
       "      <td>68.000000</td>\n",
       "    </tr>\n",
       "    <tr>\n",
       "      <th>99791</th>\n",
       "      <td>2017</td>\n",
       "      <td>8</td>\n",
       "      <td>SEAFOOD</td>\n",
       "      <td>54</td>\n",
       "      <td>El Carmen</td>\n",
       "      <td>-0.2156214788</td>\n",
       "      <td>-79.45971965</td>\n",
       "      <td>44824215</td>\n",
       "      <td>38.000000</td>\n",
       "    </tr>\n",
       "  </tbody>\n",
       "</table>\n",
       "<p>14256 rows × 9 columns</p>\n",
       "</div>"
      ],
      "text/plain": [
       "       Year  month      family  store_nbr           city            Lat  \\\n",
       "85536  2017      1  AUTOMOTIVE          1          Quito  -0.1783523031   \n",
       "85537  2017      1  AUTOMOTIVE          2          Quito  -0.1783523031   \n",
       "85538  2017      1  AUTOMOTIVE          3          Quito  -0.1783523031   \n",
       "85539  2017      1  AUTOMOTIVE          4          Quito  -0.1783523031   \n",
       "85540  2017      1  AUTOMOTIVE          5  Santo Domingo  -0.2573192362   \n",
       "...     ...    ...         ...        ...            ...            ...   \n",
       "99787  2017      8     SEAFOOD         50         Ambato   -1.254569063   \n",
       "99788  2017      8     SEAFOOD         51      Guayaquil   -2.190046076   \n",
       "99789  2017      8     SEAFOOD         52          Manta  -0.9676301717   \n",
       "99790  2017      8     SEAFOOD         53          Manta  -0.9676301717   \n",
       "99791  2017      8     SEAFOOD         54      El Carmen  -0.2156214788   \n",
       "\n",
       "                Lon        id       sales  \n",
       "85536   -78.4587897  81316224  107.000000  \n",
       "85537   -78.4587897  81327477  214.000000  \n",
       "85538   -78.4587897  81338730  351.000000  \n",
       "85539   -78.4587897  81349983  141.000000  \n",
       "85540  -79.17520814  81361236   90.000000  \n",
       "...             ...       ...         ...  \n",
       "99787  -78.62299276  44822235  294.618001  \n",
       "99788  -79.89591672  44822730  767.296000  \n",
       "99789  -80.70745538  44823225  137.227000  \n",
       "99790  -80.70745538  44823720   68.000000  \n",
       "99791  -79.45971965  44824215   38.000000  \n",
       "\n",
       "[14256 rows x 9 columns]"
      ]
     },
     "execution_count": 16,
     "metadata": {},
     "output_type": "execute_result"
    }
   ],
   "source": [
    "dropping_2017 = map_base_2[map_base_2['Year']==2017]\n",
    "dropping_2017"
   ]
  },
  {
   "cell_type": "code",
   "execution_count": 17,
   "id": "a62444a4",
   "metadata": {},
   "outputs": [
    {
     "data": {
      "text/html": [
       "<div>\n",
       "<style scoped>\n",
       "    .dataframe tbody tr th:only-of-type {\n",
       "        vertical-align: middle;\n",
       "    }\n",
       "\n",
       "    .dataframe tbody tr th {\n",
       "        vertical-align: top;\n",
       "    }\n",
       "\n",
       "    .dataframe thead th {\n",
       "        text-align: right;\n",
       "    }\n",
       "</style>\n",
       "<table border=\"1\" class=\"dataframe\">\n",
       "  <thead>\n",
       "    <tr style=\"text-align: right;\">\n",
       "      <th></th>\n",
       "      <th>Year</th>\n",
       "      <th>month</th>\n",
       "      <th>family</th>\n",
       "      <th>store_nbr</th>\n",
       "      <th>city</th>\n",
       "      <th>Lat</th>\n",
       "      <th>Lon</th>\n",
       "      <th>id</th>\n",
       "      <th>sales</th>\n",
       "    </tr>\n",
       "  </thead>\n",
       "  <tbody>\n",
       "    <tr>\n",
       "      <th>0</th>\n",
       "      <td>2013</td>\n",
       "      <td>1</td>\n",
       "      <td>AUTOMOTIVE</td>\n",
       "      <td>1</td>\n",
       "      <td>Quito</td>\n",
       "      <td>-0.1783523031</td>\n",
       "      <td>-78.4587897</td>\n",
       "      <td>828630</td>\n",
       "      <td>68.000000</td>\n",
       "    </tr>\n",
       "    <tr>\n",
       "      <th>1</th>\n",
       "      <td>2013</td>\n",
       "      <td>1</td>\n",
       "      <td>AUTOMOTIVE</td>\n",
       "      <td>2</td>\n",
       "      <td>Quito</td>\n",
       "      <td>-0.1783523031</td>\n",
       "      <td>-78.4587897</td>\n",
       "      <td>839883</td>\n",
       "      <td>107.000000</td>\n",
       "    </tr>\n",
       "    <tr>\n",
       "      <th>2</th>\n",
       "      <td>2013</td>\n",
       "      <td>1</td>\n",
       "      <td>AUTOMOTIVE</td>\n",
       "      <td>3</td>\n",
       "      <td>Quito</td>\n",
       "      <td>-0.1783523031</td>\n",
       "      <td>-78.4587897</td>\n",
       "      <td>851136</td>\n",
       "      <td>186.000000</td>\n",
       "    </tr>\n",
       "    <tr>\n",
       "      <th>3</th>\n",
       "      <td>2013</td>\n",
       "      <td>1</td>\n",
       "      <td>AUTOMOTIVE</td>\n",
       "      <td>4</td>\n",
       "      <td>Quito</td>\n",
       "      <td>-0.1783523031</td>\n",
       "      <td>-78.4587897</td>\n",
       "      <td>862389</td>\n",
       "      <td>120.000000</td>\n",
       "    </tr>\n",
       "    <tr>\n",
       "      <th>4</th>\n",
       "      <td>2013</td>\n",
       "      <td>1</td>\n",
       "      <td>AUTOMOTIVE</td>\n",
       "      <td>5</td>\n",
       "      <td>Santo Domingo</td>\n",
       "      <td>-0.2573192362</td>\n",
       "      <td>-79.17520814</td>\n",
       "      <td>873642</td>\n",
       "      <td>134.000000</td>\n",
       "    </tr>\n",
       "    <tr>\n",
       "      <th>...</th>\n",
       "      <td>...</td>\n",
       "      <td>...</td>\n",
       "      <td>...</td>\n",
       "      <td>...</td>\n",
       "      <td>...</td>\n",
       "      <td>...</td>\n",
       "      <td>...</td>\n",
       "      <td>...</td>\n",
       "      <td>...</td>\n",
       "    </tr>\n",
       "    <tr>\n",
       "      <th>85531</th>\n",
       "      <td>2016</td>\n",
       "      <td>12</td>\n",
       "      <td>SEAFOOD</td>\n",
       "      <td>50</td>\n",
       "      <td>Ambato</td>\n",
       "      <td>-1.254569063</td>\n",
       "      <td>-78.62299276</td>\n",
       "      <td>77108100</td>\n",
       "      <td>543.510003</td>\n",
       "    </tr>\n",
       "    <tr>\n",
       "      <th>85532</th>\n",
       "      <td>2016</td>\n",
       "      <td>12</td>\n",
       "      <td>SEAFOOD</td>\n",
       "      <td>51</td>\n",
       "      <td>Guayaquil</td>\n",
       "      <td>-2.190046076</td>\n",
       "      <td>-79.89591672</td>\n",
       "      <td>77109090</td>\n",
       "      <td>1515.546000</td>\n",
       "    </tr>\n",
       "    <tr>\n",
       "      <th>85533</th>\n",
       "      <td>2016</td>\n",
       "      <td>12</td>\n",
       "      <td>SEAFOOD</td>\n",
       "      <td>52</td>\n",
       "      <td>Manta</td>\n",
       "      <td>-0.9676301717</td>\n",
       "      <td>-80.70745538</td>\n",
       "      <td>77110080</td>\n",
       "      <td>0.000000</td>\n",
       "    </tr>\n",
       "    <tr>\n",
       "      <th>85534</th>\n",
       "      <td>2016</td>\n",
       "      <td>12</td>\n",
       "      <td>SEAFOOD</td>\n",
       "      <td>53</td>\n",
       "      <td>Manta</td>\n",
       "      <td>-0.9676301717</td>\n",
       "      <td>-80.70745538</td>\n",
       "      <td>77111070</td>\n",
       "      <td>183.790000</td>\n",
       "    </tr>\n",
       "    <tr>\n",
       "      <th>85535</th>\n",
       "      <td>2016</td>\n",
       "      <td>12</td>\n",
       "      <td>SEAFOOD</td>\n",
       "      <td>54</td>\n",
       "      <td>El Carmen</td>\n",
       "      <td>-0.2156214788</td>\n",
       "      <td>-79.45971965</td>\n",
       "      <td>77112060</td>\n",
       "      <td>35.000000</td>\n",
       "    </tr>\n",
       "  </tbody>\n",
       "</table>\n",
       "<p>85536 rows × 9 columns</p>\n",
       "</div>"
      ],
      "text/plain": [
       "       Year  month      family  store_nbr           city            Lat  \\\n",
       "0      2013      1  AUTOMOTIVE          1          Quito  -0.1783523031   \n",
       "1      2013      1  AUTOMOTIVE          2          Quito  -0.1783523031   \n",
       "2      2013      1  AUTOMOTIVE          3          Quito  -0.1783523031   \n",
       "3      2013      1  AUTOMOTIVE          4          Quito  -0.1783523031   \n",
       "4      2013      1  AUTOMOTIVE          5  Santo Domingo  -0.2573192362   \n",
       "...     ...    ...         ...        ...            ...            ...   \n",
       "85531  2016     12     SEAFOOD         50         Ambato   -1.254569063   \n",
       "85532  2016     12     SEAFOOD         51      Guayaquil   -2.190046076   \n",
       "85533  2016     12     SEAFOOD         52          Manta  -0.9676301717   \n",
       "85534  2016     12     SEAFOOD         53          Manta  -0.9676301717   \n",
       "85535  2016     12     SEAFOOD         54      El Carmen  -0.2156214788   \n",
       "\n",
       "                Lon        id        sales  \n",
       "0       -78.4587897    828630    68.000000  \n",
       "1       -78.4587897    839883   107.000000  \n",
       "2       -78.4587897    851136   186.000000  \n",
       "3       -78.4587897    862389   120.000000  \n",
       "4      -79.17520814    873642   134.000000  \n",
       "...             ...       ...          ...  \n",
       "85531  -78.62299276  77108100   543.510003  \n",
       "85532  -79.89591672  77109090  1515.546000  \n",
       "85533  -80.70745538  77110080     0.000000  \n",
       "85534  -80.70745538  77111070   183.790000  \n",
       "85535  -79.45971965  77112060    35.000000  \n",
       "\n",
       "[85536 rows x 9 columns]"
      ]
     },
     "execution_count": 17,
     "metadata": {},
     "output_type": "execute_result"
    }
   ],
   "source": [
    "map_base_cleaned = map_base_2.drop(map_base_2[map_base_2['Year']==2017].index, axis=0, inplace=False)\n",
    "map_base_cleaned"
   ]
  },
  {
   "cell_type": "code",
   "execution_count": 18,
   "id": "eaecf254",
   "metadata": {},
   "outputs": [
    {
     "data": {
      "text/html": [
       "<div>\n",
       "<style scoped>\n",
       "    .dataframe tbody tr th:only-of-type {\n",
       "        vertical-align: middle;\n",
       "    }\n",
       "\n",
       "    .dataframe tbody tr th {\n",
       "        vertical-align: top;\n",
       "    }\n",
       "\n",
       "    .dataframe thead th {\n",
       "        text-align: right;\n",
       "    }\n",
       "</style>\n",
       "<table border=\"1\" class=\"dataframe\">\n",
       "  <thead>\n",
       "    <tr style=\"text-align: right;\">\n",
       "      <th></th>\n",
       "      <th>city</th>\n",
       "      <th>Lat</th>\n",
       "      <th>Lon</th>\n",
       "      <th>sales</th>\n",
       "    </tr>\n",
       "  </thead>\n",
       "  <tbody>\n",
       "    <tr>\n",
       "      <th>18</th>\n",
       "      <td>Quito</td>\n",
       "      <td>-0.1783523031</td>\n",
       "      <td>-78.4587897</td>\n",
       "      <td>4.583833e+08</td>\n",
       "    </tr>\n",
       "    <tr>\n",
       "      <th>8</th>\n",
       "      <td>Guayaquil</td>\n",
       "      <td>-2.190046076</td>\n",
       "      <td>-79.89591672</td>\n",
       "      <td>1.011440e+08</td>\n",
       "    </tr>\n",
       "    <tr>\n",
       "      <th>3</th>\n",
       "      <td>Cuenca</td>\n",
       "      <td>-2.900436002</td>\n",
       "      <td>-79.00792883</td>\n",
       "      <td>3.917825e+07</td>\n",
       "    </tr>\n",
       "    <tr>\n",
       "      <th>0</th>\n",
       "      <td>Ambato</td>\n",
       "      <td>-1.254569063</td>\n",
       "      <td>-78.62299276</td>\n",
       "      <td>3.348328e+07</td>\n",
       "    </tr>\n",
       "    <tr>\n",
       "      <th>21</th>\n",
       "      <td>Santo Domingo</td>\n",
       "      <td>-0.2573192362</td>\n",
       "      <td>-79.17520814</td>\n",
       "      <td>2.908289e+07</td>\n",
       "    </tr>\n",
       "    <tr>\n",
       "      <th>13</th>\n",
       "      <td>Machala</td>\n",
       "      <td>-3.197789669</td>\n",
       "      <td>-79.88506978</td>\n",
       "      <td>2.693674e+07</td>\n",
       "    </tr>\n",
       "    <tr>\n",
       "      <th>2</th>\n",
       "      <td>Cayambe</td>\n",
       "      <td>0.04266553824</td>\n",
       "      <td>-78.14562698</td>\n",
       "      <td>2.370083e+07</td>\n",
       "    </tr>\n",
       "    <tr>\n",
       "      <th>10</th>\n",
       "      <td>Latacunga</td>\n",
       "      <td>-0.9335619099</td>\n",
       "      <td>-78.61440404</td>\n",
       "      <td>1.781325e+07</td>\n",
       "    </tr>\n",
       "    <tr>\n",
       "      <th>12</th>\n",
       "      <td>Loja</td>\n",
       "      <td>-3.994920984</td>\n",
       "      <td>-79.2034668</td>\n",
       "      <td>1.585401e+07</td>\n",
       "    </tr>\n",
       "    <tr>\n",
       "      <th>4</th>\n",
       "      <td>Daule</td>\n",
       "      <td>-1.861665266</td>\n",
       "      <td>-79.97758321</td>\n",
       "      <td>1.568099e+07</td>\n",
       "    </tr>\n",
       "    <tr>\n",
       "      <th>1</th>\n",
       "      <td>Babahoyo</td>\n",
       "      <td>-1.80188957</td>\n",
       "      <td>-79.53526512</td>\n",
       "      <td>1.472796e+07</td>\n",
       "    </tr>\n",
       "    <tr>\n",
       "      <th>6</th>\n",
       "      <td>Esmeraldas</td>\n",
       "      <td>0.9699141564</td>\n",
       "      <td>-79.65087377</td>\n",
       "      <td>1.310532e+07</td>\n",
       "    </tr>\n",
       "    <tr>\n",
       "      <th>11</th>\n",
       "      <td>Libertad</td>\n",
       "      <td>-2.231676838</td>\n",
       "      <td>-80.90087428</td>\n",
       "      <td>1.257300e+07</td>\n",
       "    </tr>\n",
       "    <tr>\n",
       "      <th>17</th>\n",
       "      <td>Quevedo</td>\n",
       "      <td>-1.022975477</td>\n",
       "      <td>-79.46288576</td>\n",
       "      <td>1.197815e+07</td>\n",
       "    </tr>\n",
       "    <tr>\n",
       "      <th>7</th>\n",
       "      <td>Guaranda</td>\n",
       "      <td>-1.53282959</td>\n",
       "      <td>-79.00644372</td>\n",
       "      <td>1.092870e+07</td>\n",
       "    </tr>\n",
       "    <tr>\n",
       "      <th>9</th>\n",
       "      <td>Ibarra</td>\n",
       "      <td>0.3469331238</td>\n",
       "      <td>-78.13233517</td>\n",
       "      <td>9.595803e+06</td>\n",
       "    </tr>\n",
       "    <tr>\n",
       "      <th>19</th>\n",
       "      <td>Riobamba</td>\n",
       "      <td>-1.668152557</td>\n",
       "      <td>-78.65198534</td>\n",
       "      <td>9.520629e+06</td>\n",
       "    </tr>\n",
       "    <tr>\n",
       "      <th>20</th>\n",
       "      <td>Salinas</td>\n",
       "      <td>-2.224225066</td>\n",
       "      <td>-80.95636438</td>\n",
       "      <td>9.283731e+06</td>\n",
       "    </tr>\n",
       "    <tr>\n",
       "      <th>5</th>\n",
       "      <td>El Carmen</td>\n",
       "      <td>-0.2156214788</td>\n",
       "      <td>-79.45971965</td>\n",
       "      <td>8.988156e+06</td>\n",
       "    </tr>\n",
       "    <tr>\n",
       "      <th>14</th>\n",
       "      <td>Manta</td>\n",
       "      <td>-0.9676301717</td>\n",
       "      <td>-80.70745538</td>\n",
       "      <td>8.504628e+06</td>\n",
       "    </tr>\n",
       "    <tr>\n",
       "      <th>15</th>\n",
       "      <td>Playas</td>\n",
       "      <td>-2.605399901</td>\n",
       "      <td>-80.3880077</td>\n",
       "      <td>6.391348e+06</td>\n",
       "    </tr>\n",
       "    <tr>\n",
       "      <th>16</th>\n",
       "      <td>Puyo</td>\n",
       "      <td>-1.493138393</td>\n",
       "      <td>-78.00040096</td>\n",
       "      <td>2.572988e+06</td>\n",
       "    </tr>\n",
       "  </tbody>\n",
       "</table>\n",
       "</div>"
      ],
      "text/plain": [
       "             city            Lat           Lon         sales\n",
       "18          Quito  -0.1783523031   -78.4587897  4.583833e+08\n",
       "8       Guayaquil   -2.190046076  -79.89591672  1.011440e+08\n",
       "3          Cuenca   -2.900436002  -79.00792883  3.917825e+07\n",
       "0          Ambato   -1.254569063  -78.62299276  3.348328e+07\n",
       "21  Santo Domingo  -0.2573192362  -79.17520814  2.908289e+07\n",
       "13        Machala   -3.197789669  -79.88506978  2.693674e+07\n",
       "2         Cayambe  0.04266553824  -78.14562698  2.370083e+07\n",
       "10      Latacunga  -0.9335619099  -78.61440404  1.781325e+07\n",
       "12           Loja   -3.994920984   -79.2034668  1.585401e+07\n",
       "4           Daule   -1.861665266  -79.97758321  1.568099e+07\n",
       "1        Babahoyo    -1.80188957  -79.53526512  1.472796e+07\n",
       "6      Esmeraldas   0.9699141564  -79.65087377  1.310532e+07\n",
       "11       Libertad   -2.231676838  -80.90087428  1.257300e+07\n",
       "17        Quevedo   -1.022975477  -79.46288576  1.197815e+07\n",
       "7        Guaranda    -1.53282959  -79.00644372  1.092870e+07\n",
       "9          Ibarra   0.3469331238  -78.13233517  9.595803e+06\n",
       "19       Riobamba   -1.668152557  -78.65198534  9.520629e+06\n",
       "20        Salinas   -2.224225066  -80.95636438  9.283731e+06\n",
       "5       El Carmen  -0.2156214788  -79.45971965  8.988156e+06\n",
       "14          Manta  -0.9676301717  -80.70745538  8.504628e+06\n",
       "15         Playas   -2.605399901   -80.3880077  6.391348e+06\n",
       "16           Puyo   -1.493138393  -78.00040096  2.572988e+06"
      ]
     },
     "execution_count": 18,
     "metadata": {},
     "output_type": "execute_result"
    }
   ],
   "source": [
    "sales_city_year = pd.DataFrame(map_base_cleaned.groupby(['city', 'Lat', 'Lon'])['sales'].sum()).reset_index().sort_values(by='sales', ascending=False)\n",
    "sales_city_year "
   ]
  },
  {
   "cell_type": "code",
   "execution_count": null,
   "id": "48331b6f",
   "metadata": {},
   "outputs": [],
   "source": []
  },
  {
   "cell_type": "markdown",
   "id": "5d4cc486",
   "metadata": {},
   "source": [
    "# Creating a map (using Plotly)"
   ]
  },
  {
   "cell_type": "markdown",
   "id": "ab821842",
   "metadata": {},
   "source": [
    "## Instantiating the map token"
   ]
  },
  {
   "cell_type": "code",
   "execution_count": 19,
   "id": "7f975059",
   "metadata": {},
   "outputs": [],
   "source": [
    "api_token = px.set_mapbox_access_token('pk.eyJ1IjoibXJkYXJhdWpvIiwiYSI6ImNsM3hsY2c2NzAzcHEzYm1oYmliZHc5aXoifQ.1E3p2I8p8bEkHSPJDzUXWQ')"
   ]
  },
  {
   "cell_type": "markdown",
   "id": "4e43fa31",
   "metadata": {},
   "source": [
    "## Changing the Columns Lat and Lon types to float"
   ]
  },
  {
   "cell_type": "code",
   "execution_count": 39,
   "id": "4cc5718d",
   "metadata": {},
   "outputs": [],
   "source": [
    "map_base['Lat'] = pd.to_numeric(map_base['Lat'])\n",
    "map_base['Lon'] = pd.to_numeric(map_base['Lon'])"
   ]
  },
  {
   "cell_type": "code",
   "execution_count": null,
   "id": "25ea3f2c",
   "metadata": {},
   "outputs": [],
   "source": []
  },
  {
   "cell_type": "code",
   "execution_count": 20,
   "id": "2cdba9c7",
   "metadata": {},
   "outputs": [],
   "source": [
    "#map_base_2['Lat'] = pd.DataFrame(map_base_2['Lat'])\n",
    "map_base_2['Lat'] = pd.to_numeric(map_base_2['Lat'])\n",
    "#map_base_2['Lon'] = pd.DataFrame(map_base_2['Lon'])\n",
    "map_base_2['Lon'] = pd.to_numeric(map_base_2['Lon'])"
   ]
  },
  {
   "cell_type": "code",
   "execution_count": 21,
   "id": "4d1d09f5",
   "metadata": {
    "collapsed": true
   },
   "outputs": [
    {
     "data": {
      "text/plain": [
       "Year           int64\n",
       "month          int64\n",
       "family        object\n",
       "store_nbr      int64\n",
       "city          object\n",
       "Lat          float64\n",
       "Lon          float64\n",
       "id             int64\n",
       "sales        float64\n",
       "dtype: object"
      ]
     },
     "execution_count": 21,
     "metadata": {},
     "output_type": "execute_result"
    }
   ],
   "source": [
    "map_base_2.dtypes"
   ]
  },
  {
   "cell_type": "code",
   "execution_count": 22,
   "id": "b16baafc",
   "metadata": {},
   "outputs": [],
   "source": [
    "sales_city_year['Lat'] = pd.to_numeric(sales_city_year['Lat'])\n",
    "sales_city_year['Lon'] = pd.to_numeric(sales_city_year['Lon'])"
   ]
  },
  {
   "cell_type": "code",
   "execution_count": 23,
   "id": "d207deb1",
   "metadata": {
    "collapsed": true
   },
   "outputs": [
    {
     "data": {
      "text/plain": [
       "city      object\n",
       "Lat      float64\n",
       "Lon      float64\n",
       "sales    float64\n",
       "dtype: object"
      ]
     },
     "execution_count": 23,
     "metadata": {},
     "output_type": "execute_result"
    }
   ],
   "source": [
    "sales_city_year.dtypes"
   ]
  },
  {
   "cell_type": "code",
   "execution_count": 28,
   "id": "b79e1001",
   "metadata": {},
   "outputs": [],
   "source": [
    "map_base_cleaned['Lat'] = pd.to_numeric(map_base_cleaned['Lat'])\n",
    "map_base_cleaned['Lon'] = pd.to_numeric(map_base_cleaned['Lon'])"
   ]
  },
  {
   "cell_type": "code",
   "execution_count": 29,
   "id": "8743ff40",
   "metadata": {
    "collapsed": true
   },
   "outputs": [
    {
     "data": {
      "text/plain": [
       "Year           int64\n",
       "month          int64\n",
       "family        object\n",
       "store_nbr      int64\n",
       "city          object\n",
       "Lat          float64\n",
       "Lon          float64\n",
       "id             int64\n",
       "sales        float64\n",
       "dtype: object"
      ]
     },
     "execution_count": 29,
     "metadata": {},
     "output_type": "execute_result"
    }
   ],
   "source": [
    "map_base_cleaned.dtypes"
   ]
  },
  {
   "cell_type": "markdown",
   "id": "3cf16104",
   "metadata": {},
   "source": [
    "## Ploting the Map"
   ]
  },
  {
   "cell_type": "code",
   "execution_count": 47,
   "id": "f008d6b1",
   "metadata": {},
   "outputs": [],
   "source": [
    "# px.set_mapbox_access_token('pk.eyJ1IjoibXJkYXJhdWpvIiwiYSI6ImNsM3hsY2c2NzAzcHEzYm1oYmliZHc5aXoifQ.1E3p2I8p8bEkHSPJDzUXWQ')\n",
    "# df = px.data.election_geojson()\n",
    "# fig = px.scatter_mapbox(data_frame=sales_city_year, lat=\"Lat\", lon=\"Lon\", color=\"city\", size=\"sales\",\n",
    "#                   color_continuous_scale=px.colors.cyclical.IceFire, size_max=25, zoom=5.5, mapbox_style=\"carto-darkmatter\")\n",
    "# fig.show()"
   ]
  },
  {
   "cell_type": "code",
   "execution_count": 44,
   "id": "b4aec110",
   "metadata": {},
   "outputs": [],
   "source": [
    "# px.set_mapbox_access_token('pk.eyJ1IjoibXJkYXJhdWpvIiwiYSI6ImNsM3hsY2c2NzAzcHEzYm1oYmliZHc5aXoifQ.1E3p2I8p8bEkHSPJDzUXWQ')\n",
    "# df = px.data.election_geojson()\n",
    "# fig = px.scatter_mapbox(data_frame=map_base, lat=\"Lat\", lon=\"Lon\", color=\"city\", size=\"sales\",\n",
    "#                   color_continuous_scale=px.colors.cyclical.IceFire, size_max=50, zoom=5.5, mapbox_style=\"carto-darkmatter\", animation_frame=\"family\",\n",
    "#     animation_group=\"Year\")\n",
    "# fig.show()"
   ]
  },
  {
   "cell_type": "code",
   "execution_count": 25,
   "id": "75949529",
   "metadata": {},
   "outputs": [
    {
     "data": {
      "text/html": [
       "<div>\n",
       "<style scoped>\n",
       "    .dataframe tbody tr th:only-of-type {\n",
       "        vertical-align: middle;\n",
       "    }\n",
       "\n",
       "    .dataframe tbody tr th {\n",
       "        vertical-align: top;\n",
       "    }\n",
       "\n",
       "    .dataframe thead th {\n",
       "        text-align: right;\n",
       "    }\n",
       "</style>\n",
       "<table border=\"1\" class=\"dataframe\">\n",
       "  <thead>\n",
       "    <tr style=\"text-align: right;\">\n",
       "      <th></th>\n",
       "      <th>city</th>\n",
       "      <th>Lat</th>\n",
       "      <th>Lon</th>\n",
       "      <th>sales</th>\n",
       "    </tr>\n",
       "  </thead>\n",
       "  <tbody>\n",
       "    <tr>\n",
       "      <th>18</th>\n",
       "      <td>Quito</td>\n",
       "      <td>-0.178352</td>\n",
       "      <td>-78.458790</td>\n",
       "      <td>4.583833e+08</td>\n",
       "    </tr>\n",
       "    <tr>\n",
       "      <th>8</th>\n",
       "      <td>Guayaquil</td>\n",
       "      <td>-2.190046</td>\n",
       "      <td>-79.895917</td>\n",
       "      <td>1.011440e+08</td>\n",
       "    </tr>\n",
       "    <tr>\n",
       "      <th>3</th>\n",
       "      <td>Cuenca</td>\n",
       "      <td>-2.900436</td>\n",
       "      <td>-79.007929</td>\n",
       "      <td>3.917825e+07</td>\n",
       "    </tr>\n",
       "    <tr>\n",
       "      <th>0</th>\n",
       "      <td>Ambato</td>\n",
       "      <td>-1.254569</td>\n",
       "      <td>-78.622993</td>\n",
       "      <td>3.348328e+07</td>\n",
       "    </tr>\n",
       "    <tr>\n",
       "      <th>21</th>\n",
       "      <td>Santo Domingo</td>\n",
       "      <td>-0.257319</td>\n",
       "      <td>-79.175208</td>\n",
       "      <td>2.908289e+07</td>\n",
       "    </tr>\n",
       "    <tr>\n",
       "      <th>13</th>\n",
       "      <td>Machala</td>\n",
       "      <td>-3.197790</td>\n",
       "      <td>-79.885070</td>\n",
       "      <td>2.693674e+07</td>\n",
       "    </tr>\n",
       "    <tr>\n",
       "      <th>2</th>\n",
       "      <td>Cayambe</td>\n",
       "      <td>0.042666</td>\n",
       "      <td>-78.145627</td>\n",
       "      <td>2.370083e+07</td>\n",
       "    </tr>\n",
       "    <tr>\n",
       "      <th>10</th>\n",
       "      <td>Latacunga</td>\n",
       "      <td>-0.933562</td>\n",
       "      <td>-78.614404</td>\n",
       "      <td>1.781325e+07</td>\n",
       "    </tr>\n",
       "    <tr>\n",
       "      <th>12</th>\n",
       "      <td>Loja</td>\n",
       "      <td>-3.994921</td>\n",
       "      <td>-79.203467</td>\n",
       "      <td>1.585401e+07</td>\n",
       "    </tr>\n",
       "    <tr>\n",
       "      <th>4</th>\n",
       "      <td>Daule</td>\n",
       "      <td>-1.861665</td>\n",
       "      <td>-79.977583</td>\n",
       "      <td>1.568099e+07</td>\n",
       "    </tr>\n",
       "    <tr>\n",
       "      <th>1</th>\n",
       "      <td>Babahoyo</td>\n",
       "      <td>-1.801890</td>\n",
       "      <td>-79.535265</td>\n",
       "      <td>1.472796e+07</td>\n",
       "    </tr>\n",
       "    <tr>\n",
       "      <th>6</th>\n",
       "      <td>Esmeraldas</td>\n",
       "      <td>0.969914</td>\n",
       "      <td>-79.650874</td>\n",
       "      <td>1.310532e+07</td>\n",
       "    </tr>\n",
       "    <tr>\n",
       "      <th>11</th>\n",
       "      <td>Libertad</td>\n",
       "      <td>-2.231677</td>\n",
       "      <td>-80.900874</td>\n",
       "      <td>1.257300e+07</td>\n",
       "    </tr>\n",
       "    <tr>\n",
       "      <th>17</th>\n",
       "      <td>Quevedo</td>\n",
       "      <td>-1.022975</td>\n",
       "      <td>-79.462886</td>\n",
       "      <td>1.197815e+07</td>\n",
       "    </tr>\n",
       "    <tr>\n",
       "      <th>7</th>\n",
       "      <td>Guaranda</td>\n",
       "      <td>-1.532830</td>\n",
       "      <td>-79.006444</td>\n",
       "      <td>1.092870e+07</td>\n",
       "    </tr>\n",
       "    <tr>\n",
       "      <th>9</th>\n",
       "      <td>Ibarra</td>\n",
       "      <td>0.346933</td>\n",
       "      <td>-78.132335</td>\n",
       "      <td>9.595803e+06</td>\n",
       "    </tr>\n",
       "    <tr>\n",
       "      <th>19</th>\n",
       "      <td>Riobamba</td>\n",
       "      <td>-1.668153</td>\n",
       "      <td>-78.651985</td>\n",
       "      <td>9.520629e+06</td>\n",
       "    </tr>\n",
       "    <tr>\n",
       "      <th>20</th>\n",
       "      <td>Salinas</td>\n",
       "      <td>-2.224225</td>\n",
       "      <td>-80.956364</td>\n",
       "      <td>9.283731e+06</td>\n",
       "    </tr>\n",
       "    <tr>\n",
       "      <th>5</th>\n",
       "      <td>El Carmen</td>\n",
       "      <td>-0.215621</td>\n",
       "      <td>-79.459720</td>\n",
       "      <td>8.988156e+06</td>\n",
       "    </tr>\n",
       "    <tr>\n",
       "      <th>14</th>\n",
       "      <td>Manta</td>\n",
       "      <td>-0.967630</td>\n",
       "      <td>-80.707455</td>\n",
       "      <td>8.504628e+06</td>\n",
       "    </tr>\n",
       "    <tr>\n",
       "      <th>15</th>\n",
       "      <td>Playas</td>\n",
       "      <td>-2.605400</td>\n",
       "      <td>-80.388008</td>\n",
       "      <td>6.391348e+06</td>\n",
       "    </tr>\n",
       "    <tr>\n",
       "      <th>16</th>\n",
       "      <td>Puyo</td>\n",
       "      <td>-1.493138</td>\n",
       "      <td>-78.000401</td>\n",
       "      <td>2.572988e+06</td>\n",
       "    </tr>\n",
       "  </tbody>\n",
       "</table>\n",
       "</div>"
      ],
      "text/plain": [
       "             city       Lat        Lon         sales\n",
       "18          Quito -0.178352 -78.458790  4.583833e+08\n",
       "8       Guayaquil -2.190046 -79.895917  1.011440e+08\n",
       "3          Cuenca -2.900436 -79.007929  3.917825e+07\n",
       "0          Ambato -1.254569 -78.622993  3.348328e+07\n",
       "21  Santo Domingo -0.257319 -79.175208  2.908289e+07\n",
       "13        Machala -3.197790 -79.885070  2.693674e+07\n",
       "2         Cayambe  0.042666 -78.145627  2.370083e+07\n",
       "10      Latacunga -0.933562 -78.614404  1.781325e+07\n",
       "12           Loja -3.994921 -79.203467  1.585401e+07\n",
       "4           Daule -1.861665 -79.977583  1.568099e+07\n",
       "1        Babahoyo -1.801890 -79.535265  1.472796e+07\n",
       "6      Esmeraldas  0.969914 -79.650874  1.310532e+07\n",
       "11       Libertad -2.231677 -80.900874  1.257300e+07\n",
       "17        Quevedo -1.022975 -79.462886  1.197815e+07\n",
       "7        Guaranda -1.532830 -79.006444  1.092870e+07\n",
       "9          Ibarra  0.346933 -78.132335  9.595803e+06\n",
       "19       Riobamba -1.668153 -78.651985  9.520629e+06\n",
       "20        Salinas -2.224225 -80.956364  9.283731e+06\n",
       "5       El Carmen -0.215621 -79.459720  8.988156e+06\n",
       "14          Manta -0.967630 -80.707455  8.504628e+06\n",
       "15         Playas -2.605400 -80.388008  6.391348e+06\n",
       "16           Puyo -1.493138 -78.000401  2.572988e+06"
      ]
     },
     "execution_count": 25,
     "metadata": {},
     "output_type": "execute_result"
    }
   ],
   "source": [
    "sales_city_year"
   ]
  },
  {
   "cell_type": "code",
   "execution_count": 45,
   "id": "6e45b0b7",
   "metadata": {},
   "outputs": [],
   "source": [
    "# px.set_mapbox_access_token('pk.eyJ1IjoibXJkYXJhdWpvIiwiYSI6ImNsM3hsY2c2NzAzcHEzYm1oYmliZHc5aXoifQ.1E3p2I8p8bEkHSPJDzUXWQ')\n",
    "# df = px.data.election_geojson()\n",
    "# fig = px.scatter_mapbox(data_frame=sales_city_year, lat=\"Lat\", lon=\"Lon\", color=\"city\", size=\"sales\",\n",
    "#                   color_continuous_scale=px.colors.cyclical.IceFire, size_max=25, zoom=5.5, mapbox_style=\"carto-darkmatter\", animation_frame=\"sales\",\n",
    "#     animation_group=\"city\")\n",
    "# fig.show()"
   ]
  },
  {
   "cell_type": "code",
   "execution_count": 46,
   "id": "7d0b6379",
   "metadata": {},
   "outputs": [],
   "source": [
    "# px.set_mapbox_access_token('pk.eyJ1IjoibXJkYXJhdWpvIiwiYSI6ImNsM3hsY2c2NzAzcHEzYm1oYmliZHc5aXoifQ.1E3p2I8p8bEkHSPJDzUXWQ')\n",
    "# df = px.data.election_geojson()\n",
    "# fig = px.scatter_mapbox(data_frame=map_base_cleaned, lat=\"Lat\", lon=\"Lon\", color=\"family\", size=\"sales\",\n",
    "#                   color_continuous_scale=px.colors.cyclical.IceFire, size_max=15, zoom=5, mapbox_style=\"carto-darkmatter\")\n",
    "# fig.show()"
   ]
  },
  {
   "cell_type": "markdown",
   "id": "3bc433bd",
   "metadata": {},
   "source": [
    "## Ploting a graph for the 5 biggest cities"
   ]
  },
  {
   "cell_type": "markdown",
   "id": "30424952",
   "metadata": {},
   "source": [
    "### Creating a base for the 5 cities with more sales"
   ]
  },
  {
   "cell_type": "code",
   "execution_count": 31,
   "id": "c206db1d",
   "metadata": {},
   "outputs": [
    {
     "data": {
      "text/html": [
       "<div>\n",
       "<style scoped>\n",
       "    .dataframe tbody tr th:only-of-type {\n",
       "        vertical-align: middle;\n",
       "    }\n",
       "\n",
       "    .dataframe tbody tr th {\n",
       "        vertical-align: top;\n",
       "    }\n",
       "\n",
       "    .dataframe thead th {\n",
       "        text-align: right;\n",
       "    }\n",
       "</style>\n",
       "<table border=\"1\" class=\"dataframe\">\n",
       "  <thead>\n",
       "    <tr style=\"text-align: right;\">\n",
       "      <th></th>\n",
       "      <th>Year</th>\n",
       "      <th>month</th>\n",
       "      <th>family</th>\n",
       "      <th>store_nbr</th>\n",
       "      <th>city</th>\n",
       "      <th>Lat</th>\n",
       "      <th>Lon</th>\n",
       "      <th>id</th>\n",
       "      <th>sales</th>\n",
       "    </tr>\n",
       "  </thead>\n",
       "  <tbody>\n",
       "    <tr>\n",
       "      <th>0</th>\n",
       "      <td>2013</td>\n",
       "      <td>1</td>\n",
       "      <td>AUTOMOTIVE</td>\n",
       "      <td>1</td>\n",
       "      <td>Quito</td>\n",
       "      <td>-0.178352</td>\n",
       "      <td>-78.458790</td>\n",
       "      <td>828630</td>\n",
       "      <td>68.000000</td>\n",
       "    </tr>\n",
       "    <tr>\n",
       "      <th>1</th>\n",
       "      <td>2013</td>\n",
       "      <td>1</td>\n",
       "      <td>AUTOMOTIVE</td>\n",
       "      <td>2</td>\n",
       "      <td>Quito</td>\n",
       "      <td>-0.178352</td>\n",
       "      <td>-78.458790</td>\n",
       "      <td>839883</td>\n",
       "      <td>107.000000</td>\n",
       "    </tr>\n",
       "    <tr>\n",
       "      <th>2</th>\n",
       "      <td>2013</td>\n",
       "      <td>1</td>\n",
       "      <td>AUTOMOTIVE</td>\n",
       "      <td>3</td>\n",
       "      <td>Quito</td>\n",
       "      <td>-0.178352</td>\n",
       "      <td>-78.458790</td>\n",
       "      <td>851136</td>\n",
       "      <td>186.000000</td>\n",
       "    </tr>\n",
       "    <tr>\n",
       "      <th>3</th>\n",
       "      <td>2013</td>\n",
       "      <td>1</td>\n",
       "      <td>AUTOMOTIVE</td>\n",
       "      <td>4</td>\n",
       "      <td>Quito</td>\n",
       "      <td>-0.178352</td>\n",
       "      <td>-78.458790</td>\n",
       "      <td>862389</td>\n",
       "      <td>120.000000</td>\n",
       "    </tr>\n",
       "    <tr>\n",
       "      <th>4</th>\n",
       "      <td>2013</td>\n",
       "      <td>1</td>\n",
       "      <td>AUTOMOTIVE</td>\n",
       "      <td>5</td>\n",
       "      <td>Santo Domingo</td>\n",
       "      <td>-0.257319</td>\n",
       "      <td>-79.175208</td>\n",
       "      <td>873642</td>\n",
       "      <td>134.000000</td>\n",
       "    </tr>\n",
       "    <tr>\n",
       "      <th>...</th>\n",
       "      <td>...</td>\n",
       "      <td>...</td>\n",
       "      <td>...</td>\n",
       "      <td>...</td>\n",
       "      <td>...</td>\n",
       "      <td>...</td>\n",
       "      <td>...</td>\n",
       "      <td>...</td>\n",
       "      <td>...</td>\n",
       "    </tr>\n",
       "    <tr>\n",
       "      <th>85528</th>\n",
       "      <td>2016</td>\n",
       "      <td>12</td>\n",
       "      <td>SEAFOOD</td>\n",
       "      <td>47</td>\n",
       "      <td>Quito</td>\n",
       "      <td>-0.178352</td>\n",
       "      <td>-78.458790</td>\n",
       "      <td>77104140</td>\n",
       "      <td>2225.452002</td>\n",
       "    </tr>\n",
       "    <tr>\n",
       "      <th>85529</th>\n",
       "      <td>2016</td>\n",
       "      <td>12</td>\n",
       "      <td>SEAFOOD</td>\n",
       "      <td>48</td>\n",
       "      <td>Quito</td>\n",
       "      <td>-0.178352</td>\n",
       "      <td>-78.458790</td>\n",
       "      <td>77105130</td>\n",
       "      <td>865.989000</td>\n",
       "    </tr>\n",
       "    <tr>\n",
       "      <th>85530</th>\n",
       "      <td>2016</td>\n",
       "      <td>12</td>\n",
       "      <td>SEAFOOD</td>\n",
       "      <td>49</td>\n",
       "      <td>Quito</td>\n",
       "      <td>-0.178352</td>\n",
       "      <td>-78.458790</td>\n",
       "      <td>77106120</td>\n",
       "      <td>2560.115004</td>\n",
       "    </tr>\n",
       "    <tr>\n",
       "      <th>85531</th>\n",
       "      <td>2016</td>\n",
       "      <td>12</td>\n",
       "      <td>SEAFOOD</td>\n",
       "      <td>50</td>\n",
       "      <td>Ambato</td>\n",
       "      <td>-1.254569</td>\n",
       "      <td>-78.622993</td>\n",
       "      <td>77108100</td>\n",
       "      <td>543.510003</td>\n",
       "    </tr>\n",
       "    <tr>\n",
       "      <th>85532</th>\n",
       "      <td>2016</td>\n",
       "      <td>12</td>\n",
       "      <td>SEAFOOD</td>\n",
       "      <td>51</td>\n",
       "      <td>Guayaquil</td>\n",
       "      <td>-2.190046</td>\n",
       "      <td>-79.895917</td>\n",
       "      <td>77109090</td>\n",
       "      <td>1515.546000</td>\n",
       "    </tr>\n",
       "  </tbody>\n",
       "</table>\n",
       "<p>53856 rows × 9 columns</p>\n",
       "</div>"
      ],
      "text/plain": [
       "       Year  month      family  store_nbr           city       Lat        Lon  \\\n",
       "0      2013      1  AUTOMOTIVE          1          Quito -0.178352 -78.458790   \n",
       "1      2013      1  AUTOMOTIVE          2          Quito -0.178352 -78.458790   \n",
       "2      2013      1  AUTOMOTIVE          3          Quito -0.178352 -78.458790   \n",
       "3      2013      1  AUTOMOTIVE          4          Quito -0.178352 -78.458790   \n",
       "4      2013      1  AUTOMOTIVE          5  Santo Domingo -0.257319 -79.175208   \n",
       "...     ...    ...         ...        ...            ...       ...        ...   \n",
       "85528  2016     12     SEAFOOD         47          Quito -0.178352 -78.458790   \n",
       "85529  2016     12     SEAFOOD         48          Quito -0.178352 -78.458790   \n",
       "85530  2016     12     SEAFOOD         49          Quito -0.178352 -78.458790   \n",
       "85531  2016     12     SEAFOOD         50         Ambato -1.254569 -78.622993   \n",
       "85532  2016     12     SEAFOOD         51      Guayaquil -2.190046 -79.895917   \n",
       "\n",
       "             id        sales  \n",
       "0        828630    68.000000  \n",
       "1        839883   107.000000  \n",
       "2        851136   186.000000  \n",
       "3        862389   120.000000  \n",
       "4        873642   134.000000  \n",
       "...         ...          ...  \n",
       "85528  77104140  2225.452002  \n",
       "85529  77105130   865.989000  \n",
       "85530  77106120  2560.115004  \n",
       "85531  77108100   543.510003  \n",
       "85532  77109090  1515.546000  \n",
       "\n",
       "[53856 rows x 9 columns]"
      ]
     },
     "execution_count": 31,
     "metadata": {},
     "output_type": "execute_result"
    }
   ],
   "source": [
    "map_base_cleaned_top_five = map_base_cleaned[map_base_cleaned['city'].isin(['Quito', 'Guayaquil', 'Cuenca', 'Ambato', 'Santo Domingo'])]                            \n",
    "map_base_cleaned_top_five"
   ]
  },
  {
   "cell_type": "markdown",
   "id": "87585712",
   "metadata": {},
   "source": [
    "### Creating a DataFrame Order by City and Sales"
   ]
  },
  {
   "cell_type": "code",
   "execution_count": 32,
   "id": "89d36723",
   "metadata": {},
   "outputs": [
    {
     "data": {
      "text/html": [
       "<div>\n",
       "<style scoped>\n",
       "    .dataframe tbody tr th:only-of-type {\n",
       "        vertical-align: middle;\n",
       "    }\n",
       "\n",
       "    .dataframe tbody tr th {\n",
       "        vertical-align: top;\n",
       "    }\n",
       "\n",
       "    .dataframe thead th {\n",
       "        text-align: right;\n",
       "    }\n",
       "</style>\n",
       "<table border=\"1\" class=\"dataframe\">\n",
       "  <thead>\n",
       "    <tr style=\"text-align: right;\">\n",
       "      <th></th>\n",
       "      <th>city</th>\n",
       "      <th>Year</th>\n",
       "      <th>sales</th>\n",
       "    </tr>\n",
       "  </thead>\n",
       "  <tbody>\n",
       "    <tr>\n",
       "      <th>12</th>\n",
       "      <td>Quito</td>\n",
       "      <td>2013</td>\n",
       "      <td>7.257927e+07</td>\n",
       "    </tr>\n",
       "    <tr>\n",
       "      <th>8</th>\n",
       "      <td>Guayaquil</td>\n",
       "      <td>2013</td>\n",
       "      <td>1.703402e+07</td>\n",
       "    </tr>\n",
       "    <tr>\n",
       "      <th>0</th>\n",
       "      <td>Ambato</td>\n",
       "      <td>2013</td>\n",
       "      <td>6.328640e+06</td>\n",
       "    </tr>\n",
       "    <tr>\n",
       "      <th>4</th>\n",
       "      <td>Cuenca</td>\n",
       "      <td>2013</td>\n",
       "      <td>5.493296e+06</td>\n",
       "    </tr>\n",
       "    <tr>\n",
       "      <th>16</th>\n",
       "      <td>Santo Domingo</td>\n",
       "      <td>2013</td>\n",
       "      <td>4.505739e+06</td>\n",
       "    </tr>\n",
       "    <tr>\n",
       "      <th>13</th>\n",
       "      <td>Quito</td>\n",
       "      <td>2014</td>\n",
       "      <td>1.117390e+08</td>\n",
       "    </tr>\n",
       "    <tr>\n",
       "      <th>9</th>\n",
       "      <td>Guayaquil</td>\n",
       "      <td>2014</td>\n",
       "      <td>2.265254e+07</td>\n",
       "    </tr>\n",
       "    <tr>\n",
       "      <th>5</th>\n",
       "      <td>Cuenca</td>\n",
       "      <td>2014</td>\n",
       "      <td>8.364468e+06</td>\n",
       "    </tr>\n",
       "    <tr>\n",
       "      <th>1</th>\n",
       "      <td>Ambato</td>\n",
       "      <td>2014</td>\n",
       "      <td>8.350750e+06</td>\n",
       "    </tr>\n",
       "    <tr>\n",
       "      <th>17</th>\n",
       "      <td>Santo Domingo</td>\n",
       "      <td>2014</td>\n",
       "      <td>6.280642e+06</td>\n",
       "    </tr>\n",
       "    <tr>\n",
       "      <th>14</th>\n",
       "      <td>Quito</td>\n",
       "      <td>2015</td>\n",
       "      <td>1.247246e+08</td>\n",
       "    </tr>\n",
       "    <tr>\n",
       "      <th>10</th>\n",
       "      <td>Guayaquil</td>\n",
       "      <td>2015</td>\n",
       "      <td>2.805841e+07</td>\n",
       "    </tr>\n",
       "    <tr>\n",
       "      <th>6</th>\n",
       "      <td>Cuenca</td>\n",
       "      <td>2015</td>\n",
       "      <td>1.051003e+07</td>\n",
       "    </tr>\n",
       "    <tr>\n",
       "      <th>2</th>\n",
       "      <td>Ambato</td>\n",
       "      <td>2015</td>\n",
       "      <td>8.685561e+06</td>\n",
       "    </tr>\n",
       "    <tr>\n",
       "      <th>18</th>\n",
       "      <td>Santo Domingo</td>\n",
       "      <td>2015</td>\n",
       "      <td>8.210515e+06</td>\n",
       "    </tr>\n",
       "    <tr>\n",
       "      <th>15</th>\n",
       "      <td>Quito</td>\n",
       "      <td>2016</td>\n",
       "      <td>1.493403e+08</td>\n",
       "    </tr>\n",
       "    <tr>\n",
       "      <th>11</th>\n",
       "      <td>Guayaquil</td>\n",
       "      <td>2016</td>\n",
       "      <td>3.339902e+07</td>\n",
       "    </tr>\n",
       "    <tr>\n",
       "      <th>7</th>\n",
       "      <td>Cuenca</td>\n",
       "      <td>2016</td>\n",
       "      <td>1.481045e+07</td>\n",
       "    </tr>\n",
       "    <tr>\n",
       "      <th>3</th>\n",
       "      <td>Ambato</td>\n",
       "      <td>2016</td>\n",
       "      <td>1.011833e+07</td>\n",
       "    </tr>\n",
       "    <tr>\n",
       "      <th>19</th>\n",
       "      <td>Santo Domingo</td>\n",
       "      <td>2016</td>\n",
       "      <td>1.008599e+07</td>\n",
       "    </tr>\n",
       "  </tbody>\n",
       "</table>\n",
       "</div>"
      ],
      "text/plain": [
       "             city  Year         sales\n",
       "12          Quito  2013  7.257927e+07\n",
       "8       Guayaquil  2013  1.703402e+07\n",
       "0          Ambato  2013  6.328640e+06\n",
       "4          Cuenca  2013  5.493296e+06\n",
       "16  Santo Domingo  2013  4.505739e+06\n",
       "13          Quito  2014  1.117390e+08\n",
       "9       Guayaquil  2014  2.265254e+07\n",
       "5          Cuenca  2014  8.364468e+06\n",
       "1          Ambato  2014  8.350750e+06\n",
       "17  Santo Domingo  2014  6.280642e+06\n",
       "14          Quito  2015  1.247246e+08\n",
       "10      Guayaquil  2015  2.805841e+07\n",
       "6          Cuenca  2015  1.051003e+07\n",
       "2          Ambato  2015  8.685561e+06\n",
       "18  Santo Domingo  2015  8.210515e+06\n",
       "15          Quito  2016  1.493403e+08\n",
       "11      Guayaquil  2016  3.339902e+07\n",
       "7          Cuenca  2016  1.481045e+07\n",
       "3          Ambato  2016  1.011833e+07\n",
       "19  Santo Domingo  2016  1.008599e+07"
      ]
     },
     "execution_count": 32,
     "metadata": {},
     "output_type": "execute_result"
    }
   ],
   "source": [
    "top_five_cities = pd.DataFrame(map_base_cleaned_top_five.groupby(['city', 'Year'])['sales'].sum()).reset_index().sort_values(by=[ 'Year','sales', 'city' ], ascending=[True,False , True])\n",
    "top_five_cities['Year'] = top_five_cities['Year'].astype('string')\n",
    "top_five_cities"
   ]
  },
  {
   "cell_type": "markdown",
   "id": "b02f84d5",
   "metadata": {},
   "source": [
    "### Ploting an Analysis of the top 5 cities for the period of 2014-2016"
   ]
  },
  {
   "cell_type": "code",
   "execution_count": 33,
   "id": "f876712f",
   "metadata": {},
   "outputs": [
    {
     "data": {
      "application/vnd.plotly.v1+json": {
       "config": {
        "plotlyServerURL": "https://plot.ly"
       },
       "data": [
        {
         "alignmentgroup": "True",
         "hovertemplate": "Year=2013<br>city=%{x}<br>sales=%{y}<extra></extra>",
         "legendgroup": "2013",
         "marker": {
          "color": "#636efa",
          "pattern": {
           "shape": ""
          }
         },
         "name": "2013",
         "offsetgroup": "2013",
         "orientation": "v",
         "showlegend": true,
         "textposition": "auto",
         "type": "bar",
         "x": [
          "Quito",
          "Guayaquil",
          "Ambato",
          "Cuenca",
          "Santo Domingo"
         ],
         "xaxis": "x",
         "y": [
          72579271.367283,
          17034016.9617854,
          6328639.9362091,
          5493295.6167843,
          4505738.7311551
         ],
         "yaxis": "y"
        },
        {
         "alignmentgroup": "True",
         "hovertemplate": "Year=2014<br>city=%{x}<br>sales=%{y}<extra></extra>",
         "legendgroup": "2014",
         "marker": {
          "color": "#EF553B",
          "pattern": {
           "shape": ""
          }
         },
         "name": "2014",
         "offsetgroup": "2014",
         "orientation": "v",
         "showlegend": true,
         "textposition": "auto",
         "type": "bar",
         "x": [
          "Quito",
          "Guayaquil",
          "Cuenca",
          "Ambato",
          "Santo Domingo"
         ],
         "xaxis": "x",
         "y": [
          111739024.0918194,
          22652540.9299528,
          8364467.5379184,
          8350749.8719931,
          6280642.1012005
         ],
         "yaxis": "y"
        },
        {
         "alignmentgroup": "True",
         "hovertemplate": "Year=2015<br>city=%{x}<br>sales=%{y}<extra></extra>",
         "legendgroup": "2015",
         "marker": {
          "color": "#00cc96",
          "pattern": {
           "shape": ""
          }
         },
         "name": "2015",
         "offsetgroup": "2015",
         "orientation": "v",
         "showlegend": true,
         "textposition": "auto",
         "type": "bar",
         "x": [
          "Quito",
          "Guayaquil",
          "Cuenca",
          "Ambato",
          "Santo Domingo"
         ],
         "xaxis": "x",
         "y": [
          124724617.1151878,
          28058406.3881117,
          10510028.0649457,
          8685560.5477505,
          8210514.730225
         ],
         "yaxis": "y"
        },
        {
         "alignmentgroup": "True",
         "hovertemplate": "Year=2016<br>city=%{x}<br>sales=%{y}<extra></extra>",
         "legendgroup": "2016",
         "marker": {
          "color": "#ab63fa",
          "pattern": {
           "shape": ""
          }
         },
         "name": "2016",
         "offsetgroup": "2016",
         "orientation": "v",
         "showlegend": true,
         "textposition": "auto",
         "type": "bar",
         "x": [
          "Quito",
          "Guayaquil",
          "Cuenca",
          "Ambato",
          "Santo Domingo"
         ],
         "xaxis": "x",
         "y": [
          149340346.8614559,
          33399023.6226859,
          14810453.9766956,
          10118326.4486158,
          10085993.4324301
         ],
         "yaxis": "y"
        }
       ],
       "layout": {
        "barmode": "relative",
        "legend": {
         "title": {
          "text": "Year"
         },
         "tracegroupgap": 0
        },
        "margin": {
         "t": 60
        },
        "template": {
         "data": {
          "bar": [
           {
            "error_x": {
             "color": "#2a3f5f"
            },
            "error_y": {
             "color": "#2a3f5f"
            },
            "marker": {
             "line": {
              "color": "#E5ECF6",
              "width": 0.5
             },
             "pattern": {
              "fillmode": "overlay",
              "size": 10,
              "solidity": 0.2
             }
            },
            "type": "bar"
           }
          ],
          "barpolar": [
           {
            "marker": {
             "line": {
              "color": "#E5ECF6",
              "width": 0.5
             },
             "pattern": {
              "fillmode": "overlay",
              "size": 10,
              "solidity": 0.2
             }
            },
            "type": "barpolar"
           }
          ],
          "carpet": [
           {
            "aaxis": {
             "endlinecolor": "#2a3f5f",
             "gridcolor": "white",
             "linecolor": "white",
             "minorgridcolor": "white",
             "startlinecolor": "#2a3f5f"
            },
            "baxis": {
             "endlinecolor": "#2a3f5f",
             "gridcolor": "white",
             "linecolor": "white",
             "minorgridcolor": "white",
             "startlinecolor": "#2a3f5f"
            },
            "type": "carpet"
           }
          ],
          "choropleth": [
           {
            "colorbar": {
             "outlinewidth": 0,
             "ticks": ""
            },
            "type": "choropleth"
           }
          ],
          "contour": [
           {
            "colorbar": {
             "outlinewidth": 0,
             "ticks": ""
            },
            "colorscale": [
             [
              0,
              "#0d0887"
             ],
             [
              0.1111111111111111,
              "#46039f"
             ],
             [
              0.2222222222222222,
              "#7201a8"
             ],
             [
              0.3333333333333333,
              "#9c179e"
             ],
             [
              0.4444444444444444,
              "#bd3786"
             ],
             [
              0.5555555555555556,
              "#d8576b"
             ],
             [
              0.6666666666666666,
              "#ed7953"
             ],
             [
              0.7777777777777778,
              "#fb9f3a"
             ],
             [
              0.8888888888888888,
              "#fdca26"
             ],
             [
              1,
              "#f0f921"
             ]
            ],
            "type": "contour"
           }
          ],
          "contourcarpet": [
           {
            "colorbar": {
             "outlinewidth": 0,
             "ticks": ""
            },
            "type": "contourcarpet"
           }
          ],
          "heatmap": [
           {
            "colorbar": {
             "outlinewidth": 0,
             "ticks": ""
            },
            "colorscale": [
             [
              0,
              "#0d0887"
             ],
             [
              0.1111111111111111,
              "#46039f"
             ],
             [
              0.2222222222222222,
              "#7201a8"
             ],
             [
              0.3333333333333333,
              "#9c179e"
             ],
             [
              0.4444444444444444,
              "#bd3786"
             ],
             [
              0.5555555555555556,
              "#d8576b"
             ],
             [
              0.6666666666666666,
              "#ed7953"
             ],
             [
              0.7777777777777778,
              "#fb9f3a"
             ],
             [
              0.8888888888888888,
              "#fdca26"
             ],
             [
              1,
              "#f0f921"
             ]
            ],
            "type": "heatmap"
           }
          ],
          "heatmapgl": [
           {
            "colorbar": {
             "outlinewidth": 0,
             "ticks": ""
            },
            "colorscale": [
             [
              0,
              "#0d0887"
             ],
             [
              0.1111111111111111,
              "#46039f"
             ],
             [
              0.2222222222222222,
              "#7201a8"
             ],
             [
              0.3333333333333333,
              "#9c179e"
             ],
             [
              0.4444444444444444,
              "#bd3786"
             ],
             [
              0.5555555555555556,
              "#d8576b"
             ],
             [
              0.6666666666666666,
              "#ed7953"
             ],
             [
              0.7777777777777778,
              "#fb9f3a"
             ],
             [
              0.8888888888888888,
              "#fdca26"
             ],
             [
              1,
              "#f0f921"
             ]
            ],
            "type": "heatmapgl"
           }
          ],
          "histogram": [
           {
            "marker": {
             "pattern": {
              "fillmode": "overlay",
              "size": 10,
              "solidity": 0.2
             }
            },
            "type": "histogram"
           }
          ],
          "histogram2d": [
           {
            "colorbar": {
             "outlinewidth": 0,
             "ticks": ""
            },
            "colorscale": [
             [
              0,
              "#0d0887"
             ],
             [
              0.1111111111111111,
              "#46039f"
             ],
             [
              0.2222222222222222,
              "#7201a8"
             ],
             [
              0.3333333333333333,
              "#9c179e"
             ],
             [
              0.4444444444444444,
              "#bd3786"
             ],
             [
              0.5555555555555556,
              "#d8576b"
             ],
             [
              0.6666666666666666,
              "#ed7953"
             ],
             [
              0.7777777777777778,
              "#fb9f3a"
             ],
             [
              0.8888888888888888,
              "#fdca26"
             ],
             [
              1,
              "#f0f921"
             ]
            ],
            "type": "histogram2d"
           }
          ],
          "histogram2dcontour": [
           {
            "colorbar": {
             "outlinewidth": 0,
             "ticks": ""
            },
            "colorscale": [
             [
              0,
              "#0d0887"
             ],
             [
              0.1111111111111111,
              "#46039f"
             ],
             [
              0.2222222222222222,
              "#7201a8"
             ],
             [
              0.3333333333333333,
              "#9c179e"
             ],
             [
              0.4444444444444444,
              "#bd3786"
             ],
             [
              0.5555555555555556,
              "#d8576b"
             ],
             [
              0.6666666666666666,
              "#ed7953"
             ],
             [
              0.7777777777777778,
              "#fb9f3a"
             ],
             [
              0.8888888888888888,
              "#fdca26"
             ],
             [
              1,
              "#f0f921"
             ]
            ],
            "type": "histogram2dcontour"
           }
          ],
          "mesh3d": [
           {
            "colorbar": {
             "outlinewidth": 0,
             "ticks": ""
            },
            "type": "mesh3d"
           }
          ],
          "parcoords": [
           {
            "line": {
             "colorbar": {
              "outlinewidth": 0,
              "ticks": ""
             }
            },
            "type": "parcoords"
           }
          ],
          "pie": [
           {
            "automargin": true,
            "type": "pie"
           }
          ],
          "scatter": [
           {
            "fillpattern": {
             "fillmode": "overlay",
             "size": 10,
             "solidity": 0.2
            },
            "type": "scatter"
           }
          ],
          "scatter3d": [
           {
            "line": {
             "colorbar": {
              "outlinewidth": 0,
              "ticks": ""
             }
            },
            "marker": {
             "colorbar": {
              "outlinewidth": 0,
              "ticks": ""
             }
            },
            "type": "scatter3d"
           }
          ],
          "scattercarpet": [
           {
            "marker": {
             "colorbar": {
              "outlinewidth": 0,
              "ticks": ""
             }
            },
            "type": "scattercarpet"
           }
          ],
          "scattergeo": [
           {
            "marker": {
             "colorbar": {
              "outlinewidth": 0,
              "ticks": ""
             }
            },
            "type": "scattergeo"
           }
          ],
          "scattergl": [
           {
            "marker": {
             "colorbar": {
              "outlinewidth": 0,
              "ticks": ""
             }
            },
            "type": "scattergl"
           }
          ],
          "scattermapbox": [
           {
            "marker": {
             "colorbar": {
              "outlinewidth": 0,
              "ticks": ""
             }
            },
            "type": "scattermapbox"
           }
          ],
          "scatterpolar": [
           {
            "marker": {
             "colorbar": {
              "outlinewidth": 0,
              "ticks": ""
             }
            },
            "type": "scatterpolar"
           }
          ],
          "scatterpolargl": [
           {
            "marker": {
             "colorbar": {
              "outlinewidth": 0,
              "ticks": ""
             }
            },
            "type": "scatterpolargl"
           }
          ],
          "scatterternary": [
           {
            "marker": {
             "colorbar": {
              "outlinewidth": 0,
              "ticks": ""
             }
            },
            "type": "scatterternary"
           }
          ],
          "surface": [
           {
            "colorbar": {
             "outlinewidth": 0,
             "ticks": ""
            },
            "colorscale": [
             [
              0,
              "#0d0887"
             ],
             [
              0.1111111111111111,
              "#46039f"
             ],
             [
              0.2222222222222222,
              "#7201a8"
             ],
             [
              0.3333333333333333,
              "#9c179e"
             ],
             [
              0.4444444444444444,
              "#bd3786"
             ],
             [
              0.5555555555555556,
              "#d8576b"
             ],
             [
              0.6666666666666666,
              "#ed7953"
             ],
             [
              0.7777777777777778,
              "#fb9f3a"
             ],
             [
              0.8888888888888888,
              "#fdca26"
             ],
             [
              1,
              "#f0f921"
             ]
            ],
            "type": "surface"
           }
          ],
          "table": [
           {
            "cells": {
             "fill": {
              "color": "#EBF0F8"
             },
             "line": {
              "color": "white"
             }
            },
            "header": {
             "fill": {
              "color": "#C8D4E3"
             },
             "line": {
              "color": "white"
             }
            },
            "type": "table"
           }
          ]
         },
         "layout": {
          "annotationdefaults": {
           "arrowcolor": "#2a3f5f",
           "arrowhead": 0,
           "arrowwidth": 1
          },
          "autotypenumbers": "strict",
          "coloraxis": {
           "colorbar": {
            "outlinewidth": 0,
            "ticks": ""
           }
          },
          "colorscale": {
           "diverging": [
            [
             0,
             "#8e0152"
            ],
            [
             0.1,
             "#c51b7d"
            ],
            [
             0.2,
             "#de77ae"
            ],
            [
             0.3,
             "#f1b6da"
            ],
            [
             0.4,
             "#fde0ef"
            ],
            [
             0.5,
             "#f7f7f7"
            ],
            [
             0.6,
             "#e6f5d0"
            ],
            [
             0.7,
             "#b8e186"
            ],
            [
             0.8,
             "#7fbc41"
            ],
            [
             0.9,
             "#4d9221"
            ],
            [
             1,
             "#276419"
            ]
           ],
           "sequential": [
            [
             0,
             "#0d0887"
            ],
            [
             0.1111111111111111,
             "#46039f"
            ],
            [
             0.2222222222222222,
             "#7201a8"
            ],
            [
             0.3333333333333333,
             "#9c179e"
            ],
            [
             0.4444444444444444,
             "#bd3786"
            ],
            [
             0.5555555555555556,
             "#d8576b"
            ],
            [
             0.6666666666666666,
             "#ed7953"
            ],
            [
             0.7777777777777778,
             "#fb9f3a"
            ],
            [
             0.8888888888888888,
             "#fdca26"
            ],
            [
             1,
             "#f0f921"
            ]
           ],
           "sequentialminus": [
            [
             0,
             "#0d0887"
            ],
            [
             0.1111111111111111,
             "#46039f"
            ],
            [
             0.2222222222222222,
             "#7201a8"
            ],
            [
             0.3333333333333333,
             "#9c179e"
            ],
            [
             0.4444444444444444,
             "#bd3786"
            ],
            [
             0.5555555555555556,
             "#d8576b"
            ],
            [
             0.6666666666666666,
             "#ed7953"
            ],
            [
             0.7777777777777778,
             "#fb9f3a"
            ],
            [
             0.8888888888888888,
             "#fdca26"
            ],
            [
             1,
             "#f0f921"
            ]
           ]
          },
          "colorway": [
           "#636efa",
           "#EF553B",
           "#00cc96",
           "#ab63fa",
           "#FFA15A",
           "#19d3f3",
           "#FF6692",
           "#B6E880",
           "#FF97FF",
           "#FECB52"
          ],
          "font": {
           "color": "#2a3f5f"
          },
          "geo": {
           "bgcolor": "white",
           "lakecolor": "white",
           "landcolor": "#E5ECF6",
           "showlakes": true,
           "showland": true,
           "subunitcolor": "white"
          },
          "hoverlabel": {
           "align": "left"
          },
          "hovermode": "closest",
          "mapbox": {
           "style": "light"
          },
          "paper_bgcolor": "white",
          "plot_bgcolor": "#E5ECF6",
          "polar": {
           "angularaxis": {
            "gridcolor": "white",
            "linecolor": "white",
            "ticks": ""
           },
           "bgcolor": "#E5ECF6",
           "radialaxis": {
            "gridcolor": "white",
            "linecolor": "white",
            "ticks": ""
           }
          },
          "scene": {
           "xaxis": {
            "backgroundcolor": "#E5ECF6",
            "gridcolor": "white",
            "gridwidth": 2,
            "linecolor": "white",
            "showbackground": true,
            "ticks": "",
            "zerolinecolor": "white"
           },
           "yaxis": {
            "backgroundcolor": "#E5ECF6",
            "gridcolor": "white",
            "gridwidth": 2,
            "linecolor": "white",
            "showbackground": true,
            "ticks": "",
            "zerolinecolor": "white"
           },
           "zaxis": {
            "backgroundcolor": "#E5ECF6",
            "gridcolor": "white",
            "gridwidth": 2,
            "linecolor": "white",
            "showbackground": true,
            "ticks": "",
            "zerolinecolor": "white"
           }
          },
          "shapedefaults": {
           "line": {
            "color": "#2a3f5f"
           }
          },
          "ternary": {
           "aaxis": {
            "gridcolor": "white",
            "linecolor": "white",
            "ticks": ""
           },
           "baxis": {
            "gridcolor": "white",
            "linecolor": "white",
            "ticks": ""
           },
           "bgcolor": "#E5ECF6",
           "caxis": {
            "gridcolor": "white",
            "linecolor": "white",
            "ticks": ""
           }
          },
          "title": {
           "x": 0.05
          },
          "xaxis": {
           "automargin": true,
           "gridcolor": "white",
           "linecolor": "white",
           "ticks": "",
           "title": {
            "standoff": 15
           },
           "zerolinecolor": "white",
           "zerolinewidth": 2
          },
          "yaxis": {
           "automargin": true,
           "gridcolor": "white",
           "linecolor": "white",
           "ticks": "",
           "title": {
            "standoff": 15
           },
           "zerolinecolor": "white",
           "zerolinewidth": 2
          }
         }
        },
        "xaxis": {
         "anchor": "y",
         "domain": [
          0,
          1
         ],
         "title": {
          "text": "city"
         }
        },
        "yaxis": {
         "anchor": "x",
         "domain": [
          0,
          1
         ],
         "title": {
          "text": "sales"
         }
        }
       }
      },
      "text/html": [
       "<div>                            <div id=\"9bf12f28-bdda-44fb-b9d0-e6811f72e471\" class=\"plotly-graph-div\" style=\"height:525px; width:100%;\"></div>            <script type=\"text/javascript\">                require([\"plotly\"], function(Plotly) {                    window.PLOTLYENV=window.PLOTLYENV || {};                                    if (document.getElementById(\"9bf12f28-bdda-44fb-b9d0-e6811f72e471\")) {                    Plotly.newPlot(                        \"9bf12f28-bdda-44fb-b9d0-e6811f72e471\",                        [{\"alignmentgroup\":\"True\",\"hovertemplate\":\"Year=2013<br>city=%{x}<br>sales=%{y}<extra></extra>\",\"legendgroup\":\"2013\",\"marker\":{\"color\":\"#636efa\",\"pattern\":{\"shape\":\"\"}},\"name\":\"2013\",\"offsetgroup\":\"2013\",\"orientation\":\"v\",\"showlegend\":true,\"textposition\":\"auto\",\"x\":[\"Quito\",\"Guayaquil\",\"Ambato\",\"Cuenca\",\"Santo Domingo\"],\"xaxis\":\"x\",\"y\":[72579271.367283,17034016.9617854,6328639.9362091,5493295.6167843,4505738.7311551],\"yaxis\":\"y\",\"type\":\"bar\"},{\"alignmentgroup\":\"True\",\"hovertemplate\":\"Year=2014<br>city=%{x}<br>sales=%{y}<extra></extra>\",\"legendgroup\":\"2014\",\"marker\":{\"color\":\"#EF553B\",\"pattern\":{\"shape\":\"\"}},\"name\":\"2014\",\"offsetgroup\":\"2014\",\"orientation\":\"v\",\"showlegend\":true,\"textposition\":\"auto\",\"x\":[\"Quito\",\"Guayaquil\",\"Cuenca\",\"Ambato\",\"Santo Domingo\"],\"xaxis\":\"x\",\"y\":[111739024.0918194,22652540.9299528,8364467.5379184,8350749.8719931,6280642.1012005],\"yaxis\":\"y\",\"type\":\"bar\"},{\"alignmentgroup\":\"True\",\"hovertemplate\":\"Year=2015<br>city=%{x}<br>sales=%{y}<extra></extra>\",\"legendgroup\":\"2015\",\"marker\":{\"color\":\"#00cc96\",\"pattern\":{\"shape\":\"\"}},\"name\":\"2015\",\"offsetgroup\":\"2015\",\"orientation\":\"v\",\"showlegend\":true,\"textposition\":\"auto\",\"x\":[\"Quito\",\"Guayaquil\",\"Cuenca\",\"Ambato\",\"Santo Domingo\"],\"xaxis\":\"x\",\"y\":[124724617.1151878,28058406.3881117,10510028.0649457,8685560.5477505,8210514.730225],\"yaxis\":\"y\",\"type\":\"bar\"},{\"alignmentgroup\":\"True\",\"hovertemplate\":\"Year=2016<br>city=%{x}<br>sales=%{y}<extra></extra>\",\"legendgroup\":\"2016\",\"marker\":{\"color\":\"#ab63fa\",\"pattern\":{\"shape\":\"\"}},\"name\":\"2016\",\"offsetgroup\":\"2016\",\"orientation\":\"v\",\"showlegend\":true,\"textposition\":\"auto\",\"x\":[\"Quito\",\"Guayaquil\",\"Cuenca\",\"Ambato\",\"Santo Domingo\"],\"xaxis\":\"x\",\"y\":[149340346.8614559,33399023.6226859,14810453.9766956,10118326.4486158,10085993.4324301],\"yaxis\":\"y\",\"type\":\"bar\"}],                        {\"template\":{\"data\":{\"histogram2dcontour\":[{\"type\":\"histogram2dcontour\",\"colorbar\":{\"outlinewidth\":0,\"ticks\":\"\"},\"colorscale\":[[0.0,\"#0d0887\"],[0.1111111111111111,\"#46039f\"],[0.2222222222222222,\"#7201a8\"],[0.3333333333333333,\"#9c179e\"],[0.4444444444444444,\"#bd3786\"],[0.5555555555555556,\"#d8576b\"],[0.6666666666666666,\"#ed7953\"],[0.7777777777777778,\"#fb9f3a\"],[0.8888888888888888,\"#fdca26\"],[1.0,\"#f0f921\"]]}],\"choropleth\":[{\"type\":\"choropleth\",\"colorbar\":{\"outlinewidth\":0,\"ticks\":\"\"}}],\"histogram2d\":[{\"type\":\"histogram2d\",\"colorbar\":{\"outlinewidth\":0,\"ticks\":\"\"},\"colorscale\":[[0.0,\"#0d0887\"],[0.1111111111111111,\"#46039f\"],[0.2222222222222222,\"#7201a8\"],[0.3333333333333333,\"#9c179e\"],[0.4444444444444444,\"#bd3786\"],[0.5555555555555556,\"#d8576b\"],[0.6666666666666666,\"#ed7953\"],[0.7777777777777778,\"#fb9f3a\"],[0.8888888888888888,\"#fdca26\"],[1.0,\"#f0f921\"]]}],\"heatmap\":[{\"type\":\"heatmap\",\"colorbar\":{\"outlinewidth\":0,\"ticks\":\"\"},\"colorscale\":[[0.0,\"#0d0887\"],[0.1111111111111111,\"#46039f\"],[0.2222222222222222,\"#7201a8\"],[0.3333333333333333,\"#9c179e\"],[0.4444444444444444,\"#bd3786\"],[0.5555555555555556,\"#d8576b\"],[0.6666666666666666,\"#ed7953\"],[0.7777777777777778,\"#fb9f3a\"],[0.8888888888888888,\"#fdca26\"],[1.0,\"#f0f921\"]]}],\"heatmapgl\":[{\"type\":\"heatmapgl\",\"colorbar\":{\"outlinewidth\":0,\"ticks\":\"\"},\"colorscale\":[[0.0,\"#0d0887\"],[0.1111111111111111,\"#46039f\"],[0.2222222222222222,\"#7201a8\"],[0.3333333333333333,\"#9c179e\"],[0.4444444444444444,\"#bd3786\"],[0.5555555555555556,\"#d8576b\"],[0.6666666666666666,\"#ed7953\"],[0.7777777777777778,\"#fb9f3a\"],[0.8888888888888888,\"#fdca26\"],[1.0,\"#f0f921\"]]}],\"contourcarpet\":[{\"type\":\"contourcarpet\",\"colorbar\":{\"outlinewidth\":0,\"ticks\":\"\"}}],\"contour\":[{\"type\":\"contour\",\"colorbar\":{\"outlinewidth\":0,\"ticks\":\"\"},\"colorscale\":[[0.0,\"#0d0887\"],[0.1111111111111111,\"#46039f\"],[0.2222222222222222,\"#7201a8\"],[0.3333333333333333,\"#9c179e\"],[0.4444444444444444,\"#bd3786\"],[0.5555555555555556,\"#d8576b\"],[0.6666666666666666,\"#ed7953\"],[0.7777777777777778,\"#fb9f3a\"],[0.8888888888888888,\"#fdca26\"],[1.0,\"#f0f921\"]]}],\"surface\":[{\"type\":\"surface\",\"colorbar\":{\"outlinewidth\":0,\"ticks\":\"\"},\"colorscale\":[[0.0,\"#0d0887\"],[0.1111111111111111,\"#46039f\"],[0.2222222222222222,\"#7201a8\"],[0.3333333333333333,\"#9c179e\"],[0.4444444444444444,\"#bd3786\"],[0.5555555555555556,\"#d8576b\"],[0.6666666666666666,\"#ed7953\"],[0.7777777777777778,\"#fb9f3a\"],[0.8888888888888888,\"#fdca26\"],[1.0,\"#f0f921\"]]}],\"mesh3d\":[{\"type\":\"mesh3d\",\"colorbar\":{\"outlinewidth\":0,\"ticks\":\"\"}}],\"scatter\":[{\"fillpattern\":{\"fillmode\":\"overlay\",\"size\":10,\"solidity\":0.2},\"type\":\"scatter\"}],\"parcoords\":[{\"type\":\"parcoords\",\"line\":{\"colorbar\":{\"outlinewidth\":0,\"ticks\":\"\"}}}],\"scatterpolargl\":[{\"type\":\"scatterpolargl\",\"marker\":{\"colorbar\":{\"outlinewidth\":0,\"ticks\":\"\"}}}],\"bar\":[{\"error_x\":{\"color\":\"#2a3f5f\"},\"error_y\":{\"color\":\"#2a3f5f\"},\"marker\":{\"line\":{\"color\":\"#E5ECF6\",\"width\":0.5},\"pattern\":{\"fillmode\":\"overlay\",\"size\":10,\"solidity\":0.2}},\"type\":\"bar\"}],\"scattergeo\":[{\"type\":\"scattergeo\",\"marker\":{\"colorbar\":{\"outlinewidth\":0,\"ticks\":\"\"}}}],\"scatterpolar\":[{\"type\":\"scatterpolar\",\"marker\":{\"colorbar\":{\"outlinewidth\":0,\"ticks\":\"\"}}}],\"histogram\":[{\"marker\":{\"pattern\":{\"fillmode\":\"overlay\",\"size\":10,\"solidity\":0.2}},\"type\":\"histogram\"}],\"scattergl\":[{\"type\":\"scattergl\",\"marker\":{\"colorbar\":{\"outlinewidth\":0,\"ticks\":\"\"}}}],\"scatter3d\":[{\"type\":\"scatter3d\",\"line\":{\"colorbar\":{\"outlinewidth\":0,\"ticks\":\"\"}},\"marker\":{\"colorbar\":{\"outlinewidth\":0,\"ticks\":\"\"}}}],\"scattermapbox\":[{\"type\":\"scattermapbox\",\"marker\":{\"colorbar\":{\"outlinewidth\":0,\"ticks\":\"\"}}}],\"scatterternary\":[{\"type\":\"scatterternary\",\"marker\":{\"colorbar\":{\"outlinewidth\":0,\"ticks\":\"\"}}}],\"scattercarpet\":[{\"type\":\"scattercarpet\",\"marker\":{\"colorbar\":{\"outlinewidth\":0,\"ticks\":\"\"}}}],\"carpet\":[{\"aaxis\":{\"endlinecolor\":\"#2a3f5f\",\"gridcolor\":\"white\",\"linecolor\":\"white\",\"minorgridcolor\":\"white\",\"startlinecolor\":\"#2a3f5f\"},\"baxis\":{\"endlinecolor\":\"#2a3f5f\",\"gridcolor\":\"white\",\"linecolor\":\"white\",\"minorgridcolor\":\"white\",\"startlinecolor\":\"#2a3f5f\"},\"type\":\"carpet\"}],\"table\":[{\"cells\":{\"fill\":{\"color\":\"#EBF0F8\"},\"line\":{\"color\":\"white\"}},\"header\":{\"fill\":{\"color\":\"#C8D4E3\"},\"line\":{\"color\":\"white\"}},\"type\":\"table\"}],\"barpolar\":[{\"marker\":{\"line\":{\"color\":\"#E5ECF6\",\"width\":0.5},\"pattern\":{\"fillmode\":\"overlay\",\"size\":10,\"solidity\":0.2}},\"type\":\"barpolar\"}],\"pie\":[{\"automargin\":true,\"type\":\"pie\"}]},\"layout\":{\"autotypenumbers\":\"strict\",\"colorway\":[\"#636efa\",\"#EF553B\",\"#00cc96\",\"#ab63fa\",\"#FFA15A\",\"#19d3f3\",\"#FF6692\",\"#B6E880\",\"#FF97FF\",\"#FECB52\"],\"font\":{\"color\":\"#2a3f5f\"},\"hovermode\":\"closest\",\"hoverlabel\":{\"align\":\"left\"},\"paper_bgcolor\":\"white\",\"plot_bgcolor\":\"#E5ECF6\",\"polar\":{\"bgcolor\":\"#E5ECF6\",\"angularaxis\":{\"gridcolor\":\"white\",\"linecolor\":\"white\",\"ticks\":\"\"},\"radialaxis\":{\"gridcolor\":\"white\",\"linecolor\":\"white\",\"ticks\":\"\"}},\"ternary\":{\"bgcolor\":\"#E5ECF6\",\"aaxis\":{\"gridcolor\":\"white\",\"linecolor\":\"white\",\"ticks\":\"\"},\"baxis\":{\"gridcolor\":\"white\",\"linecolor\":\"white\",\"ticks\":\"\"},\"caxis\":{\"gridcolor\":\"white\",\"linecolor\":\"white\",\"ticks\":\"\"}},\"coloraxis\":{\"colorbar\":{\"outlinewidth\":0,\"ticks\":\"\"}},\"colorscale\":{\"sequential\":[[0.0,\"#0d0887\"],[0.1111111111111111,\"#46039f\"],[0.2222222222222222,\"#7201a8\"],[0.3333333333333333,\"#9c179e\"],[0.4444444444444444,\"#bd3786\"],[0.5555555555555556,\"#d8576b\"],[0.6666666666666666,\"#ed7953\"],[0.7777777777777778,\"#fb9f3a\"],[0.8888888888888888,\"#fdca26\"],[1.0,\"#f0f921\"]],\"sequentialminus\":[[0.0,\"#0d0887\"],[0.1111111111111111,\"#46039f\"],[0.2222222222222222,\"#7201a8\"],[0.3333333333333333,\"#9c179e\"],[0.4444444444444444,\"#bd3786\"],[0.5555555555555556,\"#d8576b\"],[0.6666666666666666,\"#ed7953\"],[0.7777777777777778,\"#fb9f3a\"],[0.8888888888888888,\"#fdca26\"],[1.0,\"#f0f921\"]],\"diverging\":[[0,\"#8e0152\"],[0.1,\"#c51b7d\"],[0.2,\"#de77ae\"],[0.3,\"#f1b6da\"],[0.4,\"#fde0ef\"],[0.5,\"#f7f7f7\"],[0.6,\"#e6f5d0\"],[0.7,\"#b8e186\"],[0.8,\"#7fbc41\"],[0.9,\"#4d9221\"],[1,\"#276419\"]]},\"xaxis\":{\"gridcolor\":\"white\",\"linecolor\":\"white\",\"ticks\":\"\",\"title\":{\"standoff\":15},\"zerolinecolor\":\"white\",\"automargin\":true,\"zerolinewidth\":2},\"yaxis\":{\"gridcolor\":\"white\",\"linecolor\":\"white\",\"ticks\":\"\",\"title\":{\"standoff\":15},\"zerolinecolor\":\"white\",\"automargin\":true,\"zerolinewidth\":2},\"scene\":{\"xaxis\":{\"backgroundcolor\":\"#E5ECF6\",\"gridcolor\":\"white\",\"linecolor\":\"white\",\"showbackground\":true,\"ticks\":\"\",\"zerolinecolor\":\"white\",\"gridwidth\":2},\"yaxis\":{\"backgroundcolor\":\"#E5ECF6\",\"gridcolor\":\"white\",\"linecolor\":\"white\",\"showbackground\":true,\"ticks\":\"\",\"zerolinecolor\":\"white\",\"gridwidth\":2},\"zaxis\":{\"backgroundcolor\":\"#E5ECF6\",\"gridcolor\":\"white\",\"linecolor\":\"white\",\"showbackground\":true,\"ticks\":\"\",\"zerolinecolor\":\"white\",\"gridwidth\":2}},\"shapedefaults\":{\"line\":{\"color\":\"#2a3f5f\"}},\"annotationdefaults\":{\"arrowcolor\":\"#2a3f5f\",\"arrowhead\":0,\"arrowwidth\":1},\"geo\":{\"bgcolor\":\"white\",\"landcolor\":\"#E5ECF6\",\"subunitcolor\":\"white\",\"showland\":true,\"showlakes\":true,\"lakecolor\":\"white\"},\"title\":{\"x\":0.05},\"mapbox\":{\"style\":\"light\"}}},\"xaxis\":{\"anchor\":\"y\",\"domain\":[0.0,1.0],\"title\":{\"text\":\"city\"}},\"yaxis\":{\"anchor\":\"x\",\"domain\":[0.0,1.0],\"title\":{\"text\":\"sales\"}},\"legend\":{\"title\":{\"text\":\"Year\"},\"tracegroupgap\":0},\"margin\":{\"t\":60},\"barmode\":\"relative\"},                        {\"responsive\": true}                    ).then(function(){\n",
       "                            \n",
       "var gd = document.getElementById('9bf12f28-bdda-44fb-b9d0-e6811f72e471');\n",
       "var x = new MutationObserver(function (mutations, observer) {{\n",
       "        var display = window.getComputedStyle(gd).display;\n",
       "        if (!display || display === 'none') {{\n",
       "            console.log([gd, 'removed!']);\n",
       "            Plotly.purge(gd);\n",
       "            observer.disconnect();\n",
       "        }}\n",
       "}});\n",
       "\n",
       "// Listen for the removal of the full notebook cells\n",
       "var notebookContainer = gd.closest('#notebook-container');\n",
       "if (notebookContainer) {{\n",
       "    x.observe(notebookContainer, {childList: true});\n",
       "}}\n",
       "\n",
       "// Listen for the clearing of the current output cell\n",
       "var outputEl = gd.closest('.output');\n",
       "if (outputEl) {{\n",
       "    x.observe(outputEl, {childList: true});\n",
       "}}\n",
       "\n",
       "                        })                };                });            </script>        </div>"
      ]
     },
     "metadata": {},
     "output_type": "display_data"
    }
   ],
   "source": [
    "px.bar(data_frame=top_five_cities, x='city', y='sales', color='Year')"
   ]
  },
  {
   "cell_type": "markdown",
   "id": "08f8970e",
   "metadata": {},
   "source": [
    "# Starting to work with the families"
   ]
  },
  {
   "cell_type": "code",
   "execution_count": null,
   "id": "93beb5d1",
   "metadata": {},
   "outputs": [],
   "source": [
    "df_stores"
   ]
  },
  {
   "cell_type": "code",
   "execution_count": null,
   "id": "76b81851",
   "metadata": {},
   "outputs": [],
   "source": [
    "df_stores_city = df_stores.groupby(['city'])['store_nbr'].count()\n",
    "df_stores_city"
   ]
  },
  {
   "cell_type": "code",
   "execution_count": null,
   "id": "1fca2066",
   "metadata": {},
   "outputs": [],
   "source": [
    "df_stores_city = pd.DataFrame(df_stores_city)\n",
    "df_stores_city"
   ]
  },
  {
   "cell_type": "code",
   "execution_count": null,
   "id": "af8cb11a",
   "metadata": {},
   "outputs": [],
   "source": [
    "df_stores_city = df_stores_city.reset_index().sort_values(by='store_nbr', ascending=False)\n",
    "df_stores_city"
   ]
  },
  {
   "cell_type": "code",
   "execution_count": null,
   "id": "03b84875",
   "metadata": {},
   "outputs": [],
   "source": [
    "df_stores['city'].nunique()"
   ]
  },
  {
   "cell_type": "code",
   "execution_count": null,
   "id": "217b290b",
   "metadata": {},
   "outputs": [],
   "source": [
    "df_stores_grouped = df_stores.sort_values(by=city)"
   ]
  },
  {
   "cell_type": "code",
   "execution_count": null,
   "id": "3a63b214",
   "metadata": {},
   "outputs": [],
   "source": [
    "px.bar(data_frame=df_stores_city, x='city', y='store_nbr')"
   ]
  },
  {
   "cell_type": "code",
   "execution_count": null,
   "id": "8f99ba83",
   "metadata": {},
   "outputs": [],
   "source": []
  }
 ],
 "metadata": {
  "kernelspec": {
   "display_name": "Python 3 (ipykernel)",
   "language": "python",
   "name": "python3"
  },
  "language_info": {
   "codemirror_mode": {
    "name": "ipython",
    "version": 3
   },
   "file_extension": ".py",
   "mimetype": "text/x-python",
   "name": "python",
   "nbconvert_exporter": "python",
   "pygments_lexer": "ipython3",
   "version": "3.8.12"
  },
  "toc": {
   "base_numbering": 1,
   "nav_menu": {},
   "number_sections": true,
   "sideBar": true,
   "skip_h1_title": false,
   "title_cell": "Table of Contents",
   "title_sidebar": "Contents",
   "toc_cell": false,
   "toc_position": {
    "height": "calc(100% - 180px)",
    "left": "10px",
    "top": "150px",
    "width": "169.825px"
   },
   "toc_section_display": true,
   "toc_window_display": false
  }
 },
 "nbformat": 4,
 "nbformat_minor": 5
}
