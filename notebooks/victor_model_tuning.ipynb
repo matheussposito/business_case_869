{
 "cells": [
  {
   "cell_type": "code",
   "execution_count": 2,
   "id": "98bb3f10",
   "metadata": {},
   "outputs": [],
   "source": [
    "%load_ext autoreload\n",
    "%autoreload 2"
   ]
  },
  {
   "cell_type": "code",
   "execution_count": 37,
   "id": "bdccdbc0",
   "metadata": {},
   "outputs": [],
   "source": [
    "from sklearn import set_config; set_config(display='diagram')\n",
    "from package.etl import *\n",
    "from package.train_baseline import TrainBaseline\n",
    "from package.train_city import TrainCity\n",
    "from package.train_store import TrainStore\n",
    "from package.train_family import TrainFamily\n",
    "import pandas as pd\n",
    "import numpy as np\n",
    "import requests\n",
    "import joblib\n",
    "import json\n",
    "\n",
    "from sklearn.linear_model import LinearRegression\n",
    "from sklearn.model_selection import cross_validate\n",
    "from sklearn.ensemble import RandomForestRegressor\n",
    "from sklearn.preprocessing import OneHotEncoder\n",
    "from sklearn.compose import ColumnTransformer\n",
    "from sklearn.pipeline import make_pipeline"
   ]
  },
  {
   "cell_type": "markdown",
   "id": "dfcb6af8",
   "metadata": {},
   "source": [
    "# Linear Baseline"
   ]
  },
  {
   "cell_type": "code",
   "execution_count": 4,
   "id": "90715604",
   "metadata": {
    "scrolled": true
   },
   "outputs": [
    {
     "data": {
      "text/html": [
       "<style>#sk-0ee58b0a-c318-4fbd-a66f-2ce188231546 {color: black;background-color: white;}#sk-0ee58b0a-c318-4fbd-a66f-2ce188231546 pre{padding: 0;}#sk-0ee58b0a-c318-4fbd-a66f-2ce188231546 div.sk-toggleable {background-color: white;}#sk-0ee58b0a-c318-4fbd-a66f-2ce188231546 label.sk-toggleable__label {cursor: pointer;display: block;width: 100%;margin-bottom: 0;padding: 0.3em;box-sizing: border-box;text-align: center;}#sk-0ee58b0a-c318-4fbd-a66f-2ce188231546 label.sk-toggleable__label-arrow:before {content: \"▸\";float: left;margin-right: 0.25em;color: #696969;}#sk-0ee58b0a-c318-4fbd-a66f-2ce188231546 label.sk-toggleable__label-arrow:hover:before {color: black;}#sk-0ee58b0a-c318-4fbd-a66f-2ce188231546 div.sk-estimator:hover label.sk-toggleable__label-arrow:before {color: black;}#sk-0ee58b0a-c318-4fbd-a66f-2ce188231546 div.sk-toggleable__content {max-height: 0;max-width: 0;overflow: hidden;text-align: left;background-color: #f0f8ff;}#sk-0ee58b0a-c318-4fbd-a66f-2ce188231546 div.sk-toggleable__content pre {margin: 0.2em;color: black;border-radius: 0.25em;background-color: #f0f8ff;}#sk-0ee58b0a-c318-4fbd-a66f-2ce188231546 input.sk-toggleable__control:checked~div.sk-toggleable__content {max-height: 200px;max-width: 100%;overflow: auto;}#sk-0ee58b0a-c318-4fbd-a66f-2ce188231546 input.sk-toggleable__control:checked~label.sk-toggleable__label-arrow:before {content: \"▾\";}#sk-0ee58b0a-c318-4fbd-a66f-2ce188231546 div.sk-estimator input.sk-toggleable__control:checked~label.sk-toggleable__label {background-color: #d4ebff;}#sk-0ee58b0a-c318-4fbd-a66f-2ce188231546 div.sk-label input.sk-toggleable__control:checked~label.sk-toggleable__label {background-color: #d4ebff;}#sk-0ee58b0a-c318-4fbd-a66f-2ce188231546 input.sk-hidden--visually {border: 0;clip: rect(1px 1px 1px 1px);clip: rect(1px, 1px, 1px, 1px);height: 1px;margin: -1px;overflow: hidden;padding: 0;position: absolute;width: 1px;}#sk-0ee58b0a-c318-4fbd-a66f-2ce188231546 div.sk-estimator {font-family: monospace;background-color: #f0f8ff;border: 1px dotted black;border-radius: 0.25em;box-sizing: border-box;margin-bottom: 0.5em;}#sk-0ee58b0a-c318-4fbd-a66f-2ce188231546 div.sk-estimator:hover {background-color: #d4ebff;}#sk-0ee58b0a-c318-4fbd-a66f-2ce188231546 div.sk-parallel-item::after {content: \"\";width: 100%;border-bottom: 1px solid gray;flex-grow: 1;}#sk-0ee58b0a-c318-4fbd-a66f-2ce188231546 div.sk-label:hover label.sk-toggleable__label {background-color: #d4ebff;}#sk-0ee58b0a-c318-4fbd-a66f-2ce188231546 div.sk-serial::before {content: \"\";position: absolute;border-left: 1px solid gray;box-sizing: border-box;top: 2em;bottom: 0;left: 50%;}#sk-0ee58b0a-c318-4fbd-a66f-2ce188231546 div.sk-serial {display: flex;flex-direction: column;align-items: center;background-color: white;padding-right: 0.2em;padding-left: 0.2em;}#sk-0ee58b0a-c318-4fbd-a66f-2ce188231546 div.sk-item {z-index: 1;}#sk-0ee58b0a-c318-4fbd-a66f-2ce188231546 div.sk-parallel {display: flex;align-items: stretch;justify-content: center;background-color: white;}#sk-0ee58b0a-c318-4fbd-a66f-2ce188231546 div.sk-parallel::before {content: \"\";position: absolute;border-left: 1px solid gray;box-sizing: border-box;top: 2em;bottom: 0;left: 50%;}#sk-0ee58b0a-c318-4fbd-a66f-2ce188231546 div.sk-parallel-item {display: flex;flex-direction: column;position: relative;background-color: white;}#sk-0ee58b0a-c318-4fbd-a66f-2ce188231546 div.sk-parallel-item:first-child::after {align-self: flex-end;width: 50%;}#sk-0ee58b0a-c318-4fbd-a66f-2ce188231546 div.sk-parallel-item:last-child::after {align-self: flex-start;width: 50%;}#sk-0ee58b0a-c318-4fbd-a66f-2ce188231546 div.sk-parallel-item:only-child::after {width: 0;}#sk-0ee58b0a-c318-4fbd-a66f-2ce188231546 div.sk-dashed-wrapped {border: 1px dashed gray;margin: 0 0.4em 0.5em 0.4em;box-sizing: border-box;padding-bottom: 0.4em;background-color: white;position: relative;}#sk-0ee58b0a-c318-4fbd-a66f-2ce188231546 div.sk-label label {font-family: monospace;font-weight: bold;background-color: white;display: inline-block;line-height: 1.2em;}#sk-0ee58b0a-c318-4fbd-a66f-2ce188231546 div.sk-label-container {position: relative;z-index: 2;text-align: center;}#sk-0ee58b0a-c318-4fbd-a66f-2ce188231546 div.sk-container {/* jupyter's `normalize.less` sets `[hidden] { display: none; }` but bootstrap.min.css set `[hidden] { display: none !important; }` so we also need the `!important` here to be able to override the default hidden behavior on the sphinx rendered scikit-learn.org. See: https://github.com/scikit-learn/scikit-learn/issues/21755 */display: inline-block !important;position: relative;}#sk-0ee58b0a-c318-4fbd-a66f-2ce188231546 div.sk-text-repr-fallback {display: none;}</style><div id=\"sk-0ee58b0a-c318-4fbd-a66f-2ce188231546\" class=\"sk-top-container\"><div class=\"sk-text-repr-fallback\"><pre>Pipeline(steps=[(&#x27;columntransformer&#x27;,\n",
       "                 ColumnTransformer(remainder=&#x27;passthrough&#x27;,\n",
       "                                   transformers=[(&#x27;cat_tr&#x27;,\n",
       "                                                  OneHotEncoder(handle_unknown=&#x27;ignore&#x27;,\n",
       "                                                                sparse=False),\n",
       "                                                  [&#x27;year&#x27;, &#x27;month&#x27;, &#x27;city&#x27;,\n",
       "                                                   &#x27;store_nbr&#x27;, &#x27;family&#x27;])])),\n",
       "                (&#x27;linearregression&#x27;, LinearRegression())])</pre><b>Please rerun this cell to show the HTML repr or trust the notebook.</b></div><div class=\"sk-container\" hidden><div class=\"sk-item sk-dashed-wrapped\"><div class=\"sk-label-container\"><div class=\"sk-label sk-toggleable\"><input class=\"sk-toggleable__control sk-hidden--visually\" id=\"09895fa9-dc14-46ec-9337-f9c3bc0b9489\" type=\"checkbox\" ><label for=\"09895fa9-dc14-46ec-9337-f9c3bc0b9489\" class=\"sk-toggleable__label sk-toggleable__label-arrow\">Pipeline</label><div class=\"sk-toggleable__content\"><pre>Pipeline(steps=[(&#x27;columntransformer&#x27;,\n",
       "                 ColumnTransformer(remainder=&#x27;passthrough&#x27;,\n",
       "                                   transformers=[(&#x27;cat_tr&#x27;,\n",
       "                                                  OneHotEncoder(handle_unknown=&#x27;ignore&#x27;,\n",
       "                                                                sparse=False),\n",
       "                                                  [&#x27;year&#x27;, &#x27;month&#x27;, &#x27;city&#x27;,\n",
       "                                                   &#x27;store_nbr&#x27;, &#x27;family&#x27;])])),\n",
       "                (&#x27;linearregression&#x27;, LinearRegression())])</pre></div></div></div><div class=\"sk-serial\"><div class=\"sk-item sk-dashed-wrapped\"><div class=\"sk-label-container\"><div class=\"sk-label sk-toggleable\"><input class=\"sk-toggleable__control sk-hidden--visually\" id=\"356f078f-d1ab-4088-8d6e-a3f6a64f8e60\" type=\"checkbox\" ><label for=\"356f078f-d1ab-4088-8d6e-a3f6a64f8e60\" class=\"sk-toggleable__label sk-toggleable__label-arrow\">columntransformer: ColumnTransformer</label><div class=\"sk-toggleable__content\"><pre>ColumnTransformer(remainder=&#x27;passthrough&#x27;,\n",
       "                  transformers=[(&#x27;cat_tr&#x27;,\n",
       "                                 OneHotEncoder(handle_unknown=&#x27;ignore&#x27;,\n",
       "                                               sparse=False),\n",
       "                                 [&#x27;year&#x27;, &#x27;month&#x27;, &#x27;city&#x27;, &#x27;store_nbr&#x27;,\n",
       "                                  &#x27;family&#x27;])])</pre></div></div></div><div class=\"sk-parallel\"><div class=\"sk-parallel-item\"><div class=\"sk-item\"><div class=\"sk-label-container\"><div class=\"sk-label sk-toggleable\"><input class=\"sk-toggleable__control sk-hidden--visually\" id=\"78eb7183-ff44-472b-a197-271dfacae10e\" type=\"checkbox\" ><label for=\"78eb7183-ff44-472b-a197-271dfacae10e\" class=\"sk-toggleable__label sk-toggleable__label-arrow\">cat_tr</label><div class=\"sk-toggleable__content\"><pre>[&#x27;year&#x27;, &#x27;month&#x27;, &#x27;city&#x27;, &#x27;store_nbr&#x27;, &#x27;family&#x27;]</pre></div></div></div><div class=\"sk-serial\"><div class=\"sk-item\"><div class=\"sk-estimator sk-toggleable\"><input class=\"sk-toggleable__control sk-hidden--visually\" id=\"3b221005-4d37-4e61-b3cb-d14ff708c201\" type=\"checkbox\" ><label for=\"3b221005-4d37-4e61-b3cb-d14ff708c201\" class=\"sk-toggleable__label sk-toggleable__label-arrow\">OneHotEncoder</label><div class=\"sk-toggleable__content\"><pre>OneHotEncoder(handle_unknown=&#x27;ignore&#x27;, sparse=False)</pre></div></div></div></div></div></div><div class=\"sk-parallel-item\"><div class=\"sk-item\"><div class=\"sk-label-container\"><div class=\"sk-label sk-toggleable\"><input class=\"sk-toggleable__control sk-hidden--visually\" id=\"07cb1193-a0d2-496c-a746-f38f3b12259a\" type=\"checkbox\" ><label for=\"07cb1193-a0d2-496c-a746-f38f3b12259a\" class=\"sk-toggleable__label sk-toggleable__label-arrow\">remainder</label><div class=\"sk-toggleable__content\"><pre>[]</pre></div></div></div><div class=\"sk-serial\"><div class=\"sk-item\"><div class=\"sk-estimator sk-toggleable\"><input class=\"sk-toggleable__control sk-hidden--visually\" id=\"824c66af-54b1-40aa-a84d-db744a0e7af6\" type=\"checkbox\" ><label for=\"824c66af-54b1-40aa-a84d-db744a0e7af6\" class=\"sk-toggleable__label sk-toggleable__label-arrow\">passthrough</label><div class=\"sk-toggleable__content\"><pre>passthrough</pre></div></div></div></div></div></div></div></div><div class=\"sk-item\"><div class=\"sk-estimator sk-toggleable\"><input class=\"sk-toggleable__control sk-hidden--visually\" id=\"1dd4e8c7-424b-43f7-b19e-695b05a97b79\" type=\"checkbox\" ><label for=\"1dd4e8c7-424b-43f7-b19e-695b05a97b79\" class=\"sk-toggleable__label sk-toggleable__label-arrow\">LinearRegression</label><div class=\"sk-toggleable__content\"><pre>LinearRegression()</pre></div></div></div></div></div></div></div>"
      ],
      "text/plain": [
       "Pipeline(steps=[('columntransformer',\n",
       "                 ColumnTransformer(remainder='passthrough',\n",
       "                                   transformers=[('cat_tr',\n",
       "                                                  OneHotEncoder(handle_unknown='ignore',\n",
       "                                                                sparse=False),\n",
       "                                                  ['year', 'month', 'city',\n",
       "                                                   'store_nbr', 'family'])])),\n",
       "                ('linearregression', LinearRegression())])"
      ]
     },
     "execution_count": 4,
     "metadata": {},
     "output_type": "execute_result"
    }
   ],
   "source": [
    "X_train, y_train, X_predict, pipe, preprocessor = TrainFamily()\n",
    "job = joblib.load('model_family.joblib')\n",
    "job"
   ]
  },
  {
   "cell_type": "code",
   "execution_count": 22,
   "id": "9a92ba3d",
   "metadata": {
    "scrolled": true
   },
   "outputs": [
    {
     "data": {
      "text/plain": [
       "0.6916893767585824"
      ]
     },
     "execution_count": 22,
     "metadata": {},
     "output_type": "execute_result"
    }
   ],
   "source": [
    "job.score(X_train,y_train)"
   ]
  },
  {
   "cell_type": "code",
   "execution_count": 28,
   "id": "c2f77846",
   "metadata": {
    "scrolled": true
   },
   "outputs": [
    {
     "data": {
      "text/html": [
       "<div>\n",
       "<style scoped>\n",
       "    .dataframe tbody tr th:only-of-type {\n",
       "        vertical-align: middle;\n",
       "    }\n",
       "\n",
       "    .dataframe tbody tr th {\n",
       "        vertical-align: top;\n",
       "    }\n",
       "\n",
       "    .dataframe thead th {\n",
       "        text-align: right;\n",
       "    }\n",
       "</style>\n",
       "<table border=\"1\" class=\"dataframe\">\n",
       "  <thead>\n",
       "    <tr style=\"text-align: right;\">\n",
       "      <th></th>\n",
       "      <th>fit_time</th>\n",
       "      <th>score_time</th>\n",
       "      <th>test_max_error</th>\n",
       "      <th>test_r2</th>\n",
       "      <th>test_neg_mean_absolute_error</th>\n",
       "      <th>test_neg_mean_squared_error</th>\n",
       "    </tr>\n",
       "  </thead>\n",
       "  <tbody>\n",
       "    <tr>\n",
       "      <th>0</th>\n",
       "      <td>1.080794</td>\n",
       "      <td>0.004568</td>\n",
       "      <td>-1.029966e+01</td>\n",
       "      <td>5.416737e-01</td>\n",
       "      <td>-3.122166e+00</td>\n",
       "      <td>-1.205895e+01</td>\n",
       "    </tr>\n",
       "    <tr>\n",
       "      <th>1</th>\n",
       "      <td>0.957527</td>\n",
       "      <td>0.004221</td>\n",
       "      <td>-1.374009e+01</td>\n",
       "      <td>6.082059e-01</td>\n",
       "      <td>-2.192151e+00</td>\n",
       "      <td>-9.611896e+00</td>\n",
       "    </tr>\n",
       "    <tr>\n",
       "      <th>2</th>\n",
       "      <td>0.949363</td>\n",
       "      <td>0.003932</td>\n",
       "      <td>-1.345884e+01</td>\n",
       "      <td>6.080309e-01</td>\n",
       "      <td>-2.040599e+00</td>\n",
       "      <td>-8.511366e+00</td>\n",
       "    </tr>\n",
       "    <tr>\n",
       "      <th>3</th>\n",
       "      <td>0.958557</td>\n",
       "      <td>0.005850</td>\n",
       "      <td>-1.432212e+01</td>\n",
       "      <td>5.377893e-01</td>\n",
       "      <td>-1.856872e+00</td>\n",
       "      <td>-6.480984e+00</td>\n",
       "    </tr>\n",
       "    <tr>\n",
       "      <th>4</th>\n",
       "      <td>0.917941</td>\n",
       "      <td>0.011761</td>\n",
       "      <td>-2.621307e+13</td>\n",
       "      <td>-3.857945e+25</td>\n",
       "      <td>-1.872399e+13</td>\n",
       "      <td>-4.908133e+26</td>\n",
       "    </tr>\n",
       "  </tbody>\n",
       "</table>\n",
       "</div>"
      ],
      "text/plain": [
       "   fit_time  score_time  test_max_error       test_r2  \\\n",
       "0  1.080794    0.004568   -1.029966e+01  5.416737e-01   \n",
       "1  0.957527    0.004221   -1.374009e+01  6.082059e-01   \n",
       "2  0.949363    0.003932   -1.345884e+01  6.080309e-01   \n",
       "3  0.958557    0.005850   -1.432212e+01  5.377893e-01   \n",
       "4  0.917941    0.011761   -2.621307e+13 -3.857945e+25   \n",
       "\n",
       "   test_neg_mean_absolute_error  test_neg_mean_squared_error  \n",
       "0                 -3.122166e+00                -1.205895e+01  \n",
       "1                 -2.192151e+00                -9.611896e+00  \n",
       "2                 -2.040599e+00                -8.511366e+00  \n",
       "3                 -1.856872e+00                -6.480984e+00  \n",
       "4                 -1.872399e+13                -4.908133e+26  "
      ]
     },
     "execution_count": 28,
     "metadata": {},
     "output_type": "execute_result"
    }
   ],
   "source": [
    "model = LinearRegression()\n",
    "X_train_transformed = preprocessor.fit_transform(X_train)\n",
    "cv_results = cross_validate(model, X_train_transformed, y_train, cv=5, \n",
    "                            scoring=['max_error',\n",
    "                                     'r2', \n",
    "                                     'neg_mean_absolute_error',\n",
    "                                     'neg_mean_squared_error']\n",
    "                           )\n",
    "pd.DataFrame(cv_results)"
   ]
  },
  {
   "cell_type": "code",
   "execution_count": 14,
   "id": "60d02d35",
   "metadata": {},
   "outputs": [
    {
     "data": {
      "text/html": [
       "<div>\n",
       "<style scoped>\n",
       "    .dataframe tbody tr th:only-of-type {\n",
       "        vertical-align: middle;\n",
       "    }\n",
       "\n",
       "    .dataframe tbody tr th {\n",
       "        vertical-align: top;\n",
       "    }\n",
       "\n",
       "    .dataframe thead th {\n",
       "        text-align: right;\n",
       "    }\n",
       "</style>\n",
       "<table border=\"1\" class=\"dataframe\">\n",
       "  <thead>\n",
       "    <tr style=\"text-align: right;\">\n",
       "      <th></th>\n",
       "      <th>year</th>\n",
       "      <th>month</th>\n",
       "      <th>city</th>\n",
       "      <th>store_nbr</th>\n",
       "      <th>family</th>\n",
       "    </tr>\n",
       "  </thead>\n",
       "  <tbody>\n",
       "    <tr>\n",
       "      <th>0</th>\n",
       "      <td>2020</td>\n",
       "      <td>1</td>\n",
       "      <td>Quito</td>\n",
       "      <td>1</td>\n",
       "      <td>AUTOMOTIVE</td>\n",
       "    </tr>\n",
       "  </tbody>\n",
       "</table>\n",
       "</div>"
      ],
      "text/plain": [
       "   year  month   city  store_nbr      family\n",
       "0  2020      1  Quito          1  AUTOMOTIVE"
      ]
     },
     "execution_count": 14,
     "metadata": {},
     "output_type": "execute_result"
    }
   ],
   "source": [
    "X = pd.DataFrame(dict(year=[2020],\n",
    "             month=[1],\n",
    "             city=['Quito'],\n",
    "             store_nbr=[1],\n",
    "             family=['AUTOMOTIVE']\n",
    "            ))\n",
    "X"
   ]
  },
  {
   "cell_type": "code",
   "execution_count": 19,
   "id": "c47bc66c",
   "metadata": {},
   "outputs": [
    {
     "data": {
      "text/plain": [
       "2699654675541.9277"
      ]
     },
     "execution_count": 19,
     "metadata": {},
     "output_type": "execute_result"
    }
   ],
   "source": [
    "job.predict(X)[0]"
   ]
  },
  {
   "cell_type": "markdown",
   "id": "d01e63c8",
   "metadata": {},
   "source": [
    "# Random Forest Regressor"
   ]
  },
  {
   "cell_type": "code",
   "execution_count": 39,
   "id": "99d53dd5",
   "metadata": {},
   "outputs": [
    {
     "data": {
      "text/html": [
       "<style>#sk-5013be11-b6e5-4c80-91b0-7d40885f05f0 {color: black;background-color: white;}#sk-5013be11-b6e5-4c80-91b0-7d40885f05f0 pre{padding: 0;}#sk-5013be11-b6e5-4c80-91b0-7d40885f05f0 div.sk-toggleable {background-color: white;}#sk-5013be11-b6e5-4c80-91b0-7d40885f05f0 label.sk-toggleable__label {cursor: pointer;display: block;width: 100%;margin-bottom: 0;padding: 0.3em;box-sizing: border-box;text-align: center;}#sk-5013be11-b6e5-4c80-91b0-7d40885f05f0 label.sk-toggleable__label-arrow:before {content: \"▸\";float: left;margin-right: 0.25em;color: #696969;}#sk-5013be11-b6e5-4c80-91b0-7d40885f05f0 label.sk-toggleable__label-arrow:hover:before {color: black;}#sk-5013be11-b6e5-4c80-91b0-7d40885f05f0 div.sk-estimator:hover label.sk-toggleable__label-arrow:before {color: black;}#sk-5013be11-b6e5-4c80-91b0-7d40885f05f0 div.sk-toggleable__content {max-height: 0;max-width: 0;overflow: hidden;text-align: left;background-color: #f0f8ff;}#sk-5013be11-b6e5-4c80-91b0-7d40885f05f0 div.sk-toggleable__content pre {margin: 0.2em;color: black;border-radius: 0.25em;background-color: #f0f8ff;}#sk-5013be11-b6e5-4c80-91b0-7d40885f05f0 input.sk-toggleable__control:checked~div.sk-toggleable__content {max-height: 200px;max-width: 100%;overflow: auto;}#sk-5013be11-b6e5-4c80-91b0-7d40885f05f0 input.sk-toggleable__control:checked~label.sk-toggleable__label-arrow:before {content: \"▾\";}#sk-5013be11-b6e5-4c80-91b0-7d40885f05f0 div.sk-estimator input.sk-toggleable__control:checked~label.sk-toggleable__label {background-color: #d4ebff;}#sk-5013be11-b6e5-4c80-91b0-7d40885f05f0 div.sk-label input.sk-toggleable__control:checked~label.sk-toggleable__label {background-color: #d4ebff;}#sk-5013be11-b6e5-4c80-91b0-7d40885f05f0 input.sk-hidden--visually {border: 0;clip: rect(1px 1px 1px 1px);clip: rect(1px, 1px, 1px, 1px);height: 1px;margin: -1px;overflow: hidden;padding: 0;position: absolute;width: 1px;}#sk-5013be11-b6e5-4c80-91b0-7d40885f05f0 div.sk-estimator {font-family: monospace;background-color: #f0f8ff;border: 1px dotted black;border-radius: 0.25em;box-sizing: border-box;margin-bottom: 0.5em;}#sk-5013be11-b6e5-4c80-91b0-7d40885f05f0 div.sk-estimator:hover {background-color: #d4ebff;}#sk-5013be11-b6e5-4c80-91b0-7d40885f05f0 div.sk-parallel-item::after {content: \"\";width: 100%;border-bottom: 1px solid gray;flex-grow: 1;}#sk-5013be11-b6e5-4c80-91b0-7d40885f05f0 div.sk-label:hover label.sk-toggleable__label {background-color: #d4ebff;}#sk-5013be11-b6e5-4c80-91b0-7d40885f05f0 div.sk-serial::before {content: \"\";position: absolute;border-left: 1px solid gray;box-sizing: border-box;top: 2em;bottom: 0;left: 50%;}#sk-5013be11-b6e5-4c80-91b0-7d40885f05f0 div.sk-serial {display: flex;flex-direction: column;align-items: center;background-color: white;padding-right: 0.2em;padding-left: 0.2em;}#sk-5013be11-b6e5-4c80-91b0-7d40885f05f0 div.sk-item {z-index: 1;}#sk-5013be11-b6e5-4c80-91b0-7d40885f05f0 div.sk-parallel {display: flex;align-items: stretch;justify-content: center;background-color: white;}#sk-5013be11-b6e5-4c80-91b0-7d40885f05f0 div.sk-parallel::before {content: \"\";position: absolute;border-left: 1px solid gray;box-sizing: border-box;top: 2em;bottom: 0;left: 50%;}#sk-5013be11-b6e5-4c80-91b0-7d40885f05f0 div.sk-parallel-item {display: flex;flex-direction: column;position: relative;background-color: white;}#sk-5013be11-b6e5-4c80-91b0-7d40885f05f0 div.sk-parallel-item:first-child::after {align-self: flex-end;width: 50%;}#sk-5013be11-b6e5-4c80-91b0-7d40885f05f0 div.sk-parallel-item:last-child::after {align-self: flex-start;width: 50%;}#sk-5013be11-b6e5-4c80-91b0-7d40885f05f0 div.sk-parallel-item:only-child::after {width: 0;}#sk-5013be11-b6e5-4c80-91b0-7d40885f05f0 div.sk-dashed-wrapped {border: 1px dashed gray;margin: 0 0.4em 0.5em 0.4em;box-sizing: border-box;padding-bottom: 0.4em;background-color: white;position: relative;}#sk-5013be11-b6e5-4c80-91b0-7d40885f05f0 div.sk-label label {font-family: monospace;font-weight: bold;background-color: white;display: inline-block;line-height: 1.2em;}#sk-5013be11-b6e5-4c80-91b0-7d40885f05f0 div.sk-label-container {position: relative;z-index: 2;text-align: center;}#sk-5013be11-b6e5-4c80-91b0-7d40885f05f0 div.sk-container {/* jupyter's `normalize.less` sets `[hidden] { display: none; }` but bootstrap.min.css set `[hidden] { display: none !important; }` so we also need the `!important` here to be able to override the default hidden behavior on the sphinx rendered scikit-learn.org. See: https://github.com/scikit-learn/scikit-learn/issues/21755 */display: inline-block !important;position: relative;}#sk-5013be11-b6e5-4c80-91b0-7d40885f05f0 div.sk-text-repr-fallback {display: none;}</style><div id=\"sk-5013be11-b6e5-4c80-91b0-7d40885f05f0\" class=\"sk-top-container\"><div class=\"sk-text-repr-fallback\"><pre>Pipeline(steps=[(&#x27;columntransformer&#x27;,\n",
       "                 ColumnTransformer(remainder=&#x27;passthrough&#x27;,\n",
       "                                   transformers=[(&#x27;cat_tr&#x27;,\n",
       "                                                  OneHotEncoder(handle_unknown=&#x27;ignore&#x27;,\n",
       "                                                                sparse=False),\n",
       "                                                  [&#x27;year&#x27;, &#x27;month&#x27;, &#x27;city&#x27;,\n",
       "                                                   &#x27;store_nbr&#x27;, &#x27;family&#x27;])])),\n",
       "                (&#x27;randomforestregressor&#x27;, RandomForestRegressor())])</pre><b>Please rerun this cell to show the HTML repr or trust the notebook.</b></div><div class=\"sk-container\" hidden><div class=\"sk-item sk-dashed-wrapped\"><div class=\"sk-label-container\"><div class=\"sk-label sk-toggleable\"><input class=\"sk-toggleable__control sk-hidden--visually\" id=\"0388b415-3246-4087-8f7c-130f6de538df\" type=\"checkbox\" ><label for=\"0388b415-3246-4087-8f7c-130f6de538df\" class=\"sk-toggleable__label sk-toggleable__label-arrow\">Pipeline</label><div class=\"sk-toggleable__content\"><pre>Pipeline(steps=[(&#x27;columntransformer&#x27;,\n",
       "                 ColumnTransformer(remainder=&#x27;passthrough&#x27;,\n",
       "                                   transformers=[(&#x27;cat_tr&#x27;,\n",
       "                                                  OneHotEncoder(handle_unknown=&#x27;ignore&#x27;,\n",
       "                                                                sparse=False),\n",
       "                                                  [&#x27;year&#x27;, &#x27;month&#x27;, &#x27;city&#x27;,\n",
       "                                                   &#x27;store_nbr&#x27;, &#x27;family&#x27;])])),\n",
       "                (&#x27;randomforestregressor&#x27;, RandomForestRegressor())])</pre></div></div></div><div class=\"sk-serial\"><div class=\"sk-item sk-dashed-wrapped\"><div class=\"sk-label-container\"><div class=\"sk-label sk-toggleable\"><input class=\"sk-toggleable__control sk-hidden--visually\" id=\"1dbb730e-ef53-4823-bc81-115bbbc7e791\" type=\"checkbox\" ><label for=\"1dbb730e-ef53-4823-bc81-115bbbc7e791\" class=\"sk-toggleable__label sk-toggleable__label-arrow\">columntransformer: ColumnTransformer</label><div class=\"sk-toggleable__content\"><pre>ColumnTransformer(remainder=&#x27;passthrough&#x27;,\n",
       "                  transformers=[(&#x27;cat_tr&#x27;,\n",
       "                                 OneHotEncoder(handle_unknown=&#x27;ignore&#x27;,\n",
       "                                               sparse=False),\n",
       "                                 [&#x27;year&#x27;, &#x27;month&#x27;, &#x27;city&#x27;, &#x27;store_nbr&#x27;,\n",
       "                                  &#x27;family&#x27;])])</pre></div></div></div><div class=\"sk-parallel\"><div class=\"sk-parallel-item\"><div class=\"sk-item\"><div class=\"sk-label-container\"><div class=\"sk-label sk-toggleable\"><input class=\"sk-toggleable__control sk-hidden--visually\" id=\"78be002c-a90c-4182-8bed-a93d72c5e418\" type=\"checkbox\" ><label for=\"78be002c-a90c-4182-8bed-a93d72c5e418\" class=\"sk-toggleable__label sk-toggleable__label-arrow\">cat_tr</label><div class=\"sk-toggleable__content\"><pre>[&#x27;year&#x27;, &#x27;month&#x27;, &#x27;city&#x27;, &#x27;store_nbr&#x27;, &#x27;family&#x27;]</pre></div></div></div><div class=\"sk-serial\"><div class=\"sk-item\"><div class=\"sk-estimator sk-toggleable\"><input class=\"sk-toggleable__control sk-hidden--visually\" id=\"0d19cfbb-a689-49ed-a685-59413cf426a5\" type=\"checkbox\" ><label for=\"0d19cfbb-a689-49ed-a685-59413cf426a5\" class=\"sk-toggleable__label sk-toggleable__label-arrow\">OneHotEncoder</label><div class=\"sk-toggleable__content\"><pre>OneHotEncoder(handle_unknown=&#x27;ignore&#x27;, sparse=False)</pre></div></div></div></div></div></div><div class=\"sk-parallel-item\"><div class=\"sk-item\"><div class=\"sk-label-container\"><div class=\"sk-label sk-toggleable\"><input class=\"sk-toggleable__control sk-hidden--visually\" id=\"a0ef36d6-0998-4604-9ed1-15c403e0b07e\" type=\"checkbox\" ><label for=\"a0ef36d6-0998-4604-9ed1-15c403e0b07e\" class=\"sk-toggleable__label sk-toggleable__label-arrow\">remainder</label><div class=\"sk-toggleable__content\"><pre>[]</pre></div></div></div><div class=\"sk-serial\"><div class=\"sk-item\"><div class=\"sk-estimator sk-toggleable\"><input class=\"sk-toggleable__control sk-hidden--visually\" id=\"bb1dd1e9-7a37-4720-a3c8-1e3ee478424f\" type=\"checkbox\" ><label for=\"bb1dd1e9-7a37-4720-a3c8-1e3ee478424f\" class=\"sk-toggleable__label sk-toggleable__label-arrow\">passthrough</label><div class=\"sk-toggleable__content\"><pre>passthrough</pre></div></div></div></div></div></div></div></div><div class=\"sk-item\"><div class=\"sk-estimator sk-toggleable\"><input class=\"sk-toggleable__control sk-hidden--visually\" id=\"c7d476a9-6bbf-499f-8fcb-c9b57e76770f\" type=\"checkbox\" ><label for=\"c7d476a9-6bbf-499f-8fcb-c9b57e76770f\" class=\"sk-toggleable__label sk-toggleable__label-arrow\">RandomForestRegressor</label><div class=\"sk-toggleable__content\"><pre>RandomForestRegressor()</pre></div></div></div></div></div></div></div>"
      ],
      "text/plain": [
       "Pipeline(steps=[('columntransformer',\n",
       "                 ColumnTransformer(remainder='passthrough',\n",
       "                                   transformers=[('cat_tr',\n",
       "                                                  OneHotEncoder(handle_unknown='ignore',\n",
       "                                                                sparse=False),\n",
       "                                                  ['year', 'month', 'city',\n",
       "                                                   'store_nbr', 'family'])])),\n",
       "                ('randomforestregressor', RandomForestRegressor())])"
      ]
     },
     "execution_count": 39,
     "metadata": {},
     "output_type": "execute_result"
    }
   ],
   "source": [
    "model = RandomForestRegressor()\n",
    "\n",
    "cat_transformer = OneHotEncoder(handle_unknown='ignore', sparse=False)\n",
    "\n",
    "preprocessor = ColumnTransformer([\n",
    "                            ('cat_tr', cat_transformer, ['year', 'month', 'city', 'store_nbr', 'family'])\n",
    "                        ],remainder='passthrough')\n",
    "\n",
    "pipeline = make_pipeline(preprocessor, model)\n",
    "pipeline.fit(X_train, y_train)\n",
    "#joblib.dump(pipeline, 'model_rf_family.joblib')"
   ]
  },
  {
   "cell_type": "code",
   "execution_count": 40,
   "id": "9e757907",
   "metadata": {},
   "outputs": [
    {
     "data": {
      "text/plain": [
       "0.9945911117307488"
      ]
     },
     "execution_count": 40,
     "metadata": {},
     "output_type": "execute_result"
    }
   ],
   "source": [
    "pipeline.score(X_train,y_train)"
   ]
  },
  {
   "cell_type": "code",
   "execution_count": 41,
   "id": "0d3bda95",
   "metadata": {},
   "outputs": [
    {
     "data": {
      "text/html": [
       "<div>\n",
       "<style scoped>\n",
       "    .dataframe tbody tr th:only-of-type {\n",
       "        vertical-align: middle;\n",
       "    }\n",
       "\n",
       "    .dataframe tbody tr th {\n",
       "        vertical-align: top;\n",
       "    }\n",
       "\n",
       "    .dataframe thead th {\n",
       "        text-align: right;\n",
       "    }\n",
       "</style>\n",
       "<table border=\"1\" class=\"dataframe\">\n",
       "  <thead>\n",
       "    <tr style=\"text-align: right;\">\n",
       "      <th></th>\n",
       "      <th>fit_time</th>\n",
       "      <th>score_time</th>\n",
       "      <th>test_max_error</th>\n",
       "      <th>test_r2</th>\n",
       "      <th>test_neg_mean_absolute_error</th>\n",
       "      <th>test_neg_mean_squared_error</th>\n",
       "    </tr>\n",
       "  </thead>\n",
       "  <tbody>\n",
       "    <tr>\n",
       "      <th>0</th>\n",
       "      <td>89.576929</td>\n",
       "      <td>0.409244</td>\n",
       "      <td>-13.931602</td>\n",
       "      <td>0.885526</td>\n",
       "      <td>-0.686971</td>\n",
       "      <td>-3.011897</td>\n",
       "    </tr>\n",
       "    <tr>\n",
       "      <th>1</th>\n",
       "      <td>78.591043</td>\n",
       "      <td>0.413826</td>\n",
       "      <td>-14.060658</td>\n",
       "      <td>0.610611</td>\n",
       "      <td>-1.442380</td>\n",
       "      <td>-9.552883</td>\n",
       "    </tr>\n",
       "    <tr>\n",
       "      <th>2</th>\n",
       "      <td>68.787184</td>\n",
       "      <td>0.390159</td>\n",
       "      <td>-14.178850</td>\n",
       "      <td>0.527489</td>\n",
       "      <td>-1.425443</td>\n",
       "      <td>-10.260294</td>\n",
       "    </tr>\n",
       "    <tr>\n",
       "      <th>3</th>\n",
       "      <td>96.545820</td>\n",
       "      <td>0.486829</td>\n",
       "      <td>-13.573329</td>\n",
       "      <td>0.693323</td>\n",
       "      <td>-0.931220</td>\n",
       "      <td>-4.300142</td>\n",
       "    </tr>\n",
       "    <tr>\n",
       "      <th>4</th>\n",
       "      <td>101.488472</td>\n",
       "      <td>0.492813</td>\n",
       "      <td>-14.481667</td>\n",
       "      <td>0.245264</td>\n",
       "      <td>-1.549152</td>\n",
       "      <td>-9.601862</td>\n",
       "    </tr>\n",
       "  </tbody>\n",
       "</table>\n",
       "</div>"
      ],
      "text/plain": [
       "     fit_time  score_time  test_max_error   test_r2  \\\n",
       "0   89.576929    0.409244      -13.931602  0.885526   \n",
       "1   78.591043    0.413826      -14.060658  0.610611   \n",
       "2   68.787184    0.390159      -14.178850  0.527489   \n",
       "3   96.545820    0.486829      -13.573329  0.693323   \n",
       "4  101.488472    0.492813      -14.481667  0.245264   \n",
       "\n",
       "   test_neg_mean_absolute_error  test_neg_mean_squared_error  \n",
       "0                     -0.686971                    -3.011897  \n",
       "1                     -1.442380                    -9.552883  \n",
       "2                     -1.425443                   -10.260294  \n",
       "3                     -0.931220                    -4.300142  \n",
       "4                     -1.549152                    -9.601862  "
      ]
     },
     "execution_count": 41,
     "metadata": {},
     "output_type": "execute_result"
    }
   ],
   "source": [
    "X_train_transformed = preprocessor.fit_transform(X_train)\n",
    "cv_results = cross_validate(model, X_train_transformed, y_train, cv=5, \n",
    "                            scoring=['max_error',\n",
    "                                     'r2', \n",
    "                                     'neg_mean_absolute_error',\n",
    "                                     'neg_mean_squared_error']\n",
    "                           )\n",
    "pd.DataFrame(cv_results)"
   ]
  },
  {
   "cell_type": "code",
   "execution_count": 49,
   "id": "ef09dd64",
   "metadata": {},
   "outputs": [
    {
     "data": {
      "text/plain": [
       "-7.3454156422507335"
      ]
     },
     "execution_count": 49,
     "metadata": {},
     "output_type": "execute_result"
    }
   ],
   "source": [
    "cv_results['test_neg_mean_squared_error'].mean()"
   ]
  },
  {
   "cell_type": "code",
   "execution_count": null,
   "id": "32a5590c",
   "metadata": {},
   "outputs": [],
   "source": []
  }
 ],
 "metadata": {
  "kernelspec": {
   "display_name": "Python 3 (ipykernel)",
   "language": "python",
   "name": "python3"
  },
  "language_info": {
   "codemirror_mode": {
    "name": "ipython",
    "version": 3
   },
   "file_extension": ".py",
   "mimetype": "text/x-python",
   "name": "python",
   "nbconvert_exporter": "python",
   "pygments_lexer": "ipython3",
   "version": "3.8.12"
  },
  "toc": {
   "base_numbering": 1,
   "nav_menu": {},
   "number_sections": true,
   "sideBar": true,
   "skip_h1_title": false,
   "title_cell": "Table of Contents",
   "title_sidebar": "Contents",
   "toc_cell": false,
   "toc_position": {},
   "toc_section_display": true,
   "toc_window_display": false
  }
 },
 "nbformat": 4,
 "nbformat_minor": 5
}
