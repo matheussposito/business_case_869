{
 "cells": [
  {
   "cell_type": "code",
   "execution_count": 1,
   "id": "d99648e5",
   "metadata": {},
   "outputs": [],
   "source": [
    "%load_ext autoreload\n",
    "%autoreload 2"
   ]
  },
  {
   "cell_type": "code",
   "execution_count": 2,
   "id": "1116ffd1",
   "metadata": {},
   "outputs": [],
   "source": [
    "from sklearn import set_config; set_config(display='diagram')\n",
    "from package.etl import *\n",
    "from package.train_baseline import TrainBaseline\n",
    "from package.train_city import TrainCity\n",
    "from package.train_store import TrainStore\n",
    "from package.train_family import TrainFamily\n",
    "import pandas as pd\n",
    "import numpy as np\n",
    "import requests\n",
    "import joblib\n",
    "import json"
   ]
  },
  {
   "cell_type": "markdown",
   "id": "65ea4608",
   "metadata": {},
   "source": [
    "# Train Baseline (Original)"
   ]
  },
  {
   "cell_type": "code",
   "execution_count": 3,
   "id": "21b8fd99",
   "metadata": {},
   "outputs": [],
   "source": [
    "X_train, y_train, X_predict, pipe, preprocessor = TrainBaseline()"
   ]
  },
  {
   "cell_type": "code",
   "execution_count": 4,
   "id": "44e6ad0d",
   "metadata": {
    "scrolled": true
   },
   "outputs": [
    {
     "data": {
      "text/html": [
       "<div>\n",
       "<style scoped>\n",
       "    .dataframe tbody tr th:only-of-type {\n",
       "        vertical-align: middle;\n",
       "    }\n",
       "\n",
       "    .dataframe tbody tr th {\n",
       "        vertical-align: top;\n",
       "    }\n",
       "\n",
       "    .dataframe thead th {\n",
       "        text-align: right;\n",
       "    }\n",
       "</style>\n",
       "<table border=\"1\" class=\"dataframe\">\n",
       "  <thead>\n",
       "    <tr style=\"text-align: right;\">\n",
       "      <th></th>\n",
       "      <th>year</th>\n",
       "      <th>month</th>\n",
       "      <th>family</th>\n",
       "      <th>store_nbr</th>\n",
       "      <th>onpromotion</th>\n",
       "    </tr>\n",
       "  </thead>\n",
       "  <tbody>\n",
       "    <tr>\n",
       "      <th>0</th>\n",
       "      <td>2017</td>\n",
       "      <td>8</td>\n",
       "      <td>AUTOMOTIVE</td>\n",
       "      <td>1</td>\n",
       "      <td>0</td>\n",
       "    </tr>\n",
       "    <tr>\n",
       "      <th>1</th>\n",
       "      <td>2017</td>\n",
       "      <td>8</td>\n",
       "      <td>AUTOMOTIVE</td>\n",
       "      <td>2</td>\n",
       "      <td>0</td>\n",
       "    </tr>\n",
       "    <tr>\n",
       "      <th>2</th>\n",
       "      <td>2017</td>\n",
       "      <td>8</td>\n",
       "      <td>AUTOMOTIVE</td>\n",
       "      <td>3</td>\n",
       "      <td>0</td>\n",
       "    </tr>\n",
       "    <tr>\n",
       "      <th>3</th>\n",
       "      <td>2017</td>\n",
       "      <td>8</td>\n",
       "      <td>AUTOMOTIVE</td>\n",
       "      <td>4</td>\n",
       "      <td>0</td>\n",
       "    </tr>\n",
       "    <tr>\n",
       "      <th>4</th>\n",
       "      <td>2017</td>\n",
       "      <td>8</td>\n",
       "      <td>AUTOMOTIVE</td>\n",
       "      <td>5</td>\n",
       "      <td>0</td>\n",
       "    </tr>\n",
       "    <tr>\n",
       "      <th>5</th>\n",
       "      <td>2017</td>\n",
       "      <td>8</td>\n",
       "      <td>AUTOMOTIVE</td>\n",
       "      <td>6</td>\n",
       "      <td>0</td>\n",
       "    </tr>\n",
       "    <tr>\n",
       "      <th>6</th>\n",
       "      <td>2017</td>\n",
       "      <td>8</td>\n",
       "      <td>AUTOMOTIVE</td>\n",
       "      <td>7</td>\n",
       "      <td>0</td>\n",
       "    </tr>\n",
       "    <tr>\n",
       "      <th>7</th>\n",
       "      <td>2017</td>\n",
       "      <td>8</td>\n",
       "      <td>AUTOMOTIVE</td>\n",
       "      <td>8</td>\n",
       "      <td>0</td>\n",
       "    </tr>\n",
       "    <tr>\n",
       "      <th>8</th>\n",
       "      <td>2017</td>\n",
       "      <td>8</td>\n",
       "      <td>AUTOMOTIVE</td>\n",
       "      <td>9</td>\n",
       "      <td>0</td>\n",
       "    </tr>\n",
       "    <tr>\n",
       "      <th>9</th>\n",
       "      <td>2017</td>\n",
       "      <td>8</td>\n",
       "      <td>AUTOMOTIVE</td>\n",
       "      <td>10</td>\n",
       "      <td>2</td>\n",
       "    </tr>\n",
       "    <tr>\n",
       "      <th>10</th>\n",
       "      <td>2017</td>\n",
       "      <td>8</td>\n",
       "      <td>AUTOMOTIVE</td>\n",
       "      <td>11</td>\n",
       "      <td>1</td>\n",
       "    </tr>\n",
       "    <tr>\n",
       "      <th>11</th>\n",
       "      <td>2017</td>\n",
       "      <td>8</td>\n",
       "      <td>AUTOMOTIVE</td>\n",
       "      <td>12</td>\n",
       "      <td>0</td>\n",
       "    </tr>\n",
       "  </tbody>\n",
       "</table>\n",
       "</div>"
      ],
      "text/plain": [
       "    year  month      family  store_nbr  onpromotion\n",
       "0   2017      8  AUTOMOTIVE          1            0\n",
       "1   2017      8  AUTOMOTIVE          2            0\n",
       "2   2017      8  AUTOMOTIVE          3            0\n",
       "3   2017      8  AUTOMOTIVE          4            0\n",
       "4   2017      8  AUTOMOTIVE          5            0\n",
       "5   2017      8  AUTOMOTIVE          6            0\n",
       "6   2017      8  AUTOMOTIVE          7            0\n",
       "7   2017      8  AUTOMOTIVE          8            0\n",
       "8   2017      8  AUTOMOTIVE          9            0\n",
       "9   2017      8  AUTOMOTIVE         10            2\n",
       "10  2017      8  AUTOMOTIVE         11            1\n",
       "11  2017      8  AUTOMOTIVE         12            0"
      ]
     },
     "execution_count": 4,
     "metadata": {},
     "output_type": "execute_result"
    }
   ],
   "source": [
    "X_predict.head(12)"
   ]
  },
  {
   "cell_type": "code",
   "execution_count": 5,
   "id": "62fe2b0c",
   "metadata": {},
   "outputs": [
    {
     "data": {
      "text/html": [
       "<style>#sk-ece58f1e-68f3-49c6-bad0-145a2a5a79d8 {color: black;background-color: white;}#sk-ece58f1e-68f3-49c6-bad0-145a2a5a79d8 pre{padding: 0;}#sk-ece58f1e-68f3-49c6-bad0-145a2a5a79d8 div.sk-toggleable {background-color: white;}#sk-ece58f1e-68f3-49c6-bad0-145a2a5a79d8 label.sk-toggleable__label {cursor: pointer;display: block;width: 100%;margin-bottom: 0;padding: 0.3em;box-sizing: border-box;text-align: center;}#sk-ece58f1e-68f3-49c6-bad0-145a2a5a79d8 label.sk-toggleable__label-arrow:before {content: \"▸\";float: left;margin-right: 0.25em;color: #696969;}#sk-ece58f1e-68f3-49c6-bad0-145a2a5a79d8 label.sk-toggleable__label-arrow:hover:before {color: black;}#sk-ece58f1e-68f3-49c6-bad0-145a2a5a79d8 div.sk-estimator:hover label.sk-toggleable__label-arrow:before {color: black;}#sk-ece58f1e-68f3-49c6-bad0-145a2a5a79d8 div.sk-toggleable__content {max-height: 0;max-width: 0;overflow: hidden;text-align: left;background-color: #f0f8ff;}#sk-ece58f1e-68f3-49c6-bad0-145a2a5a79d8 div.sk-toggleable__content pre {margin: 0.2em;color: black;border-radius: 0.25em;background-color: #f0f8ff;}#sk-ece58f1e-68f3-49c6-bad0-145a2a5a79d8 input.sk-toggleable__control:checked~div.sk-toggleable__content {max-height: 200px;max-width: 100%;overflow: auto;}#sk-ece58f1e-68f3-49c6-bad0-145a2a5a79d8 input.sk-toggleable__control:checked~label.sk-toggleable__label-arrow:before {content: \"▾\";}#sk-ece58f1e-68f3-49c6-bad0-145a2a5a79d8 div.sk-estimator input.sk-toggleable__control:checked~label.sk-toggleable__label {background-color: #d4ebff;}#sk-ece58f1e-68f3-49c6-bad0-145a2a5a79d8 div.sk-label input.sk-toggleable__control:checked~label.sk-toggleable__label {background-color: #d4ebff;}#sk-ece58f1e-68f3-49c6-bad0-145a2a5a79d8 input.sk-hidden--visually {border: 0;clip: rect(1px 1px 1px 1px);clip: rect(1px, 1px, 1px, 1px);height: 1px;margin: -1px;overflow: hidden;padding: 0;position: absolute;width: 1px;}#sk-ece58f1e-68f3-49c6-bad0-145a2a5a79d8 div.sk-estimator {font-family: monospace;background-color: #f0f8ff;border: 1px dotted black;border-radius: 0.25em;box-sizing: border-box;margin-bottom: 0.5em;}#sk-ece58f1e-68f3-49c6-bad0-145a2a5a79d8 div.sk-estimator:hover {background-color: #d4ebff;}#sk-ece58f1e-68f3-49c6-bad0-145a2a5a79d8 div.sk-parallel-item::after {content: \"\";width: 100%;border-bottom: 1px solid gray;flex-grow: 1;}#sk-ece58f1e-68f3-49c6-bad0-145a2a5a79d8 div.sk-label:hover label.sk-toggleable__label {background-color: #d4ebff;}#sk-ece58f1e-68f3-49c6-bad0-145a2a5a79d8 div.sk-serial::before {content: \"\";position: absolute;border-left: 1px solid gray;box-sizing: border-box;top: 2em;bottom: 0;left: 50%;}#sk-ece58f1e-68f3-49c6-bad0-145a2a5a79d8 div.sk-serial {display: flex;flex-direction: column;align-items: center;background-color: white;padding-right: 0.2em;padding-left: 0.2em;}#sk-ece58f1e-68f3-49c6-bad0-145a2a5a79d8 div.sk-item {z-index: 1;}#sk-ece58f1e-68f3-49c6-bad0-145a2a5a79d8 div.sk-parallel {display: flex;align-items: stretch;justify-content: center;background-color: white;}#sk-ece58f1e-68f3-49c6-bad0-145a2a5a79d8 div.sk-parallel::before {content: \"\";position: absolute;border-left: 1px solid gray;box-sizing: border-box;top: 2em;bottom: 0;left: 50%;}#sk-ece58f1e-68f3-49c6-bad0-145a2a5a79d8 div.sk-parallel-item {display: flex;flex-direction: column;position: relative;background-color: white;}#sk-ece58f1e-68f3-49c6-bad0-145a2a5a79d8 div.sk-parallel-item:first-child::after {align-self: flex-end;width: 50%;}#sk-ece58f1e-68f3-49c6-bad0-145a2a5a79d8 div.sk-parallel-item:last-child::after {align-self: flex-start;width: 50%;}#sk-ece58f1e-68f3-49c6-bad0-145a2a5a79d8 div.sk-parallel-item:only-child::after {width: 0;}#sk-ece58f1e-68f3-49c6-bad0-145a2a5a79d8 div.sk-dashed-wrapped {border: 1px dashed gray;margin: 0 0.4em 0.5em 0.4em;box-sizing: border-box;padding-bottom: 0.4em;background-color: white;position: relative;}#sk-ece58f1e-68f3-49c6-bad0-145a2a5a79d8 div.sk-label label {font-family: monospace;font-weight: bold;background-color: white;display: inline-block;line-height: 1.2em;}#sk-ece58f1e-68f3-49c6-bad0-145a2a5a79d8 div.sk-label-container {position: relative;z-index: 2;text-align: center;}#sk-ece58f1e-68f3-49c6-bad0-145a2a5a79d8 div.sk-container {/* jupyter's `normalize.less` sets `[hidden] { display: none; }` but bootstrap.min.css set `[hidden] { display: none !important; }` so we also need the `!important` here to be able to override the default hidden behavior on the sphinx rendered scikit-learn.org. See: https://github.com/scikit-learn/scikit-learn/issues/21755 */display: inline-block !important;position: relative;}#sk-ece58f1e-68f3-49c6-bad0-145a2a5a79d8 div.sk-text-repr-fallback {display: none;}</style><div id=\"sk-ece58f1e-68f3-49c6-bad0-145a2a5a79d8\" class=\"sk-top-container\"><div class=\"sk-text-repr-fallback\"><pre>Pipeline(steps=[(&#x27;columntransformer&#x27;,\n",
       "                 ColumnTransformer(remainder=&#x27;passthrough&#x27;,\n",
       "                                   transformers=[(&#x27;cat_tr&#x27;,\n",
       "                                                  OneHotEncoder(handle_unknown=&#x27;ignore&#x27;,\n",
       "                                                                sparse=False),\n",
       "                                                  [&#x27;year&#x27;, &#x27;month&#x27;, &#x27;store_nbr&#x27;,\n",
       "                                                   &#x27;family&#x27;])])),\n",
       "                (&#x27;linearregression&#x27;, LinearRegression())])</pre><b>Please rerun this cell to show the HTML repr or trust the notebook.</b></div><div class=\"sk-container\" hidden><div class=\"sk-item sk-dashed-wrapped\"><div class=\"sk-label-container\"><div class=\"sk-label sk-toggleable\"><input class=\"sk-toggleable__control sk-hidden--visually\" id=\"92a58a13-e58f-453e-a1c5-aa8ae4372550\" type=\"checkbox\" ><label for=\"92a58a13-e58f-453e-a1c5-aa8ae4372550\" class=\"sk-toggleable__label sk-toggleable__label-arrow\">Pipeline</label><div class=\"sk-toggleable__content\"><pre>Pipeline(steps=[(&#x27;columntransformer&#x27;,\n",
       "                 ColumnTransformer(remainder=&#x27;passthrough&#x27;,\n",
       "                                   transformers=[(&#x27;cat_tr&#x27;,\n",
       "                                                  OneHotEncoder(handle_unknown=&#x27;ignore&#x27;,\n",
       "                                                                sparse=False),\n",
       "                                                  [&#x27;year&#x27;, &#x27;month&#x27;, &#x27;store_nbr&#x27;,\n",
       "                                                   &#x27;family&#x27;])])),\n",
       "                (&#x27;linearregression&#x27;, LinearRegression())])</pre></div></div></div><div class=\"sk-serial\"><div class=\"sk-item sk-dashed-wrapped\"><div class=\"sk-label-container\"><div class=\"sk-label sk-toggleable\"><input class=\"sk-toggleable__control sk-hidden--visually\" id=\"8ffc8825-3c32-4866-b4ac-5a4bd2d101c5\" type=\"checkbox\" ><label for=\"8ffc8825-3c32-4866-b4ac-5a4bd2d101c5\" class=\"sk-toggleable__label sk-toggleable__label-arrow\">columntransformer: ColumnTransformer</label><div class=\"sk-toggleable__content\"><pre>ColumnTransformer(remainder=&#x27;passthrough&#x27;,\n",
       "                  transformers=[(&#x27;cat_tr&#x27;,\n",
       "                                 OneHotEncoder(handle_unknown=&#x27;ignore&#x27;,\n",
       "                                               sparse=False),\n",
       "                                 [&#x27;year&#x27;, &#x27;month&#x27;, &#x27;store_nbr&#x27;, &#x27;family&#x27;])])</pre></div></div></div><div class=\"sk-parallel\"><div class=\"sk-parallel-item\"><div class=\"sk-item\"><div class=\"sk-label-container\"><div class=\"sk-label sk-toggleable\"><input class=\"sk-toggleable__control sk-hidden--visually\" id=\"f3518ce1-9a07-49e0-9943-4a7ca3254769\" type=\"checkbox\" ><label for=\"f3518ce1-9a07-49e0-9943-4a7ca3254769\" class=\"sk-toggleable__label sk-toggleable__label-arrow\">cat_tr</label><div class=\"sk-toggleable__content\"><pre>[&#x27;year&#x27;, &#x27;month&#x27;, &#x27;store_nbr&#x27;, &#x27;family&#x27;]</pre></div></div></div><div class=\"sk-serial\"><div class=\"sk-item\"><div class=\"sk-estimator sk-toggleable\"><input class=\"sk-toggleable__control sk-hidden--visually\" id=\"f3448c45-1298-4377-907e-f1d489663d19\" type=\"checkbox\" ><label for=\"f3448c45-1298-4377-907e-f1d489663d19\" class=\"sk-toggleable__label sk-toggleable__label-arrow\">OneHotEncoder</label><div class=\"sk-toggleable__content\"><pre>OneHotEncoder(handle_unknown=&#x27;ignore&#x27;, sparse=False)</pre></div></div></div></div></div></div><div class=\"sk-parallel-item\"><div class=\"sk-item\"><div class=\"sk-label-container\"><div class=\"sk-label sk-toggleable\"><input class=\"sk-toggleable__control sk-hidden--visually\" id=\"ade8f6ef-bb6f-4d35-8cf3-af529a3c5e63\" type=\"checkbox\" ><label for=\"ade8f6ef-bb6f-4d35-8cf3-af529a3c5e63\" class=\"sk-toggleable__label sk-toggleable__label-arrow\">remainder</label><div class=\"sk-toggleable__content\"><pre>[&#x27;onpromotion&#x27;]</pre></div></div></div><div class=\"sk-serial\"><div class=\"sk-item\"><div class=\"sk-estimator sk-toggleable\"><input class=\"sk-toggleable__control sk-hidden--visually\" id=\"82202bed-0b7f-4290-9b89-3b4ae3535d61\" type=\"checkbox\" ><label for=\"82202bed-0b7f-4290-9b89-3b4ae3535d61\" class=\"sk-toggleable__label sk-toggleable__label-arrow\">passthrough</label><div class=\"sk-toggleable__content\"><pre>passthrough</pre></div></div></div></div></div></div></div></div><div class=\"sk-item\"><div class=\"sk-estimator sk-toggleable\"><input class=\"sk-toggleable__control sk-hidden--visually\" id=\"b7da4129-d936-4d02-b35b-685b608facb1\" type=\"checkbox\" ><label for=\"b7da4129-d936-4d02-b35b-685b608facb1\" class=\"sk-toggleable__label sk-toggleable__label-arrow\">LinearRegression</label><div class=\"sk-toggleable__content\"><pre>LinearRegression()</pre></div></div></div></div></div></div></div>"
      ],
      "text/plain": [
       "Pipeline(steps=[('columntransformer',\n",
       "                 ColumnTransformer(remainder='passthrough',\n",
       "                                   transformers=[('cat_tr',\n",
       "                                                  OneHotEncoder(handle_unknown='ignore',\n",
       "                                                                sparse=False),\n",
       "                                                  ['year', 'month', 'store_nbr',\n",
       "                                                   'family'])])),\n",
       "                ('linearregression', LinearRegression())])"
      ]
     },
     "execution_count": 5,
     "metadata": {},
     "output_type": "execute_result"
    }
   ],
   "source": [
    "job = joblib.load('model_baseline.joblib')\n",
    "job"
   ]
  },
  {
   "cell_type": "code",
   "execution_count": 6,
   "id": "6c6fd8c7",
   "metadata": {
    "scrolled": true
   },
   "outputs": [
    {
     "data": {
      "text/plain": [
       "0.6927092577492131"
      ]
     },
     "execution_count": 6,
     "metadata": {},
     "output_type": "execute_result"
    }
   ],
   "source": [
    "job.score(X_train,y_train)"
   ]
  },
  {
   "cell_type": "code",
   "execution_count": 7,
   "id": "59b2eaef",
   "metadata": {},
   "outputs": [
    {
     "data": {
      "text/plain": [
       "[6.706438899040222,\n",
       " 7.0134095549583435,\n",
       " 7.783157706260681,\n",
       " 6.83639532327652,\n",
       " 6.796813130378723,\n",
       " 7.000763237476349,\n",
       " 7.152514815330505,\n",
       " 7.365639269351959,\n",
       " 6.961523175239563,\n",
       " 5.6811699867248535,\n",
       " 6.825519561767578,\n",
       " 5.7159886956214905]"
      ]
     },
     "execution_count": 7,
     "metadata": {},
     "output_type": "execute_result"
    }
   ],
   "source": [
    "p = job.predict(X_predict).tolist()\n",
    "p[0:12]"
   ]
  },
  {
   "cell_type": "code",
   "execution_count": 8,
   "id": "0147f36f",
   "metadata": {
    "scrolled": false
   },
   "outputs": [
    {
     "data": {
      "text/plain": [
       "array([ 817.65, 1111.44, 2399.84,  931.13,  894.99, 1097.47, 1277.31,\n",
       "       1580.73, 1055.24,  293.29,  921.05,  303.68])"
      ]
     },
     "execution_count": 8,
     "metadata": {},
     "output_type": "execute_result"
    }
   ],
   "source": [
    "p = [np.around(np.exp(i),decimals=2) for i in p]\n",
    "p = np.array(p) \n",
    "p[0:12]"
   ]
  },
  {
   "cell_type": "code",
   "execution_count": 9,
   "id": "a6440143",
   "metadata": {},
   "outputs": [
    {
     "data": {
      "text/plain": [
       "{'sales_baseline_year': {'1': 817.65,\n",
       "  '2': 1111.44,\n",
       "  '3': 2399.84,\n",
       "  '4': 931.13,\n",
       "  '5': 894.99,\n",
       "  '6': 1097.47,\n",
       "  '7': 1277.31,\n",
       "  '8': 1580.73,\n",
       "  '9': 1055.24,\n",
       "  '10': 292.93,\n",
       "  '11': 920.48,\n",
       "  '12': 303.68}}"
      ]
     },
     "execution_count": 9,
     "metadata": {},
     "output_type": "execute_result"
    }
   ],
   "source": [
    "year=['2017','2017','2017','2017','2017','2017','2017','2017','2017','2017','2017','2017']\n",
    "month=['8','8','8','8','8','8','8','8','8','8','8','8']\n",
    "family=['AUTOMOTIVE','AUTOMOTIVE','AUTOMOTIVE','AUTOMOTIVE','AUTOMOTIVE','AUTOMOTIVE','AUTOMOTIVE','AUTOMOTIVE','AUTOMOTIVE','AUTOMOTIVE','AUTOMOTIVE','AUTOMOTIVE']\n",
    "store_nbr=['1','2','3','4','5','6','7','8','9','10','11','12']\n",
    "onpromotion=['0','0','0','0','0','0','0','0','0','0','0','0']\n",
    "\n",
    "url = 'http://127.0.0.1:8000/predict-baseline-year'\n",
    "params = {\n",
    "    'year': year,\n",
    "    'month': month,\n",
    "    'family': family,\n",
    "    'store_nbr': store_nbr,\n",
    "    'onpromotion': onpromotion\n",
    "}\n",
    "\n",
    "response = requests.get(url, params=params)\n",
    "response.json() "
   ]
  },
  {
   "cell_type": "markdown",
   "id": "f5993eda",
   "metadata": {},
   "source": [
    "# Train Model (City L1)"
   ]
  },
  {
   "cell_type": "code",
   "execution_count": 10,
   "id": "8bd5b2a1",
   "metadata": {},
   "outputs": [],
   "source": [
    "X_train, y_train, X_predict, pipe, preprocessor = TrainCity()"
   ]
  },
  {
   "cell_type": "code",
   "execution_count": 11,
   "id": "a8110b7e",
   "metadata": {},
   "outputs": [
    {
     "data": {
      "text/html": [
       "<div>\n",
       "<style scoped>\n",
       "    .dataframe tbody tr th:only-of-type {\n",
       "        vertical-align: middle;\n",
       "    }\n",
       "\n",
       "    .dataframe tbody tr th {\n",
       "        vertical-align: top;\n",
       "    }\n",
       "\n",
       "    .dataframe thead th {\n",
       "        text-align: right;\n",
       "    }\n",
       "</style>\n",
       "<table border=\"1\" class=\"dataframe\">\n",
       "  <thead>\n",
       "    <tr style=\"text-align: right;\">\n",
       "      <th></th>\n",
       "      <th>year</th>\n",
       "      <th>month</th>\n",
       "      <th>city</th>\n",
       "    </tr>\n",
       "  </thead>\n",
       "  <tbody>\n",
       "    <tr>\n",
       "      <th>0</th>\n",
       "      <td>2017</td>\n",
       "      <td>8</td>\n",
       "      <td>Ambato</td>\n",
       "    </tr>\n",
       "    <tr>\n",
       "      <th>1</th>\n",
       "      <td>2017</td>\n",
       "      <td>8</td>\n",
       "      <td>Babahoyo</td>\n",
       "    </tr>\n",
       "    <tr>\n",
       "      <th>2</th>\n",
       "      <td>2017</td>\n",
       "      <td>8</td>\n",
       "      <td>Cayambe</td>\n",
       "    </tr>\n",
       "    <tr>\n",
       "      <th>3</th>\n",
       "      <td>2017</td>\n",
       "      <td>8</td>\n",
       "      <td>Cuenca</td>\n",
       "    </tr>\n",
       "    <tr>\n",
       "      <th>4</th>\n",
       "      <td>2017</td>\n",
       "      <td>8</td>\n",
       "      <td>Daule</td>\n",
       "    </tr>\n",
       "    <tr>\n",
       "      <th>5</th>\n",
       "      <td>2017</td>\n",
       "      <td>8</td>\n",
       "      <td>El Carmen</td>\n",
       "    </tr>\n",
       "    <tr>\n",
       "      <th>6</th>\n",
       "      <td>2017</td>\n",
       "      <td>8</td>\n",
       "      <td>Esmeraldas</td>\n",
       "    </tr>\n",
       "    <tr>\n",
       "      <th>7</th>\n",
       "      <td>2017</td>\n",
       "      <td>8</td>\n",
       "      <td>Guaranda</td>\n",
       "    </tr>\n",
       "    <tr>\n",
       "      <th>8</th>\n",
       "      <td>2017</td>\n",
       "      <td>8</td>\n",
       "      <td>Guayaquil</td>\n",
       "    </tr>\n",
       "    <tr>\n",
       "      <th>9</th>\n",
       "      <td>2017</td>\n",
       "      <td>8</td>\n",
       "      <td>Ibarra</td>\n",
       "    </tr>\n",
       "    <tr>\n",
       "      <th>10</th>\n",
       "      <td>2017</td>\n",
       "      <td>8</td>\n",
       "      <td>Latacunga</td>\n",
       "    </tr>\n",
       "    <tr>\n",
       "      <th>11</th>\n",
       "      <td>2017</td>\n",
       "      <td>8</td>\n",
       "      <td>Libertad</td>\n",
       "    </tr>\n",
       "  </tbody>\n",
       "</table>\n",
       "</div>"
      ],
      "text/plain": [
       "    year  month        city\n",
       "0   2017      8      Ambato\n",
       "1   2017      8    Babahoyo\n",
       "2   2017      8     Cayambe\n",
       "3   2017      8      Cuenca\n",
       "4   2017      8       Daule\n",
       "5   2017      8   El Carmen\n",
       "6   2017      8  Esmeraldas\n",
       "7   2017      8    Guaranda\n",
       "8   2017      8   Guayaquil\n",
       "9   2017      8      Ibarra\n",
       "10  2017      8   Latacunga\n",
       "11  2017      8    Libertad"
      ]
     },
     "execution_count": 11,
     "metadata": {},
     "output_type": "execute_result"
    }
   ],
   "source": [
    "X_predict.head(12)"
   ]
  },
  {
   "cell_type": "code",
   "execution_count": 12,
   "id": "5a076bcd",
   "metadata": {},
   "outputs": [
    {
     "data": {
      "text/html": [
       "<style>#sk-3231f914-039f-4ef9-b0db-7b0b69e2bed2 {color: black;background-color: white;}#sk-3231f914-039f-4ef9-b0db-7b0b69e2bed2 pre{padding: 0;}#sk-3231f914-039f-4ef9-b0db-7b0b69e2bed2 div.sk-toggleable {background-color: white;}#sk-3231f914-039f-4ef9-b0db-7b0b69e2bed2 label.sk-toggleable__label {cursor: pointer;display: block;width: 100%;margin-bottom: 0;padding: 0.3em;box-sizing: border-box;text-align: center;}#sk-3231f914-039f-4ef9-b0db-7b0b69e2bed2 label.sk-toggleable__label-arrow:before {content: \"▸\";float: left;margin-right: 0.25em;color: #696969;}#sk-3231f914-039f-4ef9-b0db-7b0b69e2bed2 label.sk-toggleable__label-arrow:hover:before {color: black;}#sk-3231f914-039f-4ef9-b0db-7b0b69e2bed2 div.sk-estimator:hover label.sk-toggleable__label-arrow:before {color: black;}#sk-3231f914-039f-4ef9-b0db-7b0b69e2bed2 div.sk-toggleable__content {max-height: 0;max-width: 0;overflow: hidden;text-align: left;background-color: #f0f8ff;}#sk-3231f914-039f-4ef9-b0db-7b0b69e2bed2 div.sk-toggleable__content pre {margin: 0.2em;color: black;border-radius: 0.25em;background-color: #f0f8ff;}#sk-3231f914-039f-4ef9-b0db-7b0b69e2bed2 input.sk-toggleable__control:checked~div.sk-toggleable__content {max-height: 200px;max-width: 100%;overflow: auto;}#sk-3231f914-039f-4ef9-b0db-7b0b69e2bed2 input.sk-toggleable__control:checked~label.sk-toggleable__label-arrow:before {content: \"▾\";}#sk-3231f914-039f-4ef9-b0db-7b0b69e2bed2 div.sk-estimator input.sk-toggleable__control:checked~label.sk-toggleable__label {background-color: #d4ebff;}#sk-3231f914-039f-4ef9-b0db-7b0b69e2bed2 div.sk-label input.sk-toggleable__control:checked~label.sk-toggleable__label {background-color: #d4ebff;}#sk-3231f914-039f-4ef9-b0db-7b0b69e2bed2 input.sk-hidden--visually {border: 0;clip: rect(1px 1px 1px 1px);clip: rect(1px, 1px, 1px, 1px);height: 1px;margin: -1px;overflow: hidden;padding: 0;position: absolute;width: 1px;}#sk-3231f914-039f-4ef9-b0db-7b0b69e2bed2 div.sk-estimator {font-family: monospace;background-color: #f0f8ff;border: 1px dotted black;border-radius: 0.25em;box-sizing: border-box;margin-bottom: 0.5em;}#sk-3231f914-039f-4ef9-b0db-7b0b69e2bed2 div.sk-estimator:hover {background-color: #d4ebff;}#sk-3231f914-039f-4ef9-b0db-7b0b69e2bed2 div.sk-parallel-item::after {content: \"\";width: 100%;border-bottom: 1px solid gray;flex-grow: 1;}#sk-3231f914-039f-4ef9-b0db-7b0b69e2bed2 div.sk-label:hover label.sk-toggleable__label {background-color: #d4ebff;}#sk-3231f914-039f-4ef9-b0db-7b0b69e2bed2 div.sk-serial::before {content: \"\";position: absolute;border-left: 1px solid gray;box-sizing: border-box;top: 2em;bottom: 0;left: 50%;}#sk-3231f914-039f-4ef9-b0db-7b0b69e2bed2 div.sk-serial {display: flex;flex-direction: column;align-items: center;background-color: white;padding-right: 0.2em;padding-left: 0.2em;}#sk-3231f914-039f-4ef9-b0db-7b0b69e2bed2 div.sk-item {z-index: 1;}#sk-3231f914-039f-4ef9-b0db-7b0b69e2bed2 div.sk-parallel {display: flex;align-items: stretch;justify-content: center;background-color: white;}#sk-3231f914-039f-4ef9-b0db-7b0b69e2bed2 div.sk-parallel::before {content: \"\";position: absolute;border-left: 1px solid gray;box-sizing: border-box;top: 2em;bottom: 0;left: 50%;}#sk-3231f914-039f-4ef9-b0db-7b0b69e2bed2 div.sk-parallel-item {display: flex;flex-direction: column;position: relative;background-color: white;}#sk-3231f914-039f-4ef9-b0db-7b0b69e2bed2 div.sk-parallel-item:first-child::after {align-self: flex-end;width: 50%;}#sk-3231f914-039f-4ef9-b0db-7b0b69e2bed2 div.sk-parallel-item:last-child::after {align-self: flex-start;width: 50%;}#sk-3231f914-039f-4ef9-b0db-7b0b69e2bed2 div.sk-parallel-item:only-child::after {width: 0;}#sk-3231f914-039f-4ef9-b0db-7b0b69e2bed2 div.sk-dashed-wrapped {border: 1px dashed gray;margin: 0 0.4em 0.5em 0.4em;box-sizing: border-box;padding-bottom: 0.4em;background-color: white;position: relative;}#sk-3231f914-039f-4ef9-b0db-7b0b69e2bed2 div.sk-label label {font-family: monospace;font-weight: bold;background-color: white;display: inline-block;line-height: 1.2em;}#sk-3231f914-039f-4ef9-b0db-7b0b69e2bed2 div.sk-label-container {position: relative;z-index: 2;text-align: center;}#sk-3231f914-039f-4ef9-b0db-7b0b69e2bed2 div.sk-container {/* jupyter's `normalize.less` sets `[hidden] { display: none; }` but bootstrap.min.css set `[hidden] { display: none !important; }` so we also need the `!important` here to be able to override the default hidden behavior on the sphinx rendered scikit-learn.org. See: https://github.com/scikit-learn/scikit-learn/issues/21755 */display: inline-block !important;position: relative;}#sk-3231f914-039f-4ef9-b0db-7b0b69e2bed2 div.sk-text-repr-fallback {display: none;}</style><div id=\"sk-3231f914-039f-4ef9-b0db-7b0b69e2bed2\" class=\"sk-top-container\"><div class=\"sk-text-repr-fallback\"><pre>Pipeline(steps=[(&#x27;columntransformer&#x27;,\n",
       "                 ColumnTransformer(remainder=&#x27;passthrough&#x27;,\n",
       "                                   transformers=[(&#x27;cat_tr&#x27;,\n",
       "                                                  OneHotEncoder(handle_unknown=&#x27;ignore&#x27;,\n",
       "                                                                sparse=False),\n",
       "                                                  [&#x27;year&#x27;, &#x27;month&#x27;, &#x27;city&#x27;])])),\n",
       "                (&#x27;linearregression&#x27;, LinearRegression())])</pre><b>Please rerun this cell to show the HTML repr or trust the notebook.</b></div><div class=\"sk-container\" hidden><div class=\"sk-item sk-dashed-wrapped\"><div class=\"sk-label-container\"><div class=\"sk-label sk-toggleable\"><input class=\"sk-toggleable__control sk-hidden--visually\" id=\"efc00243-70ca-4a12-9dc4-fde863f72a0b\" type=\"checkbox\" ><label for=\"efc00243-70ca-4a12-9dc4-fde863f72a0b\" class=\"sk-toggleable__label sk-toggleable__label-arrow\">Pipeline</label><div class=\"sk-toggleable__content\"><pre>Pipeline(steps=[(&#x27;columntransformer&#x27;,\n",
       "                 ColumnTransformer(remainder=&#x27;passthrough&#x27;,\n",
       "                                   transformers=[(&#x27;cat_tr&#x27;,\n",
       "                                                  OneHotEncoder(handle_unknown=&#x27;ignore&#x27;,\n",
       "                                                                sparse=False),\n",
       "                                                  [&#x27;year&#x27;, &#x27;month&#x27;, &#x27;city&#x27;])])),\n",
       "                (&#x27;linearregression&#x27;, LinearRegression())])</pre></div></div></div><div class=\"sk-serial\"><div class=\"sk-item sk-dashed-wrapped\"><div class=\"sk-label-container\"><div class=\"sk-label sk-toggleable\"><input class=\"sk-toggleable__control sk-hidden--visually\" id=\"3df35d1f-fa35-41f1-a31e-107f7b82a4b6\" type=\"checkbox\" ><label for=\"3df35d1f-fa35-41f1-a31e-107f7b82a4b6\" class=\"sk-toggleable__label sk-toggleable__label-arrow\">columntransformer: ColumnTransformer</label><div class=\"sk-toggleable__content\"><pre>ColumnTransformer(remainder=&#x27;passthrough&#x27;,\n",
       "                  transformers=[(&#x27;cat_tr&#x27;,\n",
       "                                 OneHotEncoder(handle_unknown=&#x27;ignore&#x27;,\n",
       "                                               sparse=False),\n",
       "                                 [&#x27;year&#x27;, &#x27;month&#x27;, &#x27;city&#x27;])])</pre></div></div></div><div class=\"sk-parallel\"><div class=\"sk-parallel-item\"><div class=\"sk-item\"><div class=\"sk-label-container\"><div class=\"sk-label sk-toggleable\"><input class=\"sk-toggleable__control sk-hidden--visually\" id=\"4462b3f6-7136-422a-8cf8-fcea1f5d0c56\" type=\"checkbox\" ><label for=\"4462b3f6-7136-422a-8cf8-fcea1f5d0c56\" class=\"sk-toggleable__label sk-toggleable__label-arrow\">cat_tr</label><div class=\"sk-toggleable__content\"><pre>[&#x27;year&#x27;, &#x27;month&#x27;, &#x27;city&#x27;]</pre></div></div></div><div class=\"sk-serial\"><div class=\"sk-item\"><div class=\"sk-estimator sk-toggleable\"><input class=\"sk-toggleable__control sk-hidden--visually\" id=\"f94454c7-145a-4c0e-ac07-97d40a3b39ba\" type=\"checkbox\" ><label for=\"f94454c7-145a-4c0e-ac07-97d40a3b39ba\" class=\"sk-toggleable__label sk-toggleable__label-arrow\">OneHotEncoder</label><div class=\"sk-toggleable__content\"><pre>OneHotEncoder(handle_unknown=&#x27;ignore&#x27;, sparse=False)</pre></div></div></div></div></div></div><div class=\"sk-parallel-item\"><div class=\"sk-item\"><div class=\"sk-label-container\"><div class=\"sk-label sk-toggleable\"><input class=\"sk-toggleable__control sk-hidden--visually\" id=\"cd4b8b44-03aa-42cd-8b9c-a97e2a0f64da\" type=\"checkbox\" ><label for=\"cd4b8b44-03aa-42cd-8b9c-a97e2a0f64da\" class=\"sk-toggleable__label sk-toggleable__label-arrow\">remainder</label><div class=\"sk-toggleable__content\"><pre>[]</pre></div></div></div><div class=\"sk-serial\"><div class=\"sk-item\"><div class=\"sk-estimator sk-toggleable\"><input class=\"sk-toggleable__control sk-hidden--visually\" id=\"a8420cd1-7765-45ac-9bb5-337924378fff\" type=\"checkbox\" ><label for=\"a8420cd1-7765-45ac-9bb5-337924378fff\" class=\"sk-toggleable__label sk-toggleable__label-arrow\">passthrough</label><div class=\"sk-toggleable__content\"><pre>passthrough</pre></div></div></div></div></div></div></div></div><div class=\"sk-item\"><div class=\"sk-estimator sk-toggleable\"><input class=\"sk-toggleable__control sk-hidden--visually\" id=\"795b6cad-d819-4bbc-9399-11b5cb7cb85c\" type=\"checkbox\" ><label for=\"795b6cad-d819-4bbc-9399-11b5cb7cb85c\" class=\"sk-toggleable__label sk-toggleable__label-arrow\">LinearRegression</label><div class=\"sk-toggleable__content\"><pre>LinearRegression()</pre></div></div></div></div></div></div></div>"
      ],
      "text/plain": [
       "Pipeline(steps=[('columntransformer',\n",
       "                 ColumnTransformer(remainder='passthrough',\n",
       "                                   transformers=[('cat_tr',\n",
       "                                                  OneHotEncoder(handle_unknown='ignore',\n",
       "                                                                sparse=False),\n",
       "                                                  ['year', 'month', 'city'])])),\n",
       "                ('linearregression', LinearRegression())])"
      ]
     },
     "execution_count": 12,
     "metadata": {},
     "output_type": "execute_result"
    }
   ],
   "source": [
    "job = joblib.load('model_city.joblib')\n",
    "job"
   ]
  },
  {
   "cell_type": "code",
   "execution_count": 13,
   "id": "c25c22f4",
   "metadata": {},
   "outputs": [
    {
     "data": {
      "text/plain": [
       "0.5692069963894613"
      ]
     },
     "execution_count": 13,
     "metadata": {},
     "output_type": "execute_result"
    }
   ],
   "source": [
    "job.score(X_train,y_train)"
   ]
  },
  {
   "cell_type": "code",
   "execution_count": 14,
   "id": "f673b0c7",
   "metadata": {},
   "outputs": [
    {
     "data": {
      "text/plain": [
       "[14.3828125,\n",
       " 13.60546875,\n",
       " 14.08984375,\n",
       " 14.5546875,\n",
       " 13.65625,\n",
       " 13.125,\n",
       " 13.5078125,\n",
       " 13.2890625,\n",
       " 15.53125,\n",
       " 13.16796875,\n",
       " 13.78125,\n",
       " 12.45703125]"
      ]
     },
     "execution_count": 14,
     "metadata": {},
     "output_type": "execute_result"
    }
   ],
   "source": [
    "p = job.predict(X_predict).tolist()\n",
    "p[0:12]"
   ]
  },
  {
   "cell_type": "code",
   "execution_count": 15,
   "id": "aac01688",
   "metadata": {},
   "outputs": [
    {
     "data": {
      "text/plain": [
       "array([1763502.59,  810550.36, 1315653.09, 2094211.15,  852774.13,\n",
       "        501320.05,  735137.25,  590699.38, 5560785.87,  523330.64,\n",
       "        966319.69,  257051.38])"
      ]
     },
     "execution_count": 15,
     "metadata": {},
     "output_type": "execute_result"
    }
   ],
   "source": [
    "p = [np.around(np.exp(i),decimals=2) for i in p]\n",
    "p = np.array(p) \n",
    "p[0:12]"
   ]
  },
  {
   "cell_type": "code",
   "execution_count": 16,
   "id": "0245502a",
   "metadata": {},
   "outputs": [
    {
     "data": {
      "text/plain": [
       "{'sales_city_year': {'1': 1763502.59,\n",
       "  '2': 810550.36,\n",
       "  '3': 1315653.09,\n",
       "  '4': 2094211.15,\n",
       "  '5': 852774.13,\n",
       "  '6': 501320.05,\n",
       "  '7': 735137.25,\n",
       "  '8': 590699.38,\n",
       "  '9': 5560785.87,\n",
       "  '10': 523330.64,\n",
       "  '11': 966319.69,\n",
       "  '12': 257051.38}}"
      ]
     },
     "execution_count": 16,
     "metadata": {},
     "output_type": "execute_result"
    }
   ],
   "source": [
    "year=['2017','2017','2017','2017','2017','2017','2017','2017','2017','2017','2017','2017']\n",
    "month=['8','8','8','8','8','8','8','8','8','8','8','8']\n",
    "city=['Ambato','Babahoyo', 'Cayambe', 'Cuenca', 'Daule', 'El Carmen', 'Esmeraldas', 'Guaranda', 'Guayaquil', 'Ibarra', 'Latacunga', 'Libertad']\n",
    "\n",
    "url = 'http://127.0.0.1:8000/predict-city-year'\n",
    "params = {\n",
    "    'year': year,\n",
    "    'month': month,\n",
    "    'city': city\n",
    "}\n",
    "\n",
    "response = requests.get(url, params=params)\n",
    "response.json() "
   ]
  },
  {
   "cell_type": "markdown",
   "id": "cd6e4db5",
   "metadata": {},
   "source": [
    "# Train Model (Store L2)"
   ]
  },
  {
   "cell_type": "code",
   "execution_count": 17,
   "id": "9b42ff7e",
   "metadata": {},
   "outputs": [],
   "source": [
    "X_train, y_train, X_predict, pipe, preprocessor = TrainStore()"
   ]
  },
  {
   "cell_type": "code",
   "execution_count": 18,
   "id": "d97275f2",
   "metadata": {
    "scrolled": true
   },
   "outputs": [
    {
     "data": {
      "text/html": [
       "<div>\n",
       "<style scoped>\n",
       "    .dataframe tbody tr th:only-of-type {\n",
       "        vertical-align: middle;\n",
       "    }\n",
       "\n",
       "    .dataframe tbody tr th {\n",
       "        vertical-align: top;\n",
       "    }\n",
       "\n",
       "    .dataframe thead th {\n",
       "        text-align: right;\n",
       "    }\n",
       "</style>\n",
       "<table border=\"1\" class=\"dataframe\">\n",
       "  <thead>\n",
       "    <tr style=\"text-align: right;\">\n",
       "      <th></th>\n",
       "      <th>year</th>\n",
       "      <th>month</th>\n",
       "      <th>city</th>\n",
       "      <th>store_nbr</th>\n",
       "    </tr>\n",
       "  </thead>\n",
       "  <tbody>\n",
       "    <tr>\n",
       "      <th>0</th>\n",
       "      <td>2017</td>\n",
       "      <td>8</td>\n",
       "      <td>Ambato</td>\n",
       "      <td>23</td>\n",
       "    </tr>\n",
       "    <tr>\n",
       "      <th>1</th>\n",
       "      <td>2017</td>\n",
       "      <td>8</td>\n",
       "      <td>Ambato</td>\n",
       "      <td>50</td>\n",
       "    </tr>\n",
       "    <tr>\n",
       "      <th>2</th>\n",
       "      <td>2017</td>\n",
       "      <td>8</td>\n",
       "      <td>Babahoyo</td>\n",
       "      <td>31</td>\n",
       "    </tr>\n",
       "    <tr>\n",
       "      <th>3</th>\n",
       "      <td>2017</td>\n",
       "      <td>8</td>\n",
       "      <td>Cayambe</td>\n",
       "      <td>11</td>\n",
       "    </tr>\n",
       "    <tr>\n",
       "      <th>4</th>\n",
       "      <td>2017</td>\n",
       "      <td>8</td>\n",
       "      <td>Cuenca</td>\n",
       "      <td>37</td>\n",
       "    </tr>\n",
       "    <tr>\n",
       "      <th>5</th>\n",
       "      <td>2017</td>\n",
       "      <td>8</td>\n",
       "      <td>Cuenca</td>\n",
       "      <td>39</td>\n",
       "    </tr>\n",
       "    <tr>\n",
       "      <th>6</th>\n",
       "      <td>2017</td>\n",
       "      <td>8</td>\n",
       "      <td>Cuenca</td>\n",
       "      <td>42</td>\n",
       "    </tr>\n",
       "    <tr>\n",
       "      <th>7</th>\n",
       "      <td>2017</td>\n",
       "      <td>8</td>\n",
       "      <td>Daule</td>\n",
       "      <td>27</td>\n",
       "    </tr>\n",
       "    <tr>\n",
       "      <th>8</th>\n",
       "      <td>2017</td>\n",
       "      <td>8</td>\n",
       "      <td>El Carmen</td>\n",
       "      <td>54</td>\n",
       "    </tr>\n",
       "    <tr>\n",
       "      <th>9</th>\n",
       "      <td>2017</td>\n",
       "      <td>8</td>\n",
       "      <td>Esmeraldas</td>\n",
       "      <td>43</td>\n",
       "    </tr>\n",
       "    <tr>\n",
       "      <th>10</th>\n",
       "      <td>2017</td>\n",
       "      <td>8</td>\n",
       "      <td>Guaranda</td>\n",
       "      <td>19</td>\n",
       "    </tr>\n",
       "    <tr>\n",
       "      <th>11</th>\n",
       "      <td>2017</td>\n",
       "      <td>8</td>\n",
       "      <td>Guayaquil</td>\n",
       "      <td>24</td>\n",
       "    </tr>\n",
       "  </tbody>\n",
       "</table>\n",
       "</div>"
      ],
      "text/plain": [
       "    year  month        city  store_nbr\n",
       "0   2017      8      Ambato         23\n",
       "1   2017      8      Ambato         50\n",
       "2   2017      8    Babahoyo         31\n",
       "3   2017      8     Cayambe         11\n",
       "4   2017      8      Cuenca         37\n",
       "5   2017      8      Cuenca         39\n",
       "6   2017      8      Cuenca         42\n",
       "7   2017      8       Daule         27\n",
       "8   2017      8   El Carmen         54\n",
       "9   2017      8  Esmeraldas         43\n",
       "10  2017      8    Guaranda         19\n",
       "11  2017      8   Guayaquil         24"
      ]
     },
     "execution_count": 18,
     "metadata": {},
     "output_type": "execute_result"
    }
   ],
   "source": [
    "X_predict.head(12)"
   ]
  },
  {
   "cell_type": "code",
   "execution_count": 19,
   "id": "63bf81e8",
   "metadata": {},
   "outputs": [
    {
     "data": {
      "text/html": [
       "<style>#sk-58154ce1-73e3-4287-b107-2896ed471c2c {color: black;background-color: white;}#sk-58154ce1-73e3-4287-b107-2896ed471c2c pre{padding: 0;}#sk-58154ce1-73e3-4287-b107-2896ed471c2c div.sk-toggleable {background-color: white;}#sk-58154ce1-73e3-4287-b107-2896ed471c2c label.sk-toggleable__label {cursor: pointer;display: block;width: 100%;margin-bottom: 0;padding: 0.3em;box-sizing: border-box;text-align: center;}#sk-58154ce1-73e3-4287-b107-2896ed471c2c label.sk-toggleable__label-arrow:before {content: \"▸\";float: left;margin-right: 0.25em;color: #696969;}#sk-58154ce1-73e3-4287-b107-2896ed471c2c label.sk-toggleable__label-arrow:hover:before {color: black;}#sk-58154ce1-73e3-4287-b107-2896ed471c2c div.sk-estimator:hover label.sk-toggleable__label-arrow:before {color: black;}#sk-58154ce1-73e3-4287-b107-2896ed471c2c div.sk-toggleable__content {max-height: 0;max-width: 0;overflow: hidden;text-align: left;background-color: #f0f8ff;}#sk-58154ce1-73e3-4287-b107-2896ed471c2c div.sk-toggleable__content pre {margin: 0.2em;color: black;border-radius: 0.25em;background-color: #f0f8ff;}#sk-58154ce1-73e3-4287-b107-2896ed471c2c input.sk-toggleable__control:checked~div.sk-toggleable__content {max-height: 200px;max-width: 100%;overflow: auto;}#sk-58154ce1-73e3-4287-b107-2896ed471c2c input.sk-toggleable__control:checked~label.sk-toggleable__label-arrow:before {content: \"▾\";}#sk-58154ce1-73e3-4287-b107-2896ed471c2c div.sk-estimator input.sk-toggleable__control:checked~label.sk-toggleable__label {background-color: #d4ebff;}#sk-58154ce1-73e3-4287-b107-2896ed471c2c div.sk-label input.sk-toggleable__control:checked~label.sk-toggleable__label {background-color: #d4ebff;}#sk-58154ce1-73e3-4287-b107-2896ed471c2c input.sk-hidden--visually {border: 0;clip: rect(1px 1px 1px 1px);clip: rect(1px, 1px, 1px, 1px);height: 1px;margin: -1px;overflow: hidden;padding: 0;position: absolute;width: 1px;}#sk-58154ce1-73e3-4287-b107-2896ed471c2c div.sk-estimator {font-family: monospace;background-color: #f0f8ff;border: 1px dotted black;border-radius: 0.25em;box-sizing: border-box;margin-bottom: 0.5em;}#sk-58154ce1-73e3-4287-b107-2896ed471c2c div.sk-estimator:hover {background-color: #d4ebff;}#sk-58154ce1-73e3-4287-b107-2896ed471c2c div.sk-parallel-item::after {content: \"\";width: 100%;border-bottom: 1px solid gray;flex-grow: 1;}#sk-58154ce1-73e3-4287-b107-2896ed471c2c div.sk-label:hover label.sk-toggleable__label {background-color: #d4ebff;}#sk-58154ce1-73e3-4287-b107-2896ed471c2c div.sk-serial::before {content: \"\";position: absolute;border-left: 1px solid gray;box-sizing: border-box;top: 2em;bottom: 0;left: 50%;}#sk-58154ce1-73e3-4287-b107-2896ed471c2c div.sk-serial {display: flex;flex-direction: column;align-items: center;background-color: white;padding-right: 0.2em;padding-left: 0.2em;}#sk-58154ce1-73e3-4287-b107-2896ed471c2c div.sk-item {z-index: 1;}#sk-58154ce1-73e3-4287-b107-2896ed471c2c div.sk-parallel {display: flex;align-items: stretch;justify-content: center;background-color: white;}#sk-58154ce1-73e3-4287-b107-2896ed471c2c div.sk-parallel::before {content: \"\";position: absolute;border-left: 1px solid gray;box-sizing: border-box;top: 2em;bottom: 0;left: 50%;}#sk-58154ce1-73e3-4287-b107-2896ed471c2c div.sk-parallel-item {display: flex;flex-direction: column;position: relative;background-color: white;}#sk-58154ce1-73e3-4287-b107-2896ed471c2c div.sk-parallel-item:first-child::after {align-self: flex-end;width: 50%;}#sk-58154ce1-73e3-4287-b107-2896ed471c2c div.sk-parallel-item:last-child::after {align-self: flex-start;width: 50%;}#sk-58154ce1-73e3-4287-b107-2896ed471c2c div.sk-parallel-item:only-child::after {width: 0;}#sk-58154ce1-73e3-4287-b107-2896ed471c2c div.sk-dashed-wrapped {border: 1px dashed gray;margin: 0 0.4em 0.5em 0.4em;box-sizing: border-box;padding-bottom: 0.4em;background-color: white;position: relative;}#sk-58154ce1-73e3-4287-b107-2896ed471c2c div.sk-label label {font-family: monospace;font-weight: bold;background-color: white;display: inline-block;line-height: 1.2em;}#sk-58154ce1-73e3-4287-b107-2896ed471c2c div.sk-label-container {position: relative;z-index: 2;text-align: center;}#sk-58154ce1-73e3-4287-b107-2896ed471c2c div.sk-container {/* jupyter's `normalize.less` sets `[hidden] { display: none; }` but bootstrap.min.css set `[hidden] { display: none !important; }` so we also need the `!important` here to be able to override the default hidden behavior on the sphinx rendered scikit-learn.org. See: https://github.com/scikit-learn/scikit-learn/issues/21755 */display: inline-block !important;position: relative;}#sk-58154ce1-73e3-4287-b107-2896ed471c2c div.sk-text-repr-fallback {display: none;}</style><div id=\"sk-58154ce1-73e3-4287-b107-2896ed471c2c\" class=\"sk-top-container\"><div class=\"sk-text-repr-fallback\"><pre>Pipeline(steps=[(&#x27;columntransformer&#x27;,\n",
       "                 ColumnTransformer(remainder=&#x27;passthrough&#x27;,\n",
       "                                   transformers=[(&#x27;cat_tr&#x27;,\n",
       "                                                  OneHotEncoder(handle_unknown=&#x27;ignore&#x27;,\n",
       "                                                                sparse=False),\n",
       "                                                  [&#x27;year&#x27;, &#x27;month&#x27;, &#x27;city&#x27;,\n",
       "                                                   &#x27;store_nbr&#x27;])])),\n",
       "                (&#x27;linearregression&#x27;, LinearRegression())])</pre><b>Please rerun this cell to show the HTML repr or trust the notebook.</b></div><div class=\"sk-container\" hidden><div class=\"sk-item sk-dashed-wrapped\"><div class=\"sk-label-container\"><div class=\"sk-label sk-toggleable\"><input class=\"sk-toggleable__control sk-hidden--visually\" id=\"5b02d2f0-9ab0-490d-8c44-4ed5387f524b\" type=\"checkbox\" ><label for=\"5b02d2f0-9ab0-490d-8c44-4ed5387f524b\" class=\"sk-toggleable__label sk-toggleable__label-arrow\">Pipeline</label><div class=\"sk-toggleable__content\"><pre>Pipeline(steps=[(&#x27;columntransformer&#x27;,\n",
       "                 ColumnTransformer(remainder=&#x27;passthrough&#x27;,\n",
       "                                   transformers=[(&#x27;cat_tr&#x27;,\n",
       "                                                  OneHotEncoder(handle_unknown=&#x27;ignore&#x27;,\n",
       "                                                                sparse=False),\n",
       "                                                  [&#x27;year&#x27;, &#x27;month&#x27;, &#x27;city&#x27;,\n",
       "                                                   &#x27;store_nbr&#x27;])])),\n",
       "                (&#x27;linearregression&#x27;, LinearRegression())])</pre></div></div></div><div class=\"sk-serial\"><div class=\"sk-item sk-dashed-wrapped\"><div class=\"sk-label-container\"><div class=\"sk-label sk-toggleable\"><input class=\"sk-toggleable__control sk-hidden--visually\" id=\"a7f84065-b925-4858-8b39-e4338ddd0a62\" type=\"checkbox\" ><label for=\"a7f84065-b925-4858-8b39-e4338ddd0a62\" class=\"sk-toggleable__label sk-toggleable__label-arrow\">columntransformer: ColumnTransformer</label><div class=\"sk-toggleable__content\"><pre>ColumnTransformer(remainder=&#x27;passthrough&#x27;,\n",
       "                  transformers=[(&#x27;cat_tr&#x27;,\n",
       "                                 OneHotEncoder(handle_unknown=&#x27;ignore&#x27;,\n",
       "                                               sparse=False),\n",
       "                                 [&#x27;year&#x27;, &#x27;month&#x27;, &#x27;city&#x27;, &#x27;store_nbr&#x27;])])</pre></div></div></div><div class=\"sk-parallel\"><div class=\"sk-parallel-item\"><div class=\"sk-item\"><div class=\"sk-label-container\"><div class=\"sk-label sk-toggleable\"><input class=\"sk-toggleable__control sk-hidden--visually\" id=\"07d7f3fd-47d6-4d1d-b917-660b575bb7c5\" type=\"checkbox\" ><label for=\"07d7f3fd-47d6-4d1d-b917-660b575bb7c5\" class=\"sk-toggleable__label sk-toggleable__label-arrow\">cat_tr</label><div class=\"sk-toggleable__content\"><pre>[&#x27;year&#x27;, &#x27;month&#x27;, &#x27;city&#x27;, &#x27;store_nbr&#x27;]</pre></div></div></div><div class=\"sk-serial\"><div class=\"sk-item\"><div class=\"sk-estimator sk-toggleable\"><input class=\"sk-toggleable__control sk-hidden--visually\" id=\"bc15d1f4-d415-4978-8010-d81574b2ac29\" type=\"checkbox\" ><label for=\"bc15d1f4-d415-4978-8010-d81574b2ac29\" class=\"sk-toggleable__label sk-toggleable__label-arrow\">OneHotEncoder</label><div class=\"sk-toggleable__content\"><pre>OneHotEncoder(handle_unknown=&#x27;ignore&#x27;, sparse=False)</pre></div></div></div></div></div></div><div class=\"sk-parallel-item\"><div class=\"sk-item\"><div class=\"sk-label-container\"><div class=\"sk-label sk-toggleable\"><input class=\"sk-toggleable__control sk-hidden--visually\" id=\"b10abb00-8373-487d-9a1f-4a2ca6d215fd\" type=\"checkbox\" ><label for=\"b10abb00-8373-487d-9a1f-4a2ca6d215fd\" class=\"sk-toggleable__label sk-toggleable__label-arrow\">remainder</label><div class=\"sk-toggleable__content\"><pre>[]</pre></div></div></div><div class=\"sk-serial\"><div class=\"sk-item\"><div class=\"sk-estimator sk-toggleable\"><input class=\"sk-toggleable__control sk-hidden--visually\" id=\"0d1caa66-3cd3-4b59-9ae7-061548c74174\" type=\"checkbox\" ><label for=\"0d1caa66-3cd3-4b59-9ae7-061548c74174\" class=\"sk-toggleable__label sk-toggleable__label-arrow\">passthrough</label><div class=\"sk-toggleable__content\"><pre>passthrough</pre></div></div></div></div></div></div></div></div><div class=\"sk-item\"><div class=\"sk-estimator sk-toggleable\"><input class=\"sk-toggleable__control sk-hidden--visually\" id=\"20a0dbd5-d1f4-42c4-8a7c-81ffa279ce46\" type=\"checkbox\" ><label for=\"20a0dbd5-d1f4-42c4-8a7c-81ffa279ce46\" class=\"sk-toggleable__label sk-toggleable__label-arrow\">LinearRegression</label><div class=\"sk-toggleable__content\"><pre>LinearRegression()</pre></div></div></div></div></div></div></div>"
      ],
      "text/plain": [
       "Pipeline(steps=[('columntransformer',\n",
       "                 ColumnTransformer(remainder='passthrough',\n",
       "                                   transformers=[('cat_tr',\n",
       "                                                  OneHotEncoder(handle_unknown='ignore',\n",
       "                                                                sparse=False),\n",
       "                                                  ['year', 'month', 'city',\n",
       "                                                   'store_nbr'])])),\n",
       "                ('linearregression', LinearRegression())])"
      ]
     },
     "execution_count": 19,
     "metadata": {},
     "output_type": "execute_result"
    }
   ],
   "source": [
    "job = joblib.load('model_store.joblib')\n",
    "job"
   ]
  },
  {
   "cell_type": "code",
   "execution_count": 20,
   "id": "086e0d14",
   "metadata": {},
   "outputs": [
    {
     "data": {
      "text/plain": [
       "0.5993945822656733"
      ]
     },
     "execution_count": 20,
     "metadata": {},
     "output_type": "execute_result"
    }
   ],
   "source": [
    "job.score(X_train,y_train)"
   ]
  },
  {
   "cell_type": "code",
   "execution_count": 21,
   "id": "ace23adc",
   "metadata": {},
   "outputs": [
    {
     "data": {
      "text/plain": [
       "[13.70703125,\n",
       " 14.515625,\n",
       " 14.38671875,\n",
       " 14.5859375,\n",
       " 14.23828125,\n",
       " 14.26953125,\n",
       " 5.87109375,\n",
       " 14.30859375,\n",
       " 13.19921875,\n",
       " 14.1875,\n",
       " 14.29296875,\n",
       " 14.04296875]"
      ]
     },
     "execution_count": 21,
     "metadata": {},
     "output_type": "execute_result"
    }
   ],
   "source": [
    "p = job.predict(X_predict).tolist()\n",
    "p[0:12]"
   ]
  },
  {
   "cell_type": "code",
   "execution_count": 22,
   "id": "f85694e1",
   "metadata": {},
   "outputs": [
    {
     "data": {
      "text/plain": [
       "array([8.97197460e+05, 2.01398318e+06, 1.77040475e+06, 2.16068855e+06,\n",
       "       1.52618429e+06, 1.57463058e+06, 3.54640000e+02, 1.63735673e+06,\n",
       "       5.39942940e+05, 1.45061767e+06, 1.61197187e+06, 1.25540495e+06])"
      ]
     },
     "execution_count": 22,
     "metadata": {},
     "output_type": "execute_result"
    }
   ],
   "source": [
    "p = [np.around(np.exp(i),decimals=2) for i in p]\n",
    "p = np.array(p) \n",
    "p[0:12]"
   ]
  },
  {
   "cell_type": "code",
   "execution_count": 23,
   "id": "164c79d2",
   "metadata": {},
   "outputs": [
    {
     "data": {
      "text/plain": [
       "{'sales_baseline_year': {'1': 897197.46,\n",
       "  '2': 2013983.18,\n",
       "  '3': 1770404.75,\n",
       "  '4': 2160688.55,\n",
       "  '5': 1526184.29,\n",
       "  '6': 1574630.58,\n",
       "  '7': 354.64,\n",
       "  '8': 1637356.73,\n",
       "  '9': 539942.94,\n",
       "  '10': 1450617.67,\n",
       "  '11': 1611971.87,\n",
       "  '12': 1255404.95}}"
      ]
     },
     "execution_count": 23,
     "metadata": {},
     "output_type": "execute_result"
    }
   ],
   "source": [
    "year=['2017','2017','2017','2017','2017','2017','2017','2017','2017','2017','2017','2017']\n",
    "month=['8','8','8','8','8','8','8','8','8','8','8','8']\n",
    "city=['Ambato','Ambato','Babahoyo','Cayambe','Cuenca','Cuenca','Cuenca','Daule','El Carmen','Esmeraldas','Guaranda','Guayaquil']\n",
    "store_nbr=['23', '50', '31', '11', '37', '39', '42', '27', '54', '43', '19', '24']\n",
    "\n",
    "url = 'http://127.0.0.1:8000/predict-store-year'\n",
    "params = {\n",
    "    'year': year,\n",
    "    'month': month,\n",
    "    'city': city,\n",
    "    'store_nbr': store_nbr\n",
    "}\n",
    "\n",
    "response = requests.get(url, params=params)\n",
    "response.json()"
   ]
  },
  {
   "cell_type": "markdown",
   "id": "0805cb57",
   "metadata": {},
   "source": [
    "# Train Model (Family L3)"
   ]
  },
  {
   "cell_type": "code",
   "execution_count": 24,
   "id": "e3c5c391",
   "metadata": {},
   "outputs": [],
   "source": [
    "X_train, y_train, X_predict, pipe, preprocessor = TrainFamily()"
   ]
  },
  {
   "cell_type": "code",
   "execution_count": 25,
   "id": "9c6673bf",
   "metadata": {
    "scrolled": true
   },
   "outputs": [
    {
     "data": {
      "text/html": [
       "<div>\n",
       "<style scoped>\n",
       "    .dataframe tbody tr th:only-of-type {\n",
       "        vertical-align: middle;\n",
       "    }\n",
       "\n",
       "    .dataframe tbody tr th {\n",
       "        vertical-align: top;\n",
       "    }\n",
       "\n",
       "    .dataframe thead th {\n",
       "        text-align: right;\n",
       "    }\n",
       "</style>\n",
       "<table border=\"1\" class=\"dataframe\">\n",
       "  <thead>\n",
       "    <tr style=\"text-align: right;\">\n",
       "      <th></th>\n",
       "      <th>year</th>\n",
       "      <th>month</th>\n",
       "      <th>city</th>\n",
       "      <th>store_nbr</th>\n",
       "      <th>family</th>\n",
       "    </tr>\n",
       "  </thead>\n",
       "  <tbody>\n",
       "    <tr>\n",
       "      <th>0</th>\n",
       "      <td>2017</td>\n",
       "      <td>8</td>\n",
       "      <td>Ambato</td>\n",
       "      <td>23</td>\n",
       "      <td>AUTOMOTIVE</td>\n",
       "    </tr>\n",
       "    <tr>\n",
       "      <th>1</th>\n",
       "      <td>2017</td>\n",
       "      <td>8</td>\n",
       "      <td>Ambato</td>\n",
       "      <td>23</td>\n",
       "      <td>BABY CARE</td>\n",
       "    </tr>\n",
       "    <tr>\n",
       "      <th>2</th>\n",
       "      <td>2017</td>\n",
       "      <td>8</td>\n",
       "      <td>Ambato</td>\n",
       "      <td>23</td>\n",
       "      <td>BEAUTY</td>\n",
       "    </tr>\n",
       "    <tr>\n",
       "      <th>3</th>\n",
       "      <td>2017</td>\n",
       "      <td>8</td>\n",
       "      <td>Ambato</td>\n",
       "      <td>23</td>\n",
       "      <td>BEVERAGES</td>\n",
       "    </tr>\n",
       "    <tr>\n",
       "      <th>4</th>\n",
       "      <td>2017</td>\n",
       "      <td>8</td>\n",
       "      <td>Ambato</td>\n",
       "      <td>23</td>\n",
       "      <td>BOOKS</td>\n",
       "    </tr>\n",
       "    <tr>\n",
       "      <th>5</th>\n",
       "      <td>2017</td>\n",
       "      <td>8</td>\n",
       "      <td>Ambato</td>\n",
       "      <td>23</td>\n",
       "      <td>BREAD/BAKERY</td>\n",
       "    </tr>\n",
       "    <tr>\n",
       "      <th>6</th>\n",
       "      <td>2017</td>\n",
       "      <td>8</td>\n",
       "      <td>Ambato</td>\n",
       "      <td>23</td>\n",
       "      <td>CELEBRATION</td>\n",
       "    </tr>\n",
       "    <tr>\n",
       "      <th>7</th>\n",
       "      <td>2017</td>\n",
       "      <td>8</td>\n",
       "      <td>Ambato</td>\n",
       "      <td>23</td>\n",
       "      <td>CLEANING</td>\n",
       "    </tr>\n",
       "    <tr>\n",
       "      <th>8</th>\n",
       "      <td>2017</td>\n",
       "      <td>8</td>\n",
       "      <td>Ambato</td>\n",
       "      <td>23</td>\n",
       "      <td>DAIRY</td>\n",
       "    </tr>\n",
       "    <tr>\n",
       "      <th>9</th>\n",
       "      <td>2017</td>\n",
       "      <td>8</td>\n",
       "      <td>Ambato</td>\n",
       "      <td>23</td>\n",
       "      <td>DELI</td>\n",
       "    </tr>\n",
       "    <tr>\n",
       "      <th>10</th>\n",
       "      <td>2017</td>\n",
       "      <td>8</td>\n",
       "      <td>Ambato</td>\n",
       "      <td>23</td>\n",
       "      <td>EGGS</td>\n",
       "    </tr>\n",
       "    <tr>\n",
       "      <th>11</th>\n",
       "      <td>2017</td>\n",
       "      <td>8</td>\n",
       "      <td>Ambato</td>\n",
       "      <td>23</td>\n",
       "      <td>FROZEN FOODS</td>\n",
       "    </tr>\n",
       "  </tbody>\n",
       "</table>\n",
       "</div>"
      ],
      "text/plain": [
       "    year  month    city  store_nbr        family\n",
       "0   2017      8  Ambato         23    AUTOMOTIVE\n",
       "1   2017      8  Ambato         23     BABY CARE\n",
       "2   2017      8  Ambato         23        BEAUTY\n",
       "3   2017      8  Ambato         23     BEVERAGES\n",
       "4   2017      8  Ambato         23         BOOKS\n",
       "5   2017      8  Ambato         23  BREAD/BAKERY\n",
       "6   2017      8  Ambato         23   CELEBRATION\n",
       "7   2017      8  Ambato         23      CLEANING\n",
       "8   2017      8  Ambato         23         DAIRY\n",
       "9   2017      8  Ambato         23          DELI\n",
       "10  2017      8  Ambato         23          EGGS\n",
       "11  2017      8  Ambato         23  FROZEN FOODS"
      ]
     },
     "execution_count": 25,
     "metadata": {},
     "output_type": "execute_result"
    }
   ],
   "source": [
    "X_predict.head(12)"
   ]
  },
  {
   "cell_type": "code",
   "execution_count": 26,
   "id": "11f60d00",
   "metadata": {},
   "outputs": [
    {
     "data": {
      "text/plain": [
       "['AUTOMOTIVE',\n",
       " 'BABY CARE',\n",
       " 'BEAUTY',\n",
       " 'BEVERAGES',\n",
       " 'BOOKS',\n",
       " 'BREAD/BAKERY',\n",
       " 'CELEBRATION',\n",
       " 'CLEANING',\n",
       " 'DAIRY',\n",
       " 'DELI',\n",
       " 'EGGS',\n",
       " 'FROZEN FOODS']"
      ]
     },
     "execution_count": 26,
     "metadata": {},
     "output_type": "execute_result"
    }
   ],
   "source": [
    "X_predict.head(12)['family'].tolist()"
   ]
  },
  {
   "cell_type": "code",
   "execution_count": 27,
   "id": "1270cd71",
   "metadata": {},
   "outputs": [
    {
     "data": {
      "text/html": [
       "<style>#sk-a0f80b6e-15e9-4065-bd94-235c178be579 {color: black;background-color: white;}#sk-a0f80b6e-15e9-4065-bd94-235c178be579 pre{padding: 0;}#sk-a0f80b6e-15e9-4065-bd94-235c178be579 div.sk-toggleable {background-color: white;}#sk-a0f80b6e-15e9-4065-bd94-235c178be579 label.sk-toggleable__label {cursor: pointer;display: block;width: 100%;margin-bottom: 0;padding: 0.3em;box-sizing: border-box;text-align: center;}#sk-a0f80b6e-15e9-4065-bd94-235c178be579 label.sk-toggleable__label-arrow:before {content: \"▸\";float: left;margin-right: 0.25em;color: #696969;}#sk-a0f80b6e-15e9-4065-bd94-235c178be579 label.sk-toggleable__label-arrow:hover:before {color: black;}#sk-a0f80b6e-15e9-4065-bd94-235c178be579 div.sk-estimator:hover label.sk-toggleable__label-arrow:before {color: black;}#sk-a0f80b6e-15e9-4065-bd94-235c178be579 div.sk-toggleable__content {max-height: 0;max-width: 0;overflow: hidden;text-align: left;background-color: #f0f8ff;}#sk-a0f80b6e-15e9-4065-bd94-235c178be579 div.sk-toggleable__content pre {margin: 0.2em;color: black;border-radius: 0.25em;background-color: #f0f8ff;}#sk-a0f80b6e-15e9-4065-bd94-235c178be579 input.sk-toggleable__control:checked~div.sk-toggleable__content {max-height: 200px;max-width: 100%;overflow: auto;}#sk-a0f80b6e-15e9-4065-bd94-235c178be579 input.sk-toggleable__control:checked~label.sk-toggleable__label-arrow:before {content: \"▾\";}#sk-a0f80b6e-15e9-4065-bd94-235c178be579 div.sk-estimator input.sk-toggleable__control:checked~label.sk-toggleable__label {background-color: #d4ebff;}#sk-a0f80b6e-15e9-4065-bd94-235c178be579 div.sk-label input.sk-toggleable__control:checked~label.sk-toggleable__label {background-color: #d4ebff;}#sk-a0f80b6e-15e9-4065-bd94-235c178be579 input.sk-hidden--visually {border: 0;clip: rect(1px 1px 1px 1px);clip: rect(1px, 1px, 1px, 1px);height: 1px;margin: -1px;overflow: hidden;padding: 0;position: absolute;width: 1px;}#sk-a0f80b6e-15e9-4065-bd94-235c178be579 div.sk-estimator {font-family: monospace;background-color: #f0f8ff;border: 1px dotted black;border-radius: 0.25em;box-sizing: border-box;margin-bottom: 0.5em;}#sk-a0f80b6e-15e9-4065-bd94-235c178be579 div.sk-estimator:hover {background-color: #d4ebff;}#sk-a0f80b6e-15e9-4065-bd94-235c178be579 div.sk-parallel-item::after {content: \"\";width: 100%;border-bottom: 1px solid gray;flex-grow: 1;}#sk-a0f80b6e-15e9-4065-bd94-235c178be579 div.sk-label:hover label.sk-toggleable__label {background-color: #d4ebff;}#sk-a0f80b6e-15e9-4065-bd94-235c178be579 div.sk-serial::before {content: \"\";position: absolute;border-left: 1px solid gray;box-sizing: border-box;top: 2em;bottom: 0;left: 50%;}#sk-a0f80b6e-15e9-4065-bd94-235c178be579 div.sk-serial {display: flex;flex-direction: column;align-items: center;background-color: white;padding-right: 0.2em;padding-left: 0.2em;}#sk-a0f80b6e-15e9-4065-bd94-235c178be579 div.sk-item {z-index: 1;}#sk-a0f80b6e-15e9-4065-bd94-235c178be579 div.sk-parallel {display: flex;align-items: stretch;justify-content: center;background-color: white;}#sk-a0f80b6e-15e9-4065-bd94-235c178be579 div.sk-parallel::before {content: \"\";position: absolute;border-left: 1px solid gray;box-sizing: border-box;top: 2em;bottom: 0;left: 50%;}#sk-a0f80b6e-15e9-4065-bd94-235c178be579 div.sk-parallel-item {display: flex;flex-direction: column;position: relative;background-color: white;}#sk-a0f80b6e-15e9-4065-bd94-235c178be579 div.sk-parallel-item:first-child::after {align-self: flex-end;width: 50%;}#sk-a0f80b6e-15e9-4065-bd94-235c178be579 div.sk-parallel-item:last-child::after {align-self: flex-start;width: 50%;}#sk-a0f80b6e-15e9-4065-bd94-235c178be579 div.sk-parallel-item:only-child::after {width: 0;}#sk-a0f80b6e-15e9-4065-bd94-235c178be579 div.sk-dashed-wrapped {border: 1px dashed gray;margin: 0 0.4em 0.5em 0.4em;box-sizing: border-box;padding-bottom: 0.4em;background-color: white;position: relative;}#sk-a0f80b6e-15e9-4065-bd94-235c178be579 div.sk-label label {font-family: monospace;font-weight: bold;background-color: white;display: inline-block;line-height: 1.2em;}#sk-a0f80b6e-15e9-4065-bd94-235c178be579 div.sk-label-container {position: relative;z-index: 2;text-align: center;}#sk-a0f80b6e-15e9-4065-bd94-235c178be579 div.sk-container {/* jupyter's `normalize.less` sets `[hidden] { display: none; }` but bootstrap.min.css set `[hidden] { display: none !important; }` so we also need the `!important` here to be able to override the default hidden behavior on the sphinx rendered scikit-learn.org. See: https://github.com/scikit-learn/scikit-learn/issues/21755 */display: inline-block !important;position: relative;}#sk-a0f80b6e-15e9-4065-bd94-235c178be579 div.sk-text-repr-fallback {display: none;}</style><div id=\"sk-a0f80b6e-15e9-4065-bd94-235c178be579\" class=\"sk-top-container\"><div class=\"sk-text-repr-fallback\"><pre>Pipeline(steps=[(&#x27;columntransformer&#x27;,\n",
       "                 ColumnTransformer(remainder=&#x27;passthrough&#x27;,\n",
       "                                   transformers=[(&#x27;cat_tr&#x27;,\n",
       "                                                  OneHotEncoder(handle_unknown=&#x27;ignore&#x27;,\n",
       "                                                                sparse=False),\n",
       "                                                  [&#x27;year&#x27;, &#x27;month&#x27;, &#x27;city&#x27;,\n",
       "                                                   &#x27;store_nbr&#x27;, &#x27;family&#x27;])])),\n",
       "                (&#x27;linearregression&#x27;, LinearRegression())])</pre><b>Please rerun this cell to show the HTML repr or trust the notebook.</b></div><div class=\"sk-container\" hidden><div class=\"sk-item sk-dashed-wrapped\"><div class=\"sk-label-container\"><div class=\"sk-label sk-toggleable\"><input class=\"sk-toggleable__control sk-hidden--visually\" id=\"447a5825-5161-4ea4-90b0-8485762808bf\" type=\"checkbox\" ><label for=\"447a5825-5161-4ea4-90b0-8485762808bf\" class=\"sk-toggleable__label sk-toggleable__label-arrow\">Pipeline</label><div class=\"sk-toggleable__content\"><pre>Pipeline(steps=[(&#x27;columntransformer&#x27;,\n",
       "                 ColumnTransformer(remainder=&#x27;passthrough&#x27;,\n",
       "                                   transformers=[(&#x27;cat_tr&#x27;,\n",
       "                                                  OneHotEncoder(handle_unknown=&#x27;ignore&#x27;,\n",
       "                                                                sparse=False),\n",
       "                                                  [&#x27;year&#x27;, &#x27;month&#x27;, &#x27;city&#x27;,\n",
       "                                                   &#x27;store_nbr&#x27;, &#x27;family&#x27;])])),\n",
       "                (&#x27;linearregression&#x27;, LinearRegression())])</pre></div></div></div><div class=\"sk-serial\"><div class=\"sk-item sk-dashed-wrapped\"><div class=\"sk-label-container\"><div class=\"sk-label sk-toggleable\"><input class=\"sk-toggleable__control sk-hidden--visually\" id=\"52faf0f1-dd16-4bab-b88f-0d0a2a612a97\" type=\"checkbox\" ><label for=\"52faf0f1-dd16-4bab-b88f-0d0a2a612a97\" class=\"sk-toggleable__label sk-toggleable__label-arrow\">columntransformer: ColumnTransformer</label><div class=\"sk-toggleable__content\"><pre>ColumnTransformer(remainder=&#x27;passthrough&#x27;,\n",
       "                  transformers=[(&#x27;cat_tr&#x27;,\n",
       "                                 OneHotEncoder(handle_unknown=&#x27;ignore&#x27;,\n",
       "                                               sparse=False),\n",
       "                                 [&#x27;year&#x27;, &#x27;month&#x27;, &#x27;city&#x27;, &#x27;store_nbr&#x27;,\n",
       "                                  &#x27;family&#x27;])])</pre></div></div></div><div class=\"sk-parallel\"><div class=\"sk-parallel-item\"><div class=\"sk-item\"><div class=\"sk-label-container\"><div class=\"sk-label sk-toggleable\"><input class=\"sk-toggleable__control sk-hidden--visually\" id=\"96ee0b75-8d31-49aa-9e09-f7bd10d981cf\" type=\"checkbox\" ><label for=\"96ee0b75-8d31-49aa-9e09-f7bd10d981cf\" class=\"sk-toggleable__label sk-toggleable__label-arrow\">cat_tr</label><div class=\"sk-toggleable__content\"><pre>[&#x27;year&#x27;, &#x27;month&#x27;, &#x27;city&#x27;, &#x27;store_nbr&#x27;, &#x27;family&#x27;]</pre></div></div></div><div class=\"sk-serial\"><div class=\"sk-item\"><div class=\"sk-estimator sk-toggleable\"><input class=\"sk-toggleable__control sk-hidden--visually\" id=\"bd6de841-2533-41dc-be95-94e14ced1314\" type=\"checkbox\" ><label for=\"bd6de841-2533-41dc-be95-94e14ced1314\" class=\"sk-toggleable__label sk-toggleable__label-arrow\">OneHotEncoder</label><div class=\"sk-toggleable__content\"><pre>OneHotEncoder(handle_unknown=&#x27;ignore&#x27;, sparse=False)</pre></div></div></div></div></div></div><div class=\"sk-parallel-item\"><div class=\"sk-item\"><div class=\"sk-label-container\"><div class=\"sk-label sk-toggleable\"><input class=\"sk-toggleable__control sk-hidden--visually\" id=\"9a796386-809d-4bc5-96f9-effffd36fd83\" type=\"checkbox\" ><label for=\"9a796386-809d-4bc5-96f9-effffd36fd83\" class=\"sk-toggleable__label sk-toggleable__label-arrow\">remainder</label><div class=\"sk-toggleable__content\"><pre>[]</pre></div></div></div><div class=\"sk-serial\"><div class=\"sk-item\"><div class=\"sk-estimator sk-toggleable\"><input class=\"sk-toggleable__control sk-hidden--visually\" id=\"16ef0e83-ce09-4e49-b9dd-213ede083572\" type=\"checkbox\" ><label for=\"16ef0e83-ce09-4e49-b9dd-213ede083572\" class=\"sk-toggleable__label sk-toggleable__label-arrow\">passthrough</label><div class=\"sk-toggleable__content\"><pre>passthrough</pre></div></div></div></div></div></div></div></div><div class=\"sk-item\"><div class=\"sk-estimator sk-toggleable\"><input class=\"sk-toggleable__control sk-hidden--visually\" id=\"4ca73904-e0fb-436e-91c7-35fb635cca10\" type=\"checkbox\" ><label for=\"4ca73904-e0fb-436e-91c7-35fb635cca10\" class=\"sk-toggleable__label sk-toggleable__label-arrow\">LinearRegression</label><div class=\"sk-toggleable__content\"><pre>LinearRegression()</pre></div></div></div></div></div></div></div>"
      ],
      "text/plain": [
       "Pipeline(steps=[('columntransformer',\n",
       "                 ColumnTransformer(remainder='passthrough',\n",
       "                                   transformers=[('cat_tr',\n",
       "                                                  OneHotEncoder(handle_unknown='ignore',\n",
       "                                                                sparse=False),\n",
       "                                                  ['year', 'month', 'city',\n",
       "                                                   'store_nbr', 'family'])])),\n",
       "                ('linearregression', LinearRegression())])"
      ]
     },
     "execution_count": 27,
     "metadata": {},
     "output_type": "execute_result"
    }
   ],
   "source": [
    "job = joblib.load('model_family.joblib')\n",
    "job"
   ]
  },
  {
   "cell_type": "code",
   "execution_count": 28,
   "id": "7182849e",
   "metadata": {},
   "outputs": [
    {
     "data": {
      "text/plain": [
       "0.6916893767585824"
      ]
     },
     "execution_count": 28,
     "metadata": {},
     "output_type": "execute_result"
    }
   ],
   "source": [
    "job.score(X_train,y_train)"
   ]
  },
  {
   "cell_type": "code",
   "execution_count": 29,
   "id": "9c9544cb",
   "metadata": {},
   "outputs": [
    {
     "data": {
      "text/plain": [
       "[6.328125,\n",
       " 0.46484375,\n",
       " 5.611328125,\n",
       " 11.791015625,\n",
       " -0.12890625,\n",
       " 10.3271484375,\n",
       " 4.224609375,\n",
       " 11.20703125,\n",
       " 10.646484375,\n",
       " 9.849609375,\n",
       " 9.408203125,\n",
       " 9.044921875]"
      ]
     },
     "execution_count": 29,
     "metadata": {},
     "output_type": "execute_result"
    }
   ],
   "source": [
    "p = job.predict(X_predict).tolist()\n",
    "p[0:12]"
   ]
  },
  {
   "cell_type": "code",
   "execution_count": 30,
   "id": "41fbdef3",
   "metadata": {
    "scrolled": false
   },
   "outputs": [
    {
     "data": {
      "text/plain": [
       "array([5.6011000e+02, 1.5900000e+00, 2.7351000e+02, 1.3206053e+05,\n",
       "       8.8000000e-01, 3.0550870e+04, 6.8350000e+01, 7.3646450e+04,\n",
       "       4.2044520e+04, 1.8950950e+04, 1.2187950e+04, 8.4753900e+03])"
      ]
     },
     "execution_count": 30,
     "metadata": {},
     "output_type": "execute_result"
    }
   ],
   "source": [
    "p = [np.around(np.exp(i),decimals=2) for i in p]\n",
    "p = np.array(p) \n",
    "p[0:12]"
   ]
  },
  {
   "cell_type": "code",
   "execution_count": 31,
   "id": "f6309511",
   "metadata": {},
   "outputs": [
    {
     "data": {
      "text/plain": [
       "{'sales_baseline_year': {'1': 560.11,\n",
       "  '2': 1.59,\n",
       "  '3': 273.51,\n",
       "  '4': 132060.53,\n",
       "  '5': 0.88,\n",
       "  '6': 30550.87,\n",
       "  '7': 68.35,\n",
       "  '8': 73646.45,\n",
       "  '9': 42044.52,\n",
       "  '10': 18950.95,\n",
       "  '11': 12187.95,\n",
       "  '12': 8475.39}}"
      ]
     },
     "execution_count": 31,
     "metadata": {},
     "output_type": "execute_result"
    }
   ],
   "source": [
    "year=['2017','2017','2017','2017','2017','2017','2017','2017','2017','2017','2017','2017']\n",
    "month=['8','8','8','8','8','8','8','8','8','8','8','8']\n",
    "city=['Ambato','Ambato','Ambato','Ambato','Ambato','Ambato','Ambato','Ambato','Ambato','Ambato','Ambato','Ambato']\n",
    "store_nbr=['23','23','23','23','23','23','23','23','23','23','23','23']\n",
    "family = ['AUTOMOTIVE', 'BABY CARE', 'BEAUTY', 'BEVERAGES', 'BOOKS', 'BREAD/BAKERY', 'CELEBRATION', 'CLEANING', 'DAIRY', 'DELI', 'EGGS', 'FROZEN FOODS']\n",
    "\n",
    "url = 'http://127.0.0.1:8000/predict-family-year'\n",
    "params = {\n",
    "    'year': year,\n",
    "    'month': month,\n",
    "    'city': city,\n",
    "    'store_nbr': store_nbr,\n",
    "    'family': family\n",
    "}\n",
    "\n",
    "response = requests.get(url, params=params)\n",
    "response.json()"
   ]
  }
 ],
 "metadata": {
  "kernelspec": {
   "display_name": "Python 3 (ipykernel)",
   "language": "python",
   "name": "python3"
  },
  "language_info": {
   "codemirror_mode": {
    "name": "ipython",
    "version": 3
   },
   "file_extension": ".py",
   "mimetype": "text/x-python",
   "name": "python",
   "nbconvert_exporter": "python",
   "pygments_lexer": "ipython3",
   "version": "3.8.12"
  },
  "toc": {
   "base_numbering": 1,
   "nav_menu": {},
   "number_sections": true,
   "sideBar": true,
   "skip_h1_title": false,
   "title_cell": "Table of Contents",
   "title_sidebar": "Contents",
   "toc_cell": false,
   "toc_position": {},
   "toc_section_display": true,
   "toc_window_display": false
  }
 },
 "nbformat": 4,
 "nbformat_minor": 5
}
