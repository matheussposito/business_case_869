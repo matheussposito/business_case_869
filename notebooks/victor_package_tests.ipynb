{
 "cells": [
  {
   "cell_type": "code",
   "execution_count": 1,
   "id": "d99648e5",
   "metadata": {},
   "outputs": [],
   "source": [
    "%load_ext autoreload\n",
    "%autoreload 2"
   ]
  },
  {
   "cell_type": "code",
   "execution_count": 2,
   "id": "1116ffd1",
   "metadata": {},
   "outputs": [],
   "source": [
    "from sklearn import set_config; set_config(display='diagram')\n",
    "from package.etl import *\n",
    "from package.train_baseline import TrainBaseline\n",
    "from package.train_city import TrainCity\n",
    "from package.train_store import TrainStore\n",
    "from package.train_family import TrainFamily\n",
    "import pandas as pd\n",
    "import numpy as np\n",
    "import requests\n",
    "import joblib\n",
    "import json"
   ]
  },
  {
   "cell_type": "markdown",
   "id": "65ea4608",
   "metadata": {},
   "source": [
    "# Train Baseline (Original)"
   ]
  },
  {
   "cell_type": "code",
   "execution_count": 3,
   "id": "21b8fd99",
   "metadata": {},
   "outputs": [],
   "source": [
    "X_train, y_train, X_predict, pipe, preprocessor = TrainBaseline()"
   ]
  },
  {
   "cell_type": "code",
   "execution_count": 4,
   "id": "44e6ad0d",
   "metadata": {
    "scrolled": true
   },
   "outputs": [
    {
     "data": {
      "text/html": [
       "<div>\n",
       "<style scoped>\n",
       "    .dataframe tbody tr th:only-of-type {\n",
       "        vertical-align: middle;\n",
       "    }\n",
       "\n",
       "    .dataframe tbody tr th {\n",
       "        vertical-align: top;\n",
       "    }\n",
       "\n",
       "    .dataframe thead th {\n",
       "        text-align: right;\n",
       "    }\n",
       "</style>\n",
       "<table border=\"1\" class=\"dataframe\">\n",
       "  <thead>\n",
       "    <tr style=\"text-align: right;\">\n",
       "      <th></th>\n",
       "      <th>year</th>\n",
       "      <th>month</th>\n",
       "      <th>family</th>\n",
       "      <th>store_nbr</th>\n",
       "      <th>onpromotion</th>\n",
       "    </tr>\n",
       "  </thead>\n",
       "  <tbody>\n",
       "    <tr>\n",
       "      <th>0</th>\n",
       "      <td>2017</td>\n",
       "      <td>8</td>\n",
       "      <td>AUTOMOTIVE</td>\n",
       "      <td>1</td>\n",
       "      <td>0</td>\n",
       "    </tr>\n",
       "    <tr>\n",
       "      <th>1</th>\n",
       "      <td>2017</td>\n",
       "      <td>8</td>\n",
       "      <td>AUTOMOTIVE</td>\n",
       "      <td>2</td>\n",
       "      <td>0</td>\n",
       "    </tr>\n",
       "    <tr>\n",
       "      <th>2</th>\n",
       "      <td>2017</td>\n",
       "      <td>8</td>\n",
       "      <td>AUTOMOTIVE</td>\n",
       "      <td>3</td>\n",
       "      <td>0</td>\n",
       "    </tr>\n",
       "    <tr>\n",
       "      <th>3</th>\n",
       "      <td>2017</td>\n",
       "      <td>8</td>\n",
       "      <td>AUTOMOTIVE</td>\n",
       "      <td>4</td>\n",
       "      <td>0</td>\n",
       "    </tr>\n",
       "    <tr>\n",
       "      <th>4</th>\n",
       "      <td>2017</td>\n",
       "      <td>8</td>\n",
       "      <td>AUTOMOTIVE</td>\n",
       "      <td>5</td>\n",
       "      <td>0</td>\n",
       "    </tr>\n",
       "    <tr>\n",
       "      <th>5</th>\n",
       "      <td>2017</td>\n",
       "      <td>8</td>\n",
       "      <td>AUTOMOTIVE</td>\n",
       "      <td>6</td>\n",
       "      <td>0</td>\n",
       "    </tr>\n",
       "    <tr>\n",
       "      <th>6</th>\n",
       "      <td>2017</td>\n",
       "      <td>8</td>\n",
       "      <td>AUTOMOTIVE</td>\n",
       "      <td>7</td>\n",
       "      <td>0</td>\n",
       "    </tr>\n",
       "    <tr>\n",
       "      <th>7</th>\n",
       "      <td>2017</td>\n",
       "      <td>8</td>\n",
       "      <td>AUTOMOTIVE</td>\n",
       "      <td>8</td>\n",
       "      <td>0</td>\n",
       "    </tr>\n",
       "    <tr>\n",
       "      <th>8</th>\n",
       "      <td>2017</td>\n",
       "      <td>8</td>\n",
       "      <td>AUTOMOTIVE</td>\n",
       "      <td>9</td>\n",
       "      <td>0</td>\n",
       "    </tr>\n",
       "    <tr>\n",
       "      <th>9</th>\n",
       "      <td>2017</td>\n",
       "      <td>8</td>\n",
       "      <td>AUTOMOTIVE</td>\n",
       "      <td>10</td>\n",
       "      <td>2</td>\n",
       "    </tr>\n",
       "    <tr>\n",
       "      <th>10</th>\n",
       "      <td>2017</td>\n",
       "      <td>8</td>\n",
       "      <td>AUTOMOTIVE</td>\n",
       "      <td>11</td>\n",
       "      <td>1</td>\n",
       "    </tr>\n",
       "    <tr>\n",
       "      <th>11</th>\n",
       "      <td>2017</td>\n",
       "      <td>8</td>\n",
       "      <td>AUTOMOTIVE</td>\n",
       "      <td>12</td>\n",
       "      <td>0</td>\n",
       "    </tr>\n",
       "  </tbody>\n",
       "</table>\n",
       "</div>"
      ],
      "text/plain": [
       "    year  month      family  store_nbr  onpromotion\n",
       "0   2017      8  AUTOMOTIVE          1            0\n",
       "1   2017      8  AUTOMOTIVE          2            0\n",
       "2   2017      8  AUTOMOTIVE          3            0\n",
       "3   2017      8  AUTOMOTIVE          4            0\n",
       "4   2017      8  AUTOMOTIVE          5            0\n",
       "5   2017      8  AUTOMOTIVE          6            0\n",
       "6   2017      8  AUTOMOTIVE          7            0\n",
       "7   2017      8  AUTOMOTIVE          8            0\n",
       "8   2017      8  AUTOMOTIVE          9            0\n",
       "9   2017      8  AUTOMOTIVE         10            2\n",
       "10  2017      8  AUTOMOTIVE         11            1\n",
       "11  2017      8  AUTOMOTIVE         12            0"
      ]
     },
     "execution_count": 4,
     "metadata": {},
     "output_type": "execute_result"
    }
   ],
   "source": [
    "X_predict.head(12)"
   ]
  },
  {
   "cell_type": "code",
   "execution_count": 5,
   "id": "62fe2b0c",
   "metadata": {},
   "outputs": [
    {
     "data": {
      "text/html": [
       "<style>#sk-0ac8c728-350b-4762-9583-aae014f629bb {color: black;background-color: white;}#sk-0ac8c728-350b-4762-9583-aae014f629bb pre{padding: 0;}#sk-0ac8c728-350b-4762-9583-aae014f629bb div.sk-toggleable {background-color: white;}#sk-0ac8c728-350b-4762-9583-aae014f629bb label.sk-toggleable__label {cursor: pointer;display: block;width: 100%;margin-bottom: 0;padding: 0.3em;box-sizing: border-box;text-align: center;}#sk-0ac8c728-350b-4762-9583-aae014f629bb label.sk-toggleable__label-arrow:before {content: \"▸\";float: left;margin-right: 0.25em;color: #696969;}#sk-0ac8c728-350b-4762-9583-aae014f629bb label.sk-toggleable__label-arrow:hover:before {color: black;}#sk-0ac8c728-350b-4762-9583-aae014f629bb div.sk-estimator:hover label.sk-toggleable__label-arrow:before {color: black;}#sk-0ac8c728-350b-4762-9583-aae014f629bb div.sk-toggleable__content {max-height: 0;max-width: 0;overflow: hidden;text-align: left;background-color: #f0f8ff;}#sk-0ac8c728-350b-4762-9583-aae014f629bb div.sk-toggleable__content pre {margin: 0.2em;color: black;border-radius: 0.25em;background-color: #f0f8ff;}#sk-0ac8c728-350b-4762-9583-aae014f629bb input.sk-toggleable__control:checked~div.sk-toggleable__content {max-height: 200px;max-width: 100%;overflow: auto;}#sk-0ac8c728-350b-4762-9583-aae014f629bb input.sk-toggleable__control:checked~label.sk-toggleable__label-arrow:before {content: \"▾\";}#sk-0ac8c728-350b-4762-9583-aae014f629bb div.sk-estimator input.sk-toggleable__control:checked~label.sk-toggleable__label {background-color: #d4ebff;}#sk-0ac8c728-350b-4762-9583-aae014f629bb div.sk-label input.sk-toggleable__control:checked~label.sk-toggleable__label {background-color: #d4ebff;}#sk-0ac8c728-350b-4762-9583-aae014f629bb input.sk-hidden--visually {border: 0;clip: rect(1px 1px 1px 1px);clip: rect(1px, 1px, 1px, 1px);height: 1px;margin: -1px;overflow: hidden;padding: 0;position: absolute;width: 1px;}#sk-0ac8c728-350b-4762-9583-aae014f629bb div.sk-estimator {font-family: monospace;background-color: #f0f8ff;border: 1px dotted black;border-radius: 0.25em;box-sizing: border-box;margin-bottom: 0.5em;}#sk-0ac8c728-350b-4762-9583-aae014f629bb div.sk-estimator:hover {background-color: #d4ebff;}#sk-0ac8c728-350b-4762-9583-aae014f629bb div.sk-parallel-item::after {content: \"\";width: 100%;border-bottom: 1px solid gray;flex-grow: 1;}#sk-0ac8c728-350b-4762-9583-aae014f629bb div.sk-label:hover label.sk-toggleable__label {background-color: #d4ebff;}#sk-0ac8c728-350b-4762-9583-aae014f629bb div.sk-serial::before {content: \"\";position: absolute;border-left: 1px solid gray;box-sizing: border-box;top: 2em;bottom: 0;left: 50%;}#sk-0ac8c728-350b-4762-9583-aae014f629bb div.sk-serial {display: flex;flex-direction: column;align-items: center;background-color: white;padding-right: 0.2em;padding-left: 0.2em;}#sk-0ac8c728-350b-4762-9583-aae014f629bb div.sk-item {z-index: 1;}#sk-0ac8c728-350b-4762-9583-aae014f629bb div.sk-parallel {display: flex;align-items: stretch;justify-content: center;background-color: white;}#sk-0ac8c728-350b-4762-9583-aae014f629bb div.sk-parallel::before {content: \"\";position: absolute;border-left: 1px solid gray;box-sizing: border-box;top: 2em;bottom: 0;left: 50%;}#sk-0ac8c728-350b-4762-9583-aae014f629bb div.sk-parallel-item {display: flex;flex-direction: column;position: relative;background-color: white;}#sk-0ac8c728-350b-4762-9583-aae014f629bb div.sk-parallel-item:first-child::after {align-self: flex-end;width: 50%;}#sk-0ac8c728-350b-4762-9583-aae014f629bb div.sk-parallel-item:last-child::after {align-self: flex-start;width: 50%;}#sk-0ac8c728-350b-4762-9583-aae014f629bb div.sk-parallel-item:only-child::after {width: 0;}#sk-0ac8c728-350b-4762-9583-aae014f629bb div.sk-dashed-wrapped {border: 1px dashed gray;margin: 0 0.4em 0.5em 0.4em;box-sizing: border-box;padding-bottom: 0.4em;background-color: white;position: relative;}#sk-0ac8c728-350b-4762-9583-aae014f629bb div.sk-label label {font-family: monospace;font-weight: bold;background-color: white;display: inline-block;line-height: 1.2em;}#sk-0ac8c728-350b-4762-9583-aae014f629bb div.sk-label-container {position: relative;z-index: 2;text-align: center;}#sk-0ac8c728-350b-4762-9583-aae014f629bb div.sk-container {/* jupyter's `normalize.less` sets `[hidden] { display: none; }` but bootstrap.min.css set `[hidden] { display: none !important; }` so we also need the `!important` here to be able to override the default hidden behavior on the sphinx rendered scikit-learn.org. See: https://github.com/scikit-learn/scikit-learn/issues/21755 */display: inline-block !important;position: relative;}#sk-0ac8c728-350b-4762-9583-aae014f629bb div.sk-text-repr-fallback {display: none;}</style><div id=\"sk-0ac8c728-350b-4762-9583-aae014f629bb\" class=\"sk-top-container\"><div class=\"sk-text-repr-fallback\"><pre>Pipeline(steps=[(&#x27;columntransformer&#x27;,\n",
       "                 ColumnTransformer(remainder=&#x27;passthrough&#x27;,\n",
       "                                   transformers=[(&#x27;cat_tr&#x27;,\n",
       "                                                  OneHotEncoder(handle_unknown=&#x27;ignore&#x27;,\n",
       "                                                                sparse=False),\n",
       "                                                  [&#x27;year&#x27;, &#x27;month&#x27;, &#x27;store_nbr&#x27;,\n",
       "                                                   &#x27;family&#x27;])])),\n",
       "                (&#x27;linearregression&#x27;, LinearRegression())])</pre><b>Please rerun this cell to show the HTML repr or trust the notebook.</b></div><div class=\"sk-container\" hidden><div class=\"sk-item sk-dashed-wrapped\"><div class=\"sk-label-container\"><div class=\"sk-label sk-toggleable\"><input class=\"sk-toggleable__control sk-hidden--visually\" id=\"c64d9ad7-85b8-41df-8118-d17c783695b4\" type=\"checkbox\" ><label for=\"c64d9ad7-85b8-41df-8118-d17c783695b4\" class=\"sk-toggleable__label sk-toggleable__label-arrow\">Pipeline</label><div class=\"sk-toggleable__content\"><pre>Pipeline(steps=[(&#x27;columntransformer&#x27;,\n",
       "                 ColumnTransformer(remainder=&#x27;passthrough&#x27;,\n",
       "                                   transformers=[(&#x27;cat_tr&#x27;,\n",
       "                                                  OneHotEncoder(handle_unknown=&#x27;ignore&#x27;,\n",
       "                                                                sparse=False),\n",
       "                                                  [&#x27;year&#x27;, &#x27;month&#x27;, &#x27;store_nbr&#x27;,\n",
       "                                                   &#x27;family&#x27;])])),\n",
       "                (&#x27;linearregression&#x27;, LinearRegression())])</pre></div></div></div><div class=\"sk-serial\"><div class=\"sk-item sk-dashed-wrapped\"><div class=\"sk-label-container\"><div class=\"sk-label sk-toggleable\"><input class=\"sk-toggleable__control sk-hidden--visually\" id=\"d6c86ee5-a5b4-4a53-9ea1-1ab121897cb9\" type=\"checkbox\" ><label for=\"d6c86ee5-a5b4-4a53-9ea1-1ab121897cb9\" class=\"sk-toggleable__label sk-toggleable__label-arrow\">columntransformer: ColumnTransformer</label><div class=\"sk-toggleable__content\"><pre>ColumnTransformer(remainder=&#x27;passthrough&#x27;,\n",
       "                  transformers=[(&#x27;cat_tr&#x27;,\n",
       "                                 OneHotEncoder(handle_unknown=&#x27;ignore&#x27;,\n",
       "                                               sparse=False),\n",
       "                                 [&#x27;year&#x27;, &#x27;month&#x27;, &#x27;store_nbr&#x27;, &#x27;family&#x27;])])</pre></div></div></div><div class=\"sk-parallel\"><div class=\"sk-parallel-item\"><div class=\"sk-item\"><div class=\"sk-label-container\"><div class=\"sk-label sk-toggleable\"><input class=\"sk-toggleable__control sk-hidden--visually\" id=\"bf2b28ca-d3ce-4992-921d-373185249f7b\" type=\"checkbox\" ><label for=\"bf2b28ca-d3ce-4992-921d-373185249f7b\" class=\"sk-toggleable__label sk-toggleable__label-arrow\">cat_tr</label><div class=\"sk-toggleable__content\"><pre>[&#x27;year&#x27;, &#x27;month&#x27;, &#x27;store_nbr&#x27;, &#x27;family&#x27;]</pre></div></div></div><div class=\"sk-serial\"><div class=\"sk-item\"><div class=\"sk-estimator sk-toggleable\"><input class=\"sk-toggleable__control sk-hidden--visually\" id=\"c0eb0f55-e995-4811-a367-a9f9c8e15fde\" type=\"checkbox\" ><label for=\"c0eb0f55-e995-4811-a367-a9f9c8e15fde\" class=\"sk-toggleable__label sk-toggleable__label-arrow\">OneHotEncoder</label><div class=\"sk-toggleable__content\"><pre>OneHotEncoder(handle_unknown=&#x27;ignore&#x27;, sparse=False)</pre></div></div></div></div></div></div><div class=\"sk-parallel-item\"><div class=\"sk-item\"><div class=\"sk-label-container\"><div class=\"sk-label sk-toggleable\"><input class=\"sk-toggleable__control sk-hidden--visually\" id=\"d7007f2d-1a22-4d1a-9b70-7d97afbea733\" type=\"checkbox\" ><label for=\"d7007f2d-1a22-4d1a-9b70-7d97afbea733\" class=\"sk-toggleable__label sk-toggleable__label-arrow\">remainder</label><div class=\"sk-toggleable__content\"><pre>[&#x27;onpromotion&#x27;]</pre></div></div></div><div class=\"sk-serial\"><div class=\"sk-item\"><div class=\"sk-estimator sk-toggleable\"><input class=\"sk-toggleable__control sk-hidden--visually\" id=\"92e2eab6-ac7f-41f6-b15d-735c90ff5f00\" type=\"checkbox\" ><label for=\"92e2eab6-ac7f-41f6-b15d-735c90ff5f00\" class=\"sk-toggleable__label sk-toggleable__label-arrow\">passthrough</label><div class=\"sk-toggleable__content\"><pre>passthrough</pre></div></div></div></div></div></div></div></div><div class=\"sk-item\"><div class=\"sk-estimator sk-toggleable\"><input class=\"sk-toggleable__control sk-hidden--visually\" id=\"7a674009-a94f-4456-9037-a35651cb3db6\" type=\"checkbox\" ><label for=\"7a674009-a94f-4456-9037-a35651cb3db6\" class=\"sk-toggleable__label sk-toggleable__label-arrow\">LinearRegression</label><div class=\"sk-toggleable__content\"><pre>LinearRegression()</pre></div></div></div></div></div></div></div>"
      ],
      "text/plain": [
       "Pipeline(steps=[('columntransformer',\n",
       "                 ColumnTransformer(remainder='passthrough',\n",
       "                                   transformers=[('cat_tr',\n",
       "                                                  OneHotEncoder(handle_unknown='ignore',\n",
       "                                                                sparse=False),\n",
       "                                                  ['year', 'month', 'store_nbr',\n",
       "                                                   'family'])])),\n",
       "                ('linearregression', LinearRegression())])"
      ]
     },
     "execution_count": 5,
     "metadata": {},
     "output_type": "execute_result"
    }
   ],
   "source": [
    "job = joblib.load('model_baseline.joblib')\n",
    "job"
   ]
  },
  {
   "cell_type": "code",
   "execution_count": 6,
   "id": "6c6fd8c7",
   "metadata": {
    "scrolled": true
   },
   "outputs": [
    {
     "data": {
      "text/plain": [
       "0.6927092577492131"
      ]
     },
     "execution_count": 6,
     "metadata": {},
     "output_type": "execute_result"
    }
   ],
   "source": [
    "job.score(X_train,y_train)"
   ]
  },
  {
   "cell_type": "code",
   "execution_count": 7,
   "id": "59b2eaef",
   "metadata": {},
   "outputs": [
    {
     "data": {
      "text/plain": [
       "[6.706438899040222,\n",
       " 7.0134095549583435,\n",
       " 7.783157706260681,\n",
       " 6.83639532327652,\n",
       " 6.796813130378723,\n",
       " 7.000763237476349,\n",
       " 7.152514815330505,\n",
       " 7.365639269351959,\n",
       " 6.961523175239563,\n",
       " 5.6811699867248535,\n",
       " 6.825519561767578,\n",
       " 5.7159886956214905]"
      ]
     },
     "execution_count": 7,
     "metadata": {},
     "output_type": "execute_result"
    }
   ],
   "source": [
    "p = job.predict(X_predict).tolist()\n",
    "p[0:12]"
   ]
  },
  {
   "cell_type": "code",
   "execution_count": 8,
   "id": "0147f36f",
   "metadata": {
    "scrolled": false
   },
   "outputs": [
    {
     "data": {
      "text/plain": [
       "array([ 817.65, 1111.44, 2399.84,  931.13,  894.99, 1097.47, 1277.31,\n",
       "       1580.73, 1055.24,  293.29,  921.05,  303.68])"
      ]
     },
     "execution_count": 8,
     "metadata": {},
     "output_type": "execute_result"
    }
   ],
   "source": [
    "p = [np.around(np.exp(i),decimals=2) for i in p]\n",
    "p = np.array(p) \n",
    "p[0:12]"
   ]
  },
  {
   "cell_type": "code",
   "execution_count": 9,
   "id": "a6440143",
   "metadata": {},
   "outputs": [
    {
     "data": {
      "text/plain": [
       "{'sales_baseline_year': {'1': 817.65,\n",
       "  '2': 1111.44,\n",
       "  '3': 2399.84,\n",
       "  '4': 931.13,\n",
       "  '5': 894.99,\n",
       "  '6': 1097.47,\n",
       "  '7': 1277.31,\n",
       "  '8': 1580.73,\n",
       "  '9': 1055.24,\n",
       "  '10': 292.93,\n",
       "  '11': 920.48,\n",
       "  '12': 303.68}}"
      ]
     },
     "execution_count": 9,
     "metadata": {},
     "output_type": "execute_result"
    }
   ],
   "source": [
    "year=['2017','2017','2017','2017','2017','2017','2017','2017','2017','2017','2017','2017']\n",
    "month=['8','8','8','8','8','8','8','8','8','8','8','8']\n",
    "family=['AUTOMOTIVE','AUTOMOTIVE','AUTOMOTIVE','AUTOMOTIVE','AUTOMOTIVE','AUTOMOTIVE','AUTOMOTIVE','AUTOMOTIVE','AUTOMOTIVE','AUTOMOTIVE','AUTOMOTIVE','AUTOMOTIVE']\n",
    "store_nbr=['1','2','3','4','5','6','7','8','9','10','11','12']\n",
    "onpromotion=['0','0','0','0','0','0','0','0','0','0','0','0']\n",
    "\n",
    "url = 'https://image-bc869-v2-1-ob6evlacjq-ew.a.run.app/predict-baseline-year'\n",
    "params = {\n",
    "    'year': year,\n",
    "    'month': month,\n",
    "    'family': family,\n",
    "    'store_nbr': store_nbr,\n",
    "    'onpromotion': onpromotion\n",
    "}\n",
    "\n",
    "response = requests.get(url, params=params)\n",
    "response.json() "
   ]
  },
  {
   "cell_type": "markdown",
   "id": "f5993eda",
   "metadata": {},
   "source": [
    "# Train Model (City L1)"
   ]
  },
  {
   "cell_type": "code",
   "execution_count": 10,
   "id": "8bd5b2a1",
   "metadata": {},
   "outputs": [],
   "source": [
    "X_train, y_train, X_predict, pipe, preprocessor = TrainCity()"
   ]
  },
  {
   "cell_type": "code",
   "execution_count": 11,
   "id": "a8110b7e",
   "metadata": {},
   "outputs": [
    {
     "data": {
      "text/html": [
       "<div>\n",
       "<style scoped>\n",
       "    .dataframe tbody tr th:only-of-type {\n",
       "        vertical-align: middle;\n",
       "    }\n",
       "\n",
       "    .dataframe tbody tr th {\n",
       "        vertical-align: top;\n",
       "    }\n",
       "\n",
       "    .dataframe thead th {\n",
       "        text-align: right;\n",
       "    }\n",
       "</style>\n",
       "<table border=\"1\" class=\"dataframe\">\n",
       "  <thead>\n",
       "    <tr style=\"text-align: right;\">\n",
       "      <th></th>\n",
       "      <th>year</th>\n",
       "      <th>month</th>\n",
       "      <th>city</th>\n",
       "    </tr>\n",
       "  </thead>\n",
       "  <tbody>\n",
       "    <tr>\n",
       "      <th>0</th>\n",
       "      <td>2017</td>\n",
       "      <td>8</td>\n",
       "      <td>Ambato</td>\n",
       "    </tr>\n",
       "    <tr>\n",
       "      <th>1</th>\n",
       "      <td>2017</td>\n",
       "      <td>8</td>\n",
       "      <td>Babahoyo</td>\n",
       "    </tr>\n",
       "    <tr>\n",
       "      <th>2</th>\n",
       "      <td>2017</td>\n",
       "      <td>8</td>\n",
       "      <td>Cayambe</td>\n",
       "    </tr>\n",
       "    <tr>\n",
       "      <th>3</th>\n",
       "      <td>2017</td>\n",
       "      <td>8</td>\n",
       "      <td>Cuenca</td>\n",
       "    </tr>\n",
       "    <tr>\n",
       "      <th>4</th>\n",
       "      <td>2017</td>\n",
       "      <td>8</td>\n",
       "      <td>Daule</td>\n",
       "    </tr>\n",
       "    <tr>\n",
       "      <th>5</th>\n",
       "      <td>2017</td>\n",
       "      <td>8</td>\n",
       "      <td>El Carmen</td>\n",
       "    </tr>\n",
       "    <tr>\n",
       "      <th>6</th>\n",
       "      <td>2017</td>\n",
       "      <td>8</td>\n",
       "      <td>Esmeraldas</td>\n",
       "    </tr>\n",
       "    <tr>\n",
       "      <th>7</th>\n",
       "      <td>2017</td>\n",
       "      <td>8</td>\n",
       "      <td>Guaranda</td>\n",
       "    </tr>\n",
       "    <tr>\n",
       "      <th>8</th>\n",
       "      <td>2017</td>\n",
       "      <td>8</td>\n",
       "      <td>Guayaquil</td>\n",
       "    </tr>\n",
       "    <tr>\n",
       "      <th>9</th>\n",
       "      <td>2017</td>\n",
       "      <td>8</td>\n",
       "      <td>Ibarra</td>\n",
       "    </tr>\n",
       "    <tr>\n",
       "      <th>10</th>\n",
       "      <td>2017</td>\n",
       "      <td>8</td>\n",
       "      <td>Latacunga</td>\n",
       "    </tr>\n",
       "    <tr>\n",
       "      <th>11</th>\n",
       "      <td>2017</td>\n",
       "      <td>8</td>\n",
       "      <td>Libertad</td>\n",
       "    </tr>\n",
       "  </tbody>\n",
       "</table>\n",
       "</div>"
      ],
      "text/plain": [
       "    year  month        city\n",
       "0   2017      8      Ambato\n",
       "1   2017      8    Babahoyo\n",
       "2   2017      8     Cayambe\n",
       "3   2017      8      Cuenca\n",
       "4   2017      8       Daule\n",
       "5   2017      8   El Carmen\n",
       "6   2017      8  Esmeraldas\n",
       "7   2017      8    Guaranda\n",
       "8   2017      8   Guayaquil\n",
       "9   2017      8      Ibarra\n",
       "10  2017      8   Latacunga\n",
       "11  2017      8    Libertad"
      ]
     },
     "execution_count": 11,
     "metadata": {},
     "output_type": "execute_result"
    }
   ],
   "source": [
    "X_predict.head(12)"
   ]
  },
  {
   "cell_type": "code",
   "execution_count": 12,
   "id": "5a076bcd",
   "metadata": {},
   "outputs": [
    {
     "data": {
      "text/html": [
       "<style>#sk-badf9d1c-5d70-4f88-98aa-cdd755a02f0e {color: black;background-color: white;}#sk-badf9d1c-5d70-4f88-98aa-cdd755a02f0e pre{padding: 0;}#sk-badf9d1c-5d70-4f88-98aa-cdd755a02f0e div.sk-toggleable {background-color: white;}#sk-badf9d1c-5d70-4f88-98aa-cdd755a02f0e label.sk-toggleable__label {cursor: pointer;display: block;width: 100%;margin-bottom: 0;padding: 0.3em;box-sizing: border-box;text-align: center;}#sk-badf9d1c-5d70-4f88-98aa-cdd755a02f0e label.sk-toggleable__label-arrow:before {content: \"▸\";float: left;margin-right: 0.25em;color: #696969;}#sk-badf9d1c-5d70-4f88-98aa-cdd755a02f0e label.sk-toggleable__label-arrow:hover:before {color: black;}#sk-badf9d1c-5d70-4f88-98aa-cdd755a02f0e div.sk-estimator:hover label.sk-toggleable__label-arrow:before {color: black;}#sk-badf9d1c-5d70-4f88-98aa-cdd755a02f0e div.sk-toggleable__content {max-height: 0;max-width: 0;overflow: hidden;text-align: left;background-color: #f0f8ff;}#sk-badf9d1c-5d70-4f88-98aa-cdd755a02f0e div.sk-toggleable__content pre {margin: 0.2em;color: black;border-radius: 0.25em;background-color: #f0f8ff;}#sk-badf9d1c-5d70-4f88-98aa-cdd755a02f0e input.sk-toggleable__control:checked~div.sk-toggleable__content {max-height: 200px;max-width: 100%;overflow: auto;}#sk-badf9d1c-5d70-4f88-98aa-cdd755a02f0e input.sk-toggleable__control:checked~label.sk-toggleable__label-arrow:before {content: \"▾\";}#sk-badf9d1c-5d70-4f88-98aa-cdd755a02f0e div.sk-estimator input.sk-toggleable__control:checked~label.sk-toggleable__label {background-color: #d4ebff;}#sk-badf9d1c-5d70-4f88-98aa-cdd755a02f0e div.sk-label input.sk-toggleable__control:checked~label.sk-toggleable__label {background-color: #d4ebff;}#sk-badf9d1c-5d70-4f88-98aa-cdd755a02f0e input.sk-hidden--visually {border: 0;clip: rect(1px 1px 1px 1px);clip: rect(1px, 1px, 1px, 1px);height: 1px;margin: -1px;overflow: hidden;padding: 0;position: absolute;width: 1px;}#sk-badf9d1c-5d70-4f88-98aa-cdd755a02f0e div.sk-estimator {font-family: monospace;background-color: #f0f8ff;border: 1px dotted black;border-radius: 0.25em;box-sizing: border-box;margin-bottom: 0.5em;}#sk-badf9d1c-5d70-4f88-98aa-cdd755a02f0e div.sk-estimator:hover {background-color: #d4ebff;}#sk-badf9d1c-5d70-4f88-98aa-cdd755a02f0e div.sk-parallel-item::after {content: \"\";width: 100%;border-bottom: 1px solid gray;flex-grow: 1;}#sk-badf9d1c-5d70-4f88-98aa-cdd755a02f0e div.sk-label:hover label.sk-toggleable__label {background-color: #d4ebff;}#sk-badf9d1c-5d70-4f88-98aa-cdd755a02f0e div.sk-serial::before {content: \"\";position: absolute;border-left: 1px solid gray;box-sizing: border-box;top: 2em;bottom: 0;left: 50%;}#sk-badf9d1c-5d70-4f88-98aa-cdd755a02f0e div.sk-serial {display: flex;flex-direction: column;align-items: center;background-color: white;padding-right: 0.2em;padding-left: 0.2em;}#sk-badf9d1c-5d70-4f88-98aa-cdd755a02f0e div.sk-item {z-index: 1;}#sk-badf9d1c-5d70-4f88-98aa-cdd755a02f0e div.sk-parallel {display: flex;align-items: stretch;justify-content: center;background-color: white;}#sk-badf9d1c-5d70-4f88-98aa-cdd755a02f0e div.sk-parallel::before {content: \"\";position: absolute;border-left: 1px solid gray;box-sizing: border-box;top: 2em;bottom: 0;left: 50%;}#sk-badf9d1c-5d70-4f88-98aa-cdd755a02f0e div.sk-parallel-item {display: flex;flex-direction: column;position: relative;background-color: white;}#sk-badf9d1c-5d70-4f88-98aa-cdd755a02f0e div.sk-parallel-item:first-child::after {align-self: flex-end;width: 50%;}#sk-badf9d1c-5d70-4f88-98aa-cdd755a02f0e div.sk-parallel-item:last-child::after {align-self: flex-start;width: 50%;}#sk-badf9d1c-5d70-4f88-98aa-cdd755a02f0e div.sk-parallel-item:only-child::after {width: 0;}#sk-badf9d1c-5d70-4f88-98aa-cdd755a02f0e div.sk-dashed-wrapped {border: 1px dashed gray;margin: 0 0.4em 0.5em 0.4em;box-sizing: border-box;padding-bottom: 0.4em;background-color: white;position: relative;}#sk-badf9d1c-5d70-4f88-98aa-cdd755a02f0e div.sk-label label {font-family: monospace;font-weight: bold;background-color: white;display: inline-block;line-height: 1.2em;}#sk-badf9d1c-5d70-4f88-98aa-cdd755a02f0e div.sk-label-container {position: relative;z-index: 2;text-align: center;}#sk-badf9d1c-5d70-4f88-98aa-cdd755a02f0e div.sk-container {/* jupyter's `normalize.less` sets `[hidden] { display: none; }` but bootstrap.min.css set `[hidden] { display: none !important; }` so we also need the `!important` here to be able to override the default hidden behavior on the sphinx rendered scikit-learn.org. See: https://github.com/scikit-learn/scikit-learn/issues/21755 */display: inline-block !important;position: relative;}#sk-badf9d1c-5d70-4f88-98aa-cdd755a02f0e div.sk-text-repr-fallback {display: none;}</style><div id=\"sk-badf9d1c-5d70-4f88-98aa-cdd755a02f0e\" class=\"sk-top-container\"><div class=\"sk-text-repr-fallback\"><pre>Pipeline(steps=[(&#x27;columntransformer&#x27;,\n",
       "                 ColumnTransformer(remainder=&#x27;passthrough&#x27;,\n",
       "                                   transformers=[(&#x27;cat_tr&#x27;,\n",
       "                                                  OneHotEncoder(handle_unknown=&#x27;ignore&#x27;,\n",
       "                                                                sparse=False),\n",
       "                                                  [&#x27;year&#x27;, &#x27;month&#x27;, &#x27;city&#x27;])])),\n",
       "                (&#x27;linearregression&#x27;, LinearRegression())])</pre><b>Please rerun this cell to show the HTML repr or trust the notebook.</b></div><div class=\"sk-container\" hidden><div class=\"sk-item sk-dashed-wrapped\"><div class=\"sk-label-container\"><div class=\"sk-label sk-toggleable\"><input class=\"sk-toggleable__control sk-hidden--visually\" id=\"a7d6ac37-b726-4d2a-8898-7d7db2fe7302\" type=\"checkbox\" ><label for=\"a7d6ac37-b726-4d2a-8898-7d7db2fe7302\" class=\"sk-toggleable__label sk-toggleable__label-arrow\">Pipeline</label><div class=\"sk-toggleable__content\"><pre>Pipeline(steps=[(&#x27;columntransformer&#x27;,\n",
       "                 ColumnTransformer(remainder=&#x27;passthrough&#x27;,\n",
       "                                   transformers=[(&#x27;cat_tr&#x27;,\n",
       "                                                  OneHotEncoder(handle_unknown=&#x27;ignore&#x27;,\n",
       "                                                                sparse=False),\n",
       "                                                  [&#x27;year&#x27;, &#x27;month&#x27;, &#x27;city&#x27;])])),\n",
       "                (&#x27;linearregression&#x27;, LinearRegression())])</pre></div></div></div><div class=\"sk-serial\"><div class=\"sk-item sk-dashed-wrapped\"><div class=\"sk-label-container\"><div class=\"sk-label sk-toggleable\"><input class=\"sk-toggleable__control sk-hidden--visually\" id=\"2ef33288-34de-4877-834e-dd06c8424bce\" type=\"checkbox\" ><label for=\"2ef33288-34de-4877-834e-dd06c8424bce\" class=\"sk-toggleable__label sk-toggleable__label-arrow\">columntransformer: ColumnTransformer</label><div class=\"sk-toggleable__content\"><pre>ColumnTransformer(remainder=&#x27;passthrough&#x27;,\n",
       "                  transformers=[(&#x27;cat_tr&#x27;,\n",
       "                                 OneHotEncoder(handle_unknown=&#x27;ignore&#x27;,\n",
       "                                               sparse=False),\n",
       "                                 [&#x27;year&#x27;, &#x27;month&#x27;, &#x27;city&#x27;])])</pre></div></div></div><div class=\"sk-parallel\"><div class=\"sk-parallel-item\"><div class=\"sk-item\"><div class=\"sk-label-container\"><div class=\"sk-label sk-toggleable\"><input class=\"sk-toggleable__control sk-hidden--visually\" id=\"5b080093-761d-4a54-87eb-169e8d57e1da\" type=\"checkbox\" ><label for=\"5b080093-761d-4a54-87eb-169e8d57e1da\" class=\"sk-toggleable__label sk-toggleable__label-arrow\">cat_tr</label><div class=\"sk-toggleable__content\"><pre>[&#x27;year&#x27;, &#x27;month&#x27;, &#x27;city&#x27;]</pre></div></div></div><div class=\"sk-serial\"><div class=\"sk-item\"><div class=\"sk-estimator sk-toggleable\"><input class=\"sk-toggleable__control sk-hidden--visually\" id=\"df85b967-ab0b-4169-ba06-8fe0eeb2fa46\" type=\"checkbox\" ><label for=\"df85b967-ab0b-4169-ba06-8fe0eeb2fa46\" class=\"sk-toggleable__label sk-toggleable__label-arrow\">OneHotEncoder</label><div class=\"sk-toggleable__content\"><pre>OneHotEncoder(handle_unknown=&#x27;ignore&#x27;, sparse=False)</pre></div></div></div></div></div></div><div class=\"sk-parallel-item\"><div class=\"sk-item\"><div class=\"sk-label-container\"><div class=\"sk-label sk-toggleable\"><input class=\"sk-toggleable__control sk-hidden--visually\" id=\"7fe3de41-9bd8-4705-9296-12b59e11d56d\" type=\"checkbox\" ><label for=\"7fe3de41-9bd8-4705-9296-12b59e11d56d\" class=\"sk-toggleable__label sk-toggleable__label-arrow\">remainder</label><div class=\"sk-toggleable__content\"><pre>[]</pre></div></div></div><div class=\"sk-serial\"><div class=\"sk-item\"><div class=\"sk-estimator sk-toggleable\"><input class=\"sk-toggleable__control sk-hidden--visually\" id=\"3ab73dc0-272b-4439-be0a-8e2db6c27974\" type=\"checkbox\" ><label for=\"3ab73dc0-272b-4439-be0a-8e2db6c27974\" class=\"sk-toggleable__label sk-toggleable__label-arrow\">passthrough</label><div class=\"sk-toggleable__content\"><pre>passthrough</pre></div></div></div></div></div></div></div></div><div class=\"sk-item\"><div class=\"sk-estimator sk-toggleable\"><input class=\"sk-toggleable__control sk-hidden--visually\" id=\"343f678b-7873-4ede-84e2-b651bd5c0c3c\" type=\"checkbox\" ><label for=\"343f678b-7873-4ede-84e2-b651bd5c0c3c\" class=\"sk-toggleable__label sk-toggleable__label-arrow\">LinearRegression</label><div class=\"sk-toggleable__content\"><pre>LinearRegression()</pre></div></div></div></div></div></div></div>"
      ],
      "text/plain": [
       "Pipeline(steps=[('columntransformer',\n",
       "                 ColumnTransformer(remainder='passthrough',\n",
       "                                   transformers=[('cat_tr',\n",
       "                                                  OneHotEncoder(handle_unknown='ignore',\n",
       "                                                                sparse=False),\n",
       "                                                  ['year', 'month', 'city'])])),\n",
       "                ('linearregression', LinearRegression())])"
      ]
     },
     "execution_count": 12,
     "metadata": {},
     "output_type": "execute_result"
    }
   ],
   "source": [
    "job = joblib.load('model_city.joblib')\n",
    "job"
   ]
  },
  {
   "cell_type": "code",
   "execution_count": 13,
   "id": "c25c22f4",
   "metadata": {},
   "outputs": [
    {
     "data": {
      "text/plain": [
       "0.5692069963894613"
      ]
     },
     "execution_count": 13,
     "metadata": {},
     "output_type": "execute_result"
    }
   ],
   "source": [
    "job.score(X_train,y_train)"
   ]
  },
  {
   "cell_type": "code",
   "execution_count": 14,
   "id": "f673b0c7",
   "metadata": {},
   "outputs": [
    {
     "data": {
      "text/plain": [
       "[14.3828125,\n",
       " 13.60546875,\n",
       " 14.08984375,\n",
       " 14.5546875,\n",
       " 13.65625,\n",
       " 13.125,\n",
       " 13.5078125,\n",
       " 13.2890625,\n",
       " 15.53125,\n",
       " 13.16796875,\n",
       " 13.78125,\n",
       " 12.45703125]"
      ]
     },
     "execution_count": 14,
     "metadata": {},
     "output_type": "execute_result"
    }
   ],
   "source": [
    "p = job.predict(X_predict).tolist()\n",
    "p[0:12]"
   ]
  },
  {
   "cell_type": "code",
   "execution_count": 15,
   "id": "aac01688",
   "metadata": {},
   "outputs": [
    {
     "data": {
      "text/plain": [
       "array([1763502.59,  810550.36, 1315653.09, 2094211.15,  852774.13,\n",
       "        501320.05,  735137.25,  590699.38, 5560785.87,  523330.64,\n",
       "        966319.69,  257051.38])"
      ]
     },
     "execution_count": 15,
     "metadata": {},
     "output_type": "execute_result"
    }
   ],
   "source": [
    "p = [np.around(np.exp(i),decimals=2) for i in p]\n",
    "p = np.array(p) \n",
    "p[0:12]"
   ]
  },
  {
   "cell_type": "code",
   "execution_count": 16,
   "id": "0245502a",
   "metadata": {},
   "outputs": [
    {
     "data": {
      "text/plain": [
       "{'sales_city_year': {'1': 1763502.59,\n",
       "  '2': 810550.36,\n",
       "  '3': 1315653.09,\n",
       "  '4': 2094211.15,\n",
       "  '5': 852774.13,\n",
       "  '6': 501320.05,\n",
       "  '7': 735137.25,\n",
       "  '8': 590699.38,\n",
       "  '9': 5560785.87,\n",
       "  '10': 523330.64,\n",
       "  '11': 966319.69,\n",
       "  '12': 257051.38}}"
      ]
     },
     "execution_count": 16,
     "metadata": {},
     "output_type": "execute_result"
    }
   ],
   "source": [
    "year=['2017','2017','2017','2017','2017','2017','2017','2017','2017','2017','2017','2017']\n",
    "month=['8','8','8','8','8','8','8','8','8','8','8','8']\n",
    "city=['Ambato','Babahoyo', 'Cayambe', 'Cuenca', 'Daule', 'El Carmen', 'Esmeraldas', 'Guaranda', 'Guayaquil', 'Ibarra', 'Latacunga', 'Libertad']\n",
    "\n",
    "url = 'https://image-bc869-v2-1-ob6evlacjq-ew.a.run.app/predict-city-year'\n",
    "params = {\n",
    "    'year': year,\n",
    "    'month': month,\n",
    "    'city': city\n",
    "}\n",
    "\n",
    "response = requests.get(url, params=params)\n",
    "response.json() "
   ]
  },
  {
   "cell_type": "markdown",
   "id": "cd6e4db5",
   "metadata": {},
   "source": [
    "# Train Model (Store L2)"
   ]
  },
  {
   "cell_type": "code",
   "execution_count": 17,
   "id": "9b42ff7e",
   "metadata": {},
   "outputs": [],
   "source": [
    "X_train, y_train, X_predict, pipe, preprocessor = TrainStore()"
   ]
  },
  {
   "cell_type": "code",
   "execution_count": 18,
   "id": "d97275f2",
   "metadata": {
    "scrolled": true
   },
   "outputs": [
    {
     "data": {
      "text/html": [
       "<div>\n",
       "<style scoped>\n",
       "    .dataframe tbody tr th:only-of-type {\n",
       "        vertical-align: middle;\n",
       "    }\n",
       "\n",
       "    .dataframe tbody tr th {\n",
       "        vertical-align: top;\n",
       "    }\n",
       "\n",
       "    .dataframe thead th {\n",
       "        text-align: right;\n",
       "    }\n",
       "</style>\n",
       "<table border=\"1\" class=\"dataframe\">\n",
       "  <thead>\n",
       "    <tr style=\"text-align: right;\">\n",
       "      <th></th>\n",
       "      <th>year</th>\n",
       "      <th>month</th>\n",
       "      <th>city</th>\n",
       "      <th>store_nbr</th>\n",
       "    </tr>\n",
       "  </thead>\n",
       "  <tbody>\n",
       "    <tr>\n",
       "      <th>0</th>\n",
       "      <td>2017</td>\n",
       "      <td>8</td>\n",
       "      <td>Ambato</td>\n",
       "      <td>23</td>\n",
       "    </tr>\n",
       "    <tr>\n",
       "      <th>1</th>\n",
       "      <td>2017</td>\n",
       "      <td>8</td>\n",
       "      <td>Ambato</td>\n",
       "      <td>50</td>\n",
       "    </tr>\n",
       "    <tr>\n",
       "      <th>2</th>\n",
       "      <td>2017</td>\n",
       "      <td>8</td>\n",
       "      <td>Babahoyo</td>\n",
       "      <td>31</td>\n",
       "    </tr>\n",
       "    <tr>\n",
       "      <th>3</th>\n",
       "      <td>2017</td>\n",
       "      <td>8</td>\n",
       "      <td>Cayambe</td>\n",
       "      <td>11</td>\n",
       "    </tr>\n",
       "    <tr>\n",
       "      <th>4</th>\n",
       "      <td>2017</td>\n",
       "      <td>8</td>\n",
       "      <td>Cuenca</td>\n",
       "      <td>37</td>\n",
       "    </tr>\n",
       "    <tr>\n",
       "      <th>5</th>\n",
       "      <td>2017</td>\n",
       "      <td>8</td>\n",
       "      <td>Cuenca</td>\n",
       "      <td>39</td>\n",
       "    </tr>\n",
       "    <tr>\n",
       "      <th>6</th>\n",
       "      <td>2017</td>\n",
       "      <td>8</td>\n",
       "      <td>Cuenca</td>\n",
       "      <td>42</td>\n",
       "    </tr>\n",
       "    <tr>\n",
       "      <th>7</th>\n",
       "      <td>2017</td>\n",
       "      <td>8</td>\n",
       "      <td>Daule</td>\n",
       "      <td>27</td>\n",
       "    </tr>\n",
       "    <tr>\n",
       "      <th>8</th>\n",
       "      <td>2017</td>\n",
       "      <td>8</td>\n",
       "      <td>El Carmen</td>\n",
       "      <td>54</td>\n",
       "    </tr>\n",
       "    <tr>\n",
       "      <th>9</th>\n",
       "      <td>2017</td>\n",
       "      <td>8</td>\n",
       "      <td>Esmeraldas</td>\n",
       "      <td>43</td>\n",
       "    </tr>\n",
       "    <tr>\n",
       "      <th>10</th>\n",
       "      <td>2017</td>\n",
       "      <td>8</td>\n",
       "      <td>Guaranda</td>\n",
       "      <td>19</td>\n",
       "    </tr>\n",
       "    <tr>\n",
       "      <th>11</th>\n",
       "      <td>2017</td>\n",
       "      <td>8</td>\n",
       "      <td>Guayaquil</td>\n",
       "      <td>24</td>\n",
       "    </tr>\n",
       "  </tbody>\n",
       "</table>\n",
       "</div>"
      ],
      "text/plain": [
       "    year  month        city  store_nbr\n",
       "0   2017      8      Ambato         23\n",
       "1   2017      8      Ambato         50\n",
       "2   2017      8    Babahoyo         31\n",
       "3   2017      8     Cayambe         11\n",
       "4   2017      8      Cuenca         37\n",
       "5   2017      8      Cuenca         39\n",
       "6   2017      8      Cuenca         42\n",
       "7   2017      8       Daule         27\n",
       "8   2017      8   El Carmen         54\n",
       "9   2017      8  Esmeraldas         43\n",
       "10  2017      8    Guaranda         19\n",
       "11  2017      8   Guayaquil         24"
      ]
     },
     "execution_count": 18,
     "metadata": {},
     "output_type": "execute_result"
    }
   ],
   "source": [
    "X_predict.head(12)"
   ]
  },
  {
   "cell_type": "code",
   "execution_count": 19,
   "id": "63bf81e8",
   "metadata": {},
   "outputs": [
    {
     "data": {
      "text/html": [
       "<style>#sk-4792af83-f9e2-40cd-9400-4991d49bf6a4 {color: black;background-color: white;}#sk-4792af83-f9e2-40cd-9400-4991d49bf6a4 pre{padding: 0;}#sk-4792af83-f9e2-40cd-9400-4991d49bf6a4 div.sk-toggleable {background-color: white;}#sk-4792af83-f9e2-40cd-9400-4991d49bf6a4 label.sk-toggleable__label {cursor: pointer;display: block;width: 100%;margin-bottom: 0;padding: 0.3em;box-sizing: border-box;text-align: center;}#sk-4792af83-f9e2-40cd-9400-4991d49bf6a4 label.sk-toggleable__label-arrow:before {content: \"▸\";float: left;margin-right: 0.25em;color: #696969;}#sk-4792af83-f9e2-40cd-9400-4991d49bf6a4 label.sk-toggleable__label-arrow:hover:before {color: black;}#sk-4792af83-f9e2-40cd-9400-4991d49bf6a4 div.sk-estimator:hover label.sk-toggleable__label-arrow:before {color: black;}#sk-4792af83-f9e2-40cd-9400-4991d49bf6a4 div.sk-toggleable__content {max-height: 0;max-width: 0;overflow: hidden;text-align: left;background-color: #f0f8ff;}#sk-4792af83-f9e2-40cd-9400-4991d49bf6a4 div.sk-toggleable__content pre {margin: 0.2em;color: black;border-radius: 0.25em;background-color: #f0f8ff;}#sk-4792af83-f9e2-40cd-9400-4991d49bf6a4 input.sk-toggleable__control:checked~div.sk-toggleable__content {max-height: 200px;max-width: 100%;overflow: auto;}#sk-4792af83-f9e2-40cd-9400-4991d49bf6a4 input.sk-toggleable__control:checked~label.sk-toggleable__label-arrow:before {content: \"▾\";}#sk-4792af83-f9e2-40cd-9400-4991d49bf6a4 div.sk-estimator input.sk-toggleable__control:checked~label.sk-toggleable__label {background-color: #d4ebff;}#sk-4792af83-f9e2-40cd-9400-4991d49bf6a4 div.sk-label input.sk-toggleable__control:checked~label.sk-toggleable__label {background-color: #d4ebff;}#sk-4792af83-f9e2-40cd-9400-4991d49bf6a4 input.sk-hidden--visually {border: 0;clip: rect(1px 1px 1px 1px);clip: rect(1px, 1px, 1px, 1px);height: 1px;margin: -1px;overflow: hidden;padding: 0;position: absolute;width: 1px;}#sk-4792af83-f9e2-40cd-9400-4991d49bf6a4 div.sk-estimator {font-family: monospace;background-color: #f0f8ff;border: 1px dotted black;border-radius: 0.25em;box-sizing: border-box;margin-bottom: 0.5em;}#sk-4792af83-f9e2-40cd-9400-4991d49bf6a4 div.sk-estimator:hover {background-color: #d4ebff;}#sk-4792af83-f9e2-40cd-9400-4991d49bf6a4 div.sk-parallel-item::after {content: \"\";width: 100%;border-bottom: 1px solid gray;flex-grow: 1;}#sk-4792af83-f9e2-40cd-9400-4991d49bf6a4 div.sk-label:hover label.sk-toggleable__label {background-color: #d4ebff;}#sk-4792af83-f9e2-40cd-9400-4991d49bf6a4 div.sk-serial::before {content: \"\";position: absolute;border-left: 1px solid gray;box-sizing: border-box;top: 2em;bottom: 0;left: 50%;}#sk-4792af83-f9e2-40cd-9400-4991d49bf6a4 div.sk-serial {display: flex;flex-direction: column;align-items: center;background-color: white;padding-right: 0.2em;padding-left: 0.2em;}#sk-4792af83-f9e2-40cd-9400-4991d49bf6a4 div.sk-item {z-index: 1;}#sk-4792af83-f9e2-40cd-9400-4991d49bf6a4 div.sk-parallel {display: flex;align-items: stretch;justify-content: center;background-color: white;}#sk-4792af83-f9e2-40cd-9400-4991d49bf6a4 div.sk-parallel::before {content: \"\";position: absolute;border-left: 1px solid gray;box-sizing: border-box;top: 2em;bottom: 0;left: 50%;}#sk-4792af83-f9e2-40cd-9400-4991d49bf6a4 div.sk-parallel-item {display: flex;flex-direction: column;position: relative;background-color: white;}#sk-4792af83-f9e2-40cd-9400-4991d49bf6a4 div.sk-parallel-item:first-child::after {align-self: flex-end;width: 50%;}#sk-4792af83-f9e2-40cd-9400-4991d49bf6a4 div.sk-parallel-item:last-child::after {align-self: flex-start;width: 50%;}#sk-4792af83-f9e2-40cd-9400-4991d49bf6a4 div.sk-parallel-item:only-child::after {width: 0;}#sk-4792af83-f9e2-40cd-9400-4991d49bf6a4 div.sk-dashed-wrapped {border: 1px dashed gray;margin: 0 0.4em 0.5em 0.4em;box-sizing: border-box;padding-bottom: 0.4em;background-color: white;position: relative;}#sk-4792af83-f9e2-40cd-9400-4991d49bf6a4 div.sk-label label {font-family: monospace;font-weight: bold;background-color: white;display: inline-block;line-height: 1.2em;}#sk-4792af83-f9e2-40cd-9400-4991d49bf6a4 div.sk-label-container {position: relative;z-index: 2;text-align: center;}#sk-4792af83-f9e2-40cd-9400-4991d49bf6a4 div.sk-container {/* jupyter's `normalize.less` sets `[hidden] { display: none; }` but bootstrap.min.css set `[hidden] { display: none !important; }` so we also need the `!important` here to be able to override the default hidden behavior on the sphinx rendered scikit-learn.org. See: https://github.com/scikit-learn/scikit-learn/issues/21755 */display: inline-block !important;position: relative;}#sk-4792af83-f9e2-40cd-9400-4991d49bf6a4 div.sk-text-repr-fallback {display: none;}</style><div id=\"sk-4792af83-f9e2-40cd-9400-4991d49bf6a4\" class=\"sk-top-container\"><div class=\"sk-text-repr-fallback\"><pre>Pipeline(steps=[(&#x27;columntransformer&#x27;,\n",
       "                 ColumnTransformer(remainder=&#x27;passthrough&#x27;,\n",
       "                                   transformers=[(&#x27;cat_tr&#x27;,\n",
       "                                                  OneHotEncoder(handle_unknown=&#x27;ignore&#x27;,\n",
       "                                                                sparse=False),\n",
       "                                                  [&#x27;year&#x27;, &#x27;month&#x27;, &#x27;city&#x27;,\n",
       "                                                   &#x27;store_nbr&#x27;])])),\n",
       "                (&#x27;linearregression&#x27;, LinearRegression())])</pre><b>Please rerun this cell to show the HTML repr or trust the notebook.</b></div><div class=\"sk-container\" hidden><div class=\"sk-item sk-dashed-wrapped\"><div class=\"sk-label-container\"><div class=\"sk-label sk-toggleable\"><input class=\"sk-toggleable__control sk-hidden--visually\" id=\"680a25de-10d1-4791-8cff-44e3ec09cdd1\" type=\"checkbox\" ><label for=\"680a25de-10d1-4791-8cff-44e3ec09cdd1\" class=\"sk-toggleable__label sk-toggleable__label-arrow\">Pipeline</label><div class=\"sk-toggleable__content\"><pre>Pipeline(steps=[(&#x27;columntransformer&#x27;,\n",
       "                 ColumnTransformer(remainder=&#x27;passthrough&#x27;,\n",
       "                                   transformers=[(&#x27;cat_tr&#x27;,\n",
       "                                                  OneHotEncoder(handle_unknown=&#x27;ignore&#x27;,\n",
       "                                                                sparse=False),\n",
       "                                                  [&#x27;year&#x27;, &#x27;month&#x27;, &#x27;city&#x27;,\n",
       "                                                   &#x27;store_nbr&#x27;])])),\n",
       "                (&#x27;linearregression&#x27;, LinearRegression())])</pre></div></div></div><div class=\"sk-serial\"><div class=\"sk-item sk-dashed-wrapped\"><div class=\"sk-label-container\"><div class=\"sk-label sk-toggleable\"><input class=\"sk-toggleable__control sk-hidden--visually\" id=\"17e8cdcc-8b7b-4b92-93ca-09a847c6662b\" type=\"checkbox\" ><label for=\"17e8cdcc-8b7b-4b92-93ca-09a847c6662b\" class=\"sk-toggleable__label sk-toggleable__label-arrow\">columntransformer: ColumnTransformer</label><div class=\"sk-toggleable__content\"><pre>ColumnTransformer(remainder=&#x27;passthrough&#x27;,\n",
       "                  transformers=[(&#x27;cat_tr&#x27;,\n",
       "                                 OneHotEncoder(handle_unknown=&#x27;ignore&#x27;,\n",
       "                                               sparse=False),\n",
       "                                 [&#x27;year&#x27;, &#x27;month&#x27;, &#x27;city&#x27;, &#x27;store_nbr&#x27;])])</pre></div></div></div><div class=\"sk-parallel\"><div class=\"sk-parallel-item\"><div class=\"sk-item\"><div class=\"sk-label-container\"><div class=\"sk-label sk-toggleable\"><input class=\"sk-toggleable__control sk-hidden--visually\" id=\"04c4a6a2-f762-4d3d-9308-37d043f5e5fa\" type=\"checkbox\" ><label for=\"04c4a6a2-f762-4d3d-9308-37d043f5e5fa\" class=\"sk-toggleable__label sk-toggleable__label-arrow\">cat_tr</label><div class=\"sk-toggleable__content\"><pre>[&#x27;year&#x27;, &#x27;month&#x27;, &#x27;city&#x27;, &#x27;store_nbr&#x27;]</pre></div></div></div><div class=\"sk-serial\"><div class=\"sk-item\"><div class=\"sk-estimator sk-toggleable\"><input class=\"sk-toggleable__control sk-hidden--visually\" id=\"97469108-eaad-449c-ba99-972d0e468884\" type=\"checkbox\" ><label for=\"97469108-eaad-449c-ba99-972d0e468884\" class=\"sk-toggleable__label sk-toggleable__label-arrow\">OneHotEncoder</label><div class=\"sk-toggleable__content\"><pre>OneHotEncoder(handle_unknown=&#x27;ignore&#x27;, sparse=False)</pre></div></div></div></div></div></div><div class=\"sk-parallel-item\"><div class=\"sk-item\"><div class=\"sk-label-container\"><div class=\"sk-label sk-toggleable\"><input class=\"sk-toggleable__control sk-hidden--visually\" id=\"bf8293f0-e9bf-49ec-a4e0-e81f3045970e\" type=\"checkbox\" ><label for=\"bf8293f0-e9bf-49ec-a4e0-e81f3045970e\" class=\"sk-toggleable__label sk-toggleable__label-arrow\">remainder</label><div class=\"sk-toggleable__content\"><pre>[]</pre></div></div></div><div class=\"sk-serial\"><div class=\"sk-item\"><div class=\"sk-estimator sk-toggleable\"><input class=\"sk-toggleable__control sk-hidden--visually\" id=\"c4ada802-3335-44c1-ae6f-9ce49c13b608\" type=\"checkbox\" ><label for=\"c4ada802-3335-44c1-ae6f-9ce49c13b608\" class=\"sk-toggleable__label sk-toggleable__label-arrow\">passthrough</label><div class=\"sk-toggleable__content\"><pre>passthrough</pre></div></div></div></div></div></div></div></div><div class=\"sk-item\"><div class=\"sk-estimator sk-toggleable\"><input class=\"sk-toggleable__control sk-hidden--visually\" id=\"46a9d81d-2edc-4cbf-b927-ecd847cef8b9\" type=\"checkbox\" ><label for=\"46a9d81d-2edc-4cbf-b927-ecd847cef8b9\" class=\"sk-toggleable__label sk-toggleable__label-arrow\">LinearRegression</label><div class=\"sk-toggleable__content\"><pre>LinearRegression()</pre></div></div></div></div></div></div></div>"
      ],
      "text/plain": [
       "Pipeline(steps=[('columntransformer',\n",
       "                 ColumnTransformer(remainder='passthrough',\n",
       "                                   transformers=[('cat_tr',\n",
       "                                                  OneHotEncoder(handle_unknown='ignore',\n",
       "                                                                sparse=False),\n",
       "                                                  ['year', 'month', 'city',\n",
       "                                                   'store_nbr'])])),\n",
       "                ('linearregression', LinearRegression())])"
      ]
     },
     "execution_count": 19,
     "metadata": {},
     "output_type": "execute_result"
    }
   ],
   "source": [
    "job = joblib.load('model_store.joblib')\n",
    "job"
   ]
  },
  {
   "cell_type": "code",
   "execution_count": 20,
   "id": "086e0d14",
   "metadata": {},
   "outputs": [
    {
     "data": {
      "text/plain": [
       "0.5993945822656733"
      ]
     },
     "execution_count": 20,
     "metadata": {},
     "output_type": "execute_result"
    }
   ],
   "source": [
    "job.score(X_train,y_train)"
   ]
  },
  {
   "cell_type": "code",
   "execution_count": 21,
   "id": "ace23adc",
   "metadata": {},
   "outputs": [
    {
     "data": {
      "text/plain": [
       "[13.70703125,\n",
       " 14.515625,\n",
       " 14.38671875,\n",
       " 14.5859375,\n",
       " 14.23828125,\n",
       " 14.26953125,\n",
       " 5.87109375,\n",
       " 14.30859375,\n",
       " 13.19921875,\n",
       " 14.1875,\n",
       " 14.29296875,\n",
       " 14.04296875]"
      ]
     },
     "execution_count": 21,
     "metadata": {},
     "output_type": "execute_result"
    }
   ],
   "source": [
    "p = job.predict(X_predict).tolist()\n",
    "p[0:12]"
   ]
  },
  {
   "cell_type": "code",
   "execution_count": 22,
   "id": "f85694e1",
   "metadata": {},
   "outputs": [
    {
     "data": {
      "text/plain": [
       "array([8.97197460e+05, 2.01398318e+06, 1.77040475e+06, 2.16068855e+06,\n",
       "       1.52618429e+06, 1.57463058e+06, 3.54640000e+02, 1.63735673e+06,\n",
       "       5.39942940e+05, 1.45061767e+06, 1.61197187e+06, 1.25540495e+06])"
      ]
     },
     "execution_count": 22,
     "metadata": {},
     "output_type": "execute_result"
    }
   ],
   "source": [
    "p = [np.around(np.exp(i),decimals=2) for i in p]\n",
    "p = np.array(p) \n",
    "p[0:12]"
   ]
  },
  {
   "cell_type": "code",
   "execution_count": 23,
   "id": "164c79d2",
   "metadata": {},
   "outputs": [
    {
     "data": {
      "text/plain": [
       "{'sales_store_year': {'1': 897197.46,\n",
       "  '2': 2013983.18,\n",
       "  '3': 1770404.75,\n",
       "  '4': 2160688.55,\n",
       "  '5': 1526184.29,\n",
       "  '6': 1574630.58,\n",
       "  '7': 354.64,\n",
       "  '8': 1637356.73,\n",
       "  '9': 539942.94,\n",
       "  '10': 1450617.67,\n",
       "  '11': 1611971.87,\n",
       "  '12': 1255404.95}}"
      ]
     },
     "execution_count": 23,
     "metadata": {},
     "output_type": "execute_result"
    }
   ],
   "source": [
    "year=['2017','2017','2017','2017','2017','2017','2017','2017','2017','2017','2017','2017']\n",
    "month=['8','8','8','8','8','8','8','8','8','8','8','8']\n",
    "city=['Ambato','Ambato','Babahoyo','Cayambe','Cuenca','Cuenca','Cuenca','Daule','El Carmen','Esmeraldas','Guaranda','Guayaquil']\n",
    "store_nbr=['23', '50', '31', '11', '37', '39', '42', '27', '54', '43', '19', '24']\n",
    "\n",
    "url = 'https://image-bc869-v2-1-ob6evlacjq-ew.a.run.app/predict-store-year'\n",
    "params = {\n",
    "    'year': year,\n",
    "    'month': month,\n",
    "    'city': city,\n",
    "    'store_nbr': store_nbr\n",
    "}\n",
    "\n",
    "response = requests.get(url, params=params)\n",
    "response.json()"
   ]
  },
  {
   "cell_type": "markdown",
   "id": "0805cb57",
   "metadata": {},
   "source": [
    "# Train Model (Family L3)"
   ]
  },
  {
   "cell_type": "code",
   "execution_count": 24,
   "id": "e3c5c391",
   "metadata": {},
   "outputs": [],
   "source": [
    "X_train, y_train, X_predict, pipe, preprocessor = TrainFamily()"
   ]
  },
  {
   "cell_type": "code",
   "execution_count": 25,
   "id": "9c6673bf",
   "metadata": {
    "scrolled": true
   },
   "outputs": [
    {
     "data": {
      "text/html": [
       "<div>\n",
       "<style scoped>\n",
       "    .dataframe tbody tr th:only-of-type {\n",
       "        vertical-align: middle;\n",
       "    }\n",
       "\n",
       "    .dataframe tbody tr th {\n",
       "        vertical-align: top;\n",
       "    }\n",
       "\n",
       "    .dataframe thead th {\n",
       "        text-align: right;\n",
       "    }\n",
       "</style>\n",
       "<table border=\"1\" class=\"dataframe\">\n",
       "  <thead>\n",
       "    <tr style=\"text-align: right;\">\n",
       "      <th></th>\n",
       "      <th>year</th>\n",
       "      <th>month</th>\n",
       "      <th>city</th>\n",
       "      <th>store_nbr</th>\n",
       "      <th>family</th>\n",
       "    </tr>\n",
       "  </thead>\n",
       "  <tbody>\n",
       "    <tr>\n",
       "      <th>0</th>\n",
       "      <td>2017</td>\n",
       "      <td>8</td>\n",
       "      <td>Ambato</td>\n",
       "      <td>23</td>\n",
       "      <td>AUTOMOTIVE</td>\n",
       "    </tr>\n",
       "    <tr>\n",
       "      <th>1</th>\n",
       "      <td>2017</td>\n",
       "      <td>8</td>\n",
       "      <td>Ambato</td>\n",
       "      <td>23</td>\n",
       "      <td>BABY CARE</td>\n",
       "    </tr>\n",
       "    <tr>\n",
       "      <th>2</th>\n",
       "      <td>2017</td>\n",
       "      <td>8</td>\n",
       "      <td>Ambato</td>\n",
       "      <td>23</td>\n",
       "      <td>BEAUTY</td>\n",
       "    </tr>\n",
       "    <tr>\n",
       "      <th>3</th>\n",
       "      <td>2017</td>\n",
       "      <td>8</td>\n",
       "      <td>Ambato</td>\n",
       "      <td>23</td>\n",
       "      <td>BEVERAGES</td>\n",
       "    </tr>\n",
       "    <tr>\n",
       "      <th>4</th>\n",
       "      <td>2017</td>\n",
       "      <td>8</td>\n",
       "      <td>Ambato</td>\n",
       "      <td>23</td>\n",
       "      <td>BOOKS</td>\n",
       "    </tr>\n",
       "    <tr>\n",
       "      <th>5</th>\n",
       "      <td>2017</td>\n",
       "      <td>8</td>\n",
       "      <td>Ambato</td>\n",
       "      <td>23</td>\n",
       "      <td>BREAD/BAKERY</td>\n",
       "    </tr>\n",
       "    <tr>\n",
       "      <th>6</th>\n",
       "      <td>2017</td>\n",
       "      <td>8</td>\n",
       "      <td>Ambato</td>\n",
       "      <td>23</td>\n",
       "      <td>CELEBRATION</td>\n",
       "    </tr>\n",
       "    <tr>\n",
       "      <th>7</th>\n",
       "      <td>2017</td>\n",
       "      <td>8</td>\n",
       "      <td>Ambato</td>\n",
       "      <td>23</td>\n",
       "      <td>CLEANING</td>\n",
       "    </tr>\n",
       "    <tr>\n",
       "      <th>8</th>\n",
       "      <td>2017</td>\n",
       "      <td>8</td>\n",
       "      <td>Ambato</td>\n",
       "      <td>23</td>\n",
       "      <td>DAIRY</td>\n",
       "    </tr>\n",
       "    <tr>\n",
       "      <th>9</th>\n",
       "      <td>2017</td>\n",
       "      <td>8</td>\n",
       "      <td>Ambato</td>\n",
       "      <td>23</td>\n",
       "      <td>DELI</td>\n",
       "    </tr>\n",
       "    <tr>\n",
       "      <th>10</th>\n",
       "      <td>2017</td>\n",
       "      <td>8</td>\n",
       "      <td>Ambato</td>\n",
       "      <td>23</td>\n",
       "      <td>EGGS</td>\n",
       "    </tr>\n",
       "    <tr>\n",
       "      <th>11</th>\n",
       "      <td>2017</td>\n",
       "      <td>8</td>\n",
       "      <td>Ambato</td>\n",
       "      <td>23</td>\n",
       "      <td>FROZEN FOODS</td>\n",
       "    </tr>\n",
       "  </tbody>\n",
       "</table>\n",
       "</div>"
      ],
      "text/plain": [
       "    year  month    city  store_nbr        family\n",
       "0   2017      8  Ambato         23    AUTOMOTIVE\n",
       "1   2017      8  Ambato         23     BABY CARE\n",
       "2   2017      8  Ambato         23        BEAUTY\n",
       "3   2017      8  Ambato         23     BEVERAGES\n",
       "4   2017      8  Ambato         23         BOOKS\n",
       "5   2017      8  Ambato         23  BREAD/BAKERY\n",
       "6   2017      8  Ambato         23   CELEBRATION\n",
       "7   2017      8  Ambato         23      CLEANING\n",
       "8   2017      8  Ambato         23         DAIRY\n",
       "9   2017      8  Ambato         23          DELI\n",
       "10  2017      8  Ambato         23          EGGS\n",
       "11  2017      8  Ambato         23  FROZEN FOODS"
      ]
     },
     "execution_count": 25,
     "metadata": {},
     "output_type": "execute_result"
    }
   ],
   "source": [
    "X_predict.head(12)"
   ]
  },
  {
   "cell_type": "code",
   "execution_count": 26,
   "id": "11f60d00",
   "metadata": {},
   "outputs": [
    {
     "data": {
      "text/plain": [
       "['AUTOMOTIVE',\n",
       " 'BABY CARE',\n",
       " 'BEAUTY',\n",
       " 'BEVERAGES',\n",
       " 'BOOKS',\n",
       " 'BREAD/BAKERY',\n",
       " 'CELEBRATION',\n",
       " 'CLEANING',\n",
       " 'DAIRY',\n",
       " 'DELI',\n",
       " 'EGGS',\n",
       " 'FROZEN FOODS']"
      ]
     },
     "execution_count": 26,
     "metadata": {},
     "output_type": "execute_result"
    }
   ],
   "source": [
    "X_predict.head(12)['family'].tolist()"
   ]
  },
  {
   "cell_type": "code",
   "execution_count": 27,
   "id": "1270cd71",
   "metadata": {},
   "outputs": [
    {
     "data": {
      "text/html": [
       "<style>#sk-956067a4-7535-4694-8873-602eb05b5ad8 {color: black;background-color: white;}#sk-956067a4-7535-4694-8873-602eb05b5ad8 pre{padding: 0;}#sk-956067a4-7535-4694-8873-602eb05b5ad8 div.sk-toggleable {background-color: white;}#sk-956067a4-7535-4694-8873-602eb05b5ad8 label.sk-toggleable__label {cursor: pointer;display: block;width: 100%;margin-bottom: 0;padding: 0.3em;box-sizing: border-box;text-align: center;}#sk-956067a4-7535-4694-8873-602eb05b5ad8 label.sk-toggleable__label-arrow:before {content: \"▸\";float: left;margin-right: 0.25em;color: #696969;}#sk-956067a4-7535-4694-8873-602eb05b5ad8 label.sk-toggleable__label-arrow:hover:before {color: black;}#sk-956067a4-7535-4694-8873-602eb05b5ad8 div.sk-estimator:hover label.sk-toggleable__label-arrow:before {color: black;}#sk-956067a4-7535-4694-8873-602eb05b5ad8 div.sk-toggleable__content {max-height: 0;max-width: 0;overflow: hidden;text-align: left;background-color: #f0f8ff;}#sk-956067a4-7535-4694-8873-602eb05b5ad8 div.sk-toggleable__content pre {margin: 0.2em;color: black;border-radius: 0.25em;background-color: #f0f8ff;}#sk-956067a4-7535-4694-8873-602eb05b5ad8 input.sk-toggleable__control:checked~div.sk-toggleable__content {max-height: 200px;max-width: 100%;overflow: auto;}#sk-956067a4-7535-4694-8873-602eb05b5ad8 input.sk-toggleable__control:checked~label.sk-toggleable__label-arrow:before {content: \"▾\";}#sk-956067a4-7535-4694-8873-602eb05b5ad8 div.sk-estimator input.sk-toggleable__control:checked~label.sk-toggleable__label {background-color: #d4ebff;}#sk-956067a4-7535-4694-8873-602eb05b5ad8 div.sk-label input.sk-toggleable__control:checked~label.sk-toggleable__label {background-color: #d4ebff;}#sk-956067a4-7535-4694-8873-602eb05b5ad8 input.sk-hidden--visually {border: 0;clip: rect(1px 1px 1px 1px);clip: rect(1px, 1px, 1px, 1px);height: 1px;margin: -1px;overflow: hidden;padding: 0;position: absolute;width: 1px;}#sk-956067a4-7535-4694-8873-602eb05b5ad8 div.sk-estimator {font-family: monospace;background-color: #f0f8ff;border: 1px dotted black;border-radius: 0.25em;box-sizing: border-box;margin-bottom: 0.5em;}#sk-956067a4-7535-4694-8873-602eb05b5ad8 div.sk-estimator:hover {background-color: #d4ebff;}#sk-956067a4-7535-4694-8873-602eb05b5ad8 div.sk-parallel-item::after {content: \"\";width: 100%;border-bottom: 1px solid gray;flex-grow: 1;}#sk-956067a4-7535-4694-8873-602eb05b5ad8 div.sk-label:hover label.sk-toggleable__label {background-color: #d4ebff;}#sk-956067a4-7535-4694-8873-602eb05b5ad8 div.sk-serial::before {content: \"\";position: absolute;border-left: 1px solid gray;box-sizing: border-box;top: 2em;bottom: 0;left: 50%;}#sk-956067a4-7535-4694-8873-602eb05b5ad8 div.sk-serial {display: flex;flex-direction: column;align-items: center;background-color: white;padding-right: 0.2em;padding-left: 0.2em;}#sk-956067a4-7535-4694-8873-602eb05b5ad8 div.sk-item {z-index: 1;}#sk-956067a4-7535-4694-8873-602eb05b5ad8 div.sk-parallel {display: flex;align-items: stretch;justify-content: center;background-color: white;}#sk-956067a4-7535-4694-8873-602eb05b5ad8 div.sk-parallel::before {content: \"\";position: absolute;border-left: 1px solid gray;box-sizing: border-box;top: 2em;bottom: 0;left: 50%;}#sk-956067a4-7535-4694-8873-602eb05b5ad8 div.sk-parallel-item {display: flex;flex-direction: column;position: relative;background-color: white;}#sk-956067a4-7535-4694-8873-602eb05b5ad8 div.sk-parallel-item:first-child::after {align-self: flex-end;width: 50%;}#sk-956067a4-7535-4694-8873-602eb05b5ad8 div.sk-parallel-item:last-child::after {align-self: flex-start;width: 50%;}#sk-956067a4-7535-4694-8873-602eb05b5ad8 div.sk-parallel-item:only-child::after {width: 0;}#sk-956067a4-7535-4694-8873-602eb05b5ad8 div.sk-dashed-wrapped {border: 1px dashed gray;margin: 0 0.4em 0.5em 0.4em;box-sizing: border-box;padding-bottom: 0.4em;background-color: white;position: relative;}#sk-956067a4-7535-4694-8873-602eb05b5ad8 div.sk-label label {font-family: monospace;font-weight: bold;background-color: white;display: inline-block;line-height: 1.2em;}#sk-956067a4-7535-4694-8873-602eb05b5ad8 div.sk-label-container {position: relative;z-index: 2;text-align: center;}#sk-956067a4-7535-4694-8873-602eb05b5ad8 div.sk-container {/* jupyter's `normalize.less` sets `[hidden] { display: none; }` but bootstrap.min.css set `[hidden] { display: none !important; }` so we also need the `!important` here to be able to override the default hidden behavior on the sphinx rendered scikit-learn.org. See: https://github.com/scikit-learn/scikit-learn/issues/21755 */display: inline-block !important;position: relative;}#sk-956067a4-7535-4694-8873-602eb05b5ad8 div.sk-text-repr-fallback {display: none;}</style><div id=\"sk-956067a4-7535-4694-8873-602eb05b5ad8\" class=\"sk-top-container\"><div class=\"sk-text-repr-fallback\"><pre>Pipeline(steps=[(&#x27;columntransformer&#x27;,\n",
       "                 ColumnTransformer(remainder=&#x27;passthrough&#x27;,\n",
       "                                   transformers=[(&#x27;cat_tr&#x27;,\n",
       "                                                  OneHotEncoder(handle_unknown=&#x27;ignore&#x27;,\n",
       "                                                                sparse=False),\n",
       "                                                  [&#x27;year&#x27;, &#x27;month&#x27;, &#x27;city&#x27;,\n",
       "                                                   &#x27;store_nbr&#x27;, &#x27;family&#x27;])])),\n",
       "                (&#x27;linearregression&#x27;, LinearRegression())])</pre><b>Please rerun this cell to show the HTML repr or trust the notebook.</b></div><div class=\"sk-container\" hidden><div class=\"sk-item sk-dashed-wrapped\"><div class=\"sk-label-container\"><div class=\"sk-label sk-toggleable\"><input class=\"sk-toggleable__control sk-hidden--visually\" id=\"f032358f-ae6d-4d95-948d-4f5a699ac7c1\" type=\"checkbox\" ><label for=\"f032358f-ae6d-4d95-948d-4f5a699ac7c1\" class=\"sk-toggleable__label sk-toggleable__label-arrow\">Pipeline</label><div class=\"sk-toggleable__content\"><pre>Pipeline(steps=[(&#x27;columntransformer&#x27;,\n",
       "                 ColumnTransformer(remainder=&#x27;passthrough&#x27;,\n",
       "                                   transformers=[(&#x27;cat_tr&#x27;,\n",
       "                                                  OneHotEncoder(handle_unknown=&#x27;ignore&#x27;,\n",
       "                                                                sparse=False),\n",
       "                                                  [&#x27;year&#x27;, &#x27;month&#x27;, &#x27;city&#x27;,\n",
       "                                                   &#x27;store_nbr&#x27;, &#x27;family&#x27;])])),\n",
       "                (&#x27;linearregression&#x27;, LinearRegression())])</pre></div></div></div><div class=\"sk-serial\"><div class=\"sk-item sk-dashed-wrapped\"><div class=\"sk-label-container\"><div class=\"sk-label sk-toggleable\"><input class=\"sk-toggleable__control sk-hidden--visually\" id=\"daa67155-9263-4e2b-a85d-6f4800c1df15\" type=\"checkbox\" ><label for=\"daa67155-9263-4e2b-a85d-6f4800c1df15\" class=\"sk-toggleable__label sk-toggleable__label-arrow\">columntransformer: ColumnTransformer</label><div class=\"sk-toggleable__content\"><pre>ColumnTransformer(remainder=&#x27;passthrough&#x27;,\n",
       "                  transformers=[(&#x27;cat_tr&#x27;,\n",
       "                                 OneHotEncoder(handle_unknown=&#x27;ignore&#x27;,\n",
       "                                               sparse=False),\n",
       "                                 [&#x27;year&#x27;, &#x27;month&#x27;, &#x27;city&#x27;, &#x27;store_nbr&#x27;,\n",
       "                                  &#x27;family&#x27;])])</pre></div></div></div><div class=\"sk-parallel\"><div class=\"sk-parallel-item\"><div class=\"sk-item\"><div class=\"sk-label-container\"><div class=\"sk-label sk-toggleable\"><input class=\"sk-toggleable__control sk-hidden--visually\" id=\"91d533c7-b955-4a6d-8eef-351bb9fc8a6c\" type=\"checkbox\" ><label for=\"91d533c7-b955-4a6d-8eef-351bb9fc8a6c\" class=\"sk-toggleable__label sk-toggleable__label-arrow\">cat_tr</label><div class=\"sk-toggleable__content\"><pre>[&#x27;year&#x27;, &#x27;month&#x27;, &#x27;city&#x27;, &#x27;store_nbr&#x27;, &#x27;family&#x27;]</pre></div></div></div><div class=\"sk-serial\"><div class=\"sk-item\"><div class=\"sk-estimator sk-toggleable\"><input class=\"sk-toggleable__control sk-hidden--visually\" id=\"76659ebf-626b-4c1c-917e-fb57a666c310\" type=\"checkbox\" ><label for=\"76659ebf-626b-4c1c-917e-fb57a666c310\" class=\"sk-toggleable__label sk-toggleable__label-arrow\">OneHotEncoder</label><div class=\"sk-toggleable__content\"><pre>OneHotEncoder(handle_unknown=&#x27;ignore&#x27;, sparse=False)</pre></div></div></div></div></div></div><div class=\"sk-parallel-item\"><div class=\"sk-item\"><div class=\"sk-label-container\"><div class=\"sk-label sk-toggleable\"><input class=\"sk-toggleable__control sk-hidden--visually\" id=\"7eee928e-d9ae-40d1-a2f5-95ef0902a510\" type=\"checkbox\" ><label for=\"7eee928e-d9ae-40d1-a2f5-95ef0902a510\" class=\"sk-toggleable__label sk-toggleable__label-arrow\">remainder</label><div class=\"sk-toggleable__content\"><pre>[]</pre></div></div></div><div class=\"sk-serial\"><div class=\"sk-item\"><div class=\"sk-estimator sk-toggleable\"><input class=\"sk-toggleable__control sk-hidden--visually\" id=\"9d81d3f5-b180-4bc1-8cce-aecc19354d2d\" type=\"checkbox\" ><label for=\"9d81d3f5-b180-4bc1-8cce-aecc19354d2d\" class=\"sk-toggleable__label sk-toggleable__label-arrow\">passthrough</label><div class=\"sk-toggleable__content\"><pre>passthrough</pre></div></div></div></div></div></div></div></div><div class=\"sk-item\"><div class=\"sk-estimator sk-toggleable\"><input class=\"sk-toggleable__control sk-hidden--visually\" id=\"1d25b37e-d31a-44ee-b9b1-4d3129dfa098\" type=\"checkbox\" ><label for=\"1d25b37e-d31a-44ee-b9b1-4d3129dfa098\" class=\"sk-toggleable__label sk-toggleable__label-arrow\">LinearRegression</label><div class=\"sk-toggleable__content\"><pre>LinearRegression()</pre></div></div></div></div></div></div></div>"
      ],
      "text/plain": [
       "Pipeline(steps=[('columntransformer',\n",
       "                 ColumnTransformer(remainder='passthrough',\n",
       "                                   transformers=[('cat_tr',\n",
       "                                                  OneHotEncoder(handle_unknown='ignore',\n",
       "                                                                sparse=False),\n",
       "                                                  ['year', 'month', 'city',\n",
       "                                                   'store_nbr', 'family'])])),\n",
       "                ('linearregression', LinearRegression())])"
      ]
     },
     "execution_count": 27,
     "metadata": {},
     "output_type": "execute_result"
    }
   ],
   "source": [
    "job = joblib.load('model_family.joblib')\n",
    "job"
   ]
  },
  {
   "cell_type": "code",
   "execution_count": 28,
   "id": "7182849e",
   "metadata": {},
   "outputs": [
    {
     "data": {
      "text/plain": [
       "0.6916893767585824"
      ]
     },
     "execution_count": 28,
     "metadata": {},
     "output_type": "execute_result"
    }
   ],
   "source": [
    "job.score(X_train,y_train)"
   ]
  },
  {
   "cell_type": "code",
   "execution_count": 29,
   "id": "9c9544cb",
   "metadata": {},
   "outputs": [
    {
     "data": {
      "text/plain": [
       "[6.328125,\n",
       " 0.46484375,\n",
       " 5.611328125,\n",
       " 11.791015625,\n",
       " -0.12890625,\n",
       " 10.3271484375,\n",
       " 4.224609375,\n",
       " 11.20703125,\n",
       " 10.646484375,\n",
       " 9.849609375,\n",
       " 9.408203125,\n",
       " 9.044921875]"
      ]
     },
     "execution_count": 29,
     "metadata": {},
     "output_type": "execute_result"
    }
   ],
   "source": [
    "p = job.predict(X_predict).tolist()\n",
    "p[0:12]"
   ]
  },
  {
   "cell_type": "code",
   "execution_count": 30,
   "id": "41fbdef3",
   "metadata": {
    "scrolled": false
   },
   "outputs": [
    {
     "data": {
      "text/plain": [
       "array([5.6011000e+02, 1.5900000e+00, 2.7351000e+02, 1.3206053e+05,\n",
       "       8.8000000e-01, 3.0550870e+04, 6.8350000e+01, 7.3646450e+04,\n",
       "       4.2044520e+04, 1.8950950e+04, 1.2187950e+04, 8.4753900e+03])"
      ]
     },
     "execution_count": 30,
     "metadata": {},
     "output_type": "execute_result"
    }
   ],
   "source": [
    "p = [np.around(np.exp(i),decimals=2) for i in p]\n",
    "p = np.array(p) \n",
    "p[0:12]"
   ]
  },
  {
   "cell_type": "code",
   "execution_count": 31,
   "id": "f6309511",
   "metadata": {},
   "outputs": [
    {
     "data": {
      "text/plain": [
       "{'sales_family_year': {'1': 560.11,\n",
       "  '2': 1.59,\n",
       "  '3': 273.51,\n",
       "  '4': 132060.53,\n",
       "  '5': 0.88,\n",
       "  '6': 30550.87,\n",
       "  '7': 68.35,\n",
       "  '8': 73646.45,\n",
       "  '9': 42044.52,\n",
       "  '10': 18950.95,\n",
       "  '11': 12187.95,\n",
       "  '12': 8475.39}}"
      ]
     },
     "execution_count": 31,
     "metadata": {},
     "output_type": "execute_result"
    }
   ],
   "source": [
    "year=['2017','2017','2017','2017','2017','2017','2017','2017','2017','2017','2017','2017']\n",
    "month=['8','8','8','8','8','8','8','8','8','8','8','8']\n",
    "city=['Ambato','Ambato','Ambato','Ambato','Ambato','Ambato','Ambato','Ambato','Ambato','Ambato','Ambato','Ambato']\n",
    "store_nbr=['23','23','23','23','23','23','23','23','23','23','23','23']\n",
    "family = ['AUTOMOTIVE', 'BABY CARE', 'BEAUTY', 'BEVERAGES', 'BOOKS', 'BREAD/BAKERY', 'CELEBRATION', 'CLEANING', 'DAIRY', 'DELI', 'EGGS', 'FROZEN FOODS']\n",
    "\n",
    "url = 'https://image-bc869-v2-1-ob6evlacjq-ew.a.run.app/predict-family-year'\n",
    "params = {\n",
    "    'year': year,\n",
    "    'month': month,\n",
    "    'city': city,\n",
    "    'store_nbr': store_nbr,\n",
    "    'family': family\n",
    "}\n",
    "\n",
    "response = requests.get(url, params=params)\n",
    "response.json()"
   ]
  },
  {
   "cell_type": "code",
   "execution_count": null,
   "id": "9f8eaf50",
   "metadata": {},
   "outputs": [],
   "source": []
  }
 ],
 "metadata": {
  "kernelspec": {
   "display_name": "Python 3 (ipykernel)",
   "language": "python",
   "name": "python3"
  },
  "language_info": {
   "codemirror_mode": {
    "name": "ipython",
    "version": 3
   },
   "file_extension": ".py",
   "mimetype": "text/x-python",
   "name": "python",
   "nbconvert_exporter": "python",
   "pygments_lexer": "ipython3",
   "version": "3.8.12"
  },
  "toc": {
   "base_numbering": 1,
   "nav_menu": {},
   "number_sections": true,
   "sideBar": true,
   "skip_h1_title": false,
   "title_cell": "Table of Contents",
   "title_sidebar": "Contents",
   "toc_cell": false,
   "toc_position": {},
   "toc_section_display": true,
   "toc_window_display": false
  }
 },
 "nbformat": 4,
 "nbformat_minor": 5
}
